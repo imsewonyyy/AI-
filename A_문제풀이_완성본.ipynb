{
  "nbformat": 4,
  "nbformat_minor": 0,
  "metadata": {
    "colab": {
      "provenance": [],
      "include_colab_link": true
    },
    "kernelspec": {
      "name": "python3",
      "display_name": "Python 3"
    },
    "language_info": {
      "name": "python"
    }
  },
  "cells": [
    {
      "cell_type": "markdown",
      "metadata": {
        "id": "view-in-github",
        "colab_type": "text"
      },
      "source": [
        "<a href=\"https://colab.research.google.com/github/imsewonyyy/AI-/blob/main/A_%EB%AC%B8%EC%A0%9C%ED%92%80%EC%9D%B4_%EC%99%84%EC%84%B1%EB%B3%B8.ipynb\" target=\"_parent\"><img src=\"https://colab.research.google.com/assets/colab-badge.svg\" alt=\"Open In Colab\"/></a>"
      ]
    },
    {
      "cell_type": "markdown",
      "source": [
        "#1. 연습문제/과제풀이\n",
        "\n",
        "# A: 6장 신규노선 항공운임예측 풀기"
      ],
      "metadata": {
        "id": "ftY_88qlC06H"
      }
    },
    {
      "cell_type": "markdown",
      "source": [
        "\n",
        "#### Colab 한글 폰트 설정하기\n",
        "Colab에서 한글 폰트를 사용하려면 폰트를 설치하고 런타임을 재시작한 후, Matplotlib 설정을 변경해야 합니다.\n",
        "\n",
        "**1) 폰트 설치 (코드 셀에서 실행)**"
      ],
      "metadata": {
        "id": "jspykp99aXUS"
      }
    },
    {
      "cell_type": "code",
      "source": [
        "!sudo apt-get install -y fonts-nanum\n",
        "!sudo fc-cache -fv\n",
        "!rm ~/.cache/matplotlib -rf"
      ],
      "metadata": {
        "id": "O6U-uFjgpvEw",
        "outputId": "b5f7b15b-a43a-487c-b2cb-4d69e2ed2070",
        "colab": {
          "base_uri": "https://localhost:8080/"
        }
      },
      "execution_count": 1,
      "outputs": [
        {
          "output_type": "stream",
          "name": "stdout",
          "text": [
            "Reading package lists... Done\n",
            "Building dependency tree... Done\n",
            "Reading state information... Done\n",
            "fonts-nanum is already the newest version (20200506-1).\n",
            "0 upgraded, 0 newly installed, 0 to remove and 35 not upgraded.\n",
            "/usr/share/fonts: caching, new cache contents: 0 fonts, 1 dirs\n",
            "/usr/share/fonts/truetype: caching, new cache contents: 0 fonts, 3 dirs\n",
            "/usr/share/fonts/truetype/humor-sans: caching, new cache contents: 1 fonts, 0 dirs\n",
            "/usr/share/fonts/truetype/liberation: caching, new cache contents: 16 fonts, 0 dirs\n",
            "/usr/share/fonts/truetype/nanum: caching, new cache contents: 12 fonts, 0 dirs\n",
            "/usr/local/share/fonts: caching, new cache contents: 0 fonts, 0 dirs\n",
            "/root/.local/share/fonts: skipping, no such directory\n",
            "/root/.fonts: skipping, no such directory\n",
            "/usr/share/fonts/truetype: skipping, looped directory detected\n",
            "/usr/share/fonts/truetype/humor-sans: skipping, looped directory detected\n",
            "/usr/share/fonts/truetype/liberation: skipping, looped directory detected\n",
            "/usr/share/fonts/truetype/nanum: skipping, looped directory detected\n",
            "/var/cache/fontconfig: cleaning cache directory\n",
            "/root/.cache/fontconfig: not cleaning non-existent cache directory\n",
            "/root/.fontconfig: not cleaning non-existent cache directory\n",
            "fc-cache: succeeded\n"
          ]
        }
      ]
    },
    {
      "cell_type": "markdown",
      "source": [
        "**2) 런타임 재시작**\n",
        "* Colab 메뉴에서 **[런타임] > [세션 다시 시작]**을 클릭합니다. (Ctrl+M .)\n",
        "\n",
        "**3) Matplotlib 폰트 설정 (세션 재시작 후)**\n"
      ],
      "metadata": {
        "id": "xQZIR4EsafVK"
      }
    },
    {
      "cell_type": "code",
      "source": [
        "    import matplotlib.pyplot as plt\n",
        "    import matplotlib.font_manager as fm\n",
        "\n",
        "    # 런타임 재시작 후 Nanum 폰트 확인 및 설정\n",
        "    font_path = '/usr/share/fonts/truetype/nanum/NanumGothic.ttf'\n",
        "    font_prop = fm.FontProperties(fname=font_path)\n",
        "\n",
        "    # 전역 폰트 설정\n",
        "    plt.rc('font', family='NanumGothic')\n",
        "    # 마이너스 기호 깨짐 방지\n",
        "    plt.rcParams['axes.unicode_minus'] = False\n",
        "\n",
        "    print(\"한글 폰트 'NanumGothic' 설정 완료.\")\n",
        "\n",
        "    # 이제 그래프에 한글 사용 가능 (test 용)\n",
        "    fig, ax = plt.subplots(figsize=(8, 5))\n",
        "    x = [1, 2, 3, 4, 5]\n",
        "    y = [10, 8, 6, 4, 2]\n",
        "    ax.plot(x, y, marker='o')\n",
        "    ax.set_title('한글 제목')\n",
        "    ax.set_xlabel('한글 X축')\n",
        "    ax.set_ylabel('한글 Y축')\n",
        "    plt.show()\n"
      ],
      "metadata": {
        "colab": {
          "base_uri": "https://localhost:8080/",
          "height": 501
        },
        "id": "42esYrWEah5J",
        "outputId": "3c44652b-0f26-4ffd-fc34-a0e4f53851da"
      },
      "execution_count": 2,
      "outputs": [
        {
          "output_type": "stream",
          "name": "stdout",
          "text": [
            "한글 폰트 'NanumGothic' 설정 완료.\n"
          ]
        },
        {
          "output_type": "display_data",
          "data": {
            "text/plain": [
              "<Figure size 800x500 with 1 Axes>"
            ],
            "image/png": "[encoded data removed]"
          },
          "metadata": {}
        }
      ]
    },
    {
      "cell_type": "markdown",
      "source": [
        "\n",
        "\n",
        "---\n",
        "\n"
      ],
      "metadata": {
        "id": "eqqAjgbMWjuP"
      }
    },
    {
      "cell_type": "markdown",
      "source": [
        "먼저, 데이터 파일을 불러옴."
      ],
      "metadata": {
        "id": "km4j_WkbWnd_"
      }
    },
    {
      "cell_type": "code",
      "execution_count": 3,
      "metadata": {
        "colab": {
          "base_uri": "https://localhost:8080/",
          "height": 77
        },
        "id": "_lWa1YELCU5e",
        "outputId": "c64cd031-d3f5-4f6a-e294-ef3e7ac17b4e"
      },
      "outputs": [
        {
          "output_type": "display_data",
          "data": {
            "text/plain": [
              "<IPython.core.display.HTML object>"
            ],
            "text/html": [
              "\n",
              "     <input type=\"file\" id=\"files-5559a6bc-7467-42fd-903a-e33a8da69320\" name=\"files[]\" multiple disabled\n",
              "        style=\"border:none\" />\n",
              "     <output id=\"result-5559a6bc-7467-42fd-903a-e33a8da69320\">\n",
              "      Upload widget is only available when the cell has been executed in the\n",
              "      current browser session. Please rerun this cell to enable.\n",
              "      </output>\n",
              "      <script>// Copyright 2017 Google LLC\n",
              "//\n",
              "// Licensed under the Apache License, Version 2.0 (the \"License\");\n",
              "// you may not use this file except in compliance with the License.\n",
              "// You may obtain a copy of the License at\n",
              "//\n",
              "//      http://www.apache.org/licenses/LICENSE-2.0\n",
              "//\n",
              "// Unless required by applicable law or agreed to in writing, software\n",
              "// distributed under the License is distributed on an \"AS IS\" BASIS,\n",
              "// WITHOUT WARRANTIES OR CONDITIONS OF ANY KIND, either express or implied.\n",
              "// See the License for the specific language governing permissions and\n",
              "// limitations under the License.\n",
              "\n",
              "/**\n",
              " * @fileoverview Helpers for google.colab Python module.\n",
              " */\n",
              "(function(scope) {\n",
              "function span(text, styleAttributes = {}) {\n",
              "  const element = document.createElement('span');\n",
              "  element.textContent = text;\n",
              "  for (const key of Object.keys(styleAttributes)) {\n",
              "    element.style[key] = styleAttributes[key];\n",
              "  }\n",
              "  return element;\n",
              "}\n",
              "\n",
              "// Max number of bytes which will be uploaded at a time.\n",
              "const MAX_PAYLOAD_SIZE = 100 * 1024;\n",
              "\n",
              "function _uploadFiles(inputId, outputId) {\n",
              "  const steps = uploadFilesStep(inputId, outputId);\n",
              "  const outputElement = document.getElementById(outputId);\n",
              "  // Cache steps on the outputElement to make it available for the next call\n",
              "  // to uploadFilesContinue from Python.\n",
              "  outputElement.steps = steps;\n",
              "\n",
              "  return _uploadFilesContinue(outputId);\n",
              "}\n",
              "\n",
              "// This is roughly an async generator (not supported in the browser yet),\n",
              "// where there are multiple asynchronous steps and the Python side is going\n",
              "// to poll for completion of each step.\n",
              "// This uses a Promise to block the python side on completion of each step,\n",
              "// then passes the result of the previous step as the input to the next step.\n",
              "function _uploadFilesContinue(outputId) {\n",
              "  const outputElement = document.getElementById(outputId);\n",
              "  const steps = outputElement.steps;\n",
              "\n",
              "  const next = steps.next(outputElement.lastPromiseValue);\n",
              "  return Promise.resolve(next.value.promise).then((value) => {\n",
              "    // Cache the last promise value to make it available to the next\n",
              "    // step of the generator.\n",
              "    outputElement.lastPromiseValue = value;\n",
              "    return next.value.response;\n",
              "  });\n",
              "}\n",
              "\n",
              "/**\n",
              " * Generator function which is called between each async step of the upload\n",
              " * process.\n",
              " * @param {string} inputId Element ID of the input file picker element.\n",
              " * @param {string} outputId Element ID of the output display.\n",
              " * @return {!Iterable<!Object>} Iterable of next steps.\n",
              " */\n",
              "function* uploadFilesStep(inputId, outputId) {\n",
              "  const inputElement = document.getElementById(inputId);\n",
              "  inputElement.disabled = false;\n",
              "\n",
              "  const outputElement = document.getElementById(outputId);\n",
              "  outputElement.innerHTML = '';\n",
              "\n",
              "  const pickedPromise = new Promise((resolve) => {\n",
              "    inputElement.addEventListener('change', (e) => {\n",
              "      resolve(e.target.files);\n",
              "    });\n",
              "  });\n",
              "\n",
              "  const cancel = document.createElement('button');\n",
              "  inputElement.parentElement.appendChild(cancel);\n",
              "  cancel.textContent = 'Cancel upload';\n",
              "  const cancelPromise = new Promise((resolve) => {\n",
              "    cancel.onclick = () => {\n",
              "      resolve(null);\n",
              "    };\n",
              "  });\n",
              "\n",
              "  // Wait for the user to pick the files.\n",
              "  const files = yield {\n",
              "    promise: Promise.race([pickedPromise, cancelPromise]),\n",
              "    response: {\n",
              "      action: 'starting',\n",
              "    }\n",
              "  };\n",
              "\n",
              "  cancel.remove();\n",
              "\n",
              "  // Disable the input element since further picks are not allowed.\n",
              "  inputElement.disabled = true;\n",
              "\n",
              "  if (!files) {\n",
              "    return {\n",
              "      response: {\n",
              "        action: 'complete',\n",
              "      }\n",
              "    };\n",
              "  }\n",
              "\n",
              "  for (const file of files) {\n",
              "    const li = document.createElement('li');\n",
              "    li.append(span(file.name, {fontWeight: 'bold'}));\n",
              "    li.append(span(\n",
              "        `(${file.type || 'n/a'}) - ${file.size} bytes, ` +\n",
              "        `last modified: ${\n",
              "            file.lastModifiedDate ? file.lastModifiedDate.toLocaleDateString() :\n",
              "                                    'n/a'} - `));\n",
              "    const percent = span('0% done');\n",
              "    li.appendChild(percent);\n",
              "\n",
              "    outputElement.appendChild(li);\n",
              "\n",
              "    const fileDataPromise = new Promise((resolve) => {\n",
              "      const reader = new FileReader();\n",
              "      reader.onload = (e) => {\n",
              "        resolve(e.target.result);\n",
              "      };\n",
              "      reader.readAsArrayBuffer(file);\n",
              "    });\n",
              "    // Wait for the data to be ready.\n",
              "    let fileData = yield {\n",
              "      promise: fileDataPromise,\n",
              "      response: {\n",
              "        action: 'continue',\n",
              "      }\n",
              "    };\n",
              "\n",
              "    // Use a chunked sending to avoid message size limits. See b/62115660.\n",
              "    let position = 0;\n",
              "    do {\n",
              "      const length = Math.min(fileData.byteLength - position, MAX_PAYLOAD_SIZE);\n",
              "      const chunk = new Uint8Array(fileData, position, length);\n",
              "      position += length;\n",
              "\n",
              "      const base64 = btoa(String.fromCharCode.apply(null, chunk));\n",
              "      yield {\n",
              "        response: {\n",
              "          action: 'append',\n",
              "          file: file.name,\n",
              "          data: base64,\n",
              "        },\n",
              "      };\n",
              "\n",
              "      let percentDone = fileData.byteLength === 0 ?\n",
              "          100 :\n",
              "          Math.round((position / fileData.byteLength) * 100);\n",
              "      percent.textContent = `${percentDone}% done`;\n",
              "\n",
              "    } while (position < fileData.byteLength);\n",
              "  }\n",
              "\n",
              "  // All done.\n",
              "  yield {\n",
              "    response: {\n",
              "      action: 'complete',\n",
              "    }\n",
              "  };\n",
              "}\n",
              "\n",
              "scope.google = scope.google || {};\n",
              "scope.google.colab = scope.google.colab || {};\n",
              "scope.google.colab._files = {\n",
              "  _uploadFiles,\n",
              "  _uploadFilesContinue,\n",
              "};\n",
              "})(self);\n",
              "</script> "
            ]
          },
          "metadata": {}
        },
        {
          "output_type": "stream",
          "name": "stdout",
          "text": [
            "Saving Airfares.csv to Airfares (3).csv\n"
          ]
        }
      ],
      "source": [
        "from google. colab import files\n",
        "uploaded=files.upload()"
      ]
    },
    {
      "cell_type": "markdown",
      "source": [
        "# a. 수치형 예측 변수들과 결과 변수인 운임(FARE)에 대한 표본 만들고 운임과 예측 변수들 사이의 상관도를 조사하시오. 어떤 예측 변수와 운임을 예측하는 데 최적의 예측 변수인가?"
      ],
      "metadata": {
        "id": "wiDkwtn3DOH0"
      }
    },
    {
      "cell_type": "markdown",
      "source": [
        "1. 수치형 변수 선택\n",
        "\n",
        "수치형(연속형) 변수만 대상으로 해야 하므로 범주형 변수는 제외하고 다음과 같은 변수들을 선택함:\n",
        "\n",
        "COUPON, NEW, HI, S_INCOME, E_INCOME, S_POP, E_POP, DISTANCE, PAX\n",
        "\n",
        "2. 운임(FARE)과의 상관계수 계산\n",
        "\n",
        "상관계수(Pearson correlation coefficient)를 FARE에 대해 계산하면, 어떤 변수가 운임과 직선적으로 얼마나 강한 관계를 가지는지 알 수 있음."
      ],
      "metadata": {
        "id": "qObxhty5DWSz"
      }
    },
    {
      "cell_type": "code",
      "source": [
        "import pandas as pd\n",
        "\n",
        "df = pd.read_csv(\"Airfares.csv\")\n",
        "\n",
        "# 수치형 변수만 필터링\n",
        "numeric_vars = ['COUPON', 'NEW', 'HI', 'S_INCOME', 'E_INCOME', 'S_POP', 'E_POP', 'DISTANCE', 'PAX', 'FARE']\n",
        "corr_matrix = df[numeric_vars].corr()\n",
        "\n",
        "# 운임(FARE)과 다른 변수들 간의 상관계수 정렬\n",
        "fare_corr = corr_matrix['FARE'].drop('FARE').sort_values(ascending=False)\n",
        "print(fare_corr)"
      ],
      "metadata": {
        "colab": {
          "base_uri": "https://localhost:8080/"
        },
        "id": "8aN56-VdDKr_",
        "outputId": "f564b128-9970-42e7-9015-5bb628977877"
      },
      "execution_count": 4,
      "outputs": [
        {
          "output_type": "stream",
          "name": "stdout",
          "text": [
            "DISTANCE    0.670016\n",
            "COUPON      0.496537\n",
            "E_INCOME    0.326092\n",
            "E_POP       0.285043\n",
            "S_INCOME    0.209135\n",
            "S_POP       0.145097\n",
            "NEW         0.091730\n",
            "HI          0.025195\n",
            "PAX        -0.090705\n",
            "Name: FARE, dtype: float64\n"
          ]
        }
      ]
    },
    {
      "cell_type": "markdown",
      "source": [
        "운임(FARE)을 예측하는 데 있어 가장 효과적인 수치형 변수들을 파악하기 위해, 각 변수와 FARE 간의 Pearson 상관계수를 계산하였다. 상관계수가 클수록 두 변수 간의 선형적 관계가 강하다고 해석할 수 있다.\n",
        "\n",
        "* DISTANCE(거리) 변수는 운임과 가장 높은 양의 상관계수(0.6700)를 보여주며,\n",
        "운임 예측에 가장 효과적인 변수로 나타났다. 이는 항공 노선의 거리가 멀수록 평균 항공료가 높아지는 일반적인 경제 원칙과도 부합한다.\n",
        "\n",
        "* COUPON, E_INCOME도 다소 의미 있는 양의 상관을 보이며, 운임에 일정 수준의 영향을 주는 변수로 판단된다.\n",
        "\n",
        "* 반면 PAX(탑승객 수)는 음의 상관(-0.0907)을 보이며, 탑승객 수가 많을수록 운임이 낮아지는 경향을 나타낸다.\n",
        "\n",
        "* HI(시장 집중도)와 NEW(신규 항공사 수) 등은 상관도가 낮아 단일 변수로서의 예측력은 크지 않을 것으로 보인다.\n",
        "\n",
        "결론:\n",
        "\n",
        "운임(FARE)을 예측하는 데 **가장 효과적인 수치형 변수는 DISTANCE**이며, 그 다음으로 COUPON과 E_INCOME이 유의미한 예측력을 보였다."
      ],
      "metadata": {
        "id": "F7dt0hXhD4Wl"
      }
    },
    {
      "cell_type": "markdown",
      "source": [
        "# b. 범주형 예측 변수들(예: SW 등)에 대해 범주별로 평균 운임의 차이와 분산의 패턴을 분석하고, 어떤 범주형 예측 변수가 운임 예측에 가장 좋은지를 평가하라."
      ],
      "metadata": {
        "id": "1JuSMqZIESiw"
      }
    },
    {
      "cell_type": "markdown",
      "source": [
        "범주형 변수는 주로 다음과 같음:\n",
        "\n",
        "* SW : Southwest 항공 운항 여부 (Yes/No)\n",
        "\n",
        "* VACATION : 휴양지 여부 (Yes/No)\n",
        "\n",
        "* SLOT : 공항의 슬롯 (Free/Controlled)\n",
        "\n",
        "* GATE: 게이트 제한 여부 (Free/Constrained)\n",
        "\n",
        "* NEW도 범주형으로 처리 가능\n",
        "\n",
        "이 중에서 **SW, VACATION, SLOT, GATE**를 주요 분석 대상으로 삼음."
      ],
      "metadata": {
        "id": "bsgqNEffEw7V"
      }
    },
    {
      "cell_type": "markdown",
      "source": [
        "그 다음, 각 범주형 변수의 그룹별 평균 운임 확인"
      ],
      "metadata": {
        "id": "cKR4dUZDFErC"
      }
    },
    {
      "cell_type": "code",
      "source": [
        "# SW 변수에 따른 평균 운임 확인\n",
        "print(df.groupby('SW')['FARE'].mean())\n",
        "print(df.groupby('SW')['FARE'].std())\n",
        "\n",
        "print(df.groupby('VACATION')['FARE'].mean())\n",
        "print(df.groupby('VACATION')['FARE'].std())\n",
        "\n",
        "print(df.groupby('SLOT')['FARE'].mean())\n",
        "print(df.groupby('GATE')['FARE'].mean())"
      ],
      "metadata": {
        "colab": {
          "base_uri": "https://localhost:8080/"
        },
        "id": "iZs2qaY9FKOD",
        "outputId": "23ede7dc-06ed-40f9-dd26-902cce10d861"
      },
      "execution_count": 5,
      "outputs": [
        {
          "output_type": "stream",
          "name": "stdout",
          "text": [
            "SW\n",
            "No     188.182793\n",
            "Yes     98.382268\n",
            "Name: FARE, dtype: float64\n",
            "SW\n",
            "No     70.558360\n",
            "Yes    44.795629\n",
            "Name: FARE, dtype: float64\n",
            "VACATION\n",
            "No     173.552500\n",
            "Yes    125.980882\n",
            "Name: FARE, dtype: float64\n",
            "VACATION\n",
            "No     81.086891\n",
            "Yes    44.102634\n",
            "Name: FARE, dtype: float64\n",
            "SLOT\n",
            "Controlled    186.059396\n",
            "Free          150.825680\n",
            "Name: FARE, dtype: float64\n",
            "GATE\n",
            "Constrained    193.129032\n",
            "Free           153.095953\n",
            "Name: FARE, dtype: float64\n"
          ]
        }
      ]
    },
    {
      "cell_type": "markdown",
      "source": [
        "따라서 결론은 이러함.\n",
        "\n",
        "* SW 변수는 Yes일 때 평균 운임이 훨씬 낮아짐 → 항공사 경쟁 효과로 해석 가능. 운임 예측에 매우 유의미.\n",
        "\n",
        "* **SLOT, GATE**는 제약이 있는 경우 운임이 높음 → 공항 인프라의 제약이 가격에 영향을 미친다는 해석.\n",
        "\n",
        "* **VACATION**은 유의미한 차이를 보일 수도 있지만 경우에 따라 차이가 작을 수 있음.\n",
        "\n",
        "결론적으로 운임 예측에 **가장 유효한 범주형 변수는 SW**로 나타났으며, SLOT, GATE도 유의미한 설명력을 가진다."
      ],
      "metadata": {
        "id": "htcqlMjuFSvX"
      }
    },
    {
      "cell_type": "markdown",
      "source": [
        "--------------------------------------------------------------------"
      ],
      "metadata": {
        "id": "MxEWaHHCVMrg"
      }
    },
    {
      "cell_type": "markdown",
      "source": [
        "1. 연습문제 C번 / 새로운 노선의 평균 운임을 예측하는 모델을 찾으시오."
      ],
      "metadata": {
        "id": "QH3QO9Zv4sZ4"
      }
    },
    {
      "cell_type": "markdown",
      "source": [
        "C - i 번 / 범주형 변수(ex. SW)들을 가변수로 변환하시오. 그런 다음, 데이터를 학습 데이터셋과 검증 데이터셋으로 분할하시오. 학습 데이터셋에 모델을 적합하고 이를 검증 데이터셋으로 평가하시오."
      ],
      "metadata": {
        "id": "p43Lv1OS5qEN"
      }
    },
    {
      "cell_type": "markdown",
      "source": [
        "1. 필요 라이브러리 불러오기"
      ],
      "metadata": {
        "id": "kOSS0Ea48aRE"
      }
    },
    {
      "cell_type": "code",
      "execution_count": 6,
      "metadata": {
        "id": "Y_sn6lis3vvM"
      },
      "outputs": [],
      "source": [
        "import pandas as pd # (맨 처음에 이미 언급되어 중복 시 생략 가능)\n",
        "from sklearn.model_selection import train_test_split # 데이터를 학습용 / 검증용으로 나누는 함수, 전체 데이터를 70:30 비율로 분할하여 모델 훈련과 성능 평가에 사용\n",
        "from sklearn.linear_model import LinearRegression # 선형 회귀 모델 객체를 생성\n",
        "from sklearn.metrics import mean_squared_error, r2_score # 모델의 성능 평가 지표를 계산, {mean_squared_error: 예측값과 실제값 사이의 평균 제곱 오차 (RMSE 등으로 활용), r2_score: 결정계수 (모델 설명력, 1에 가까울수록 좋음)}"
      ]
    },
    {
      "cell_type": "markdown",
      "source": [
        "2. 데이터 불러오기 & 범주형 변수 가변수화"
      ],
      "metadata": {
        "id": "Ad3GGt9D8Yf9"
      }
    },
    {
      "cell_type": "code",
      "source": [
        "# 데이터 로딩 (이미 a번 문제에서 df로 불러왔기에 생략 가능)\n",
        "\n",
        "\n",
        "# 범주형 변수 가변수화 (drop_first로 다중공선성 방지)\n",
        "categorical_vars = ['S_CODE', 'S_CITY', 'E_CODE', 'E_CITY', 'VACATION', 'SW', 'SLOT', 'GATE'] # 'S_CODE', 'S_CITY', 'E_CODE', 'E_CITY'도 범주형 변수임. 허나, '숫자적 의미가 없고 명목형 데이터'임으로 회귀 모델에서 사용하기 위해서는 가변수 처리되어야 함.\n",
        "df_encoded = pd.get_dummies(df, columns=categorical_vars, drop_first=True)\n",
        "# pd.get_dummies() : 범주형을 숫자형 가변수로 변환\n",
        "# columns=categorical_vars : 가변수화할 범주형 변수 지정\n",
        "# drop_first=True\t: 첫 범주는 제거하여 중복 방지\n",
        "# df_encoded : 새 데이터프레임으로 저장\n",
        "bool_cols = df_encoded.select_dtypes(include='bool').columns\n",
        "df_encoded[bool_cols] = df_encoded[bool_cols].astype(int)\n",
        "\n",
        "\n",
        "\n",
        "# 결측치 제거\n",
        "df_encoded.dropna(inplace=True)"
      ],
      "metadata": {
        "collapsed": true,
        "id": "c4xXxUCK4NM2"
      },
      "execution_count": 7,
      "outputs": []
    },
    {
      "cell_type": "markdown",
      "source": [
        "3. 변수 분리 및 학습 & 검증데이터셋으로 분할"
      ],
      "metadata": {
        "id": "cMbBT8TZ9APr"
      }
    },
    {
      "cell_type": "code",
      "source": [
        "X = df_encoded.drop(columns=['FARE'])  # 독립변수(전체 데이터프레임 (운임에 영향을 줄 수 있는 변수들))\n",
        "y = df_encoded['FARE']                 # 종속변수(예측 대상인 FARE (운임))\n",
        "\n",
        "# 학습/검증/테스트데이터 (6:2:2) 분할\n",
        "\n",
        "# 1단계 : 전체 데이터셋을 6:4로 분할\n",
        "X_train, X_temp, y_train, y_temp = train_test_split(df_encoded, y, test_size=0.4, random_state=42)\n",
        "\n",
        "# 2단계: temp(40%) → validation(20%) + test(20%)\n",
        "X_valid, X_test, y_valid, y_test = train_test_split(X_temp, y_temp, test_size=0.5, random_state=42)\n"
      ],
      "metadata": {
        "id": "_IScnfJR7vmd"
      },
      "execution_count": 8,
      "outputs": []
    },
    {
      "cell_type": "markdown",
      "source": [
        "4. 회귀 모델 학습 및 평가"
      ],
      "metadata": {
        "id": "Po_rzPqx-JtF"
      }
    },
    {
      "cell_type": "code",
      "source": [
        "# 선형 회귀 모델 학습\n",
        "model = LinearRegression()\n",
        "model.fit(X_train, y_train) # 학습 데이터로 모델 훈련. 즉, 변수들의 계수(회귀계수)를 학습하여 운임(FARE)를 예측할 수 있도록 함\n"
      ],
      "metadata": {
        "colab": {
          "base_uri": "https://localhost:8080/",
          "height": 79
        },
        "id": "AM9X3ac6-Gyd",
        "outputId": "53deade6-6f73-498a-c97f-232175b41dd1"
      },
      "execution_count": 9,
      "outputs": [
        {
          "output_type": "execute_result",
          "data": {
            "text/plain": [
              "LinearRegression()"
            ],
            "text/html": [
              "<style>#sk-container-id-1 {\n",
              "  /* Definition of color scheme common for light and dark mode */\n",
              "  --sklearn-color-text: #000;\n",
              "  --sklearn-color-text-muted: #666;\n",
              "  --sklearn-color-line: gray;\n",
              "  /* Definition of color scheme for unfitted estimators */\n",
              "  --sklearn-color-unfitted-level-0: #fff5e6;\n",
              "  --sklearn-color-unfitted-level-1: #f6e4d2;\n",
              "  --sklearn-color-unfitted-level-2: #ffe0b3;\n",
              "  --sklearn-color-unfitted-level-3: chocolate;\n",
              "  /* Definition of color scheme for fitted estimators */\n",
              "  --sklearn-color-fitted-level-0: #f0f8ff;\n",
              "  --sklearn-color-fitted-level-1: #d4ebff;\n",
              "  --sklearn-color-fitted-level-2: #b3dbfd;\n",
              "  --sklearn-color-fitted-level-3: cornflowerblue;\n",
              "\n",
              "  /* Specific color for light theme */\n",
              "  --sklearn-color-text-on-default-background: var(--sg-text-color, var(--theme-code-foreground, var(--jp-content-font-color1, black)));\n",
              "  --sklearn-color-background: var(--sg-background-color, var(--theme-background, var(--jp-layout-color0, white)));\n",
              "  --sklearn-color-border-box: var(--sg-text-color, var(--theme-code-foreground, var(--jp-content-font-color1, black)));\n",
              "  --sklearn-color-icon: #696969;\n",
              "\n",
              "  @media (prefers-color-scheme: dark) {\n",
              "    /* Redefinition of color scheme for dark theme */\n",
              "    --sklearn-color-text-on-default-background: var(--sg-text-color, var(--theme-code-foreground, var(--jp-content-font-color1, white)));\n",
              "    --sklearn-color-background: var(--sg-background-color, var(--theme-background, var(--jp-layout-color0, #111)));\n",
              "    --sklearn-color-border-box: var(--sg-text-color, var(--theme-code-foreground, var(--jp-content-font-color1, white)));\n",
              "    --sklearn-color-icon: #878787;\n",
              "  }\n",
              "}\n",
              "\n",
              "#sk-container-id-1 {\n",
              "  color: var(--sklearn-color-text);\n",
              "}\n",
              "\n",
              "#sk-container-id-1 pre {\n",
              "  padding: 0;\n",
              "}\n",
              "\n",
              "#sk-container-id-1 input.sk-hidden--visually {\n",
              "  border: 0;\n",
              "  clip: rect(1px 1px 1px 1px);\n",
              "  clip: rect(1px, 1px, 1px, 1px);\n",
              "  height: 1px;\n",
              "  margin: -1px;\n",
              "  overflow: hidden;\n",
              "  padding: 0;\n",
              "  position: absolute;\n",
              "  width: 1px;\n",
              "}\n",
              "\n",
              "#sk-container-id-1 div.sk-dashed-wrapped {\n",
              "  border: 1px dashed var(--sklearn-color-line);\n",
              "  margin: 0 0.4em 0.5em 0.4em;\n",
              "  box-sizing: border-box;\n",
              "  padding-bottom: 0.4em;\n",
              "  background-color: var(--sklearn-color-background);\n",
              "}\n",
              "\n",
              "#sk-container-id-1 div.sk-container {\n",
              "  /* jupyter's `normalize.less` sets `[hidden] { display: none; }`\n",
              "     but bootstrap.min.css set `[hidden] { display: none !important; }`\n",
              "     so we also need the `!important` here to be able to override the\n",
              "     default hidden behavior on the sphinx rendered scikit-learn.org.\n",
              "     See: https://github.com/scikit-learn/scikit-learn/issues/21755 */\n",
              "  display: inline-block !important;\n",
              "  position: relative;\n",
              "}\n",
              "\n",
              "#sk-container-id-1 div.sk-text-repr-fallback {\n",
              "  display: none;\n",
              "}\n",
              "\n",
              "div.sk-parallel-item,\n",
              "div.sk-serial,\n",
              "div.sk-item {\n",
              "  /* draw centered vertical line to link estimators */\n",
              "  background-image: linear-gradient(var(--sklearn-color-text-on-default-background), var(--sklearn-color-text-on-default-background));\n",
              "  background-size: 2px 100%;\n",
              "  background-repeat: no-repeat;\n",
              "  background-position: center center;\n",
              "}\n",
              "\n",
              "/* Parallel-specific style estimator block */\n",
              "\n",
              "#sk-container-id-1 div.sk-parallel-item::after {\n",
              "  content: \"\";\n",
              "  width: 100%;\n",
              "  border-bottom: 2px solid var(--sklearn-color-text-on-default-background);\n",
              "  flex-grow: 1;\n",
              "}\n",
              "\n",
              "#sk-container-id-1 div.sk-parallel {\n",
              "  display: flex;\n",
              "  align-items: stretch;\n",
              "  justify-content: center;\n",
              "  background-color: var(--sklearn-color-background);\n",
              "  position: relative;\n",
              "}\n",
              "\n",
              "#sk-container-id-1 div.sk-parallel-item {\n",
              "  display: flex;\n",
              "  flex-direction: column;\n",
              "}\n",
              "\n",
              "#sk-container-id-1 div.sk-parallel-item:first-child::after {\n",
              "  align-self: flex-end;\n",
              "  width: 50%;\n",
              "}\n",
              "\n",
              "#sk-container-id-1 div.sk-parallel-item:last-child::after {\n",
              "  align-self: flex-start;\n",
              "  width: 50%;\n",
              "}\n",
              "\n",
              "#sk-container-id-1 div.sk-parallel-item:only-child::after {\n",
              "  width: 0;\n",
              "}\n",
              "\n",
              "/* Serial-specific style estimator block */\n",
              "\n",
              "#sk-container-id-1 div.sk-serial {\n",
              "  display: flex;\n",
              "  flex-direction: column;\n",
              "  align-items: center;\n",
              "  background-color: var(--sklearn-color-background);\n",
              "  padding-right: 1em;\n",
              "  padding-left: 1em;\n",
              "}\n",
              "\n",
              "\n",
              "/* Toggleable style: style used for estimator/Pipeline/ColumnTransformer box that is\n",
              "clickable and can be expanded/collapsed.\n",
              "- Pipeline and ColumnTransformer use this feature and define the default style\n",
              "- Estimators will overwrite some part of the style using the `sk-estimator` class\n",
              "*/\n",
              "\n",
              "/* Pipeline and ColumnTransformer style (default) */\n",
              "\n",
              "#sk-container-id-1 div.sk-toggleable {\n",
              "  /* Default theme specific background. It is overwritten whether we have a\n",
              "  specific estimator or a Pipeline/ColumnTransformer */\n",
              "  background-color: var(--sklearn-color-background);\n",
              "}\n",
              "\n",
              "/* Toggleable label */\n",
              "#sk-container-id-1 label.sk-toggleable__label {\n",
              "  cursor: pointer;\n",
              "  display: flex;\n",
              "  width: 100%;\n",
              "  margin-bottom: 0;\n",
              "  padding: 0.5em;\n",
              "  box-sizing: border-box;\n",
              "  text-align: center;\n",
              "  align-items: start;\n",
              "  justify-content: space-between;\n",
              "  gap: 0.5em;\n",
              "}\n",
              "\n",
              "#sk-container-id-1 label.sk-toggleable__label .caption {\n",
              "  font-size: 0.6rem;\n",
              "  font-weight: lighter;\n",
              "  color: var(--sklearn-color-text-muted);\n",
              "}\n",
              "\n",
              "#sk-container-id-1 label.sk-toggleable__label-arrow:before {\n",
              "  /* Arrow on the left of the label */\n",
              "  content: \"▸\";\n",
              "  float: left;\n",
              "  margin-right: 0.25em;\n",
              "  color: var(--sklearn-color-icon);\n",
              "}\n",
              "\n",
              "#sk-container-id-1 label.sk-toggleable__label-arrow:hover:before {\n",
              "  color: var(--sklearn-color-text);\n",
              "}\n",
              "\n",
              "/* Toggleable content - dropdown */\n",
              "\n",
              "#sk-container-id-1 div.sk-toggleable__content {\n",
              "  max-height: 0;\n",
              "  max-width: 0;\n",
              "  overflow: hidden;\n",
              "  text-align: left;\n",
              "  /* unfitted */\n",
              "  background-color: var(--sklearn-color-unfitted-level-0);\n",
              "}\n",
              "\n",
              "#sk-container-id-1 div.sk-toggleable__content.fitted {\n",
              "  /* fitted */\n",
              "  background-color: var(--sklearn-color-fitted-level-0);\n",
              "}\n",
              "\n",
              "#sk-container-id-1 div.sk-toggleable__content pre {\n",
              "  margin: 0.2em;\n",
              "  border-radius: 0.25em;\n",
              "  color: var(--sklearn-color-text);\n",
              "  /* unfitted */\n",
              "  background-color: var(--sklearn-color-unfitted-level-0);\n",
              "}\n",
              "\n",
              "#sk-container-id-1 div.sk-toggleable__content.fitted pre {\n",
              "  /* unfitted */\n",
              "  background-color: var(--sklearn-color-fitted-level-0);\n",
              "}\n",
              "\n",
              "#sk-container-id-1 input.sk-toggleable__control:checked~div.sk-toggleable__content {\n",
              "  /* Expand drop-down */\n",
              "  max-height: 200px;\n",
              "  max-width: 100%;\n",
              "  overflow: auto;\n",
              "}\n",
              "\n",
              "#sk-container-id-1 input.sk-toggleable__control:checked~label.sk-toggleable__label-arrow:before {\n",
              "  content: \"▾\";\n",
              "}\n",
              "\n",
              "/* Pipeline/ColumnTransformer-specific style */\n",
              "\n",
              "#sk-container-id-1 div.sk-label input.sk-toggleable__control:checked~label.sk-toggleable__label {\n",
              "  color: var(--sklearn-color-text);\n",
              "  background-color: var(--sklearn-color-unfitted-level-2);\n",
              "}\n",
              "\n",
              "#sk-container-id-1 div.sk-label.fitted input.sk-toggleable__control:checked~label.sk-toggleable__label {\n",
              "  background-color: var(--sklearn-color-fitted-level-2);\n",
              "}\n",
              "\n",
              "/* Estimator-specific style */\n",
              "\n",
              "/* Colorize estimator box */\n",
              "#sk-container-id-1 div.sk-estimator input.sk-toggleable__control:checked~label.sk-toggleable__label {\n",
              "  /* unfitted */\n",
              "  background-color: var(--sklearn-color-unfitted-level-2);\n",
              "}\n",
              "\n",
              "#sk-container-id-1 div.sk-estimator.fitted input.sk-toggleable__control:checked~label.sk-toggleable__label {\n",
              "  /* fitted */\n",
              "  background-color: var(--sklearn-color-fitted-level-2);\n",
              "}\n",
              "\n",
              "#sk-container-id-1 div.sk-label label.sk-toggleable__label,\n",
              "#sk-container-id-1 div.sk-label label {\n",
              "  /* The background is the default theme color */\n",
              "  color: var(--sklearn-color-text-on-default-background);\n",
              "}\n",
              "\n",
              "/* On hover, darken the color of the background */\n",
              "#sk-container-id-1 div.sk-label:hover label.sk-toggleable__label {\n",
              "  color: var(--sklearn-color-text);\n",
              "  background-color: var(--sklearn-color-unfitted-level-2);\n",
              "}\n",
              "\n",
              "/* Label box, darken color on hover, fitted */\n",
              "#sk-container-id-1 div.sk-label.fitted:hover label.sk-toggleable__label.fitted {\n",
              "  color: var(--sklearn-color-text);\n",
              "  background-color: var(--sklearn-color-fitted-level-2);\n",
              "}\n",
              "\n",
              "/* Estimator label */\n",
              "\n",
              "#sk-container-id-1 div.sk-label label {\n",
              "  font-family: monospace;\n",
              "  font-weight: bold;\n",
              "  display: inline-block;\n",
              "  line-height: 1.2em;\n",
              "}\n",
              "\n",
              "#sk-container-id-1 div.sk-label-container {\n",
              "  text-align: center;\n",
              "}\n",
              "\n",
              "/* Estimator-specific */\n",
              "#sk-container-id-1 div.sk-estimator {\n",
              "  font-family: monospace;\n",
              "  border: 1px dotted var(--sklearn-color-border-box);\n",
              "  border-radius: 0.25em;\n",
              "  box-sizing: border-box;\n",
              "  margin-bottom: 0.5em;\n",
              "  /* unfitted */\n",
              "  background-color: var(--sklearn-color-unfitted-level-0);\n",
              "}\n",
              "\n",
              "#sk-container-id-1 div.sk-estimator.fitted {\n",
              "  /* fitted */\n",
              "  background-color: var(--sklearn-color-fitted-level-0);\n",
              "}\n",
              "\n",
              "/* on hover */\n",
              "#sk-container-id-1 div.sk-estimator:hover {\n",
              "  /* unfitted */\n",
              "  background-color: var(--sklearn-color-unfitted-level-2);\n",
              "}\n",
              "\n",
              "#sk-container-id-1 div.sk-estimator.fitted:hover {\n",
              "  /* fitted */\n",
              "  background-color: var(--sklearn-color-fitted-level-2);\n",
              "}\n",
              "\n",
              "/* Specification for estimator info (e.g. \"i\" and \"?\") */\n",
              "\n",
              "/* Common style for \"i\" and \"?\" */\n",
              "\n",
              ".sk-estimator-doc-link,\n",
              "a:link.sk-estimator-doc-link,\n",
              "a:visited.sk-estimator-doc-link {\n",
              "  float: right;\n",
              "  font-size: smaller;\n",
              "  line-height: 1em;\n",
              "  font-family: monospace;\n",
              "  background-color: var(--sklearn-color-background);\n",
              "  border-radius: 1em;\n",
              "  height: 1em;\n",
              "  width: 1em;\n",
              "  text-decoration: none !important;\n",
              "  margin-left: 0.5em;\n",
              "  text-align: center;\n",
              "  /* unfitted */\n",
              "  border: var(--sklearn-color-unfitted-level-1) 1pt solid;\n",
              "  color: var(--sklearn-color-unfitted-level-1);\n",
              "}\n",
              "\n",
              ".sk-estimator-doc-link.fitted,\n",
              "a:link.sk-estimator-doc-link.fitted,\n",
              "a:visited.sk-estimator-doc-link.fitted {\n",
              "  /* fitted */\n",
              "  border: var(--sklearn-color-fitted-level-1) 1pt solid;\n",
              "  color: var(--sklearn-color-fitted-level-1);\n",
              "}\n",
              "\n",
              "/* On hover */\n",
              "div.sk-estimator:hover .sk-estimator-doc-link:hover,\n",
              ".sk-estimator-doc-link:hover,\n",
              "div.sk-label-container:hover .sk-estimator-doc-link:hover,\n",
              ".sk-estimator-doc-link:hover {\n",
              "  /* unfitted */\n",
              "  background-color: var(--sklearn-color-unfitted-level-3);\n",
              "  color: var(--sklearn-color-background);\n",
              "  text-decoration: none;\n",
              "}\n",
              "\n",
              "div.sk-estimator.fitted:hover .sk-estimator-doc-link.fitted:hover,\n",
              ".sk-estimator-doc-link.fitted:hover,\n",
              "div.sk-label-container:hover .sk-estimator-doc-link.fitted:hover,\n",
              ".sk-estimator-doc-link.fitted:hover {\n",
              "  /* fitted */\n",
              "  background-color: var(--sklearn-color-fitted-level-3);\n",
              "  color: var(--sklearn-color-background);\n",
              "  text-decoration: none;\n",
              "}\n",
              "\n",
              "/* Span, style for the box shown on hovering the info icon */\n",
              ".sk-estimator-doc-link span {\n",
              "  display: none;\n",
              "  z-index: 9999;\n",
              "  position: relative;\n",
              "  font-weight: normal;\n",
              "  right: .2ex;\n",
              "  padding: .5ex;\n",
              "  margin: .5ex;\n",
              "  width: min-content;\n",
              "  min-width: 20ex;\n",
              "  max-width: 50ex;\n",
              "  color: var(--sklearn-color-text);\n",
              "  box-shadow: 2pt 2pt 4pt #999;\n",
              "  /* unfitted */\n",
              "  background: var(--sklearn-color-unfitted-level-0);\n",
              "  border: .5pt solid var(--sklearn-color-unfitted-level-3);\n",
              "}\n",
              "\n",
              ".sk-estimator-doc-link.fitted span {\n",
              "  /* fitted */\n",
              "  background: var(--sklearn-color-fitted-level-0);\n",
              "  border: var(--sklearn-color-fitted-level-3);\n",
              "}\n",
              "\n",
              ".sk-estimator-doc-link:hover span {\n",
              "  display: block;\n",
              "}\n",
              "\n",
              "/* \"?\"-specific style due to the `<a>` HTML tag */\n",
              "\n",
              "#sk-container-id-1 a.estimator_doc_link {\n",
              "  float: right;\n",
              "  font-size: 1rem;\n",
              "  line-height: 1em;\n",
              "  font-family: monospace;\n",
              "  background-color: var(--sklearn-color-background);\n",
              "  border-radius: 1rem;\n",
              "  height: 1rem;\n",
              "  width: 1rem;\n",
              "  text-decoration: none;\n",
              "  /* unfitted */\n",
              "  color: var(--sklearn-color-unfitted-level-1);\n",
              "  border: var(--sklearn-color-unfitted-level-1) 1pt solid;\n",
              "}\n",
              "\n",
              "#sk-container-id-1 a.estimator_doc_link.fitted {\n",
              "  /* fitted */\n",
              "  border: var(--sklearn-color-fitted-level-1) 1pt solid;\n",
              "  color: var(--sklearn-color-fitted-level-1);\n",
              "}\n",
              "\n",
              "/* On hover */\n",
              "#sk-container-id-1 a.estimator_doc_link:hover {\n",
              "  /* unfitted */\n",
              "  background-color: var(--sklearn-color-unfitted-level-3);\n",
              "  color: var(--sklearn-color-background);\n",
              "  text-decoration: none;\n",
              "}\n",
              "\n",
              "#sk-container-id-1 a.estimator_doc_link.fitted:hover {\n",
              "  /* fitted */\n",
              "  background-color: var(--sklearn-color-fitted-level-3);\n",
              "}\n",
              "</style><div id=\"sk-container-id-1\" class=\"sk-top-container\"><div class=\"sk-text-repr-fallback\"><pre>LinearRegression()</pre><b>In a Jupyter environment, please rerun this cell to show the HTML representation or trust the notebook. <br />On GitHub, the HTML representation is unable to render, please try loading this page with nbviewer.org.</b></div><div class=\"sk-container\" hidden><div class=\"sk-item\"><div class=\"sk-estimator fitted sk-toggleable\"><input class=\"sk-toggleable__control sk-hidden--visually\" id=\"sk-estimator-id-1\" type=\"checkbox\" checked><label for=\"sk-estimator-id-1\" class=\"sk-toggleable__label fitted sk-toggleable__label-arrow\"><div><div>LinearRegression</div></div><div><a class=\"sk-estimator-doc-link fitted\" rel=\"noreferrer\" target=\"_blank\" href=\"https://scikit-learn.org/1.6/modules/generated/sklearn.linear_model.LinearRegression.html\">?<span>Documentation for LinearRegression</span></a><span class=\"sk-estimator-doc-link fitted\">i<span>Fitted</span></span></div></label><div class=\"sk-toggleable__content fitted\"><pre>LinearRegression()</pre></div> </div></div></div></div>"
            ]
          },
          "metadata": {},
          "execution_count": 9
        }
      ]
    },
    {
      "cell_type": "code",
      "source": [
        "#  주요 회귀 계수 확인\n",
        "coef_df = pd.DataFrame({\n",
        "    'feature': df_encoded.columns,\n",
        "    'coefficient': model.coef_\n",
        "})\n",
        "coef_df['abs_coef'] = coef_df['coefficient'].abs()\n",
        "top_coefs = coef_df.sort_values(by='abs_coef', ascending=False).head(10)\n",
        "\n",
        "print(\"\\nTop 10 회귀 계수 (절대값 기준):\")\n",
        "print(top_coefs[['feature', 'coefficient']])"
      ],
      "metadata": {
        "colab": {
          "base_uri": "https://localhost:8080/"
        },
        "id": "J9nsTNlvu5Iz",
        "outputId": "deb87589-5041-45f2-b6ed-c1bd1120b6e2"
      },
      "execution_count": 10,
      "outputs": [
        {
          "output_type": "stream",
          "name": "stdout",
          "text": [
            "\n",
            "Top 10 회귀 계수 (절대값 기준):\n",
            "                          feature   coefficient\n",
            "9                            FARE  1.000000e+00\n",
            "1                             NEW  7.973933e-11\n",
            "28  S_CITY_Corpus Christi      TX  6.716590e-11\n",
            "0                          COUPON  6.205804e-11\n",
            "56  S_CITY_Portland            OR  6.181886e-11\n",
            "51  S_CITY_Omaha               NE  5.780524e-11\n",
            "34  S_CITY_Fort Meyers         FL  5.741296e-11\n",
            "27  S_CITY_Columbus            OH  5.454734e-11\n",
            "49  S_CITY_Norfolk/Va B/Pt/Ch  VA  5.361000e-11\n",
            "21  S_CITY_Boise               ID  5.227681e-11\n"
          ]
        }
      ]
    },
    {
      "cell_type": "code",
      "source": [
        "# 예측\n",
        "y_pred = model.predict(X_valid) # 훈련된 모델에 검증 데이터(X_valid)를 넣어 운임 예측값 y_pred 생성\n",
        "\n",
        "# 성능 평가\n",
        "#rmse = mean_squared_error(y_valid, y_pred, squared=False) # squared = False : 평균 제곱 오차(mse : mean squared error)의 제곱근을 구하는  → RMSE 계산\n",
        "# 위 코딩에서 오류 발생 시 다음 코딩 사용할 것\n",
        "mse = mean_squared_error(y_valid, y_pred)\n",
        "rmse = mse**0.5\n",
        "r2 = r2_score(y_valid, y_pred) # r2 : 모델이 전체 데이터의 분산(변동)을 얼마나 잘 설명하는지를 수치화\n",
        "\n",
        "print(f\"검증 RMSE: {rmse:.2f}\")\n",
        "print(f\"검증 R²: {r2:.4f}\")\n"
      ],
      "metadata": {
        "colab": {
          "base_uri": "https://localhost:8080/"
        },
        "id": "eWvB5Qxdu4E7",
        "outputId": "821a9c25-8952-477d-b0c5-87a434928dde"
      },
      "execution_count": 11,
      "outputs": [
        {
          "output_type": "stream",
          "name": "stdout",
          "text": [
            "검증 RMSE: 0.00\n",
            "검증 R²: 1.0000\n"
          ]
        }
      ]
    },
    {
      "cell_type": "markdown",
      "source": [
        "5. 평가 결과"
      ],
      "metadata": {
        "id": "EFJ8HSUgELOP"
      }
    },
    {
      "cell_type": "markdown",
      "source": [
        "검증 RMSE: 31.42\n",
        "검증 R²: 0.8380\n",
        "\n",
        "검증 결과로 나온 다음 두 성능 지표는 모델이 얼마나 정확하게 항공 운임을 예측했는지를 나타냄.\n",
        "\n",
        "\n",
        "RMSE (Root Mean Squared Error): 31.42 라는 지표를 통해 모델이 예측한 항공 운임이 실제 값과 평균적으로 약 31.42달러 차이가 난다는 것을 알 수 있음.\n",
        "\n",
        "\n",
        "R² (결정계수): 0.8380 라는 지표를 통해 전체 운임 변동성의 약 83.8%를 모델이 설명하고 있다는 것을 알 수 있음. 매우 우수한 성능을 가진 모델임"
      ],
      "metadata": {
        "id": "PJ1xpdvcEOJ_"
      }
    },
    {
      "cell_type": "code",
      "source": [
        "import numpy as np\n",
        "from sklearn.metrics import mean_absolute_error, mean_squared_error, r2_score\n",
        "\n",
        "# 테스트 데이터로 모델 성능 평가\n",
        "\n",
        "y_pred_test = model.predict(X_test)\n",
        "\n",
        "# 기본 오차 지표 계산\n",
        "mae  = mean_absolute_error(y_test, y_pred_test)      # 평균절대오차\n",
        "mse  = mean_squared_error(y_test, y_pred_test)       # 평균제곱오차\n",
        "rmse = np.sqrt(mse)                                  # 평균제곱근오차\n",
        "r2   = r2_score(y_test, y_pred_test)                 # R² (결정 계수)\n",
        "\n",
        "print(f\"MAE            : {mae:.4f}\")\n",
        "print(f\"MSE            : {mse:.4f}\")\n",
        "print(f\"RMSE           : {rmse:.4f}\")\n",
        "print(f\"R²             : {r2:.4f}\")"
      ],
      "metadata": {
        "colab": {
          "base_uri": "https://localhost:8080/"
        },
        "id": "RU3Yt3qavKZs",
        "outputId": "b06a80d1-fda6-4455-b4cd-3548e7958772"
      },
      "execution_count": 12,
      "outputs": [
        {
          "output_type": "stream",
          "name": "stdout",
          "text": [
            "MAE            : 0.0000\n",
            "MSE            : 0.0000\n",
            "RMSE           : 0.0000\n",
            "R²             : 1.0000\n"
          ]
        }
      ]
    },
    {
      "cell_type": "markdown",
      "source": [
        "\n",
        "\n",
        "---\n",
        "\n",
        "**김정은_문제풀이**"
      ],
      "metadata": {
        "id": "ta_tJ4cLm4PQ"
      }
    },
    {
      "cell_type": "markdown",
      "source": [
        "**추가적인 모델 성능 검증**"
      ],
      "metadata": {
        "id": "5K3N0GexnIKl"
      }
    },
    {
      "cell_type": "code",
      "source": [
        "print(y_pred)"
      ],
      "metadata": {
        "colab": {
          "base_uri": "https://localhost:8080/"
        },
        "id": "kmKhCx6FVaaN",
        "outputId": "b0101c61-944c-4383-cee3-e27d1f34d306",
        "collapsed": true
      },
      "execution_count": 13,
      "outputs": [
        {
          "output_type": "stream",
          "name": "stdout",
          "text": [
            "[ 64.39 121.67  78.67  57.33  52.92 120.7  150.04 297.2  129.62 169.41\n",
            " 148.28 297.83 303.82 244.5  231.97  63.3  133.5  299.17 143.2  120.84\n",
            " 182.56 326.47  51.73  84.23 204.62 143.62  54.96 123.97 132.85 140.9\n",
            "  42.47  60.87 137.2  210.9  114.95  50.38 132.94 230.71 113.99 140.07\n",
            "  84.46 302.33 164.3  123.27  76.81 100.95 314.88 163.78 167.16 256.86\n",
            " 190.09 230.87  56.91 106.77 114.35 311.46 219.38 139.56  60.73 137.25\n",
            " 215.01 127.67  51.3  215.57 132.94 293.21 270.36 238.73 123.89 144.6\n",
            " 159.71 229.84 150.13  57.62  72.43  67.78 145.53  91.83 169.9  100.36\n",
            "  49.02  49.77 261.63 114.76 215.57  97.93 137.25 118.95 123.97 116.78\n",
            " 127.38 185.65 250.73 154.74 207.76 174.06  77.46  96.18 205.   207.83\n",
            " 164.88 335.55 270.36  63.76 125.8  116.78 152.67 244.5  186.28  75.07\n",
            " 127.38 134.3  273.12 127.38 121.09  87.59 215.06 162.28 233.78 159.71\n",
            " 180.56  97.46 109.44 281.06 202.77 114.35 150.13 349.97]\n"
          ]
        }
      ]
    },
    {
      "cell_type": "markdown",
      "source": [
        "**=> 예측 운임료가 음수인 경우 존재**\n",
        "\n",
        "**선형회귀모델에서의 음수값**\n",
        "\n",
        ": 선형회귀모델에서의 음수값은 자연스러운 현상\n",
        "\n",
        "- 모델 자체가 “FARE ≥ 0” 같은 제약을 걸지 않음\n",
        "- 모델의 수식이 단순히 선형 결합\n",
        "  : β 계수와 x 값들의 조합에 따라, y가 음수로 나올 수 있음\n",
        "   \n",
        "    => 회귀계수(β)가 음수인 조합의 경우"
      ],
      "metadata": {
        "id": "S3I7t5VzK5J7"
      }
    },
    {
      "cell_type": "markdown",
      "source": [
        "**1. 실제 운임료(y_valid)과 비교해 모델 성능 평가**\n",
        "- 이상치 분석, 오차가 큰 노선 경향 찾기"
      ],
      "metadata": {
        "id": "wMV27DQ3-Kx3"
      }
    },
    {
      "cell_type": "code",
      "source": [
        "\n",
        "# 산점도를 통한 시각적 분석\n",
        "import matplotlib.pyplot as plt\n",
        "\n",
        "plt.scatter(y_valid, y_pred)\n",
        "plt.xlabel(\"Actual FARE\")\n",
        "plt.ylabel(\"Predicted FARE\")\n",
        "plt.title(\"actual fare vs predicted fare\")\n",
        "plt.plot([y_valid.min(), y_valid.max()], [y_valid.min(), y_valid.max()], 'r--')  # 완벽 예측선\n",
        "plt.show()\n"
      ],
      "metadata": {
        "colab": {
          "base_uri": "https://localhost:8080/",
          "height": 469
        },
        "id": "b1VUqrjQWuiL",
        "outputId": "1c1934eb-6227-48ba-87ec-c437785df7e2"
      },
      "execution_count": 14,
      "outputs": [
        {
          "output_type": "display_data",
          "data": {
            "text/plain": [
              "<Figure size 640x480 with 1 Axes>"
            ],
            "image/png": "[encoded data removed]"
          },
          "metadata": {}
        }
      ]
    },
    {
      "cell_type": "markdown",
      "source": [
        "* 예측 운임료가 음수인 경우가 있음 => 이상치나, 모델 문제가 있을 수 있음"
      ],
      "metadata": {
        "id": "l1idF9ygdlZd"
      }
    },
    {
      "cell_type": "markdown",
      "source": [
        "**오차계산을 통해 이상치 찾기**"
      ],
      "metadata": {
        "id": "5o8rF8buYPGE"
      }
    },
    {
      "cell_type": "code",
      "source": [
        "# 예측값과 실제값 차이 (잔차) 계산\n",
        "errors = y_valid.values - y_pred  # 잔차 = 실제값 - 예측값\n",
        "\n",
        "# DataFrame으로 정리\n",
        "results_df = pd.DataFrame({\n",
        "    '실제 운임': y_valid.values,\n",
        "    '예측 운임': y_pred,\n",
        "    '오차 (실제 - 예측)': errors})\n"
      ],
      "metadata": {
        "id": "l0DxrNaSXt5N"
      },
      "execution_count": 15,
      "outputs": []
    },
    {
      "cell_type": "code",
      "source": [
        "# 예측이 실제보다 훨씬 높은 (예측 과대) 상위 5개\n",
        "over_predictions = results_df.sort_values(by='오차 (실제 - 예측)').head(5)\n",
        "print(\"📈 운임 과대예측 TOP 5\")\n",
        "print(over_predictions)\n"
      ],
      "metadata": {
        "colab": {
          "base_uri": "https://localhost:8080/"
        },
        "id": "ONGOte7lXzwz",
        "outputId": "c5d60584-ead6-4b79-d9bf-bc4f908dfcf3"
      },
      "execution_count": 16,
      "outputs": [
        {
          "output_type": "stream",
          "name": "stdout",
          "text": [
            "📈 운임 과대예측 TOP 5\n",
            "     실제 운임   예측 운임  오차 (실제 - 예측)\n",
            "35   50.38   50.38 -8.057555e-10\n",
            "73   57.62   57.62 -7.087309e-10\n",
            "81   49.77   49.77 -6.819505e-10\n",
            "62   51.30   51.30 -6.717684e-10\n",
            "34  114.95  114.95 -6.624532e-10\n"
          ]
        }
      ]
    },
    {
      "cell_type": "code",
      "source": [
        "# 예측이 실제보다 훨씬 낮은 (예측 과소) 상위 5개\n",
        "under_predictions = results_df.sort_values(by='오차 (실제 - 예측)', ascending=False).head(5)\n",
        "print(\"📉 운임 과소예측 TOP 5\")\n",
        "print(under_predictions)"
      ],
      "metadata": {
        "colab": {
          "base_uri": "https://localhost:8080/"
        },
        "id": "6yp8S0rTX7Hq",
        "outputId": "ee6527e7-7658-4289-ac6c-5763b5419414"
      },
      "execution_count": 17,
      "outputs": [
        {
          "output_type": "stream",
          "name": "stdout",
          "text": [
            "📉 운임 과소예측 TOP 5\n",
            "      실제 운임   예측 운임  오차 (실제 - 예측)\n",
            "118  233.78  233.78  1.242341e-09\n",
            "21   326.47  326.47  1.241119e-09\n",
            "70   159.71  159.71  1.162533e-09\n",
            "119  159.71  159.71  1.150880e-09\n",
            "105  116.78  116.78  1.000473e-09\n"
          ]
        }
      ]
    },
    {
      "cell_type": "code",
      "source": [
        "results_df['절댓값 오차'] = results_df['오차 (실제 - 예측)'].abs()\n",
        "largest_errors = results_df.sort_values(by='절댓값 오차', ascending=False).head(5)\n",
        "print(\"❗ 오차가 가장 큰 TOP 5 노선\")\n",
        "print(largest_errors)\n"
      ],
      "metadata": {
        "colab": {
          "base_uri": "https://localhost:8080/"
        },
        "id": "Ov7vzdcdYFkZ",
        "outputId": "7b64ccfc-aa1a-4fa8-866f-fca91ace7756"
      },
      "execution_count": 18,
      "outputs": [
        {
          "output_type": "stream",
          "name": "stdout",
          "text": [
            "❗ 오차가 가장 큰 TOP 5 노선\n",
            "      실제 운임   예측 운임  오차 (실제 - 예측)        절댓값 오차\n",
            "118  233.78  233.78  1.242341e-09  1.242341e-09\n",
            "21   326.47  326.47  1.241119e-09  1.241119e-09\n",
            "70   159.71  159.71  1.162533e-09  1.162533e-09\n",
            "119  159.71  159.71  1.150880e-09  1.150880e-09\n",
            "105  116.78  116.78  1.000473e-09  1.000473e-09\n"
          ]
        }
      ]
    },
    {
      "cell_type": "code",
      "source": [
        "# 오차가 큰 노선들의 전체 특성을 X_valid에서 함께 출력\n",
        "import numpy as np\n",
        "\n",
        "# 예측값 vs 실제값 vs 오차\n",
        "errors = y_valid.values - y_pred\n",
        "\n",
        "results_df = pd.DataFrame({\n",
        "    '실제 운임': y_valid.values,\n",
        "    '예측 운임': y_pred,\n",
        "    '오차': errors,\n",
        "    '절댓값 오차': np.abs(errors)\n",
        "}, index=y_valid.index)  # 인덱스를 원래 인덱스로 유지!"
      ],
      "metadata": {
        "id": "GQrtMkuZYlL0"
      },
      "execution_count": 19,
      "outputs": []
    },
    {
      "cell_type": "code",
      "source": [
        "# 오차가 가장 큰 TOP 5 노선 선택\n",
        "top_error_indices = results_df.sort_values(by='절댓값 오차', ascending=False).head(5).index"
      ],
      "metadata": {
        "id": "-rAzOrIbZIm4"
      },
      "execution_count": 20,
      "outputs": []
    },
    {
      "cell_type": "code",
      "source": [
        "# X_valid에서 해당 노선들의 입력 특성 뽑기\n",
        "top_error_features = X_valid.loc[top_error_indices]"
      ],
      "metadata": {
        "id": "hvYulyBGZKW-"
      },
      "execution_count": 21,
      "outputs": []
    },
    {
      "cell_type": "code",
      "source": [
        "# 전체 정보 합치기\n",
        "full_top_error_info = pd.concat([top_error_features, results_df.loc[top_error_indices]], axis=1)\n",
        "print(\"❗ 오차가 가장 큰 노선 5개의 특성과 예측/실제 운임 비교:\")\n",
        "print(full_top_error_info)\n"
      ],
      "metadata": {
        "colab": {
          "base_uri": "https://localhost:8080/"
        },
        "id": "HZ_tGoGSZbf2",
        "outputId": "30987094-e4dc-4d61-afc3-13ff691595d0"
      },
      "execution_count": 22,
      "outputs": [
        {
          "output_type": "stream",
          "name": "stdout",
          "text": [
            "❗ 오차가 가장 큰 노선 5개의 특성과 예측/실제 운임 비교:\n",
            "     COUPON  NEW       HI  S_INCOME  E_INCOME    S_POP    E_POP  DISTANCE  \\\n",
            "163    1.19    3  3413.42   29260.0   24706.0  7830332  9056076      1751   \n",
            "275    1.17    3  2517.74   24706.0   32991.0  9056076  8621121      2467   \n",
            "231    1.05    3  3316.90   29260.0   32991.0  7830332  8621121       723   \n",
            "234    1.05    3  3316.90   29260.0   32991.0  7830332  8621121       723   \n",
            "228    1.00    3  2850.33   30124.0   32991.0  5787293  8621121       183   \n",
            "\n",
            "       PAX    FARE  ...  E_CITY_Washington          DC  \\\n",
            "163  29771  233.78  ...                              0   \n",
            "275  60435  326.47  ...                              0   \n",
            "231  73892  159.71  ...                              0   \n",
            "234  73892  159.71  ...                              0   \n",
            "228  66820  116.78  ...                              0   \n",
            "\n",
            "     E_CITY_West Palm Beach     FL  VACATION_Yes  SW_Yes  SLOT_Free  \\\n",
            "163                              0             0       0          0   \n",
            "275                              0             0       0          0   \n",
            "231                              0             0       0          0   \n",
            "234                              0             0       0          1   \n",
            "228                              0             0       0          1   \n",
            "\n",
            "     GATE_Free   실제 운임   예측 운임            오차        절댓값 오차  \n",
            "163          1  233.78  233.78  1.242341e-09  1.242341e-09  \n",
            "275          1  326.47  326.47  1.241119e-09  1.241119e-09  \n",
            "231          0  159.71  159.71  1.162533e-09  1.162533e-09  \n",
            "234          0  159.71  159.71  1.150880e-09  1.150880e-09  \n",
            "228          0  116.78  116.78  1.000473e-09  1.000473e-09  \n",
            "\n",
            "[5 rows x 149 columns]\n"
          ]
        }
      ]
    },
    {
      "cell_type": "markdown",
      "source": [
        "* 앞서 구한 '오차가 가장 큰 TOP 5 노선'과 바로 위 코드에서 구한\n",
        "'오차가 가장 큰 노선 5개의 특성과 예측/실제 운임 비교' 에서 구한 노선의 인덱스가 다른 것은 y.predict가 인덱스 없이 순서만 있어 섞였기 때문. 인덱스만 다르게 나왔을 뿐, 동일한 노선임."
      ],
      "metadata": {
        "id": "dOSx4Ds_bf0r"
      }
    },
    {
      "cell_type": "markdown",
      "source": [
        "**오차가 큰 노선 특징 분석 - 수치형 변수(DISTANCE, PAX)**\n",
        ": 오차가 큰 노선의 distance와 pax가 전체 검증데이터셋과 비교하여 어떠한 경향을 띠고 있는지 알기 위한 분석.\n"
      ],
      "metadata": {
        "id": "p2rTS7IRfXKW"
      }
    },
    {
      "cell_type": "code",
      "source": [
        "\n",
        "# 전체 검증셋 기준\n",
        "print(\"📊 전체 검증셋 통계 (DISTANCE & PAX)\")\n",
        "print(X_valid[['DISTANCE', 'PAX']].describe())\n",
        "\n",
        "# 분포 시각화\n",
        "import matplotlib.pyplot as plt\n",
        "import seaborn as sns\n",
        "\n",
        "# 전체 Distance 분포\n",
        "plt.figure(figsize=(12, 4))\n",
        "plt.subplot(1, 2, 1)\n",
        "sns.histplot(X_valid['DISTANCE'], bins=30, kde=True)\n",
        "plt.title('Distance distribution')\n",
        "\n",
        "# 전체 Pax 분포\n",
        "plt.subplot(1, 2, 2)\n",
        "sns.histplot(X_valid['PAX'], bins=30, kde=True)\n",
        "plt.title('Pax distribution')\n",
        "\n",
        "plt.tight_layout()\n",
        "plt.show()\n"
      ],
      "metadata": {
        "colab": {
          "base_uri": "https://localhost:8080/",
          "height": 529
        },
        "id": "LtawL9O5efsI",
        "outputId": "9e39cc86-1c46-4c66-85e0-ff7c6d46303a"
      },
      "execution_count": 23,
      "outputs": [
        {
          "output_type": "stream",
          "name": "stdout",
          "text": [
            "📊 전체 검증셋 통계 (DISTANCE & PAX)\n",
            "          DISTANCE           PAX\n",
            "count   128.000000    128.000000\n",
            "mean    916.031250  14339.273438\n",
            "std     629.632738  16078.354860\n",
            "min     183.000000   2874.000000\n",
            "25%     416.750000   5814.500000\n",
            "50%     805.000000   8138.500000\n",
            "75%    1146.750000  14719.750000\n",
            "max    2555.000000  73892.000000\n"
          ]
        },
        {
          "output_type": "display_data",
          "data": {
            "text/plain": [
              "<Figure size 1200x400 with 2 Axes>"
            ],
            "image/png": "[encoded data removed]"
          },
          "metadata": {}
        }
      ]
    },
    {
      "cell_type": "code",
      "source": [
        "# 오차가 큰 TOP 5 노선 인덱스\n",
        "top_error_indices = results_df.sort_values(by='절댓값 오차', ascending=False).head(5).index\n",
        "\n",
        "# 해당 노선들의 특성\n",
        "top_errors_features = X_valid.loc[top_error_indices]\n",
        "\n",
        "print(\"📌 오차 큰 TOP 5 노선 통계 (DISTANCE & PAX)\")\n",
        "print(top_errors_features[['DISTANCE', 'PAX']].describe())\n",
        "\n",
        "# 분포 시각화\n",
        "plt.figure(figsize=(12, 4))\n",
        "plt.subplot(1, 2, 1)\n",
        "sns.histplot(top_errors_features['DISTANCE'], bins=5, kde=False)\n",
        "plt.title('TOP 5 Distance distribution')\n",
        "\n",
        "plt.subplot(1, 2, 2)\n",
        "sns.histplot(top_errors_features['PAX'], bins=5, kde=False)\n",
        "plt.title('TOP 5 Pax distribution')\n",
        "\n",
        "plt.tight_layout()\n",
        "plt.show()\n"
      ],
      "metadata": {
        "colab": {
          "base_uri": "https://localhost:8080/",
          "height": 529
        },
        "id": "BbyNruP9hOwN",
        "outputId": "fe5e8146-2c92-471f-f315-ccd0112928a3"
      },
      "execution_count": 24,
      "outputs": [
        {
          "output_type": "stream",
          "name": "stdout",
          "text": [
            "📌 오차 큰 TOP 5 노선 통계 (DISTANCE & PAX)\n",
            "          DISTANCE           PAX\n",
            "count     5.000000      5.000000\n",
            "mean   1169.400000  60962.000000\n",
            "std     921.080235  18315.581986\n",
            "min     183.000000  29771.000000\n",
            "25%     723.000000  60435.000000\n",
            "50%     723.000000  66820.000000\n",
            "75%    1751.000000  73892.000000\n",
            "max    2467.000000  73892.000000\n"
          ]
        },
        {
          "output_type": "display_data",
          "data": {
            "text/plain": [
              "<Figure size 1200x400 with 2 Axes>"
            ],
            "image/png": "[encoded data removed]"
          },
          "metadata": {}
        }
      ]
    },
    {
      "cell_type": "code",
      "source": [
        "# 두 그룹의 평균 비교 (수치 요약)\n",
        "mean_distance_all = X_valid['DISTANCE'].mean()\n",
        "mean_pax_all = X_valid['PAX'].mean()\n",
        "\n",
        "mean_distance_top5 = top_errors_features['DISTANCE'].mean()\n",
        "mean_pax_top5 = top_errors_features['PAX'].mean()\n",
        "\n",
        "print(f\"전체 평균 거리(DISTANCE): {mean_distance_all:.2f}\")\n",
        "print(f\"TOP 5 평균 거리(DISTANCE): {mean_distance_top5:.2f}\")\n",
        "print(f\"전체 평균 승객 수(PAX): {mean_pax_all:.2f}\")\n",
        "print(f\"TOP 5 평균 승객 수(PAX): {mean_pax_top5:.2f}\")\n"
      ],
      "metadata": {
        "colab": {
          "base_uri": "https://localhost:8080/"
        },
        "id": "sV2EDyWbiE_v",
        "outputId": "a69b6446-2f92-4fd4-e841-763784fb43d2"
      },
      "execution_count": 25,
      "outputs": [
        {
          "output_type": "stream",
          "name": "stdout",
          "text": [
            "전체 평균 거리(DISTANCE): 916.03\n",
            "TOP 5 평균 거리(DISTANCE): 1169.40\n",
            "전체 평균 승객 수(PAX): 14339.27\n",
            "TOP 5 평균 승객 수(PAX): 60962.00\n"
          ]
        }
      ]
    },
    {
      "cell_type": "markdown",
      "source": [
        "**오차가 큰 top 5 노선의 특징**\n",
        "1. 평균 거리가 짧음 (1680값 외에 모두 평균보다 낮음)\n",
        "2. 평균 승객 수 극단적으로 적거나, 큼(최솟값, 최댓값 존재)\n",
        "\n",
        "=> 이 모델은 전반적으로 괜찮은 성능(R² = 0.8380)을 보이지만,\n",
        "짧은 거리 & 승객 수가 적거나 극단적으로 큰 노선에서는 예측 정확도가 떨어지는 경향이 있음."
      ],
      "metadata": {
        "id": "4WAt4E5ljVDm"
      }
    },
    {
      "cell_type": "markdown",
      "source": [
        "**분석 결과**\n",
        "1. 노선(distance)이 짧을 수록 모델의 예측 성능 불안정\n",
        "*   앞서 최적의 예측 변수인 거리가 길수록 운임료도 선형적으로 증가한다 가정을 했으나, 오차가 비교적 많이 발생한 짧은 노선에서는 운임료가 단순히 거리로 측정되는 것이 아닌, 다른 변수(요인)가 더 강하게 작용할 가능성 높음.  \n",
        " => 짧은 거리에서 단순히 거리 기반 예측은 불안정하다.\n",
        "\n",
        "\n",
        "---\n",
        "\n",
        "\n",
        "2. 승객 수(pax)가 적거나, 극단적으로 큰 값에서 예측 성능 불안정\n",
        "*   극단값에는 학습 데이터가 많지 않기에, 일반화 어려운 문제\n",
        "*   선형 회귀는 이상치에 영향을 많기 받음.\n",
        "\n",
        "\n",
        "\n",
        "\n",
        "\n",
        "\n",
        "\n",
        "\n",
        "\n"
      ],
      "metadata": {
        "id": "qGe-POWBiotf"
      }
    },
    {
      "cell_type": "markdown",
      "source": [
        "**2. model.summary을 통한 모델 평가**\n",
        "\n",
        ":  각 변수의 회귀 계수(coefficient),\n",
        "표준 오차(std err), t-값(t), P-값(P>|t|), 결정계수(R-squared) 등 다양한 통계 정보 확인. 각 계수가 통계적으로 유의미한지(P-값이\n",
        "작은지, 보통 0.05 기준) 확인.\n",
        "\n",
        "=> 현재 LinearRegression(scikit-learn)로 만든 모델은 model.summary()작업이 불가능하여 statsmodels의 OLS(최소제곱법) 모델로 다시 만들어 확인.\n"
      ],
      "metadata": {
        "id": "LJuDrhpK9Sa4"
      }
    },
    {
      "cell_type": "code",
      "source": [
        "!pip install statsmodels\n"
      ],
      "metadata": {
        "collapsed": true,
        "colab": {
          "base_uri": "https://localhost:8080/"
        },
        "outputId": "d8f7f51b-c14a-467b-bfa3-c09ff6f69836",
        "id": "5R78lvWC9Sa5"
      },
      "execution_count": 26,
      "outputs": [
        {
          "output_type": "stream",
          "name": "stdout",
          "text": [
            "Requirement already satisfied: statsmodels in /usr/local/lib/python3.11/dist-packages (0.14.4)\n",
            "Requirement already satisfied: numpy<3,>=1.22.3 in /usr/local/lib/python3.11/dist-packages (from statsmodels) (2.0.2)\n",
            "Requirement already satisfied: scipy!=1.9.2,>=1.8 in /usr/local/lib/python3.11/dist-packages (from statsmodels) (1.15.3)\n",
            "Requirement already satisfied: pandas!=2.1.0,>=1.4 in /usr/local/lib/python3.11/dist-packages (from statsmodels) (2.2.2)\n",
            "Requirement already satisfied: patsy>=0.5.6 in /usr/local/lib/python3.11/dist-packages (from statsmodels) (1.0.1)\n",
            "Requirement already satisfied: packaging>=21.3 in /usr/local/lib/python3.11/dist-packages (from statsmodels) (24.2)\n",
            "Requirement already satisfied: python-dateutil>=2.8.2 in /usr/local/lib/python3.11/dist-packages (from pandas!=2.1.0,>=1.4->statsmodels) (2.9.0.post0)\n",
            "Requirement already satisfied: pytz>=2020.1 in /usr/local/lib/python3.11/dist-packages (from pandas!=2.1.0,>=1.4->statsmodels) (2025.2)\n",
            "Requirement already satisfied: tzdata>=2022.7 in /usr/local/lib/python3.11/dist-packages (from pandas!=2.1.0,>=1.4->statsmodels) (2025.2)\n",
            "Requirement already satisfied: six>=1.5 in /usr/local/lib/python3.11/dist-packages (from python-dateutil>=2.8.2->pandas!=2.1.0,>=1.4->statsmodels) (1.17.0)\n"
          ]
        }
      ]
    },
    {
      "cell_type": "code",
      "source": [
        "import statsmodels.api as sm\n",
        "\n",
        "# X와 y 모두 float으로 변환\n",
        "X_train_const = sm.add_constant(X_train).astype(float)\n",
        "y_train_float = y_train.astype(float)\n",
        "\n",
        "# OLS 모델 다시 학습\n",
        "model = sm.OLS(y_train_float, X_train_const).fit()\n",
        "\n",
        "# 결과 출력\n",
        "print(model.summary())\n"
      ],
      "metadata": {
        "colab": {
          "base_uri": "https://localhost:8080/"
        },
        "collapsed": true,
        "outputId": "5640f6ef-941e-404e-b988-eaf417d01e40",
        "id": "tm5HfKO59Sa5"
      },
      "execution_count": 27,
      "outputs": [
        {
          "output_type": "stream",
          "name": "stdout",
          "text": [
            "                            OLS Regression Results                            \n",
            "==============================================================================\n",
            "Dep. Variable:                   FARE   R-squared:                       1.000\n",
            "Model:                            OLS   Adj. R-squared:                  1.000\n",
            "Method:                 Least Squares   F-statistic:                 2.583e+21\n",
            "Date:                Tue, 03 Jun 2025   Prob (F-statistic):               0.00\n",
            "Time:                        17:11:48   Log-Likelihood:                 7071.4\n",
            "No. Observations:                 382   AIC:                        -1.390e+04\n",
            "Df Residuals:                     261   BIC:                        -1.342e+04\n",
            "Df Model:                         120                                         \n",
            "Covariance Type:            nonrobust                                         \n",
            "=================================================================================================\n",
            "                                    coef    std err          t      P>|t|      [0.025      0.975]\n",
            "-------------------------------------------------------------------------------------------------\n",
            "const                          -1.44e-09   3.11e-09     -0.463      0.644   -7.56e-09    4.68e-09\n",
            "COUPON                         2.316e-09    1.7e-09      1.366      0.173   -1.02e-09    5.65e-09\n",
            "NEW                            2.154e-10   2.25e-10      0.956      0.340   -2.28e-10    6.59e-10\n",
            "HI                             2.833e-13   1.39e-13      2.045      0.042    1.06e-14    5.56e-13\n",
            "S_INCOME                      -5.613e-14   1.23e-13     -0.455      0.650   -2.99e-13    1.87e-13\n",
            "E_INCOME                      -8.312e-14   9.67e-14     -0.860      0.391   -2.73e-13    1.07e-13\n",
            "S_POP                          5.271e-16   2.42e-16      2.180      0.030     5.1e-17       1e-15\n",
            "E_POP                         -3.015e-16   1.65e-16     -1.823      0.069   -6.27e-16    2.42e-17\n",
            "DISTANCE                       1.456e-14   6.96e-13      0.021      0.983   -1.36e-12    1.38e-12\n",
            "PAX                            2.344e-14   2.36e-14      0.994      0.321    -2.3e-14    6.98e-14\n",
            "FARE                              1.0000   5.45e-12   1.83e+11      0.000       1.000       1.000\n",
            "S_CODE_DCA                     6.691e-11   2.42e-09      0.028      0.978   -4.69e-09    4.82e-09\n",
            "S_CODE_EWR                     2.356e-11    1.5e-09      0.016      0.987   -2.93e-09    2.98e-09\n",
            "S_CODE_IAD                     7.269e-11   2.31e-09      0.031      0.975   -4.48e-09    4.62e-09\n",
            "S_CODE_JFK                     2.319e-11   1.11e-09      0.021      0.983   -2.17e-09    2.22e-09\n",
            "S_CODE_LGA                     2.305e-11   1.07e-09      0.021      0.983   -2.09e-09    2.13e-09\n",
            "S_CODE_MDW                    -2.681e-12   7.48e-10     -0.004      0.997   -1.48e-09    1.47e-09\n",
            "S_CODE_ORD                    -4.218e-12   1.04e-09     -0.004      0.997   -2.04e-09    2.03e-09\n",
            "S_CITY_Anchorage           AK  2.523e-10   2.99e-09      0.084      0.933   -5.63e-09    6.13e-09\n",
            "S_CITY_Atlanta             GA   6.94e-11    8.1e-10      0.086      0.932   -1.53e-09    1.67e-09\n",
            "S_CITY_Austin              TX  4.415e-11   1.56e-09      0.028      0.977   -3.02e-09    3.11e-09\n",
            "S_CITY_Baltimore/Wash Intl MD  3.027e-10   2.31e-09      0.131      0.896   -4.24e-09    4.85e-09\n",
            "S_CITY_Boise               ID  7.725e-11   3.17e-09      0.024      0.981   -6.17e-09    6.33e-09\n",
            "S_CITY_Boston              MA  9.733e-11   8.94e-10      0.109      0.913   -1.66e-09    1.86e-09\n",
            "S_CITY_Burbank             CA -2.182e-10   1.95e-09     -0.112      0.911   -4.05e-09    3.62e-09\n",
            "S_CITY_Chicago             IL -6.929e-12   7.49e-10     -0.009      0.993   -1.48e-09    1.47e-09\n",
            "S_CITY_Cincinnati          OH  7.368e-11   2.54e-09      0.029      0.977   -4.93e-09    5.08e-09\n",
            "S_CITY_Cleveland           OH  8.366e-11   1.29e-09      0.065      0.948   -2.46e-09    2.63e-09\n",
            "S_CITY_Columbus            OH  1.078e-10   1.59e-09      0.068      0.946   -3.02e-09    3.23e-09\n",
            "S_CITY_Corpus Christi      TX -1.013e-10      3e-09     -0.034      0.973   -6.01e-09     5.8e-09\n",
            "S_CITY_Dallas/Fort Worth   TX  1.466e-10   9.82e-10      0.149      0.881   -1.79e-09    2.08e-09\n",
            "S_CITY_Denver              CO  2.057e-10   1.03e-09      0.200      0.842   -1.82e-09    2.24e-09\n",
            "S_CITY_Detroit             MI  1.648e-11   1.45e-09      0.011      0.991   -2.84e-09    2.87e-09\n",
            "S_CITY_El Paso             TX -5.051e-19   3.65e-24  -1.38e+05      0.000   -5.05e-19   -5.05e-19\n",
            "S_CITY_Fort Lauderdale     FL  1.401e-10   1.72e-09      0.082      0.935   -3.24e-09    3.52e-09\n",
            "S_CITY_Fort Meyers         FL  1.008e-10   2.69e-09      0.038      0.970   -5.19e-09    5.39e-09\n",
            "S_CITY_Greenville/Sprtnbg  SC  4.062e-20   2.43e-24   1.67e+04      0.000    4.06e-20    4.06e-20\n",
            "S_CITY_Hartford            CT  2.772e-10   1.68e-09      0.165      0.869   -3.04e-09    3.59e-09\n",
            "S_CITY_Honolulu (Intl)     HI  1.593e-10   3.27e-09      0.049      0.961   -6.28e-09     6.6e-09\n",
            "S_CITY_Houston             TX  6.793e-11   1.02e-09      0.067      0.947   -1.94e-09    2.08e-09\n",
            "S_CITY_Jacksonville        FL  4.396e-11   2.67e-09      0.016      0.987   -5.22e-09     5.3e-09\n",
            "S_CITY_Kansas City         MO  8.321e-11   1.32e-09      0.063      0.950   -2.52e-09    2.68e-09\n",
            "S_CITY_Las Vegas           NV  7.199e-11   1.75e-09      0.041      0.967   -3.38e-09    3.52e-09\n",
            "S_CITY_Los Angeles         CA -2.181e-10   1.06e-09     -0.205      0.837   -2.31e-09    1.87e-09\n",
            "S_CITY_Memphis             TN  8.073e-11   2.24e-09      0.036      0.971   -4.34e-09     4.5e-09\n",
            "S_CITY_Miami               FL -8.198e-11   1.98e-09     -0.041      0.967   -3.98e-09    3.82e-09\n",
            "S_CITY_Minneapolis/St Paul MN  1.604e-10   1.69e-09      0.095      0.924   -3.16e-09    3.48e-09\n",
            "S_CITY_Nashville           TN  1.248e-10   2.95e-09      0.042      0.966   -5.68e-09    5.93e-09\n",
            "S_CITY_New Orleans         LA -2.453e-11   1.91e-09     -0.013      0.990   -3.78e-09    3.73e-09\n",
            "S_CITY_New York/Newark     NY   6.97e-11   1.26e-09      0.055      0.956   -2.42e-09    2.56e-09\n",
            "S_CITY_Norfolk/Va B/Pt/Ch  VA -6.555e-11   3.09e-09     -0.021      0.983   -6.15e-09    6.02e-09\n",
            "S_CITY_Oakland             CA  2.198e-10   1.48e-09      0.149      0.882   -2.69e-09    3.13e-09\n",
            "S_CITY_Omaha               NE  1.102e-10   2.92e-09      0.038      0.970   -5.64e-09    5.86e-09\n",
            "S_CITY_Orlando             FL  -1.65e-11   2.13e-09     -0.008      0.994   -4.21e-09    4.18e-09\n",
            "S_CITY_Philadelphia/Camden PA  5.266e-11   1.16e-09      0.045      0.964   -2.24e-09    2.35e-09\n",
            "S_CITY_Phoenix             AZ -4.267e-11   1.36e-09     -0.031      0.975   -2.72e-09    2.63e-09\n",
            "S_CITY_Pittsburgh          PA  4.223e-11   3.22e-09      0.013      0.990   -6.31e-09    6.39e-09\n",
            "S_CITY_Portland            OR  1.713e-10   3.21e-09      0.053      0.957   -6.15e-09    6.49e-09\n",
            "S_CITY_Sacramento          CA   4.79e-11   3.04e-09      0.016      0.987   -5.94e-09    6.04e-09\n",
            "S_CITY_Salt Lake City      UT -5.316e-11   2.48e-09     -0.021      0.983   -4.95e-09    4.84e-09\n",
            "S_CITY_San Diego           CA -8.954e-12   1.44e-09     -0.006      0.995   -2.85e-09    2.83e-09\n",
            "S_CITY_San Francisco       CA   5.63e-10   1.27e-09      0.442      0.659   -1.94e-09    3.07e-09\n",
            "S_CITY_San Jose            CA  3.263e-20   1.55e-24    2.1e+04      0.000    3.26e-20    3.26e-20\n",
            "S_CITY_Seattle/Tacoma      WA  2.582e-10   1.23e-09      0.209      0.834   -2.17e-09    2.69e-09\n",
            "S_CITY_Spokane             WA -1.855e-20   1.86e-24  -9979.834      0.000   -1.86e-20   -1.85e-20\n",
            "S_CITY_St Louis            MO   6.39e-11   2.88e-09      0.022      0.982   -5.61e-09    5.74e-09\n",
            "S_CITY_Tampa               FL  2.058e-12   3.28e-09      0.001      0.999   -6.46e-09    6.46e-09\n",
            "S_CITY_Washington          DC  1.396e-10   1.49e-09      0.094      0.925   -2.79e-09    3.07e-09\n",
            "E_CODE_DCA                     6.938e-11   1.12e-09      0.062      0.951   -2.13e-09    2.27e-09\n",
            "E_CODE_EWR                     5.435e-11   1.41e-09      0.039      0.969   -2.72e-09    2.83e-09\n",
            "E_CODE_IAD                     7.073e-11   7.65e-10      0.092      0.926   -1.44e-09    1.58e-09\n",
            "E_CODE_JFK                     5.167e-11   1.18e-09      0.044      0.965   -2.27e-09    2.37e-09\n",
            "E_CODE_LGA                     5.049e-11   1.09e-09      0.047      0.963   -2.09e-09    2.19e-09\n",
            "E_CODE_MDW                      1.72e-11   1.45e-09      0.012      0.991   -2.84e-09    2.87e-09\n",
            "E_CODE_ORD                     1.405e-11   1.88e-09      0.007      0.994   -3.69e-09    3.72e-09\n",
            "E_CITY_Baltimore/Wash Intl MD  8.314e-11   1.02e-09      0.082      0.935   -1.92e-09    2.08e-09\n",
            "E_CITY_Birmingham          AL -1.198e-10   2.74e-09     -0.044      0.965   -5.51e-09    5.27e-09\n",
            "E_CITY_Boise               ID -1.128e-10    2.9e-09     -0.039      0.969   -5.83e-09     5.6e-09\n",
            "E_CITY_Boston              MA   1.13e-10   2.53e-09      0.045      0.964   -4.87e-09     5.1e-09\n",
            "E_CITY_Buffalo             NY  1.523e-19   1.78e-24   8.57e+04      0.000    1.52e-19    1.52e-19\n",
            "E_CITY_Charleston          SC -3.444e-10   2.75e-09     -0.125      0.900   -5.76e-09    5.07e-09\n",
            "E_CITY_Charlotte           NC -6.193e-11   1.82e-09     -0.034      0.973   -3.65e-09    3.53e-09\n",
            "E_CITY_Chicago             IL  3.127e-11   1.01e-09      0.031      0.975   -1.96e-09    2.02e-09\n",
            "E_CITY_Cincinnati          OH -7.471e-11   3.11e-09     -0.024      0.981    -6.2e-09    6.05e-09\n",
            "E_CITY_Cleveland           OH -4.382e-11   1.59e-09     -0.027      0.978   -3.18e-09    3.09e-09\n",
            "E_CITY_Colorado Springs    CO -1.885e-10    1.5e-09     -0.126      0.900   -3.14e-09    2.76e-09\n",
            "E_CITY_Columbus            OH -9.789e-11   1.63e-09     -0.060      0.952    -3.3e-09     3.1e-09\n",
            "E_CITY_Dallas/Fort Worth   TX   7.46e-11    2.3e-09      0.032      0.974   -4.46e-09    4.61e-09\n",
            "E_CITY_Denver              CO  6.724e-20    9.2e-25   7.31e+04      0.000    6.72e-20    6.72e-20\n",
            "E_CITY_Detroit             MI -3.877e-11   2.29e-09     -0.017      0.987   -4.55e-09    4.47e-09\n",
            "E_CITY_El Paso             TX  7.296e-20   9.09e-25   8.02e+04      0.000     7.3e-20     7.3e-20\n",
            "E_CITY_Fort Lauderdale     FL  7.217e-12    2.2e-09      0.003      0.997   -4.33e-09    4.35e-09\n",
            "E_CITY_Fort Meyers         FL  1.951e-11   1.88e-09      0.010      0.992   -3.69e-09    3.73e-09\n",
            "E_CITY_Greensboro/High Pt  NC -8.881e-11   1.63e-09     -0.054      0.957    -3.3e-09    3.12e-09\n",
            "E_CITY_Hartford            CT  1.713e-10   1.96e-09      0.088      0.930   -3.68e-09    4.02e-09\n",
            "E_CITY_Honolulu (Intl)     HI  1.158e-11   1.89e-09      0.006      0.995   -3.71e-09    3.74e-09\n",
            "E_CITY_Houston             TX  4.126e-13   1.35e-09      0.000      1.000   -2.65e-09    2.65e-09\n",
            "E_CITY_Indianapolis        IN -5.224e-11   9.28e-10     -0.056      0.955   -1.88e-09    1.78e-09\n",
            "E_CITY_Jacksonville        FL -1.329e-10   2.15e-09     -0.062      0.951   -4.37e-09     4.1e-09\n",
            "E_CITY_Kansas City         MO -5.549e-11   1.19e-09     -0.046      0.963   -2.41e-09     2.3e-09\n",
            "E_CITY_Las Vegas           NV -8.824e-11   1.48e-09     -0.060      0.953      -3e-09    2.83e-09\n",
            "E_CITY_Little Rock         AR -1.682e-10    2.8e-09     -0.060      0.952   -5.68e-09    5.35e-09\n",
            "E_CITY_Los Angeles         CA -1.756e-10   1.19e-09     -0.148      0.883   -2.52e-09    2.16e-09\n",
            "E_CITY_Louisville          KY -1.013e-10   1.78e-09     -0.057      0.955   -3.61e-09    3.41e-09\n",
            "E_CITY_Lubbock             TX  5.983e-20   1.16e-24   5.15e+04      0.000    5.98e-20    5.98e-20\n",
            "E_CITY_Memphis             TN  1.047e-20   1.21e-24   8678.092      0.000    1.05e-20    1.05e-20\n",
            "E_CITY_Miami               FL -2.547e-10   2.03e-09     -0.126      0.900   -4.25e-09    3.74e-09\n",
            "E_CITY_Milwaukee           WI  2.126e-12    1.3e-09      0.002      0.999   -2.55e-09    2.56e-09\n",
            "E_CITY_Minneapolis/St Paul MN  8.279e-11   1.69e-09      0.049      0.961   -3.24e-09    3.41e-09\n",
            "E_CITY_Nashville           TN  -2.41e-11   1.29e-09     -0.019      0.985   -2.56e-09    2.51e-09\n",
            "E_CITY_New Orleans         LA -2.086e-10   2.04e-09     -0.102      0.919   -4.23e-09    3.81e-09\n",
            "E_CITY_New York/Newark     NY  1.565e-10   9.83e-10      0.159      0.874   -1.78e-09    2.09e-09\n",
            "E_CITY_Oakland             CA  1.411e-10   1.81e-09      0.078      0.938   -3.43e-09    3.71e-09\n",
            "E_CITY_Oklahoma City       OK -2.564e-10   2.83e-09     -0.091      0.928   -5.82e-09    5.31e-09\n",
            "E_CITY_Omaha               NE -5.966e-11   2.74e-09     -0.022      0.983   -5.45e-09    5.33e-09\n",
            "E_CITY_Orlando             FL -1.941e-10   1.26e-09     -0.153      0.878   -2.68e-09     2.3e-09\n",
            "E_CITY_Philadelphia/Camden PA  2.322e-11   1.09e-09      0.021      0.983   -2.12e-09    2.17e-09\n",
            "E_CITY_Phoenix             AZ -1.794e-10   8.97e-10     -0.200      0.842   -1.95e-09    1.59e-09\n",
            "E_CITY_Pittsburgh          PA -8.203e-11   1.61e-09     -0.051      0.959   -3.26e-09    3.09e-09\n",
            "E_CITY_Portland            OR  5.313e-12   1.01e-09      0.005      0.996   -1.99e-09       2e-09\n",
            "E_CITY_Providence          RI -1.042e-10   1.27e-09     -0.082      0.935   -2.61e-09     2.4e-09\n",
            "E_CITY_Raleigh/Durham      NC -1.821e-11   1.05e-09     -0.017      0.986   -2.09e-09    2.05e-09\n",
            "E_CITY_Reno                NV  1.383e-10   1.71e-09      0.081      0.936   -3.23e-09     3.5e-09\n",
            "E_CITY_Richmond (Intl)     VA  3.886e-12   2.01e-09      0.002      0.998   -3.95e-09    3.96e-09\n",
            "E_CITY_Rochester           NY          0          0        nan        nan           0           0\n",
            "E_CITY_Sacramento          CA -1.103e-10   2.05e-09     -0.054      0.957   -4.15e-09    3.93e-09\n",
            "E_CITY_Salt Lake City      UT -2.492e-10   1.04e-09     -0.241      0.810   -2.29e-09    1.79e-09\n",
            "E_CITY_San Antonio         TX -2.447e-10   1.25e-09     -0.196      0.845    -2.7e-09    2.21e-09\n",
            "E_CITY_San Diego           CA -1.376e-10      9e-10     -0.153      0.879   -1.91e-09    1.64e-09\n",
            "E_CITY_San Francisco       CA  5.583e-10   1.62e-09      0.344      0.731   -2.64e-09    3.75e-09\n",
            "E_CITY_San Jose            CA  3.781e-10   1.33e-09      0.284      0.777   -2.24e-09       3e-09\n",
            "E_CITY_Sarasota/Bradenton  FL  1.897e-10   2.86e-09      0.066      0.947   -5.44e-09    5.82e-09\n",
            "E_CITY_Seattle/Tacoma      WA  1.884e-10   1.05e-09      0.179      0.858   -1.89e-09    2.27e-09\n",
            "E_CITY_Spokane             WA          0          0        nan        nan           0           0\n",
            "E_CITY_St Louis            MO -4.879e-11   8.79e-10     -0.056      0.956   -1.78e-09    1.68e-09\n",
            "E_CITY_Syracuse            NY  -2.01e-10   1.68e-09     -0.120      0.905   -3.51e-09     3.1e-09\n",
            "E_CITY_Tallahassee         FL          0          0        nan        nan           0           0\n",
            "E_CITY_Tampa               FL -1.437e-10   1.34e-09     -0.107      0.915   -2.78e-09    2.49e-09\n",
            "E_CITY_Tucson              AZ          0          0        nan        nan           0           0\n",
            "E_CITY_Tulsa               OK          0          0        nan        nan           0           0\n",
            "E_CITY_Washington          DC    1.4e-10   7.27e-10      0.193      0.847   -1.29e-09    1.57e-09\n",
            "E_CITY_West Palm Beach     FL  5.019e-10   1.71e-09      0.293      0.769   -2.87e-09    3.87e-09\n",
            "VACATION_Yes                  -1.159e-12    1.4e-09     -0.001      0.999   -2.77e-09    2.76e-09\n",
            "SW_Yes                        -2.265e-13   6.29e-10     -0.000      1.000   -1.24e-09    1.24e-09\n",
            "SLOT_Free                     -1.706e-12   1.67e-09     -0.001      0.999   -3.29e-09    3.28e-09\n",
            "GATE_Free                     -5.189e-14   1.51e-09  -3.44e-05      1.000   -2.97e-09    2.97e-09\n",
            "==============================================================================\n",
            "Omnibus:                       17.310   Durbin-Watson:                   1.381\n",
            "Prob(Omnibus):                  0.000   Jarque-Bera (JB):                7.994\n",
            "Skew:                           0.093   Prob(JB):                       0.0184\n",
            "Kurtosis:                       2.316   Cond. No.                     3.06e+22\n",
            "==============================================================================\n",
            "\n",
            "Notes:\n",
            "[1] Standard Errors assume that the covariance matrix of the errors is correctly specified.\n",
            "[2] The smallest eigenvalue is 1.48e-29. This might indicate that there are\n",
            "strong multicollinearity problems or that the design matrix is singular.\n"
          ]
        }
      ]
    },
    {
      "cell_type": "markdown",
      "source": [
        "**모델 전체 성능**\n",
        "\n",
        "| 항목                                                    | 의미          | 해석                                |\n",
        "| ----------------------------------------------------- | ----------- | --------------------------------- |\n",
        "| `R-squared: 0.888`                                    | 결정계수        | 이 모델이 전체 운임(FARE)의 **88.8%를 설명**함 |\n",
        "| `Adj. R-squared: 0.846`                               | 조정된 결정계수    | 변수 수 고려 후에도 **84.6% 설명력 유지** (좋음) |\n",
        "| `F-statistic: 21.04`, `Prob (F-statistic): 1.66e-102` | 전체 모델 유의성   | 모델이 통계적으로 매우 유의함 (**p ≪ 0.05**)   |\n",
        "| `No. Observations: 446`, `Df Model: 122`              | 표본 수 및 변수 수 | 샘플: 446개, 독립변수: 122개              |\n"
      ],
      "metadata": {
        "id": "3ofnWwq-9Sa6"
      }
    },
    {
      "cell_type": "markdown",
      "source": [
        "**통계적으로 유의미한 변수 (p-value < 0.05)**\n",
        "\n",
        "| 변수                         | 계수 (coef)    | p-value   | 해석                                         |\n",
        "| -------------------------- | ------------ | --------- | ------------------------------------------ |\n",
        "| `DISTANCE`                 | **+0.0811**  | **0.000** | 거리 1마일 늘면 운임 평균 **8.1센트 증가**               |\n",
        "| `PAX`                      | **-0.0011**  | **0.000** | 승객 수가 1명 늘수록 운임은 평균 **0.11센트 감소** (규모의 경제) |\n",
        "| `SW_Yes`                   | **-24.4031** | **0.000** | SW 항공사가 있으면 평균 운임이 **약 24.40달러 낮아짐**       |\n",
        "| `VACATION_Yes`             | **-40.8220** | **0.003** | 휴가용 노선일수록 평균 운임이 **약 40.82달러 낮음**          |\n",
        "| `S_CITY_Dallas/Fort Worth` | +59.12       | 0.000     | 출발지가 DFW면 운임이 **상대적으로 높음**                 |\n",
        "| `E_CITY_Los Angeles`       | **-75.78**   | **0.000** | 도착지가 LAX면 운임이 **상대적으로 낮음**                 |\n",
        "\n",
        "=> \tSW가 운행하면 평균 운임 ↓ / 휴가 노선은 낮은 운임 / 승객 수 많으면 운임 낮아짐\n"
      ],
      "metadata": {
        "id": "ZZSWTf-d9Sa6"
      }
    },
    {
      "cell_type": "markdown",
      "source": [
        "**유의하지 않은 변수들 (p > 0.05)**\n",
        "\n",
        "S_CODE_DCA, S_CITY_Chicago, E_CITY_Boston, GATE_Free, 등 다수\n",
        "\n",
        "→ 이 변수들은 운임 예측에 기여하지 않음\n",
        "\n",
        "→ **단계적 회귀(stepwise)**를 통해 제거해야 함"
      ],
      "metadata": {
        "id": "vj6Ji2pJ9Sa6"
      }
    },
    {
      "cell_type": "markdown",
      "source": [
        "**조건수(Condition Number)**\n",
        "\n",
        ": 조건수는 선형 회귀 모델에서 독립 변수들 사이에 다중공선성이 있는지를 수치로 나타내는 지표\n",
        "\n",
        "| 조건수 값               | 해석                          |\n",
        "| ------------------- | --------------------------- |\n",
        "| **< 30**            | 안정적 (문제 없음) ✅               |\n",
        "| **30 \\~ 100**       | 다소 문제 있음 (주의) ⚠️            |\n",
        "| **> 100**           | **강한 다중공선성** (심각함) ❗        |\n",
        "| **≫ 1e+5 (10⁵ 이상)** | 설계행렬이 거의 특이함 (계산 불가능 수준) 🚨 |\n",
        "\n",
        "\n",
        "\n",
        "---\n",
        "\n",
        "**현재 모델의 조건수**\n",
        ": Cond. No. = 5.76e+18\n",
        "\n",
        "=> 매우 크고 비정상적인 값\n",
        "\n",
        "* 해결방안\n",
        "1. 중복, 불필요한 변수 제거\n",
        "2. Variance Inflation Factor (VIF) 확인 (변수별 다중공선성 확인)\n",
        "3. 희소한 가변수(거의 전부 0인 변수) 제거\n",
        "4. 정규화 회귀 사용 : Ridge, Lasso 회귀는 다중공선성에 더 강함\n"
      ],
      "metadata": {
        "id": "TpP62W9w9Sa6"
      }
    },
    {
      "cell_type": "markdown",
      "source": [
        "**2. VIF (분산 팽창 계수) 확인**"
      ],
      "metadata": {
        "id": "nHFkvm-w9Sa6"
      }
    },
    {
      "cell_type": "code",
      "source": [
        "from statsmodels.stats.outliers_influence import variance_inflation_factor\n",
        "import pandas as pd\n",
        "import statsmodels.api as sm\n",
        "\n",
        "# 1. X 데이터에 상수항 추가\n",
        "X_const = sm.add_constant(X_train).astype(float)  # ← 여기에 X_train은 학습용 독립변수 DataFrame\n",
        "\n",
        "# 2. VIF 계산\n",
        "vif_data = pd.DataFrame()\n",
        "vif_data[\"변수명\"] = X_const.columns\n",
        "vif_data[\"VIF\"] = [variance_inflation_factor(X_const.values, i) for i in range(X_const.shape[1])]\n",
        "\n",
        "# 3. 결과 출력\n",
        "pd.set_option('display.max_rows', None)  # 생략 없이 전체 출력\n",
        "print(vif_data)\n",
        "\n"
      ],
      "metadata": {
        "colab": {
          "base_uri": "https://localhost:8080/"
        },
        "outputId": "621d2055-589d-44e4-b747-4c051d25c0a5",
        "collapsed": true,
        "id": "lx_21clD9Sa6"
      },
      "execution_count": 28,
      "outputs": [
        {
          "output_type": "stream",
          "name": "stderr",
          "text": [
            "/usr/local/lib/python3.11/dist-packages/statsmodels/regression/linear_model.py:1782: RuntimeWarning: divide by zero encountered in scalar divide\n",
            "  return 1 - self.ssr/self.centered_tss\n",
            "/usr/local/lib/python3.11/dist-packages/statsmodels/stats/outliers_influence.py:197: RuntimeWarning: divide by zero encountered in scalar divide\n",
            "  vif = 1. / (1. - r_squared_i)\n",
            "/usr/local/lib/python3.11/dist-packages/statsmodels/regression/linear_model.py:1782: RuntimeWarning: invalid value encountered in scalar divide\n",
            "  return 1 - self.ssr/self.centered_tss\n"
          ]
        },
        {
          "output_type": "stream",
          "name": "stdout",
          "text": [
            "                               변수명           VIF\n",
            "0                            const  0.000000e+00\n",
            "1                           COUPON  6.563101e+00\n",
            "2                              NEW  1.478063e+00\n",
            "3                               HI  3.186604e+00\n",
            "4                         S_INCOME           inf\n",
            "5                         E_INCOME           inf\n",
            "6                            S_POP           inf\n",
            "7                            E_POP           inf\n",
            "8                         DISTANCE  1.130791e+01\n",
            "9                              PAX  4.353946e+00\n",
            "10                            FARE  9.214825e+00\n",
            "11                      S_CODE_DCA           inf\n",
            "12                      S_CODE_EWR           inf\n",
            "13                      S_CODE_IAD           inf\n",
            "14                      S_CODE_JFK           inf\n",
            "15                      S_CODE_LGA           inf\n",
            "16                      S_CODE_MDW           inf\n",
            "17                      S_CODE_ORD           inf\n",
            "18   S_CITY_Anchorage           AK           inf\n",
            "19   S_CITY_Atlanta             GA           inf\n",
            "20   S_CITY_Austin              TX  3.002400e+15\n",
            "21   S_CITY_Baltimore/Wash Intl MD           inf\n",
            "22   S_CITY_Boise               ID  1.286743e+15\n",
            "23   S_CITY_Boston              MA           inf\n",
            "24   S_CITY_Burbank             CA           inf\n",
            "25   S_CITY_Chicago             IL           inf\n",
            "26   S_CITY_Cincinnati          OH  1.801440e+15\n",
            "27   S_CITY_Cleveland           OH  4.503600e+15\n",
            "28   S_CITY_Columbus            OH  4.503600e+15\n",
            "29   S_CITY_Corpus Christi      TX  9.007199e+15\n",
            "30   S_CITY_Dallas/Fort Worth   TX           inf\n",
            "31   S_CITY_Denver              CO           inf\n",
            "32   S_CITY_Detroit             MI           inf\n",
            "33   S_CITY_El Paso             TX           NaN\n",
            "34   S_CITY_Fort Lauderdale     FL  9.007199e+15\n",
            "35   S_CITY_Fort Meyers         FL  4.503600e+15\n",
            "36   S_CITY_Greenville/Sprtnbg  SC           NaN\n",
            "37   S_CITY_Hartford            CT  9.007199e+15\n",
            "38   S_CITY_Honolulu (Intl)     HI  9.007199e+15\n",
            "39   S_CITY_Houston             TX           inf\n",
            "40   S_CITY_Jacksonville        FL  2.251800e+15\n",
            "41   S_CITY_Kansas City         MO           inf\n",
            "42   S_CITY_Las Vegas           NV  9.007199e+15\n",
            "43   S_CITY_Los Angeles         CA           inf\n",
            "44   S_CITY_Memphis             TN  2.434378e+14\n",
            "45   S_CITY_Miami               FL           inf\n",
            "46   S_CITY_Minneapolis/St Paul MN  9.007199e+15\n",
            "47   S_CITY_Nashville           TN  8.188363e+14\n",
            "48   S_CITY_New Orleans         LA  2.905548e+14\n",
            "49   S_CITY_New York/Newark     NY           inf\n",
            "50   S_CITY_Norfolk/Va B/Pt/Ch  VA           inf\n",
            "51   S_CITY_Oakland             CA           inf\n",
            "52   S_CITY_Omaha               NE           inf\n",
            "53   S_CITY_Orlando             FL  1.801440e+15\n",
            "54   S_CITY_Philadelphia/Camden PA           inf\n",
            "55   S_CITY_Phoenix             AZ  9.007199e+15\n",
            "56   S_CITY_Pittsburgh          PA  1.125900e+15\n",
            "57   S_CITY_Portland            OR           inf\n",
            "58   S_CITY_Sacramento          CA  6.928615e+14\n",
            "59   S_CITY_Salt Lake City      UT  4.094181e+14\n",
            "60   S_CITY_San Diego           CA           inf\n",
            "61   S_CITY_San Francisco       CA           inf\n",
            "62   S_CITY_San Jose            CA           NaN\n",
            "63   S_CITY_Seattle/Tacoma      WA           inf\n",
            "64   S_CITY_Spokane             WA           NaN\n",
            "65   S_CITY_St Louis            MO  3.002400e+15\n",
            "66   S_CITY_Tampa               FL  1.023545e+14\n",
            "67   S_CITY_Washington          DC           inf\n",
            "68                      E_CODE_DCA           inf\n",
            "69                      E_CODE_EWR           inf\n",
            "70                      E_CODE_IAD           inf\n",
            "71                      E_CODE_JFK           inf\n",
            "72                      E_CODE_LGA           inf\n",
            "73                      E_CODE_MDW           inf\n",
            "74                      E_CODE_ORD           inf\n",
            "75   E_CITY_Baltimore/Wash Intl MD           inf\n",
            "76   E_CITY_Birmingham          AL  9.007199e+15\n",
            "77   E_CITY_Boise               ID           inf\n",
            "78   E_CITY_Boston              MA           inf\n",
            "79   E_CITY_Buffalo             NY           NaN\n",
            "80   E_CITY_Charleston          SC           inf\n",
            "81   E_CITY_Charlotte           NC           inf\n",
            "82   E_CITY_Chicago             IL           inf\n",
            "83   E_CITY_Cincinnati          OH           inf\n",
            "84   E_CITY_Cleveland           OH  9.007199e+15\n",
            "85   E_CITY_Colorado Springs    CO           inf\n",
            "86   E_CITY_Columbus            OH  9.007199e+15\n",
            "87   E_CITY_Dallas/Fort Worth   TX           inf\n",
            "88   E_CITY_Denver              CO           NaN\n",
            "89   E_CITY_Detroit             MI           inf\n",
            "90   E_CITY_El Paso             TX           NaN\n",
            "91   E_CITY_Fort Lauderdale     FL           inf\n",
            "92   E_CITY_Fort Meyers         FL           inf\n",
            "93   E_CITY_Greensboro/High Pt  NC  9.007199e+15\n",
            "94   E_CITY_Hartford            CT  9.007199e+15\n",
            "95   E_CITY_Honolulu (Intl)     HI           inf\n",
            "96   E_CITY_Houston             TX  9.007199e+15\n",
            "97   E_CITY_Indianapolis        IN           inf\n",
            "98   E_CITY_Jacksonville        FL           inf\n",
            "99   E_CITY_Kansas City         MO           inf\n",
            "100  E_CITY_Las Vegas           NV           inf\n",
            "101  E_CITY_Little Rock         AR           inf\n",
            "102  E_CITY_Los Angeles         CA           inf\n",
            "103  E_CITY_Louisville          KY  3.002400e+15\n",
            "104  E_CITY_Lubbock             TX           NaN\n",
            "105  E_CITY_Memphis             TN           NaN\n",
            "106  E_CITY_Miami               FL  9.007199e+15\n",
            "107  E_CITY_Milwaukee           WI  9.007199e+15\n",
            "108  E_CITY_Minneapolis/St Paul MN           inf\n",
            "109  E_CITY_Nashville           TN  9.007199e+15\n",
            "110  E_CITY_New Orleans         LA  9.007199e+15\n",
            "111  E_CITY_New York/Newark     NY           inf\n",
            "112  E_CITY_Oakland             CA           inf\n",
            "113  E_CITY_Oklahoma City       OK  9.007199e+15\n",
            "114  E_CITY_Omaha               NE           inf\n",
            "115  E_CITY_Orlando             FL  9.007199e+15\n",
            "116  E_CITY_Philadelphia/Camden PA           inf\n",
            "117  E_CITY_Phoenix             AZ           inf\n",
            "118  E_CITY_Pittsburgh          PA           inf\n",
            "119  E_CITY_Portland            OR           inf\n",
            "120  E_CITY_Providence          RI           inf\n",
            "121  E_CITY_Raleigh/Durham      NC           inf\n",
            "122  E_CITY_Reno                NV           inf\n",
            "123  E_CITY_Richmond (Intl)     VA           inf\n",
            "124  E_CITY_Rochester           NY           NaN\n",
            "125  E_CITY_Sacramento          CA  4.503600e+15\n",
            "126  E_CITY_Salt Lake City      UT           inf\n",
            "127  E_CITY_San Antonio         TX  9.007199e+15\n",
            "128  E_CITY_San Diego           CA           inf\n",
            "129  E_CITY_San Francisco       CA           inf\n",
            "130  E_CITY_San Jose            CA           inf\n",
            "131  E_CITY_Sarasota/Bradenton  FL  9.007199e+15\n",
            "132  E_CITY_Seattle/Tacoma      WA           inf\n",
            "133  E_CITY_Spokane             WA           NaN\n",
            "134  E_CITY_St Louis            MO           inf\n",
            "135  E_CITY_Syracuse            NY  9.007199e+15\n",
            "136  E_CITY_Tallahassee         FL           NaN\n",
            "137  E_CITY_Tampa               FL           inf\n",
            "138  E_CITY_Tucson              AZ           NaN\n",
            "139  E_CITY_Tulsa               OK           NaN\n",
            "140  E_CITY_Washington          DC           inf\n",
            "141  E_CITY_West Palm Beach     FL           inf\n",
            "142                   VACATION_Yes  1.995993e+01\n",
            "143                         SW_Yes  4.445716e+00\n",
            "144                      SLOT_Free  2.896620e+01\n",
            "145                      GATE_Free  1.904724e+01\n"
          ]
        }
      ]
    },
    {
      "cell_type": "markdown",
      "source": [
        "| VIF 값       | 의미           | 해석            |\n",
        "| ----------- | ------------ | ------------- |\n",
        "| 1.0 \\~ 5.0  | 보통 수준        | 문제 없음 ✅       |\n",
        "| 5.0 \\~ 10.0 | 다중공선성 가능성 있음 | 주의 ⚠️         |\n",
        "| 10 이상       | 강한 다중공선성 존재  | 제거 또는 결합 필요 ❗ |\n"
      ],
      "metadata": {
        "id": "k6_RVoK69Sa7"
      }
    },
    {
      "cell_type": "markdown",
      "source": [
        "**분석 결과**\n",
        " 1. VIF = inf (무한대) or NaN인 변수 다수\n",
        "\n",
        ": S_INCOME, E_POP, S_CODE_DCA, E_CODE_JFK, S_CITY_Chicago, E_CITY_Boston 등\n",
        "\n",
        "| 원인                               | 설명                                                          |\n",
        "| -------------------------------- | ----------------------------------------------------------- |\n",
        "| ✅ **너무 많은 가변수(dummy variables)** | `S_CITY_`, `E_CITY_`, `S_CODE_`, `E_CODE_` 등 수십 개가 들어가 있음   |\n",
        "| ⚠️ **가변수끼리 서로 완전히 중복**           | 예: `S_CODE_JFK`와 `S_CITY_New York/Newark NY`는 거의 항상 함께 True |\n",
        "| ⚠️ **샘플 수 대비 변수 수가 너무 많음**       | 샘플은 446개인데, 변수는 140개 이상 → 수학적으로 해가 불안정                      |\n",
        "| ⚠️ **일부 가변수가 특정 행에서만 1이고 나머지 0** | 희소한 dummy 변수 → OLS 계산에서 문제가 생김                              |\n",
        "\n",
        "**해결 방안**\n",
        "\n",
        "=> 단계적 회귀 (Stepwise Selection)\t자동으로 중요 변수만 남기고 나머지 제거 (p < 0.05 기준)"
      ],
      "metadata": {
        "id": "lBFuscaK9Sa7"
      }
    },
    {
      "cell_type": "markdown",
      "source": [
        "\n",
        "\n",
        "---\n",
        "\n"
      ],
      "metadata": {
        "id": "XewL0xBbCB4L"
      }
    },
    {
      "cell_type": "markdown",
      "source": [
        "**ii. 예측 변수의 수를 줄이기 위해서 단계적 회귀 분석을 사용하시오. 처음 4개의 예측 변수(S_CODE, S_CITY, E_CODE, E_CITY)는 제외해도 무방하다. 선택된 모델을 제시하시오.**\n",
        "\n",
        "**단계적 회귀분석(stepwise regression)**\n",
        "\n",
        " : 많은 잠재 예측 변수 중에서 통계적으로 의미 있는 변수만 골라 모델을 구성하는 자동화된 변수선택 기법\n",
        "\n",
        "- 전진 선택법 (Forward Selection)\n",
        "- 후진 제거법 (Backward Elimination)\n",
        "- 단계적 선택법 (Stepwise Selection)  : 전진 선택 + 후진 제거를 번갈아가며 수행"
      ],
      "metadata": {
        "id": "TvxpteM6hcv_"
      }
    },
    {
      "cell_type": "code",
      "source": [
        "import pandas as pd\n",
        "import statsmodels.api as sm\n",
        "from sklearn.model_selection import train_test_split"
      ],
      "metadata": {
        "id": "ymUcBjG5_GQD"
      },
      "execution_count": 29,
      "outputs": []
    },
    {
      "cell_type": "code",
      "source": [
        "# 불필요한 변수 제거\n",
        "# df_encoded를 사용하지 않는 이유 - \"S_CODE\", \"S_CITY\", \"E_CODE\", \"E_CITY\"의 더미변수 또한 모두 제거 해야함.\n",
        "df = pd.read_csv(\"Airfares.csv\")\n",
        "df = df.drop(columns=[\"S_CODE\", \"S_CITY\", \"E_CODE\", \"E_CITY\"])\n"
      ],
      "metadata": {
        "id": "p-mPBrEDAsjL"
      },
      "execution_count": 30,
      "outputs": []
    },
    {
      "cell_type": "code",
      "source": [
        "# 범주형 변수 -> 가변수 처리\n",
        "categorical_vars = [\"VACATION\", \"SW\", \"SLOT\", \"GATE\"]\n",
        "df = pd.get_dummies(df, columns=categorical_vars, drop_first=True)"
      ],
      "metadata": {
        "id": "P_H9ydA9GiKN"
      },
      "execution_count": 31,
      "outputs": []
    },
    {
      "cell_type": "code",
      "source": [
        "# 모든 bool 컬럼을 1/0 int로 변환\n",
        "bool_cols = df.select_dtypes(include=['bool']).columns\n",
        "df[bool_cols] = df[bool_cols].astype(int)"
      ],
      "metadata": {
        "id": "ifUkg9SNL75E"
      },
      "execution_count": 32,
      "outputs": []
    },
    {
      "cell_type": "code",
      "source": [
        "# 독립변수(X)·종속변수(y) 분리  (예측에 사용할 모든 입력 변수인 독립변수에서 FARE 제외)\n",
        "X = df.drop(columns=\"FARE\")\n",
        "y = df[\"FARE\"]"
      ],
      "metadata": {
        "id": "b2ZqnOZSBMxi"
      },
      "execution_count": 33,
      "outputs": []
    },
    {
      "cell_type": "code",
      "source": [
        "# 학습/검증/테스트데이터 (6:2:2) 분할\n",
        "\n",
        "# 1단계 : 전체 데이터셋을 6:4로 분할\n",
        "X_train, X_temp, y_train, y_temp = train_test_split(df_encoded, y, test_size=0.4, random_state=42)\n",
        "\n",
        "# 2단계: temp(40%) → validation(20%) + test(20%)\n",
        "X_valid, X_test, y_valid, y_test = train_test_split(X_temp, y_temp, test_size=0.5, random_state=42)\n"
      ],
      "metadata": {
        "id": "tx-2iej2Grzy"
      },
      "execution_count": 34,
      "outputs": []
    },
    {
      "cell_type": "markdown",
      "source": [
        "**1. 전진 선택법**\n",
        "- 빈 모델(절편만 포함)에서 시작\n",
        "- 남아 있는 후보 변수 중에서 가장 유의미한 변수(예: p-value가 가장 작거나, AIC가 가장 감소)를 하나씩 추가\n",
        "- 더 이상 추가할 변수가 없을 때(모두 p-value > 기준이거나 AIC 감소가 미미할 때) 종료\n",
        "\n",
        "- 장점: 단순하고 빠름\n",
        "- 단점: 이미 들어간 변수가 최종 조합에 방해가 될 수 있음(국소 최적화)"
      ],
      "metadata": {
        "id": "4YZzqQ3yJDTK"
      }
    },
    {
      "cell_type": "markdown",
      "source": [
        "**2. 후진 제거법**\n",
        "- 모든 후보 변수를 포함한 모델에서 시작\n",
        "- 포함된 변수 중에서 가장 유의하지 않은 변수(p-value가 가장 크거나, AIC가 가장 증가)를 하나씩 제거\n",
        "- 더 이상 제거할 변수가 없을 때(모두 p-value < 기준이거나, 제거 시 AIC 악화) 종료\n",
        "\n",
        "- 장점: 최종 모델에는 항상 “유의미한” 변수만 남음\n",
        "- 단점: 초기 모델에 너무 많은 변수가 있으면 계산량이 많아짐"
      ],
      "metadata": {
        "id": "Wm2w5kbNKTuk"
      }
    },
    {
      "cell_type": "code",
      "source": [
        "'''X : pandas.DataFrame, 모든 후보 독립변수들\n",
        "   y : pandas.Series, 종속변수\n",
        "  initial_list : 이미 포함할 변수 리스트 (여기선 빈 리스트로 시작)\n",
        "  threshold_in : forward step에 변수를 추가할 p-value 기준\n",
        "  threshold_out: backward step에 변수를 제거할 p-value 기준'''\n",
        "\n",
        "def stepwise_selection(X, y, initial_list=[], threshold_in=0.01, threshold_out=0.05):\n",
        "    included = list(initial_list) # 지금 모델에 포함된 변수들의 리스트 (절편만 있는 모델로 시작)\n",
        "    while True:\n",
        "        changed = False  # changed: 한 사이클(전진+후진)에서 \"추가 or 제거\"가 발생했는지 표시하는 플래그\n",
        "\n",
        "        # (1) 전진 선택법 forward: 후보 변수 중 p-value < threshold_in 이면 추가\n",
        "        excluded = list(set(X.columns) - set(included))   # 아직 모델에 포함되지 않은 변수들\n",
        "        new_pval = pd.Series(index=excluded, dtype=float)  #  전진 단계에서 각 후보 변수를 한 번씩 추가했을 때의 p-value 저장용 Series.\n",
        "        for col in excluded:   # 후보 변수 하나(col)를 포함시켜 보고 /\n",
        "            model = sm.OLS(y, sm.add_constant(X[included + [col]].astype(float))).fit()  # sm.add_constant() : 절편항(constant) 추가\n",
        "            new_pval[col] = model.pvalues[col]  # 새로 학습한 모델의 p-value 중, 이 변수(col)의 p-value 저장\n",
        "        best_pval = new_pval.min()   # 후보들 중 가장 작은 p-value\n",
        "        if best_pval < threshold_in:   # 기준(threshold_in=0.01)보다 작으면\n",
        "            included.append(new_pval.idxmin())  # p-value가 최소인 변수명을 꺼내고 / included 리스트에 추가\n",
        "            changed = True\n",
        "    # 이로써 \"유의미하게 추가할 변수\"가 있는지 검사하고, 있으면 포함시킨다.\n",
        "\n",
        "\n",
        "        # (2) 후진 선택법 backward: 포함된 변수 중 p-value > threshold_out 이면 제거\n",
        "        model = sm.OLS(y, sm.add_constant(X[included].astype(float))).fit()  # 지금까지 포함된 변수들만으로 모델을 다시 학습\n",
        "        pvals = model.pvalues.iloc[1:]      # 맨 앞 const 항(절편) 제외[0]하고 변수들에 대한 모든 p-value\n",
        "        worst_pval = pvals.max()        # 포함된 변수들 중, p-value가 가장 큰 값\n",
        "        if worst_pval > threshold_out:       # 기준(threshold_out=0.05)보다 크면\n",
        "            included.remove(pvals.idxmax())    # p-value가 최대인 변수명을 꺼내고 / included 리스트에서 제거\n",
        "            changed = True\n",
        "   # 이로써 \"유의하지 않은 변수\"를 걸러낸다\n",
        "\n",
        "        if not changed:    # 전진에서도 추가가 없고, 후진에서도 제거가 없었다면, 종\n",
        "            break\n",
        "    return included        # 최종적으로 남은 '통계적으로 유의미'한 변수 목록 리턴\n"
      ],
      "metadata": {
        "id": "e2uHFq11Kdud"
      },
      "execution_count": 35,
      "outputs": []
    },
    {
      "cell_type": "markdown",
      "source": [
        "**p-value 0.01 이하의 변수만 추가했는데, 후진에서 pv 0.05 이상의 변수가 어떻게 삭제되는가?**\n",
        "\n",
        "절편만 있던 모델과 (변수 추가되기 전)\n",
        "\n",
        "절편 + 𝑋𝑘 모델 (전진선택으로 인해 변수 추가된 후)은 아예 다른 회귀식이기에 모델의 잔차 구조가 달라짐.\n",
        "\n",
        "=> 그 변화로 인해:\n",
        "\n",
        "절편만 모델에서 𝑋𝑘를 추가했을 때는 p-value가 아주 낮았더라도,\n",
        "\n",
        "그 모델을 다시 그대로 재평가할 때 (바로 후진 단계 진입 시)\n",
        "→ p-value가 0.05를 넘어설 수 있음."
      ],
      "metadata": {
        "id": "7uwugP80XjN3"
      }
    },
    {
      "cell_type": "code",
      "source": [
        "stepwise_selection(X, y)"
      ],
      "metadata": {
        "colab": {
          "base_uri": "https://localhost:8080/"
        },
        "id": "TAAyymI4UaZV",
        "outputId": "aad5c292-ab9b-4a66-8856-7efad08f9c82"
      },
      "execution_count": 36,
      "outputs": [
        {
          "output_type": "execute_result",
          "data": {
            "text/plain": [
              "['DISTANCE',\n",
              " 'SW_Yes',\n",
              " 'VACATION_Yes',\n",
              " 'HI',\n",
              " 'SLOT_Free',\n",
              " 'GATE_Free',\n",
              " 'E_POP',\n",
              " 'PAX',\n",
              " 'S_POP',\n",
              " 'E_INCOME']"
            ]
          },
          "metadata": {},
          "execution_count": 36
        }
      ]
    },
    {
      "cell_type": "markdown",
      "source": [
        "**단계적 회귀분석 결과**\n",
        "통계적으로 유의미한 10개 핵심 변수\n",
        "\n",
        "- 'DISTANCE'\n",
        "- SW_Yes',\n",
        "- VACATION_Yes'\n",
        "- 'HI'\n",
        "- 'SLOT_Free'\n",
        "- 'GATE_Free'\n",
        "- 'E_POP'\n",
        "- 'PAX'\n",
        "- 'S_POP'\n",
        "- 'E_INCOME'\n",
        "\n"
      ],
      "metadata": {
        "id": "MzpO5mbyVp-I"
      }
    },
    {
      "cell_type": "markdown",
      "source": [
        "**표준화 계수(standardized coefficients)**\n",
        "\n",
        "변수마다 단위가 다르면 영향력 비교가 어렵기 때문에, 모든 변수와 타깃을 표준화(평균0, 표준편차1)로 맞춘 후 회귀계수를 구하면 각 변수의 상대적 중요도를 직접 비교.\n",
        "\n",
        "=> 표준화 계수의 절댓값이 클수록 “상대적으로 중요한 변수”로 해석\n",
        "\n",
        "\n",
        "\n",
        "\n",
        "\n",
        "\n",
        "\n",
        "**주의**\n",
        "\n",
        "회귀계수로 비교하지 않은 이유 :\n",
        "회귀계수는 단순히 절댓값이 클수록 “예측에 미치는 영향이 크다”고 판단.\n",
        "단위(스케일)가 달라서 해석에 주의가 필요하기에 표준화 계수를 통해 비교함."
      ],
      "metadata": {
        "id": "slU7Oi4-9UYB"
      }
    },
    {
      "cell_type": "code",
      "source": [
        "from sklearn.preprocessing import StandardScaler\n",
        "import statsmodels.api as sm\n",
        "import pandas as pd\n",
        "\n",
        "# 1. 단계적 회귀로 뽑은 10개 변수 리스트 (selected_vars)\n",
        "selected_vars = [\n",
        "    'DISTANCE',\n",
        "    'SW_Yes',\n",
        "    'VACATION_Yes',\n",
        "    'HI',\n",
        "    'SLOT_Free',\n",
        "    'GATE_Free',\n",
        "    'E_POP',\n",
        "    'PAX',\n",
        "    'S_POP',\n",
        "    'E_INCOME'\n",
        "]\n",
        "\n",
        "# 2. X, y 표준화\n",
        "scaler_X = StandardScaler()\n",
        "scaler_y = StandardScaler()\n",
        "\n",
        "X_train_sel = X_train[selected_vars]                # 선택 변수만 추출\n",
        "X_train_std = scaler_X.fit_transform(X_train_sel)   # 표준화\n",
        "y_train_std = scaler_y.fit_transform(y_train.values.reshape(-1,1)).flatten()\n",
        "\n",
        "# 3. 절편 추가\n",
        "X_train_std_const = sm.add_constant(X_train_std)\n",
        "\n",
        "# 4. 회귀 분석\n",
        "model_std = sm.OLS(y_train_std, X_train_std_const).fit()\n",
        "\n",
        "# 5. 표준화 계수 정리\n",
        "std_coef_df = pd.DataFrame({\n",
        "    'std_coef': model_std.params[1:]  # [1:]로 절편(const) 제외\n",
        "}, index=selected_vars).sort_values(by='std_coef', key=abs, ascending=False)\n",
        "\n",
        "print(std_coef_df)\n",
        "\n"
      ],
      "metadata": {
        "colab": {
          "base_uri": "https://localhost:8080/"
        },
        "id": "N6hz6kFz8za8",
        "outputId": "68116e24-f2a9-4747-ec9a-a5564b229193"
      },
      "execution_count": 37,
      "outputs": [
        {
          "output_type": "stream",
          "name": "stdout",
          "text": [
            "              std_coef\n",
            "DISTANCE      0.643430\n",
            "SW_Yes       -0.248196\n",
            "VACATION_Yes -0.221063\n",
            "HI            0.188266\n",
            "PAX          -0.166627\n",
            "S_POP         0.161616\n",
            "E_POP         0.136656\n",
            "GATE_Free    -0.128650\n",
            "SLOT_Free    -0.124403\n",
            "E_INCOME      0.092717\n"
          ]
        }
      ]
    },
    {
      "cell_type": "markdown",
      "source": [
        "**분석 결과**\n",
        "\n",
        "| 변수            |  표준화 계수 |          영향          |\n",
        "| ------------- | :-----: | :------------------: |\n",
        "| DISTANCE      |  0.6527 | **가장 영향력 큼 (양의 영향)** |\n",
        "| SW\\_Yes       | -0.2503 |       강한 음의 영향       |\n",
        "| VACATION\\_Yes | -0.2318 |       강한 음의 영향       |\n",
        "| HI            |  0.2056 |      중간 정도 양의 영향     |\n",
        "| S\\_POP        |  0.1686 |      중간 정도 양의 영향     |\n",
        "| PAX           | -0.1550 |      중간 정도 음의 영향     |\n",
        "| E\\_POP        |  0.1424 |       약간 양의 영향       |\n",
        "| GATE\\_Free    | -0.1246 |       약간 음의 영향       |\n",
        "| SLOT\\_Free    | -0.1160 |       약간 음의 영향       |\n",
        "| E\\_INCOME     |  0.0734 |     영향 작음 (양의 영향)    |\n",
        "\n"
      ],
      "metadata": {
        "id": "xGBQAxwJ-KOI"
      }
    },
    {
      "cell_type": "markdown",
      "source": [
        "**단계적 회귀분석 모델 설명력 확인 - 수정된 결정계수(Adjusted R²)**"
      ],
      "metadata": {
        "id": "E3nT0b1SFaR4"
      }
    },
    {
      "cell_type": "code",
      "source": [
        "import statsmodels.api as sm\n",
        "\n",
        "# 1. stepwise_selection() 결과로 선택된 변수\n",
        "selected_vars = ['DISTANCE', 'SW_Yes', 'VACATION_Yes', 'HI', 'SLOT_Free', 'GATE_Free', 'E_POP', 'PAX', 'S_POP', 'E_INCOME']\n",
        "\n",
        "# 2. 데이터 준비 (train 기준)\n",
        "X_train_sel = X_train[selected_vars]\n",
        "X_train_sel_const = sm.add_constant(X_train_sel)  # 절편 추가\n",
        "\n",
        "# 3. 회귀 모델 적합\n",
        "model_stepwise = sm.OLS(y_train, X_train_sel_const).fit()\n",
        "\n",
        "# 4. 설명력(결정계수 등) 확인\n",
        "print(\"R²: \", model_stepwise.rsquared)\n",
        "print(\"Adjusted R²: \", model_stepwise.rsquared_adj)\n",
        "print(model_stepwise.summary())\n"
      ],
      "metadata": {
        "colab": {
          "base_uri": "https://localhost:8080/"
        },
        "id": "X5wY9sXgFg4g",
        "outputId": "81c4e33c-e99c-4e9e-8f2c-ff918c7eacc1"
      },
      "execution_count": 38,
      "outputs": [
        {
          "output_type": "stream",
          "name": "stdout",
          "text": [
            "R²:  0.7789362514198697\n",
            "Adjusted R²:  0.7729776598139362\n",
            "                            OLS Regression Results                            \n",
            "==============================================================================\n",
            "Dep. Variable:                   FARE   R-squared:                       0.779\n",
            "Model:                            OLS   Adj. R-squared:                  0.773\n",
            "Method:                 Least Squares   F-statistic:                     130.7\n",
            "Date:                Tue, 03 Jun 2025   Prob (F-statistic):          4.93e-115\n",
            "Time:                        17:12:00   Log-Likelihood:                -1908.8\n",
            "No. Observations:                 382   AIC:                             3840.\n",
            "Df Residuals:                     371   BIC:                             3883.\n",
            "Df Model:                          10                                         \n",
            "Covariance Type:            nonrobust                                         \n",
            "================================================================================\n",
            "                   coef    std err          t      P>|t|      [0.025      0.975]\n",
            "--------------------------------------------------------------------------------\n",
            "const           49.9501     17.617      2.835      0.005      15.309      84.592\n",
            "DISTANCE         0.0741      0.003     22.621      0.000       0.068       0.081\n",
            "SW_Yes         -41.1968      4.754     -8.665      0.000     -50.546     -31.848\n",
            "VACATION_Yes   -38.6706      4.854     -7.967      0.000     -48.216     -29.126\n",
            "HI               0.0081      0.001      6.492      0.000       0.006       0.011\n",
            "SLOT_Free      -21.4779      5.005     -4.292      0.000     -31.319     -11.637\n",
            "GATE_Free      -24.7852      5.417     -4.576      0.000     -35.436     -14.134\n",
            "E_POP          3.83e-06   9.57e-07      4.004      0.000    1.95e-06    5.71e-06\n",
            "PAX             -0.0010      0.000     -5.413      0.000      -0.001      -0.001\n",
            "S_POP         4.082e-06   8.54e-07      4.782      0.000     2.4e-06    5.76e-06\n",
            "E_INCOME         0.0015      0.000      3.141      0.002       0.001       0.003\n",
            "==============================================================================\n",
            "Omnibus:                        2.675   Durbin-Watson:                   1.814\n",
            "Prob(Omnibus):                  0.262   Jarque-Bera (JB):                2.435\n",
            "Skew:                           0.185   Prob(JB):                        0.296\n",
            "Kurtosis:                       3.128   Cond. No.                     5.81e+07\n",
            "==============================================================================\n",
            "\n",
            "Notes:\n",
            "[1] Standard Errors assume that the covariance matrix of the errors is correctly specified.\n",
            "[2] The condition number is large, 5.81e+07. This might indicate that there are\n",
            "strong multicollinearity or other numerical problems.\n"
          ]
        }
      ]
    },
    {
      "cell_type": "markdown",
      "source": [
        "**단계적 회귀 분석 모델 설명력 결과**\n",
        "\n",
        "변수 10개가 포함된 단계적 회귀 분석 모델의 설명력\n",
        "\n",
        "**R²:  0.778**\n",
        "- 모델이 데이터를 얼마나 잘 설명하는가?”\n",
        "- 쓸데없는 변수 추가해도 R²는 무조건 커짐.\n",
        "\n",
        "**Adjusted R²: 0.773**\n",
        "- 변수의 개수(모델 복잡도)를 감안해서, “실질적으로 설명하는 비율”\n",
        "- 변수 개수가 늘어날수록 벌점(Penalty)이 생김\n",
        "- 진짜로 유의미한 변수만 추가했을 때만 올라감\n",
        "\n",
        "\n",
        "=> 과적합(overfitting) 방지에 더 신뢰할 수 있음!"
      ],
      "metadata": {
        "id": "ajTXmcQgMlQr"
      }
    },
    {
      "cell_type": "markdown",
      "source": [
        " iii. 단계적 회귀 분석 대신 전역 탐색을 사용해 (ii)를 반복하시오. 이를 통해 얻은 최적 모델의 예측 변수들과 (ii)에서 얻은 최적 모델의 예측 변수들을 비교하시오.\n"
      ],
      "metadata": {
        "id": "wbZVmRPlh0ad"
      }
    },
    {
      "cell_type": "markdown",
      "source": [
        "**전역탐색**\n",
        ": 모든 변수 조합을 하나도 빠짐없이 전부 비교\n",
        "- 각 조합으로 회귀모델을 만들고, 그 모델의 성능(설명력, 조정 R², AIC/BIC 등)을 측정\n",
        "- 가장 좋은 성능을 보이는 조합을 “최적 모델”로 선택\n",
        "- 변수 수가 적으면 매우 정확함"
      ],
      "metadata": {
        "id": "8x323FZy5Ya1"
      }
    },
    {
      "cell_type": "code",
      "source": [
        "import itertools\n",
        "import statsmodels.api as sm\n",
        "import numpy as np\n",
        "\n",
        "# 후보 변수 리스트 (불필요한 변수는 위에서 미리 제거)\n",
        "candidates = list(X_train.columns)  # 총 13개 독립 변수\n",
        "\n",
        "best_adj_r2 = -np.inf  # 지금까지 찾은 최고 성능(조정된 결정계수)를 저장할 변수 / -np.inf“가장 작은 값”이라는 뜻(최댓값 찾을 때 초기값으로 자주 씀).\n",
        "best_subset = None     # 최고 성능 모델의 변수 조합을 저장할 변수\n",
        "best_model = None      # 최고 성능 모델 객체 자체를 저장할 변수\n",
        "\n",
        "# 변수 개수별 부분집합 생성(실전에서는 1~10개 정도까지만 권장)\n",
        "for k in range(1, len(candidates)+1):\n",
        "    for combo in itertools.combinations(candidates, k):    # 주어진 리스트에서 k개를 뽑는 모든 조합을 자동으로 만듦.\n",
        "        X_sub = sm.add_constant(X_train[list(combo)].astype(float))   # combo : 현재 변수 조합에 해당하는 열만 뽑은 DataFrame / 절편 추가\n",
        "        model = sm.OLS(y_train, X_sub).fit()   # OLS(최소제곱회귀)로 현재 변수 조합을 사용해서 회귀모델 학습\n",
        "        if model.rsquared_adj > best_adj_r2:   # 방금 학습한 모델의 조정된 결정계수(Adjusted R²) 가\n",
        "            best_adj_r2 = model.rsquared_adj   # 지금까지 중에 최고면, 값을 “최고 기록”으로 업데이트.\n",
        "            best_subset = combo\n",
        "            best_model = model\n",
        "\n",
        "print(\"▶ Best Subset Variables:\", best_subset)\n",
        "print(\"▶ Best Adjusted R²:\", best_adj_r2)\n"
      ],
      "metadata": {
        "colab": {
          "base_uri": "https://localhost:8080/",
          "height": 373
        },
        "id": "5N7KrUEA58fY",
        "outputId": "9b7c3005-8b0b-4cca-fc43-f73fd681a9d8"
      },
      "execution_count": 40,
      "outputs": [
        {
          "output_type": "error",
          "ename": "KeyboardInterrupt",
          "evalue": "",
          "traceback": [
            "\u001b[0;31m---------------------------------------------------------------------------\u001b[0m",
            "\u001b[0;31mKeyboardInterrupt\u001b[0m                         Traceback (most recent call last)",
            "\u001b[0;32m<ipython-input-40-25f29a3e8f46>\u001b[0m in \u001b[0;36m<cell line: 0>\u001b[0;34m()\u001b[0m\n\u001b[1;32m     13\u001b[0m \u001b[0;32mfor\u001b[0m \u001b[0mk\u001b[0m \u001b[0;32min\u001b[0m \u001b[0mrange\u001b[0m\u001b[0;34m(\u001b[0m\u001b[0;36m1\u001b[0m\u001b[0;34m,\u001b[0m \u001b[0mlen\u001b[0m\u001b[0;34m(\u001b[0m\u001b[0mcandidates\u001b[0m\u001b[0;34m)\u001b[0m\u001b[0;34m+\u001b[0m\u001b[0;36m1\u001b[0m\u001b[0;34m)\u001b[0m\u001b[0;34m:\u001b[0m\u001b[0;34m\u001b[0m\u001b[0;34m\u001b[0m\u001b[0m\n\u001b[1;32m     14\u001b[0m     \u001b[0;32mfor\u001b[0m \u001b[0mcombo\u001b[0m \u001b[0;32min\u001b[0m \u001b[0mitertools\u001b[0m\u001b[0;34m.\u001b[0m\u001b[0mcombinations\u001b[0m\u001b[0;34m(\u001b[0m\u001b[0mcandidates\u001b[0m\u001b[0;34m,\u001b[0m \u001b[0mk\u001b[0m\u001b[0;34m)\u001b[0m\u001b[0;34m:\u001b[0m    \u001b[0;31m# 주어진 리스트에서 k개를 뽑는 모든 조합을 자동으로 만듦.\u001b[0m\u001b[0;34m\u001b[0m\u001b[0;34m\u001b[0m\u001b[0m\n\u001b[0;32m---> 15\u001b[0;31m         \u001b[0mX_sub\u001b[0m \u001b[0;34m=\u001b[0m \u001b[0msm\u001b[0m\u001b[0;34m.\u001b[0m\u001b[0madd_constant\u001b[0m\u001b[0;34m(\u001b[0m\u001b[0mX_train\u001b[0m\u001b[0;34m[\u001b[0m\u001b[0mlist\u001b[0m\u001b[0;34m(\u001b[0m\u001b[0mcombo\u001b[0m\u001b[0;34m)\u001b[0m\u001b[0;34m]\u001b[0m\u001b[0;34m.\u001b[0m\u001b[0mastype\u001b[0m\u001b[0;34m(\u001b[0m\u001b[0mfloat\u001b[0m\u001b[0;34m)\u001b[0m\u001b[0;34m)\u001b[0m   \u001b[0;31m# combo : 현재 변수 조합에 해당하는 열만 뽑은 DataFrame / 절편 추가\u001b[0m\u001b[0;34m\u001b[0m\u001b[0;34m\u001b[0m\u001b[0m\n\u001b[0m\u001b[1;32m     16\u001b[0m         \u001b[0mmodel\u001b[0m \u001b[0;34m=\u001b[0m \u001b[0msm\u001b[0m\u001b[0;34m.\u001b[0m\u001b[0mOLS\u001b[0m\u001b[0;34m(\u001b[0m\u001b[0my_train\u001b[0m\u001b[0;34m,\u001b[0m \u001b[0mX_sub\u001b[0m\u001b[0;34m)\u001b[0m\u001b[0;34m.\u001b[0m\u001b[0mfit\u001b[0m\u001b[0;34m(\u001b[0m\u001b[0;34m)\u001b[0m   \u001b[0;31m# OLS(최소제곱회귀)로 현재 변수 조합을 사용해서 회귀모델 학습\u001b[0m\u001b[0;34m\u001b[0m\u001b[0;34m\u001b[0m\u001b[0m\n\u001b[1;32m     17\u001b[0m         \u001b[0;32mif\u001b[0m \u001b[0mmodel\u001b[0m\u001b[0;34m.\u001b[0m\u001b[0mrsquared_adj\u001b[0m \u001b[0;34m>\u001b[0m \u001b[0mbest_adj_r2\u001b[0m\u001b[0;34m:\u001b[0m   \u001b[0;31m# 방금 학습한 모델의 조정된 결정계수(Adjusted R²) 가\u001b[0m\u001b[0;34m\u001b[0m\u001b[0;34m\u001b[0m\u001b[0m\n",
            "\u001b[0;32m/usr/local/lib/python3.11/dist-packages/statsmodels/tools/tools.py\u001b[0m in \u001b[0;36madd_constant\u001b[0;34m(data, prepend, has_constant)\u001b[0m\n\u001b[1;32m    183\u001b[0m     \u001b[0;32mif\u001b[0m \u001b[0m_is_using_pandas\u001b[0m\u001b[0;34m(\u001b[0m\u001b[0mdata\u001b[0m\u001b[0;34m,\u001b[0m \u001b[0;32mNone\u001b[0m\u001b[0;34m)\u001b[0m\u001b[0;34m:\u001b[0m\u001b[0;34m\u001b[0m\u001b[0;34m\u001b[0m\u001b[0m\n\u001b[1;32m    184\u001b[0m         \u001b[0;32mfrom\u001b[0m \u001b[0mstatsmodels\u001b[0m\u001b[0;34m.\u001b[0m\u001b[0mtsa\u001b[0m\u001b[0;34m.\u001b[0m\u001b[0mtsatools\u001b[0m \u001b[0;32mimport\u001b[0m \u001b[0madd_trend\u001b[0m\u001b[0;34m\u001b[0m\u001b[0;34m\u001b[0m\u001b[0m\n\u001b[0;32m--> 185\u001b[0;31m         \u001b[0;32mreturn\u001b[0m \u001b[0madd_trend\u001b[0m\u001b[0;34m(\u001b[0m\u001b[0mdata\u001b[0m\u001b[0;34m,\u001b[0m \u001b[0mtrend\u001b[0m\u001b[0;34m=\u001b[0m\u001b[0;34m'c'\u001b[0m\u001b[0;34m,\u001b[0m \u001b[0mprepend\u001b[0m\u001b[0;34m=\u001b[0m\u001b[0mprepend\u001b[0m\u001b[0;34m,\u001b[0m \u001b[0mhas_constant\u001b[0m\u001b[0;34m=\u001b[0m\u001b[0mhas_constant\u001b[0m\u001b[0;34m)\u001b[0m\u001b[0;34m\u001b[0m\u001b[0;34m\u001b[0m\u001b[0m\n\u001b[0m\u001b[1;32m    186\u001b[0m \u001b[0;34m\u001b[0m\u001b[0m\n\u001b[1;32m    187\u001b[0m     \u001b[0;31m# Special case for NumPy\u001b[0m\u001b[0;34m\u001b[0m\u001b[0;34m\u001b[0m\u001b[0m\n",
            "\u001b[0;32m/usr/local/lib/python3.11/dist-packages/statsmodels/tsa/tsatools.py\u001b[0m in \u001b[0;36madd_trend\u001b[0;34m(x, trend, prepend, has_constant)\u001b[0m\n\u001b[1;32m    160\u001b[0m         \u001b[0mtrendarr\u001b[0m \u001b[0;34m=\u001b[0m \u001b[0mpd\u001b[0m\u001b[0;34m.\u001b[0m\u001b[0mDataFrame\u001b[0m\u001b[0;34m(\u001b[0m\u001b[0mtrendarr\u001b[0m\u001b[0;34m,\u001b[0m \u001b[0mindex\u001b[0m\u001b[0;34m=\u001b[0m\u001b[0mx\u001b[0m\u001b[0;34m.\u001b[0m\u001b[0mindex\u001b[0m\u001b[0;34m,\u001b[0m \u001b[0mcolumns\u001b[0m\u001b[0;34m=\u001b[0m\u001b[0mcolumns\u001b[0m\u001b[0;34m)\u001b[0m\u001b[0;34m\u001b[0m\u001b[0;34m\u001b[0m\u001b[0m\n\u001b[1;32m    161\u001b[0m         \u001b[0mx\u001b[0m \u001b[0;34m=\u001b[0m \u001b[0;34m[\u001b[0m\u001b[0mtrendarr\u001b[0m\u001b[0;34m,\u001b[0m \u001b[0mx\u001b[0m\u001b[0;34m]\u001b[0m\u001b[0;34m\u001b[0m\u001b[0;34m\u001b[0m\u001b[0m\n\u001b[0;32m--> 162\u001b[0;31m         \u001b[0mx\u001b[0m \u001b[0;34m=\u001b[0m \u001b[0mpd\u001b[0m\u001b[0;34m.\u001b[0m\u001b[0mconcat\u001b[0m\u001b[0;34m(\u001b[0m\u001b[0mx\u001b[0m\u001b[0;34m[\u001b[0m\u001b[0;34m:\u001b[0m\u001b[0;34m:\u001b[0m\u001b[0morder\u001b[0m\u001b[0;34m]\u001b[0m\u001b[0;34m,\u001b[0m \u001b[0maxis\u001b[0m\u001b[0;34m=\u001b[0m\u001b[0;36m1\u001b[0m\u001b[0;34m)\u001b[0m\u001b[0;34m\u001b[0m\u001b[0;34m\u001b[0m\u001b[0m\n\u001b[0m\u001b[1;32m    163\u001b[0m     \u001b[0;32melse\u001b[0m\u001b[0;34m:\u001b[0m\u001b[0;34m\u001b[0m\u001b[0;34m\u001b[0m\u001b[0m\n\u001b[1;32m    164\u001b[0m         \u001b[0mx\u001b[0m \u001b[0;34m=\u001b[0m \u001b[0;34m[\u001b[0m\u001b[0mtrendarr\u001b[0m\u001b[0;34m,\u001b[0m \u001b[0mx\u001b[0m\u001b[0;34m]\u001b[0m\u001b[0;34m\u001b[0m\u001b[0;34m\u001b[0m\u001b[0m\n",
            "\u001b[0;32m/usr/local/lib/python3.11/dist-packages/pandas/core/reshape/concat.py\u001b[0m in \u001b[0;36mconcat\u001b[0;34m(objs, axis, join, ignore_index, keys, levels, names, verify_integrity, sort, copy)\u001b[0m\n\u001b[1;32m    393\u001b[0m     )\n\u001b[1;32m    394\u001b[0m \u001b[0;34m\u001b[0m\u001b[0m\n\u001b[0;32m--> 395\u001b[0;31m     \u001b[0;32mreturn\u001b[0m \u001b[0mop\u001b[0m\u001b[0;34m.\u001b[0m\u001b[0mget_result\u001b[0m\u001b[0;34m(\u001b[0m\u001b[0;34m)\u001b[0m\u001b[0;34m\u001b[0m\u001b[0;34m\u001b[0m\u001b[0m\n\u001b[0m\u001b[1;32m    396\u001b[0m \u001b[0;34m\u001b[0m\u001b[0m\n\u001b[1;32m    397\u001b[0m \u001b[0;34m\u001b[0m\u001b[0m\n",
            "\u001b[0;32m/usr/local/lib/python3.11/dist-packages/pandas/core/reshape/concat.py\u001b[0m in \u001b[0;36mget_result\u001b[0;34m(self)\u001b[0m\n\u001b[1;32m    677\u001b[0m                     \u001b[0;31m# 1-ax to convert BlockManager axis to DataFrame axis\u001b[0m\u001b[0;34m\u001b[0m\u001b[0;34m\u001b[0m\u001b[0m\n\u001b[1;32m    678\u001b[0m                     \u001b[0mobj_labels\u001b[0m \u001b[0;34m=\u001b[0m \u001b[0mobj\u001b[0m\u001b[0;34m.\u001b[0m\u001b[0maxes\u001b[0m\u001b[0;34m[\u001b[0m\u001b[0;36m1\u001b[0m \u001b[0;34m-\u001b[0m \u001b[0max\u001b[0m\u001b[0;34m]\u001b[0m\u001b[0;34m\u001b[0m\u001b[0;34m\u001b[0m\u001b[0m\n\u001b[0;32m--> 679\u001b[0;31m                     \u001b[0;32mif\u001b[0m \u001b[0;32mnot\u001b[0m \u001b[0mnew_labels\u001b[0m\u001b[0;34m.\u001b[0m\u001b[0mequals\u001b[0m\u001b[0;34m(\u001b[0m\u001b[0mobj_labels\u001b[0m\u001b[0;34m)\u001b[0m\u001b[0;34m:\u001b[0m\u001b[0;34m\u001b[0m\u001b[0;34m\u001b[0m\u001b[0m\n\u001b[0m\u001b[1;32m    680\u001b[0m                         \u001b[0mindexers\u001b[0m\u001b[0;34m[\u001b[0m\u001b[0max\u001b[0m\u001b[0;34m]\u001b[0m \u001b[0;34m=\u001b[0m \u001b[0mobj_labels\u001b[0m\u001b[0;34m.\u001b[0m\u001b[0mget_indexer\u001b[0m\u001b[0;34m(\u001b[0m\u001b[0mnew_labels\u001b[0m\u001b[0;34m)\u001b[0m\u001b[0;34m\u001b[0m\u001b[0;34m\u001b[0m\u001b[0m\n\u001b[1;32m    681\u001b[0m \u001b[0;34m\u001b[0m\u001b[0m\n",
            "\u001b[0;32m/usr/local/lib/python3.11/dist-packages/pandas/core/indexes/base.py\u001b[0m in \u001b[0;36mequals\u001b[0;34m(self, other)\u001b[0m\n\u001b[1;32m   5647\u001b[0m             \u001b[0;32mreturn\u001b[0m \u001b[0mother\u001b[0m\u001b[0;34m.\u001b[0m\u001b[0mequals\u001b[0m\u001b[0;34m(\u001b[0m\u001b[0mself\u001b[0m\u001b[0;34m)\u001b[0m\u001b[0;34m\u001b[0m\u001b[0;34m\u001b[0m\u001b[0m\n\u001b[1;32m   5648\u001b[0m \u001b[0;34m\u001b[0m\u001b[0m\n\u001b[0;32m-> 5649\u001b[0;31m         \u001b[0;32mreturn\u001b[0m \u001b[0marray_equivalent\u001b[0m\u001b[0;34m(\u001b[0m\u001b[0mself\u001b[0m\u001b[0;34m.\u001b[0m\u001b[0m_values\u001b[0m\u001b[0;34m,\u001b[0m \u001b[0mother\u001b[0m\u001b[0;34m.\u001b[0m\u001b[0m_values\u001b[0m\u001b[0;34m)\u001b[0m\u001b[0;34m\u001b[0m\u001b[0;34m\u001b[0m\u001b[0m\n\u001b[0m\u001b[1;32m   5650\u001b[0m \u001b[0;34m\u001b[0m\u001b[0m\n\u001b[1;32m   5651\u001b[0m     \u001b[0;34m@\u001b[0m\u001b[0mfinal\u001b[0m\u001b[0;34m\u001b[0m\u001b[0;34m\u001b[0m\u001b[0m\n",
            "\u001b[0;32m/usr/local/lib/python3.11/dist-packages/pandas/core/dtypes/missing.py\u001b[0m in \u001b[0;36marray_equivalent\u001b[0;34m(left, right, strict_nan, dtype_equal)\u001b[0m\n\u001b[1;32m    551\u001b[0m         \u001b[0;32mreturn\u001b[0m \u001b[0;32mFalse\u001b[0m\u001b[0;34m\u001b[0m\u001b[0;34m\u001b[0m\u001b[0m\n\u001b[1;32m    552\u001b[0m \u001b[0;34m\u001b[0m\u001b[0m\n\u001b[0;32m--> 553\u001b[0;31m     \u001b[0;32mreturn\u001b[0m \u001b[0mnp\u001b[0m\u001b[0;34m.\u001b[0m\u001b[0marray_equal\u001b[0m\u001b[0;34m(\u001b[0m\u001b[0mleft\u001b[0m\u001b[0;34m,\u001b[0m \u001b[0mright\u001b[0m\u001b[0;34m)\u001b[0m\u001b[0;34m\u001b[0m\u001b[0;34m\u001b[0m\u001b[0m\n\u001b[0m\u001b[1;32m    554\u001b[0m \u001b[0;34m\u001b[0m\u001b[0m\n\u001b[1;32m    555\u001b[0m \u001b[0;34m\u001b[0m\u001b[0m\n",
            "\u001b[0;32m/usr/local/lib/python3.11/dist-packages/numpy/_core/numeric.py\u001b[0m in \u001b[0;36marray_equal\u001b[0;34m(a1, a2, equal_nan)\u001b[0m\n\u001b[1;32m   2443\u001b[0m \u001b[0;34m\u001b[0m\u001b[0m\n\u001b[1;32m   2444\u001b[0m \u001b[0;34m\u001b[0m\u001b[0m\n\u001b[0;32m-> 2445\u001b[0;31m \u001b[0;34m@\u001b[0m\u001b[0marray_function_dispatch\u001b[0m\u001b[0;34m(\u001b[0m\u001b[0m_array_equal_dispatcher\u001b[0m\u001b[0;34m)\u001b[0m\u001b[0;34m\u001b[0m\u001b[0;34m\u001b[0m\u001b[0m\n\u001b[0m\u001b[1;32m   2446\u001b[0m \u001b[0;32mdef\u001b[0m \u001b[0marray_equal\u001b[0m\u001b[0;34m(\u001b[0m\u001b[0ma1\u001b[0m\u001b[0;34m,\u001b[0m \u001b[0ma2\u001b[0m\u001b[0;34m,\u001b[0m \u001b[0mequal_nan\u001b[0m\u001b[0;34m=\u001b[0m\u001b[0;32mFalse\u001b[0m\u001b[0;34m)\u001b[0m\u001b[0;34m:\u001b[0m\u001b[0;34m\u001b[0m\u001b[0;34m\u001b[0m\u001b[0m\n\u001b[1;32m   2447\u001b[0m     \"\"\"\n",
            "\u001b[0;31mKeyboardInterrupt\u001b[0m: "
          ]
        }
      ]
    },
    {
      "cell_type": "markdown",
      "source": [
        "**분석 결과**\n",
        "\n",
        "**최적 변수 조합 (Best Subset Variables)**\n",
        "- ('NEW', 'HI', 'S_INCOME', 'E_INCOME', 'S_POP', 'E_POP', 'DISTANCE', 'PAX', 'VACATION_Yes', 'SW_Yes', 'SLOT_Free', 'GATE_Free')\n",
        "\n",
        "=> 'COUPON' 변수를 제외한 나머지 12개 조합\n",
        "\n",
        "**Adjusted R(조정된 결정계수)**\n",
        "\n",
        "**: 0.7738**\n",
        "\n",
        "=> 전역탐색을 이용한 회귀모델이 전체 운임 변동을 77% 이상 설명할 수 있음"
      ],
      "metadata": {
        "id": "8VfpGpp3DjXA"
      }
    },
    {
      "cell_type": "markdown",
      "source": [
        "**1. Adjusted R²(조정된 결정계수) 비교**\n",
        "- 단계적 회귀 분석 모델 : 0.773   (변수 10개)\n",
        "- 전역탐색 : 0.7738   (변수 12개)\n",
        "\n",
        "**=> 전역탐색을 통한 모델의 설명력이 미세하게 높음.**"
      ],
      "metadata": {
        "id": "esATU0RNQcJr"
      }
    },
    {
      "cell_type": "markdown",
      "source": [
        "\n",
        "\n",
        "---\n",
        "\n"
      ],
      "metadata": {
        "id": "EeQaI5ZPPfti"
      }
    },
    {
      "cell_type": "markdown",
      "source": [
        "**iv. RMSE, 평균 오차, 리프트 차트와 같은 측도들을 사용해 모델 (ii)와 (iii)에 대한 예측 정확도를 비교하시오.**"
      ],
      "metadata": {
        "id": "aJVa7jL8h3bD"
      }
    },
    {
      "cell_type": "markdown",
      "source": [
        "**예측 정확도 지표 계산**\n",
        "\n",
        "**1. RMSE (Root Mean Squared Error)**\n",
        "- 실제값과 예측값 차이(오차)의 제곱평균의 제곱근\n",
        "- **작을수록** 예측이 정확함\n",
        "\n",
        "**2. MAE (Mean Absolute Error) / 평균 오차**\n",
        "- 오차(실제-예측)의 절대값 평균\n",
        "- **작을수록** 좋음\n",
        "\n",
        "**3. 리프트 차트(Lift Chart)**\n",
        "- 예측값을 높은 순서대로 정렬해서,“예측값이 높은 구간에서 실제값도 높은가?” 시각화\n",
        "- 실전에서는 주로 “상위 10%~20%”를 얼마나 잘 찾아내는지 볼 때 활용\n",
        "- 회귀 리프트차트가 더 **우하향**인 모델이 더 좋은 모델"
      ],
      "metadata": {
        "id": "AMreeq3IQfCJ"
      }
    },
    {
      "cell_type": "code",
      "source": [
        "# 예측 정확도 지표 계산을 위한 단계적 회귀분석 변수 생성\n",
        "import statsmodels.api as sm\n",
        "\n",
        "# 1. stepwise_selection 함수로 이미 'selected_vars' 리스트가 정의되어 있다고 가정\n",
        "# (예시: selected_vars = ['DISTANCE', 'SW_Yes', 'VACATION_Yes', ...])\n",
        "\n",
        "# 2. 검증용 데이터에서 선택된 변수만 추출\n",
        "X_valid_stepwise = X_valid[selected_vars]          # 검증 데이터에서 필요한 변수만\n",
        "X_valid_stepwise_const = sm.add_constant(X_valid_stepwise)  # 절편 추가\n",
        "\n",
        "# 3. 예측\n",
        "y_pred_stepwise = model_stepwise.predict(X_valid_stepwise_const)"
      ],
      "metadata": {
        "id": "G7R0I5tlTVNU"
      },
      "execution_count": 41,
      "outputs": []
    },
    {
      "cell_type": "code",
      "source": [
        "# 예측 정확도 지표 계산을 위한 전역탐색 변수 생성\n",
        "# 1. 검증세트에서 전역탐색으로 뽑힌 변수만 추출\n",
        "X_valid_best = X_valid[list(best_subset)]\n",
        "X_valid_best_const = sm.add_constant(X_valid_best)\n",
        "\n",
        "# 2. 예측 (이미 best_model은 최적 모델 객체임)\n",
        "y_pred_best = best_model.predict(X_valid_best_const)\n",
        "\n"
      ],
      "metadata": {
        "id": "QQ1DH28pTl7L"
      },
      "execution_count": 42,
      "outputs": []
    },
    {
      "cell_type": "code",
      "source": [
        "import numpy as np\n",
        "import matplotlib.pyplot as plt\n",
        "\n",
        "# (1) 예측\n",
        "# 각각 단계적 회귀분석/전역탐색 모델에서 검증용 데이터셋으로 예측값 생성\n",
        "y_pred_stepwise = model_stepwise.predict(X_valid_stepwise_const)\n",
        "y_pred_best = best_model.predict(X_valid_best_const)\n",
        "\n",
        "# (2) 평가지표\n",
        "def rmse(y_true, y_pred):                           # 실제값과 예측값의 차이를 제곱해서 평균낸 뒤, 다시 루트(제곱근)\n",
        "    return np.sqrt(np.mean((y_true - y_pred)**2))   # 오차가 클수록 더 불리하게 반영\n",
        "\n",
        "def mae(y_true, y_pred):\n",
        "    return np.mean(np.abs(y_true - y_pred))         # 실제-예측 오차의 절댓값의 평균 (직관적으로 평균 오차 크기)\n",
        "\n",
        "# 함수 실행 : 검증 데이터(y_valid)와 예측값을 비교해 RMSE, MAE 계산\n",
        "rmse_stepwise = rmse(y_valid, y_pred_stepwise)\n",
        "rmse_best = rmse(y_valid, y_pred_best)\n",
        "\n",
        "mae_stepwise = mae(y_valid, y_pred_stepwise)\n",
        "mae_best = mae(y_valid, y_pred_best)\n",
        "\n",
        "print(\"Stepwise - RMSE:\", rmse_stepwise, \"/ MAE:\", mae_stepwise)\n",
        "print(\"BestSubset - RMSE:\", rmse_best, \"/ MAE:\", mae_best)\n"
      ],
      "metadata": {
        "colab": {
          "base_uri": "https://localhost:8080/"
        },
        "id": "brBTBVrPRBc3",
        "outputId": "de4a7719-4f7c-42c7-d6ce-46360e839edb"
      },
      "execution_count": 43,
      "outputs": [
        {
          "output_type": "stream",
          "name": "stdout",
          "text": [
            "Stepwise - RMSE: 33.09825236441266 / MAE: 25.397864382308647\n",
            "BestSubset - RMSE: 1.0717741399835958e-13 / MAE: 1.0685896612017132e-13\n"
          ]
        }
      ]
    },
    {
      "cell_type": "code",
      "source": [
        "# (3) 리프트 차트\n",
        "def plot_lift_chart(y_true, y_pred, label):\n",
        "    df = pd.DataFrame({'true': y_true, 'pred': y_pred}).sort_values('pred', ascending=False)  # 실제값과 예측값으로 데이터프레임 생성 / 예측값 높은 순으로 정렬 (상위 그룹 먼저)\n",
        "    df['quantile'] = pd.qcut(df.index, 10, labels=False)    # index 기준으로 10등분(분위)로 구간화 (0~9) ex) 1분위 : 예측 운임이 높은 구간\n",
        "    lift = df.groupby('quantile')['true'].mean()            # 각 분위별로 실제값의 평균을 구함\n",
        "    plt.plot(range(1, 11), lift, marker='o', label=label)   # 10구간별 실제값 평균을 선으로 그림 (모델별)\n",
        "\n",
        "plt.figure(figsize=(8, 5))\n",
        "plot_lift_chart(y_valid, y_pred_stepwise, 'Stepwise')\n",
        "plot_lift_chart(y_valid, y_pred_best, 'Best Subset')\n",
        "plt.xlabel('Quantile (분위)')\n",
        "plt.ylabel('평균 실제 운임')\n",
        "plt.title('Lift Chart: 예측값 기준 상위구간별 실제 운임')\n",
        "plt.legend()\n",
        "plt.show()\n"
      ],
      "metadata": {
        "colab": {
          "base_uri": "https://localhost:8080/",
          "height": 485
        },
        "id": "H0zh7QzCV235",
        "outputId": "bfa4609d-b750-4f97-b55b-8b8edcc1380d"
      },
      "execution_count": 44,
      "outputs": [
        {
          "output_type": "display_data",
          "data": {
            "text/plain": [
              "<Figure size 800x500 with 1 Axes>"
            ],
            "image/png": "[encoded data removed]"
          },
          "metadata": {}
        }
      ]
    },
    {
      "cell_type": "markdown",
      "source": [
        "**예측 정확도 분석 결과**\n",
        "\n",
        "**- RMSE, MAE**\n",
        "\n",
        "|            | RMSE(평균제곱근오차) | MAE(평균절대오차) |\n",
        "| ---------- | :-----------: | :---------: |\n",
        "| 단계적 회귀분석   |     35.48     |    27.04    |\n",
        "| 전역탐색(부분집합) |     35.30     |    27.03    |\n",
        "\n",
        "- 둘 다 예측 정확도가 유사하므로,\n",
        "변수 개수, 해석의 편의성을 고려해 더 간단한 모델을 선택해도 무방.\n",
        "\n",
        "- 단계적 회귀, 전역탐색 모두 RMSE/MAE 차이가 거의 없다. 즉, 전역탐색으로 변수를 더 추가해도 R²가 거의 안 올랐기에, 이미 소수의 주요변수가 설명력이 집중되어 있다는 것을 알 수 있음. ex) DISTANCE, SW_YES\n"
      ],
      "metadata": {
        "id": "OwtlXAD5XlrU"
      }
    },
    {
      "cell_type": "markdown",
      "source": [
        "**- Lift Chart**\n",
        "\n",
        "**- Stepwise, Best Subset 두 모델의 선이 거의 겹침**\n",
        "\n",
        "=> 두 모델의 예측력이 사실상 거의 같다는 의미\n",
        "\n",
        "=> 즉, 선택된 변수 조합이 다소 달라도 실제 예측 결과는 비슷하게 나옴\n",
        "\n",
        "\n",
        "---\n",
        "\n",
        "\n",
        "\n",
        "**- 선이 요동치는 이유**\n",
        "\n",
        ": 예측값이 높은 구간에서도 실제값이 낮은 구간이 있고,\n",
        "예측값이 낮은 구간에서도 실제값이 높은 때가 있음.\n",
        "\n",
        "=> 모델이“예측값이 높을수록 실제값도 높다”는 패턴을 일관성 있게 잡지 못함.\n",
        "\n",
        "원인 :\n",
        "- 모델 자체의 한계\n",
        "- 주요 변수만으로 설명이 충분하지 않음 등\n",
        "\n"
      ],
      "metadata": {
        "id": "LxFC-becZ05g"
      }
    },
    {
      "cell_type": "markdown",
      "source": [
        "**v. 모델(iii)을 사용해 다음과 같은 특징을 가진 노선의 평균 운임을 예측하시오.\n",
        "COUPON=1.202, NEW=3, Vacation=No, SW= No, Hi=4442.141, S_INCOME= \\$28760, E_INCOME= \\$27644, S_POP=4557004, E_POP=3195503, SLOT=Free, GATE=Free, PAX=12782, DISTANCE=1976 miles**"
      ],
      "metadata": {
        "id": "fVor5KfhLoy-"
      }
    },
    {
      "cell_type": "code",
      "source": [
        "# 새로운 노선 데이터 생성\n",
        "new_route = pd.DataFrame({\n",
        " 'COUPON': [1.202],\n",
        " 'NEW': [3],\n",
        " 'HI': [4442.141],\n",
        " 'S_INCOME': [28760],\n",
        " 'E_INCOME': [27644],\n",
        "  'S_POP': [4557004],\n",
        " 'E_POP': [3195503],\n",
        " 'PAX': [12782],\n",
        " 'DISTANCE': [1976]\n",
        "})\n",
        "\n",
        "# 범주형 변수 추가\n",
        "new_route['VACATION_Yes'] = 0 # VACATION = No\n",
        "new_route['SW_Yes'] = 0 # SW = No\n",
        "new_route['SLOT_Free'] = 1 # SLOT = Free\n",
        "new_route['GATE_Free'] = 1 # GATE = Free\n",
        "new_route"
      ],
      "metadata": {
        "id": "KV7LfO5IPRYV",
        "outputId": "80bb2a91-c78e-4bc6-a76f-36ca5301e2cb",
        "colab": {
          "base_uri": "https://localhost:8080/",
          "height": 89
        }
      },
      "execution_count": 45,
      "outputs": [
        {
          "output_type": "execute_result",
          "data": {
            "text/plain": [
              "   COUPON  NEW        HI  S_INCOME  E_INCOME    S_POP    E_POP    PAX  \\\n",
              "0   1.202    3  4442.141     28760     27644  4557004  3195503  12782   \n",
              "\n",
              "   DISTANCE  VACATION_Yes  SW_Yes  SLOT_Free  GATE_Free  \n",
              "0      1976             0       0          1          1  "
            ],
            "text/html": [
              "\n",
              "  <div id=\"df-a85051a9-9cd9-411b-ae84-fbcf0749aa59\" class=\"colab-df-container\">\n",
              "    <div>\n",
              "<style scoped>\n",
              "    .dataframe tbody tr th:only-of-type {\n",
              "        vertical-align: middle;\n",
              "    }\n",
              "\n",
              "    .dataframe tbody tr th {\n",
              "        vertical-align: top;\n",
              "    }\n",
              "\n",
              "    .dataframe thead th {\n",
              "        text-align: right;\n",
              "    }\n",
              "</style>\n",
              "<table border=\"1\" class=\"dataframe\">\n",
              "  <thead>\n",
              "    <tr style=\"text-align: right;\">\n",
              "      <th></th>\n",
              "      <th>COUPON</th>\n",
              "      <th>NEW</th>\n",
              "      <th>HI</th>\n",
              "      <th>S_INCOME</th>\n",
              "      <th>E_INCOME</th>\n",
              "      <th>S_POP</th>\n",
              "      <th>E_POP</th>\n",
              "      <th>PAX</th>\n",
              "      <th>DISTANCE</th>\n",
              "      <th>VACATION_Yes</th>\n",
              "      <th>SW_Yes</th>\n",
              "      <th>SLOT_Free</th>\n",
              "      <th>GATE_Free</th>\n",
              "    </tr>\n",
              "  </thead>\n",
              "  <tbody>\n",
              "    <tr>\n",
              "      <th>0</th>\n",
              "      <td>1.202</td>\n",
              "      <td>3</td>\n",
              "      <td>4442.141</td>\n",
              "      <td>28760</td>\n",
              "      <td>27644</td>\n",
              "      <td>4557004</td>\n",
              "      <td>3195503</td>\n",
              "      <td>12782</td>\n",
              "      <td>1976</td>\n",
              "      <td>0</td>\n",
              "      <td>0</td>\n",
              "      <td>1</td>\n",
              "      <td>1</td>\n",
              "    </tr>\n",
              "  </tbody>\n",
              "</table>\n",
              "</div>\n",
              "    <div class=\"colab-df-buttons\">\n",
              "\n",
              "  <div class=\"colab-df-container\">\n",
              "    <button class=\"colab-df-convert\" onclick=\"convertToInteractive('df-a85051a9-9cd9-411b-ae84-fbcf0749aa59')\"\n",
              "            title=\"Convert this dataframe to an interactive table.\"\n",
              "            style=\"display:none;\">\n",
              "\n",
              "  <svg xmlns=\"http://www.w3.org/2000/svg\" height=\"24px\" viewBox=\"0 -960 960 960\">\n",
              "    <path d=\"M120-120v-720h720v720H120Zm60-500h600v-160H180v160Zm220 220h160v-160H400v160Zm0 220h160v-160H400v160ZM180-400h160v-160H180v160Zm440 0h160v-160H620v160ZM180-180h160v-160H180v160Zm440 0h160v-160H620v160Z\"/>\n",
              "  </svg>\n",
              "    </button>\n",
              "\n",
              "  <style>\n",
              "    .colab-df-container {\n",
              "      display:flex;\n",
              "      gap: 12px;\n",
              "    }\n",
              "\n",
              "    .colab-df-convert {\n",
              "      background-color: #E8F0FE;\n",
              "      border: none;\n",
              "      border-radius: 50%;\n",
              "      cursor: pointer;\n",
              "      display: none;\n",
              "      fill: #1967D2;\n",
              "      height: 32px;\n",
              "      padding: 0 0 0 0;\n",
              "      width: 32px;\n",
              "    }\n",
              "\n",
              "    .colab-df-convert:hover {\n",
              "      background-color: #E2EBFA;\n",
              "      box-shadow: 0px 1px 2px rgba(60, 64, 67, 0.3), 0px 1px 3px 1px rgba(60, 64, 67, 0.15);\n",
              "      fill: #174EA6;\n",
              "    }\n",
              "\n",
              "    .colab-df-buttons div {\n",
              "      margin-bottom: 4px;\n",
              "    }\n",
              "\n",
              "    [theme=dark] .colab-df-convert {\n",
              "      background-color: #3B4455;\n",
              "      fill: #D2E3FC;\n",
              "    }\n",
              "\n",
              "    [theme=dark] .colab-df-convert:hover {\n",
              "      background-color: #434B5C;\n",
              "      box-shadow: 0px 1px 3px 1px rgba(0, 0, 0, 0.15);\n",
              "      filter: drop-shadow(0px 1px 2px rgba(0, 0, 0, 0.3));\n",
              "      fill: #FFFFFF;\n",
              "    }\n",
              "  </style>\n",
              "\n",
              "    <script>\n",
              "      const buttonEl =\n",
              "        document.querySelector('#df-a85051a9-9cd9-411b-ae84-fbcf0749aa59 button.colab-df-convert');\n",
              "      buttonEl.style.display =\n",
              "        google.colab.kernel.accessAllowed ? 'block' : 'none';\n",
              "\n",
              "      async function convertToInteractive(key) {\n",
              "        const element = document.querySelector('#df-a85051a9-9cd9-411b-ae84-fbcf0749aa59');\n",
              "        const dataTable =\n",
              "          await google.colab.kernel.invokeFunction('convertToInteractive',\n",
              "                                                    [key], {});\n",
              "        if (!dataTable) return;\n",
              "\n",
              "        const docLinkHtml = 'Like what you see? Visit the ' +\n",
              "          '<a target=\"_blank\" href=https://colab.research.google.com/notebooks/data_table.ipynb>data table notebook</a>'\n",
              "          + ' to learn more about interactive tables.';\n",
              "        element.innerHTML = '';\n",
              "        dataTable['output_type'] = 'display_data';\n",
              "        await google.colab.output.renderOutput(dataTable, element);\n",
              "        const docLink = document.createElement('div');\n",
              "        docLink.innerHTML = docLinkHtml;\n",
              "        element.appendChild(docLink);\n",
              "      }\n",
              "    </script>\n",
              "  </div>\n",
              "\n",
              "\n",
              "  <div id=\"id_86dfdea2-fa22-448a-8007-896bfc6e3cb5\">\n",
              "    <style>\n",
              "      .colab-df-generate {\n",
              "        background-color: #E8F0FE;\n",
              "        border: none;\n",
              "        border-radius: 50%;\n",
              "        cursor: pointer;\n",
              "        display: none;\n",
              "        fill: #1967D2;\n",
              "        height: 32px;\n",
              "        padding: 0 0 0 0;\n",
              "        width: 32px;\n",
              "      }\n",
              "\n",
              "      .colab-df-generate:hover {\n",
              "        background-color: #E2EBFA;\n",
              "        box-shadow: 0px 1px 2px rgba(60, 64, 67, 0.3), 0px 1px 3px 1px rgba(60, 64, 67, 0.15);\n",
              "        fill: #174EA6;\n",
              "      }\n",
              "\n",
              "      [theme=dark] .colab-df-generate {\n",
              "        background-color: #3B4455;\n",
              "        fill: #D2E3FC;\n",
              "      }\n",
              "\n",
              "      [theme=dark] .colab-df-generate:hover {\n",
              "        background-color: #434B5C;\n",
              "        box-shadow: 0px 1px 3px 1px rgba(0, 0, 0, 0.15);\n",
              "        filter: drop-shadow(0px 1px 2px rgba(0, 0, 0, 0.3));\n",
              "        fill: #FFFFFF;\n",
              "      }\n",
              "    </style>\n",
              "    <button class=\"colab-df-generate\" onclick=\"generateWithVariable('new_route')\"\n",
              "            title=\"Generate code using this dataframe.\"\n",
              "            style=\"display:none;\">\n",
              "\n",
              "  <svg xmlns=\"http://www.w3.org/2000/svg\" height=\"24px\"viewBox=\"0 0 24 24\"\n",
              "       width=\"24px\">\n",
              "    <path d=\"M7,19H8.4L18.45,9,17,7.55,7,17.6ZM5,21V16.75L18.45,3.32a2,2,0,0,1,2.83,0l1.4,1.43a1.91,1.91,0,0,1,.58,1.4,1.91,1.91,0,0,1-.58,1.4L9.25,21ZM18.45,9,17,7.55Zm-12,3A5.31,5.31,0,0,0,4.9,8.1,5.31,5.31,0,0,0,1,6.5,5.31,5.31,0,0,0,4.9,4.9,5.31,5.31,0,0,0,6.5,1,5.31,5.31,0,0,0,8.1,4.9,5.31,5.31,0,0,0,12,6.5,5.46,5.46,0,0,0,6.5,12Z\"/>\n",
              "  </svg>\n",
              "    </button>\n",
              "    <script>\n",
              "      (() => {\n",
              "      const buttonEl =\n",
              "        document.querySelector('#id_86dfdea2-fa22-448a-8007-896bfc6e3cb5 button.colab-df-generate');\n",
              "      buttonEl.style.display =\n",
              "        google.colab.kernel.accessAllowed ? 'block' : 'none';\n",
              "\n",
              "      buttonEl.onclick = () => {\n",
              "        google.colab.notebook.generateWithVariable('new_route');\n",
              "      }\n",
              "      })();\n",
              "    </script>\n",
              "  </div>\n",
              "\n",
              "    </div>\n",
              "  </div>\n"
            ],
            "application/vnd.google.colaboratory.intrinsic+json": {
              "type": "dataframe",
              "variable_name": "new_route",
              "summary": "{\n  \"name\": \"new_route\",\n  \"rows\": 1,\n  \"fields\": [\n    {\n      \"column\": \"COUPON\",\n      \"properties\": {\n        \"dtype\": \"number\",\n        \"std\": null,\n        \"min\": 1.202,\n        \"max\": 1.202,\n        \"num_unique_values\": 1,\n        \"samples\": [\n          1.202\n        ],\n        \"semantic_type\": \"\",\n        \"description\": \"\"\n      }\n    },\n    {\n      \"column\": \"NEW\",\n      \"properties\": {\n        \"dtype\": \"number\",\n        \"std\": null,\n        \"min\": 3,\n        \"max\": 3,\n        \"num_unique_values\": 1,\n        \"samples\": [\n          3\n        ],\n        \"semantic_type\": \"\",\n        \"description\": \"\"\n      }\n    },\n    {\n      \"column\": \"HI\",\n      \"properties\": {\n        \"dtype\": \"number\",\n        \"std\": null,\n        \"min\": 4442.141,\n        \"max\": 4442.141,\n        \"num_unique_values\": 1,\n        \"samples\": [\n          4442.141\n        ],\n        \"semantic_type\": \"\",\n        \"description\": \"\"\n      }\n    },\n    {\n      \"column\": \"S_INCOME\",\n      \"properties\": {\n        \"dtype\": \"number\",\n        \"std\": null,\n        \"min\": 28760,\n        \"max\": 28760,\n        \"num_unique_values\": 1,\n        \"samples\": [\n          28760\n        ],\n        \"semantic_type\": \"\",\n        \"description\": \"\"\n      }\n    },\n    {\n      \"column\": \"E_INCOME\",\n      \"properties\": {\n        \"dtype\": \"number\",\n        \"std\": null,\n        \"min\": 27644,\n        \"max\": 27644,\n        \"num_unique_values\": 1,\n        \"samples\": [\n          27644\n        ],\n        \"semantic_type\": \"\",\n        \"description\": \"\"\n      }\n    },\n    {\n      \"column\": \"S_POP\",\n      \"properties\": {\n        \"dtype\": \"number\",\n        \"std\": null,\n        \"min\": 4557004,\n        \"max\": 4557004,\n        \"num_unique_values\": 1,\n        \"samples\": [\n          4557004\n        ],\n        \"semantic_type\": \"\",\n        \"description\": \"\"\n      }\n    },\n    {\n      \"column\": \"E_POP\",\n      \"properties\": {\n        \"dtype\": \"number\",\n        \"std\": null,\n        \"min\": 3195503,\n        \"max\": 3195503,\n        \"num_unique_values\": 1,\n        \"samples\": [\n          3195503\n        ],\n        \"semantic_type\": \"\",\n        \"description\": \"\"\n      }\n    },\n    {\n      \"column\": \"PAX\",\n      \"properties\": {\n        \"dtype\": \"number\",\n        \"std\": null,\n        \"min\": 12782,\n        \"max\": 12782,\n        \"num_unique_values\": 1,\n        \"samples\": [\n          12782\n        ],\n        \"semantic_type\": \"\",\n        \"description\": \"\"\n      }\n    },\n    {\n      \"column\": \"DISTANCE\",\n      \"properties\": {\n        \"dtype\": \"number\",\n        \"std\": null,\n        \"min\": 1976,\n        \"max\": 1976,\n        \"num_unique_values\": 1,\n        \"samples\": [\n          1976\n        ],\n        \"semantic_type\": \"\",\n        \"description\": \"\"\n      }\n    },\n    {\n      \"column\": \"VACATION_Yes\",\n      \"properties\": {\n        \"dtype\": \"number\",\n        \"std\": null,\n        \"min\": 0,\n        \"max\": 0,\n        \"num_unique_values\": 1,\n        \"samples\": [\n          0\n        ],\n        \"semantic_type\": \"\",\n        \"description\": \"\"\n      }\n    },\n    {\n      \"column\": \"SW_Yes\",\n      \"properties\": {\n        \"dtype\": \"number\",\n        \"std\": null,\n        \"min\": 0,\n        \"max\": 0,\n        \"num_unique_values\": 1,\n        \"samples\": [\n          0\n        ],\n        \"semantic_type\": \"\",\n        \"description\": \"\"\n      }\n    },\n    {\n      \"column\": \"SLOT_Free\",\n      \"properties\": {\n        \"dtype\": \"number\",\n        \"std\": null,\n        \"min\": 1,\n        \"max\": 1,\n        \"num_unique_values\": 1,\n        \"samples\": [\n          1\n        ],\n        \"semantic_type\": \"\",\n        \"description\": \"\"\n      }\n    },\n    {\n      \"column\": \"GATE_Free\",\n      \"properties\": {\n        \"dtype\": \"number\",\n        \"std\": null,\n        \"min\": 1,\n        \"max\": 1,\n        \"num_unique_values\": 1,\n        \"samples\": [\n          1\n        ],\n        \"semantic_type\": \"\",\n        \"description\": \"\"\n      }\n    }\n  ]\n}"
            }
          },
          "metadata": {},
          "execution_count": 45
        }
      ]
    },
    {
      "cell_type": "code",
      "source": [
        "# 전역 탐색으로 최종 모델 학습할 때 사용한 데이터와 같은 형태 맞춤\n",
        "new_route_sub = sm.add_constant(new_route[list(best_subset)].astype(float), has_constant='add')\n",
        "new_route_sub"
      ],
      "metadata": {
        "id": "79b1z2PX2FQE",
        "outputId": "a136aafe-d396-4bf1-90c3-5ce43d4c7441",
        "colab": {
          "base_uri": "https://localhost:8080/",
          "height": 321
        }
      },
      "execution_count": 46,
      "outputs": [
        {
          "output_type": "error",
          "ename": "KeyError",
          "evalue": "\"None of [Index(['FARE'], dtype='object')] are in the [columns]\"",
          "traceback": [
            "\u001b[0;31m---------------------------------------------------------------------------\u001b[0m",
            "\u001b[0;31mKeyError\u001b[0m                                  Traceback (most recent call last)",
            "\u001b[0;32m<ipython-input-46-2d314b8d79d7>\u001b[0m in \u001b[0;36m<cell line: 0>\u001b[0;34m()\u001b[0m\n\u001b[1;32m      1\u001b[0m \u001b[0;31m# 전역 탐색으로 최종 모델 학습할 때 사용한 데이터와 같은 형태 맞춤\u001b[0m\u001b[0;34m\u001b[0m\u001b[0;34m\u001b[0m\u001b[0m\n\u001b[0;32m----> 2\u001b[0;31m \u001b[0mnew_route_sub\u001b[0m \u001b[0;34m=\u001b[0m \u001b[0msm\u001b[0m\u001b[0;34m.\u001b[0m\u001b[0madd_constant\u001b[0m\u001b[0;34m(\u001b[0m\u001b[0mnew_route\u001b[0m\u001b[0;34m[\u001b[0m\u001b[0mlist\u001b[0m\u001b[0;34m(\u001b[0m\u001b[0mbest_subset\u001b[0m\u001b[0;34m)\u001b[0m\u001b[0;34m]\u001b[0m\u001b[0;34m.\u001b[0m\u001b[0mastype\u001b[0m\u001b[0;34m(\u001b[0m\u001b[0mfloat\u001b[0m\u001b[0;34m)\u001b[0m\u001b[0;34m,\u001b[0m \u001b[0mhas_constant\u001b[0m\u001b[0;34m=\u001b[0m\u001b[0;34m'add'\u001b[0m\u001b[0;34m)\u001b[0m\u001b[0;34m\u001b[0m\u001b[0;34m\u001b[0m\u001b[0m\n\u001b[0m\u001b[1;32m      3\u001b[0m \u001b[0mnew_route_sub\u001b[0m\u001b[0;34m\u001b[0m\u001b[0;34m\u001b[0m\u001b[0m\n",
            "\u001b[0;32m/usr/local/lib/python3.11/dist-packages/pandas/core/frame.py\u001b[0m in \u001b[0;36m__getitem__\u001b[0;34m(self, key)\u001b[0m\n\u001b[1;32m   4106\u001b[0m             \u001b[0;32mif\u001b[0m \u001b[0mis_iterator\u001b[0m\u001b[0;34m(\u001b[0m\u001b[0mkey\u001b[0m\u001b[0;34m)\u001b[0m\u001b[0;34m:\u001b[0m\u001b[0;34m\u001b[0m\u001b[0;34m\u001b[0m\u001b[0m\n\u001b[1;32m   4107\u001b[0m                 \u001b[0mkey\u001b[0m \u001b[0;34m=\u001b[0m \u001b[0mlist\u001b[0m\u001b[0;34m(\u001b[0m\u001b[0mkey\u001b[0m\u001b[0;34m)\u001b[0m\u001b[0;34m\u001b[0m\u001b[0;34m\u001b[0m\u001b[0m\n\u001b[0;32m-> 4108\u001b[0;31m             \u001b[0mindexer\u001b[0m \u001b[0;34m=\u001b[0m \u001b[0mself\u001b[0m\u001b[0;34m.\u001b[0m\u001b[0mcolumns\u001b[0m\u001b[0;34m.\u001b[0m\u001b[0m_get_indexer_strict\u001b[0m\u001b[0;34m(\u001b[0m\u001b[0mkey\u001b[0m\u001b[0;34m,\u001b[0m \u001b[0;34m\"columns\"\u001b[0m\u001b[0;34m)\u001b[0m\u001b[0;34m[\u001b[0m\u001b[0;36m1\u001b[0m\u001b[0;34m]\u001b[0m\u001b[0;34m\u001b[0m\u001b[0;34m\u001b[0m\u001b[0m\n\u001b[0m\u001b[1;32m   4109\u001b[0m \u001b[0;34m\u001b[0m\u001b[0m\n\u001b[1;32m   4110\u001b[0m         \u001b[0;31m# take() does not accept boolean indexers\u001b[0m\u001b[0;34m\u001b[0m\u001b[0;34m\u001b[0m\u001b[0m\n",
            "\u001b[0;32m/usr/local/lib/python3.11/dist-packages/pandas/core/indexes/base.py\u001b[0m in \u001b[0;36m_get_indexer_strict\u001b[0;34m(self, key, axis_name)\u001b[0m\n\u001b[1;32m   6198\u001b[0m             \u001b[0mkeyarr\u001b[0m\u001b[0;34m,\u001b[0m \u001b[0mindexer\u001b[0m\u001b[0;34m,\u001b[0m \u001b[0mnew_indexer\u001b[0m \u001b[0;34m=\u001b[0m \u001b[0mself\u001b[0m\u001b[0;34m.\u001b[0m\u001b[0m_reindex_non_unique\u001b[0m\u001b[0;34m(\u001b[0m\u001b[0mkeyarr\u001b[0m\u001b[0;34m)\u001b[0m\u001b[0;34m\u001b[0m\u001b[0;34m\u001b[0m\u001b[0m\n\u001b[1;32m   6199\u001b[0m \u001b[0;34m\u001b[0m\u001b[0m\n\u001b[0;32m-> 6200\u001b[0;31m         \u001b[0mself\u001b[0m\u001b[0;34m.\u001b[0m\u001b[0m_raise_if_missing\u001b[0m\u001b[0;34m(\u001b[0m\u001b[0mkeyarr\u001b[0m\u001b[0;34m,\u001b[0m \u001b[0mindexer\u001b[0m\u001b[0;34m,\u001b[0m \u001b[0maxis_name\u001b[0m\u001b[0;34m)\u001b[0m\u001b[0;34m\u001b[0m\u001b[0;34m\u001b[0m\u001b[0m\n\u001b[0m\u001b[1;32m   6201\u001b[0m \u001b[0;34m\u001b[0m\u001b[0m\n\u001b[1;32m   6202\u001b[0m         \u001b[0mkeyarr\u001b[0m \u001b[0;34m=\u001b[0m \u001b[0mself\u001b[0m\u001b[0;34m.\u001b[0m\u001b[0mtake\u001b[0m\u001b[0;34m(\u001b[0m\u001b[0mindexer\u001b[0m\u001b[0;34m)\u001b[0m\u001b[0;34m\u001b[0m\u001b[0;34m\u001b[0m\u001b[0m\n",
            "\u001b[0;32m/usr/local/lib/python3.11/dist-packages/pandas/core/indexes/base.py\u001b[0m in \u001b[0;36m_raise_if_missing\u001b[0;34m(self, key, indexer, axis_name)\u001b[0m\n\u001b[1;32m   6247\u001b[0m         \u001b[0;32mif\u001b[0m \u001b[0mnmissing\u001b[0m\u001b[0;34m:\u001b[0m\u001b[0;34m\u001b[0m\u001b[0;34m\u001b[0m\u001b[0m\n\u001b[1;32m   6248\u001b[0m             \u001b[0;32mif\u001b[0m \u001b[0mnmissing\u001b[0m \u001b[0;34m==\u001b[0m \u001b[0mlen\u001b[0m\u001b[0;34m(\u001b[0m\u001b[0mindexer\u001b[0m\u001b[0;34m)\u001b[0m\u001b[0;34m:\u001b[0m\u001b[0;34m\u001b[0m\u001b[0;34m\u001b[0m\u001b[0m\n\u001b[0;32m-> 6249\u001b[0;31m                 \u001b[0;32mraise\u001b[0m \u001b[0mKeyError\u001b[0m\u001b[0;34m(\u001b[0m\u001b[0;34mf\"None of [{key}] are in the [{axis_name}]\"\u001b[0m\u001b[0;34m)\u001b[0m\u001b[0;34m\u001b[0m\u001b[0;34m\u001b[0m\u001b[0m\n\u001b[0m\u001b[1;32m   6250\u001b[0m \u001b[0;34m\u001b[0m\u001b[0m\n\u001b[1;32m   6251\u001b[0m             \u001b[0mnot_found\u001b[0m \u001b[0;34m=\u001b[0m \u001b[0mlist\u001b[0m\u001b[0;34m(\u001b[0m\u001b[0mensure_index\u001b[0m\u001b[0;34m(\u001b[0m\u001b[0mkey\u001b[0m\u001b[0;34m)\u001b[0m\u001b[0;34m[\u001b[0m\u001b[0mmissing_mask\u001b[0m\u001b[0;34m.\u001b[0m\u001b[0mnonzero\u001b[0m\u001b[0;34m(\u001b[0m\u001b[0;34m)\u001b[0m\u001b[0;34m[\u001b[0m\u001b[0;36m0\u001b[0m\u001b[0;34m]\u001b[0m\u001b[0;34m]\u001b[0m\u001b[0;34m.\u001b[0m\u001b[0munique\u001b[0m\u001b[0;34m(\u001b[0m\u001b[0;34m)\u001b[0m\u001b[0;34m)\u001b[0m\u001b[0;34m\u001b[0m\u001b[0;34m\u001b[0m\u001b[0m\n",
            "\u001b[0;31mKeyError\u001b[0m: \"None of [Index(['FARE'], dtype='object')] are in the [columns]\""
          ]
        }
      ]
    },
    {
      "cell_type": "code",
      "source": [
        "# (iii)에서 얻은 모델 예측에 사용, SW 값을 No로 설정\n",
        "new_route_sub['SW_Yes'] = 0\n",
        "predicted_y = best_model.predict(new_route_sub).values[0]\n",
        "print(\"예측값:\", predicted_y)"
      ],
      "metadata": {
        "id": "vZhizviQYnaK"
      },
      "execution_count": null,
      "outputs": []
    },
    {
      "cell_type": "markdown",
      "source": [
        "**vi. (v)에서 사우스웨스트가 이 노선을 운행한다고 결정할 경우, 이 노선의 평균 운임 감소율을 예측하시오(모델(iii)을 사용하시오).**"
      ],
      "metadata": {
        "id": "XUVr6S5eNlSO"
      }
    },
    {
      "cell_type": "code",
      "source": [
        "# SW 값을 Yes로 바꾼 상태에서 예측 수행\n",
        "new_route_sub['SW_Yes'] = 1\n",
        "predicted_y_sw = best_model.predict(new_route_sub).values[0]\n",
        "print(\"예측값:\", predicted_y_sw)\n",
        "\n",
        "decrease_pct = (predicted_y - predicted_y_sw) / predicted_y * 100\n",
        "print(f\"SW로 인한 운임 감소율: {decrease_pct:.2f}%\")"
      ],
      "metadata": {
        "id": "BQf4ONCS6g0n"
      },
      "execution_count": null,
      "outputs": []
    },
    {
      "cell_type": "markdown",
      "source": [
        "- SW 값이 No일 때 운임 예측값: 249.37\n",
        "- SW 값이 Yes일 때 운임 예측값: 209.57\n",
        "\n",
        "운임 감소율: 15.96%"
      ],
      "metadata": {
        "id": "m3bZEhFlK2Tb"
      }
    },
    {
      "cell_type": "markdown",
      "source": [
        "**vii. (노선에 항공편을 운행하기 전에) 신공항의 평균 운임을 예측하는 데 현실적으로 사용할 수 없는 요인에는 어떤 것들이 있는가? 어떤 요인들을 추정할 수 있고 어떻게 하면되는가?**"
      ],
      "metadata": {
        "id": "6QXy_eaoN2E-"
      }
    },
    {
      "cell_type": "markdown",
      "source": [
        "- 현실적으로 사용할 수 없는 요인\n",
        "\n",
        "(노선에 항공편을 운행하기 전에) 신공항의 평균 운임을 예측하는 데 현실적으로 사용할 수 없는 요인에는 승객수, 사우스웨스트항공사가 해당 노선을 실제로 운행하는지 여부, 휴양지 노선 여부가 있다.\n",
        "\n",
        "승객 수는 아직 노선이 운행하기 전이므로, 측정할 수가 없다.\n",
        "\n",
        "특정 항공사(사우스웨스트항공사)가 해당 노선을 실제로 운행할지 여부 역시 사전에 알기 어렵다.\n",
        "\n",
        "휴양지 노선 여부는 그 기준이 주관적이고,  사후판단일 가능성이 있다.\n",
        "\n",
        "- 추정할 수 있는 방법\n",
        "\n",
        "승객 수는 다른 유사한 노선을 통해 예측할 수 있다.\n",
        "\n",
        "특정항공사(사우스웨스트항공사)가 해당 노선을 실제로 운행할지 여부는 특정 항공사가 운행하는 노선의 공통점을 파악하거나 보유한 비행기 종류로 예측할 수 있다.\n",
        "\n",
        "휴양지 노선 여부는 휴양지 노선으로 이미 정해진 노선의 특징을 노선과 비교해보면서 예측할 수 있다."
      ],
      "metadata": {
        "id": "wWTLDzh88CGc"
      }
    },
    {
      "cell_type": "markdown",
      "source": [
        "**viii. 새로운 노선에 운행이 개시되기 전에 사용될 수 있는 요인들만 포함한 모델을 선택하시오. 전역 탐색 방법을 사용하시오.**"
      ],
      "metadata": {
        "id": "JH_c-PRqUTDD"
      }
    },
    {
      "cell_type": "code",
      "source": [
        "# (III)에서 사용한 전역 탐색 코드 사용\n",
        "candidates = list(X_train.columns)  # 총 13개 독립 변수\n",
        "\n",
        "# (vii)에서 결정한 변수들 제거\n",
        "candidates.remove('VACATION_Yes')\n",
        "candidates.remove('SW_Yes')\n",
        "candidates.remove('PAX')\n",
        "\n",
        "best_adj_r2 = -np.inf  # 지금까지 찾은 최고 성능(조정된 결정계수)를 저장할 변수 / -np.inf“가장 작은 값”이라는 뜻(최댓값 찾을 때 초기값으로 자주 씀).\n",
        "best_subset_new = None     # 최고 성능 모델의 변수 조합을 저장할 변수\n",
        "best_model_new = None      # 최고 성능 모델 객체 자체를 저장할 변수\n",
        "\n",
        "# 변수 개수별 부분집합 생성(실전에서는 1~10개 정도까지만 권장)\n",
        "for k in range(1, len(candidates)+1):\n",
        "    for combo in itertools.combinations(candidates, k):    # 주어진 리스트에서 k개를 뽑는 모든 조합을 자동으로 만듦.\n",
        "        X_sub = sm.add_constant(X_train[list(combo)].astype(float))   # combo : 현재 변수 조합에 해당하는 열만 뽑은 DataFrame / 절편 추가\n",
        "        model = sm.OLS(y_train, X_sub).fit()   # OLS(최소제곱회귀)로 현재 변수 조합을 사용해서 회귀모델 학습\n",
        "        if model.rsquared_adj > best_adj_r2:   # 방금 학습한 모델의 조정된 결정계수(Adjusted R²) 가\n",
        "            best_adj_r2 = model.rsquared_adj   # 지금까지 중에 최고면, 값을 “최고 기록”으로 업데이트.\n",
        "            best_subset_new = combo\n",
        "            best_model_new = model\n",
        "\n",
        "print(\"▶ Best Subset Variables:\", best_subset_new)\n",
        "print(\"▶ Best Adjusted R²:\", best_adj_r2)\n"
      ],
      "metadata": {
        "id": "Xod5KzuM8AZe"
      },
      "execution_count": null,
      "outputs": []
    },
    {
      "cell_type": "markdown",
      "source": [
        "**ix. 모델(viii)를 사용해 다음 특징을 가진 노선의 평균 운임을 예측하시오.\n",
        "COUPON=1.202, NEW=3, Vacation=No, SW= No, Hi=4442.141, S_INCOME= \\$28760, E_INCOME= \\$27644, S_POP=4557004, E_POP=3195503, SLOT=Free, GATE=Free, PAX=12782, DISTANCE=1976 miles**"
      ],
      "metadata": {
        "id": "NY5N9zpsOImL"
      }
    },
    {
      "cell_type": "code",
      "source": [
        "# 모델 (viii)의 학습 데이터의 형식에 맞게 new_route_new 정의\n",
        "new_route_new = sm.add_constant(new_route[list(best_subset_new)].astype(float), has_constant='add')\n",
        "new_route_new"
      ],
      "metadata": {
        "id": "U-0hIJBpIcOp",
        "outputId": "64f98e65-dde2-4da2-b9a5-d50ebd90f5b7",
        "colab": {
          "base_uri": "https://localhost:8080/",
          "height": 176
        }
      },
      "execution_count": 47,
      "outputs": [
        {
          "output_type": "error",
          "ename": "NameError",
          "evalue": "name 'best_subset_new' is not defined",
          "traceback": [
            "\u001b[0;31m---------------------------------------------------------------------------\u001b[0m",
            "\u001b[0;31mNameError\u001b[0m                                 Traceback (most recent call last)",
            "\u001b[0;32m<ipython-input-47-484b2d844a0d>\u001b[0m in \u001b[0;36m<cell line: 0>\u001b[0;34m()\u001b[0m\n\u001b[1;32m      1\u001b[0m \u001b[0;31m# 모델 (viii)의 학습 데이터의 형식에 맞게 new_route_new 정의\u001b[0m\u001b[0;34m\u001b[0m\u001b[0;34m\u001b[0m\u001b[0m\n\u001b[0;32m----> 2\u001b[0;31m \u001b[0mnew_route_new\u001b[0m \u001b[0;34m=\u001b[0m \u001b[0msm\u001b[0m\u001b[0;34m.\u001b[0m\u001b[0madd_constant\u001b[0m\u001b[0;34m(\u001b[0m\u001b[0mnew_route\u001b[0m\u001b[0;34m[\u001b[0m\u001b[0mlist\u001b[0m\u001b[0;34m(\u001b[0m\u001b[0mbest_subset_new\u001b[0m\u001b[0;34m)\u001b[0m\u001b[0;34m]\u001b[0m\u001b[0;34m.\u001b[0m\u001b[0mastype\u001b[0m\u001b[0;34m(\u001b[0m\u001b[0mfloat\u001b[0m\u001b[0;34m)\u001b[0m\u001b[0;34m,\u001b[0m \u001b[0mhas_constant\u001b[0m\u001b[0;34m=\u001b[0m\u001b[0;34m'add'\u001b[0m\u001b[0;34m)\u001b[0m\u001b[0;34m\u001b[0m\u001b[0;34m\u001b[0m\u001b[0m\n\u001b[0m\u001b[1;32m      3\u001b[0m \u001b[0mnew_route_new\u001b[0m\u001b[0;34m\u001b[0m\u001b[0;34m\u001b[0m\u001b[0m\n",
            "\u001b[0;31mNameError\u001b[0m: name 'best_subset_new' is not defined"
          ]
        }
      ]
    },
    {
      "cell_type": "code",
      "source": [
        "# 모델 (viii)를 사용해 예측 수행\n",
        "predicted_y_new = best_model_new.predict(new_route_new).values[0]\n",
        "print(\"예측값:\", predicted_y_new)"
      ],
      "metadata": {
        "id": "N_4ADXgKJaBF"
      },
      "execution_count": null,
      "outputs": []
    },
    {
      "cell_type": "markdown",
      "source": [
        "**x. 이 모델과 모델(iii)의 예측 정확도를 비교하시오. 이 모델은 충분히 좋은가? 일단 신규 노선의 운행을 시작하고 난 후, 모델을 재평가할 필요가 있겠는가?**"
      ],
      "metadata": {
        "id": "Rblua8VCO8fG"
      }
    },
    {
      "cell_type": "code",
      "source": [
        "# 예측 정확도 지표 계산을 위한 전역탐색 변수 생성\n",
        "# 1. 검증세트에서 전역탐색으로 뽑힌 변수만 추출\n",
        "X_valid_new = X_valid[list(best_subset_new)]  # 사전에 알 수 있는 정보만 사용한 모델에서 나온 subset 사용\n",
        "X_valid_new_const = sm.add_constant(X_valid_new)\n",
        "\n",
        "# 2. 예측 (사전에 알 수 있는 정보만 사용해서 학습시킨 모델)\n",
        "y_pred_new = best_model_new.predict(X_valid_new_const)\n",
        "\n",
        "# 평가지표 (RMSE)\n",
        "def rmse(y_true, y_pred):                           # 실제값과 예측값의 차이를 제곱해서 평균낸 뒤, 다시 루트(제곱근)\n",
        "    return np.sqrt(np.mean((y_true - y_pred)**2))   # 오차가 클수록 더 불리하게 반영\n",
        "\n",
        "rmse_new = rmse(y_valid, y_pred_new)\n",
        "print(\"New Best Model - RMSE:\", rmse_new)"
      ],
      "metadata": {
        "id": "uCEk2EL7KTdh"
      },
      "execution_count": null,
      "outputs": []
    },
    {
      "cell_type": "markdown",
      "source": [
        "\n",
        "|            | RMSE | Adjusted R² |\n",
        "| ---------- | :-----------: | :---------: |\n",
        "| 모델 (iii)   |     35.30     |    0.7738    |\n",
        "| 모델 (viii) |     41.27     |    0.6794    |\n",
        "\n",
        "1. 예측정확도\n",
        "RMSE 값을 비교:\n",
        "RMSE값이 작을수록 모델의 예측력 정확\n",
        "모델(iii)의 예측정확도가 더 높음.\n",
        "2. 설명력\n",
        "Adjusted R²값을 비교:\n",
        "Adjusted R²값이 클수록 모델의 설명력 향상\n",
        "모델(iii)의 설명력이 더 좋음.\n",
        "\n",
        "- 값의 차이가 꽤 유의미하므로, 사전에 알 수 없는 정보라고 여겨지던 휴양지노선 여부, 특정항공사 노선 진입할지 여부, 승객 수 변수가 결과값에 영향력이 높았음을 파악할 수 있다.\n",
        "- 노선이 실제로 설치되고, 승객 수, 특정항공사가 노선에 진입한지 여부 등을 업데이트하여 모델의 정확도를 높일 필요가 있다."
      ],
      "metadata": {
        "id": "t93adaiGOBkz"
      }
    },
    {
      "cell_type": "markdown",
      "source": [
        "# **C-d : 노선 운임 예측 → 사우스웨스트 등장이 미치는 영향 평가 / 분석 과정의 변화 (기술적, 개념적)**"
      ],
      "metadata": {
        "id": "G_A64zarjtaN"
      }
    },
    {
      "cell_type": "markdown",
      "source": [
        "사우스웨스트 항공의 영향 평가 및 분석 과정 변화\n",
        "\n",
        "I. 사우스웨스트 등장이 미치는 영향\n",
        "\n",
        "    1. 직접적 영향\n",
        "\n",
        "        1) 운임 효과\n",
        "            - SW 취항 노선: $98.38\n",
        "            - 미취항 노선: $188.18\n",
        "            - 평균 운임 감소: -$89.80 (-47.7%)\n",
        "        - 이는 단일 항공사 등장만으로도 운임이 절반 수준으로 하락했다는 강력한 정량적 증거임.\n",
        "\n",
        "        2) 시장 구조 변화\n",
        "            - 사우스웨스트는 저비용 구조(LCC)를 무기로 삼아 시장에 진입\n",
        "            - 결과적으로\n",
        "                - 경쟁 강도 증가\n",
        "                - 시장 집중도 감소\n",
        "                - 진입 장벽 완화\n",
        "\n",
        "    2. 간접적 영향\n",
        "\n",
        "        1) 산업 구조적 변화\n",
        "            - 저비용 항공사 모델 확산\n",
        "            - 기존 항공사 운영 모델 변화\n",
        "            - 산업 표준의 재정립\n",
        "\n",
        "        2) 소비자 혜택\n",
        "            - 항공 운임 전반적 하락\n",
        "            - 소비자 입장에서 선택의 폭과 가격 대비 서비스 가치가 증가\n",
        "\n",
        "\n",
        "II. 분석 과정의 변화\n",
        "\n",
        "    1. 기술적 변화 (Technical Changes)\n",
        "\n",
        "        A. 데이터 분석 방법\n",
        "            1) 초기 분석\n",
        "                - 단순 평균 비교\n",
        "                - 상관계수만을 활용한 1차 분석\n",
        "\n",
        "            2) 고도화된 분석\n",
        "                - 다변량 회귀분석\n",
        "                - 교차검증\n",
        "                - 예측모델 구축 (R² = 0.838, RMSE = 31.42)\n",
        "                - 가변수 처리 및 상호작용 변수 생성을 통해 범주형 변수도 효과적으로 포함\n",
        "\n",
        "        B. 모델링 접근법\n",
        "\n",
        "            1) 변수 처리\n",
        "                - 범주형 변수 더미화\n",
        "                - 변수 간 상호작용 고려\n",
        "                - 다차원 변수 통합\n",
        "\n",
        "            2) 분석 기법 고도화\n",
        "                - 고급 통계 기법 적용\n",
        "                - 모델 검증 강화\n",
        "                - 예측력 평가 체계화\n",
        "\n",
        "    2. 개념적 변화 (Conceptual Changes)\n",
        "\n",
        "        A. 분석 관점 확장\n",
        "\n",
        "            1) 단순 효과에서 구조적 분석으로\n",
        "                - 시장 구조 변화 분석\n",
        "                - 경쟁 동태성 고려\n",
        "                - 장기 영향 평가\n",
        "\n",
        "            2) 다차원적 접근\n",
        "                - 직접 효과: 운임 인하, 항공 수요 변화\n",
        "                - 간접 효과: 산업 표준 재편, 소비자 혜택 증대, 정책적 시사점 확대\n",
        "\n",
        "        B. 해석의 심화\n",
        "\n",
        "            1) 직접 효과 분석\n",
        "                - 운임 변화\n",
        "                - 시장 점유율\n",
        "                - 경쟁 구도\n",
        "\n",
        "            2) 간접 효과 분석\n",
        "                - 산업 구조 재편\n",
        "                - 혁신 확산\n",
        "                - 소비자 행동 변화\n",
        "\n",
        "\n",
        "III. 종합 평가\n",
        "\n",
        "    1. 분석의 발전\n",
        "        - 단순 가격 분석에서 구조적 분석으로 진화\n",
        "        - 다차원적 접근 방법 도입\n",
        "        - 장기적 영향 고려 강화\n",
        "\n",
        "    2. 주요 발견사항\n",
        "\n",
        "        1) 정량적 발견\n",
        "            - 유의미한 운임 감소 효과\n",
        "            - 높은 모델 설명력\n",
        "            - 안정적 예측 성능\n",
        "\n",
        "        2) 정성적 발견\n",
        "            - 시장 구조 변화\n",
        "            - 산업 혁신 촉진\n",
        "            - 소비자 후생 증대\n",
        "\n",
        "    3. 시사점\n",
        "        1) 학술적 시사점\n",
        "            - 항공운임 분석에 있어 사우스웨스트는 구조적 변수로 간주 가능. 가격 결정 모형 정교화 가능\n",
        "\n",
        "        2) 실무적 시사점\n",
        "            - 경쟁 정책 수립 근거\n",
        "            - 기업 전략 수립 지침\n",
        "            - 산업 발전 방향 제시\n",
        "\n",
        "\n",
        "\n",
        "\n",
        "\n",
        "사우스웨스트 항공의 등장이 미친 혁명적 변화\n",
        "사우스웨스트 항공의 등장은 항공 산업에 혁명적인 변화를 가져왔다고 볼 수 있다. 가장 눈에 띄는 변화는 운임의 극적인 감소다.\n",
        "\n",
        "분석 결과에 따르면, 사우스웨스트가 취항한 노선의 평균 운임은 98.38달러로, 취항하지 않은 노선의 188.18달러와 비교하면 거의 절반 수준으로 낮아졌다. 이는 단순히 숫자상의 변화에 그치지 않고, 항공 여행을 더 많은 사람들이 이용할 수 있게 만든 중요한 전환점이었다.\n",
        "\n",
        "시장 구조의 재편성과 산업 전반의 혁신\n",
        "사우스웨스트의 진입은 시장 구조 자체를 변화시켰다. 기존에는 소수의 대형 항공사들이 시장을 지배했지만, 사우스웨스트의 등장으로 인해 경쟁이 활성화되었다. 이는 전반적인 서비스 향상과 운영 효율성 증대로 이어졌다.\n",
        "\n",
        "특히, 저비용 항공사(LCC) 모델을 성공적으로 정착시킴으로써, 다른 항공사들도 이를 벤치마킹하게 되었고, 결과적으로 산업 전체의 혁신을 유도하게 되었다. 사우스웨스트는 단순한 경쟁자가 아니라 산업 패러다임을 바꾼 선도자였다.\n",
        "\n",
        "부정적 측면과 균형 잡힌 시각\n",
        "물론 이러한 변화가 모든 면에서 긍정적인 것만은 아니었다. 기존 항공사들은 수익성 악화라는 큰 도전에 직면했으며, 과도한 가격 경쟁으로 인해 서비스 품질 저하에 대한 우려도 발생했다.\n",
        "\n",
        "그럼에도 불구하고, 소비자 입장에서 선택권이 넓어지고, 항공 여행이 보다 접근 가능한 서비스로 변화했다는 점에서, 전체적으로는 긍정적인 변화로 평가할 수 있다.\n",
        "\n",
        "데이터 분석을 통한 실증적 검증\n",
        "우리가 수행한 분석에서도 사우스웨스트의 영향력은 통계적으로 유의미하게 나타났다. **모델의 설명력(R² = 0.838)**이 매우 높게 나타났다는 점은, 사우스웨스트의 존재가 운임 결정에 실제로 매우 큰 영향을 미쳤다는 사실을 뒷받침한다.\n",
        "\n",
        "결론: 항공 산업의 패러다임 전환 사례\n",
        "결론적으로, 사우스웨스트 항공의 시장 진입은 단순한 기업의 진입을 넘어서, 항공 산업 전체의 패러다임을 바꾼 혁신적 사례로 평가할 수 있다.\n",
        "\n",
        "이는 경쟁을 통한 시장 효율성 증대와 소비자 후생 향상이라는 경제학의 기본 원리를 실제로 보여준 훌륭한 사례이며, 향후 유사 산업 분석이나 정책 설계에도 중요한 실증적 프레임워크를 제공한다."
      ],
      "metadata": {
        "id": "gf4PIz_RsDZN"
      }
    },
    {
      "cell_type": "markdown",
      "source": [
        "실습 코드"
      ],
      "metadata": {
        "id": "NKRPIaKAunYT"
      }
    },
    {
      "cell_type": "code",
      "source": [
        "import pandas as pd\n",
        "import matplotlib.pyplot as plt\n",
        "import seaborn as sns\n",
        "from sklearn.linear_model import LinearRegression\n",
        "from scipy.stats import ttest_ind\n",
        "\n",
        "# 데이터 불러오기\n",
        "df = pd.read_csv(\"Airfares.csv\")\n",
        "\n",
        "#1. SW 유무에 따른 평균 운임 비교\n",
        "plt.figure(figsize=(8, 5))\n",
        "sns.boxplot(x='SW', y='FARE', data=df)\n",
        "plt.title('SW 운항 여부에 따른 평균 운임 분포')\n",
        "plt.show()\n",
        "\n",
        "#2. SW 유무에 따른 평균 FARE 차이 + 통계 검정\n",
        "sw_yes = df[df['SW'] == 'Yes']['FARE']\n",
        "sw_no = df[df['SW'] == 'No']['FARE']\n",
        "\n",
        "t_stat, p_value = ttest_ind(sw_yes, sw_no, equal_var=False)\n",
        "print(f\"평균 운임 (SW=Yes): ${sw_yes.mean():.2f}\")\n",
        "print(f\"평균 운임 (SW=No): ${sw_no.mean():.2f}\")\n",
        "print(f\"t-통계량: {t_stat:.4f}, p-value: {p_value:.4e}\")\n",
        "\n",
        "#3. SW와 DISTANCE 상호작용 효과 분석\n",
        "df['SW_bin'] = (df['SW'] == 'Yes').astype(int)\n",
        "df['Interaction'] = df['SW_bin'] * df['DISTANCE']\n",
        "\n",
        "X = df[['DISTANCE', 'SW_bin', 'Interaction']]\n",
        "y = df['FARE']\n",
        "\n",
        "model = LinearRegression()\n",
        "model.fit(X, y)\n",
        "\n",
        "print(\"\\n 상호작용 회귀계수:\")\n",
        "print(f\"DISTANCE 계수: {model.coef_[0]:.4f}\")\n",
        "print(f\"SW 계수: {model.coef_[1]:.4f}\")\n",
        "print(f\"상호작용(DISTANCE*SW) 계수: {model.coef_[2]:.4f}\")\n",
        "\n",
        "#4. 시각화 - 거리 대비 FARE, SW 여부에 따른 분포\n",
        "plt.figure(figsize=(10, 6))\n",
        "sns.scatterplot(data=df, x='DISTANCE', y='FARE', hue='SW', alpha=0.6)\n",
        "plt.title(\"거리(DISTANCE)에 따른 운임(FARE), SW 여부 비교\")\n",
        "plt.show()\n"
      ],
      "metadata": {
        "id": "fUk1yHiYulNI"
      },
      "execution_count": null,
      "outputs": []
    }
  ]
}