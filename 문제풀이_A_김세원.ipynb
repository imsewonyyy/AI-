{
  "nbformat": 4,
  "nbformat_minor": 0,
  "metadata": {
    "colab": {
      "provenance": []
    },
    "kernelspec": {
      "name": "python3",
      "display_name": "Python 3"
    },
    "language_info": {
      "name": "python"
    }
  },
  "cells": [
    {
      "cell_type": "markdown",
      "source": [
        "#1. 연습문제/과제풀이\n",
        "\n",
        "# A: 6장 신규노선 항공운임예측 풀기"
      ],
      "metadata": {
        "id": "ftY_88qlC06H"
      }
    },
    {
      "cell_type": "markdown",
      "source": [
        "먼저, 데이터 파일을 불러옴."
      ],
      "metadata": {
        "id": "-9uiNrG2DFu9"
      }
    },
    {
      "cell_type": "code",
      "execution_count": 2,
      "metadata": {
        "colab": {
          "base_uri": "https://localhost:8080/",
          "height": 76
        },
        "id": "_lWa1YELCU5e",
        "outputId": "bdc3ac07-0f3b-48a2-c512-eaaca914e41e"
      },
      "outputs": [
        {
          "output_type": "display_data",
          "data": {
            "text/plain": [
              "<IPython.core.display.HTML object>"
            ],
            "text/html": [
              "\n",
              "     <input type=\"file\" id=\"files-148012fc-00fb-492b-ae2c-07b6a139b174\" name=\"files[]\" multiple disabled\n",
              "        style=\"border:none\" />\n",
              "     <output id=\"result-148012fc-00fb-492b-ae2c-07b6a139b174\">\n",
              "      Upload widget is only available when the cell has been executed in the\n",
              "      current browser session. Please rerun this cell to enable.\n",
              "      </output>\n",
              "      <script>// Copyright 2017 Google LLC\n",
              "//\n",
              "// Licensed under the Apache License, Version 2.0 (the \"License\");\n",
              "// you may not use this file except in compliance with the License.\n",
              "// You may obtain a copy of the License at\n",
              "//\n",
              "//      http://www.apache.org/licenses/LICENSE-2.0\n",
              "//\n",
              "// Unless required by applicable law or agreed to in writing, software\n",
              "// distributed under the License is distributed on an \"AS IS\" BASIS,\n",
              "// WITHOUT WARRANTIES OR CONDITIONS OF ANY KIND, either express or implied.\n",
              "// See the License for the specific language governing permissions and\n",
              "// limitations under the License.\n",
              "\n",
              "/**\n",
              " * @fileoverview Helpers for google.colab Python module.\n",
              " */\n",
              "(function(scope) {\n",
              "function span(text, styleAttributes = {}) {\n",
              "  const element = document.createElement('span');\n",
              "  element.textContent = text;\n",
              "  for (const key of Object.keys(styleAttributes)) {\n",
              "    element.style[key] = styleAttributes[key];\n",
              "  }\n",
              "  return element;\n",
              "}\n",
              "\n",
              "// Max number of bytes which will be uploaded at a time.\n",
              "const MAX_PAYLOAD_SIZE = 100 * 1024;\n",
              "\n",
              "function _uploadFiles(inputId, outputId) {\n",
              "  const steps = uploadFilesStep(inputId, outputId);\n",
              "  const outputElement = document.getElementById(outputId);\n",
              "  // Cache steps on the outputElement to make it available for the next call\n",
              "  // to uploadFilesContinue from Python.\n",
              "  outputElement.steps = steps;\n",
              "\n",
              "  return _uploadFilesContinue(outputId);\n",
              "}\n",
              "\n",
              "// This is roughly an async generator (not supported in the browser yet),\n",
              "// where there are multiple asynchronous steps and the Python side is going\n",
              "// to poll for completion of each step.\n",
              "// This uses a Promise to block the python side on completion of each step,\n",
              "// then passes the result of the previous step as the input to the next step.\n",
              "function _uploadFilesContinue(outputId) {\n",
              "  const outputElement = document.getElementById(outputId);\n",
              "  const steps = outputElement.steps;\n",
              "\n",
              "  const next = steps.next(outputElement.lastPromiseValue);\n",
              "  return Promise.resolve(next.value.promise).then((value) => {\n",
              "    // Cache the last promise value to make it available to the next\n",
              "    // step of the generator.\n",
              "    outputElement.lastPromiseValue = value;\n",
              "    return next.value.response;\n",
              "  });\n",
              "}\n",
              "\n",
              "/**\n",
              " * Generator function which is called between each async step of the upload\n",
              " * process.\n",
              " * @param {string} inputId Element ID of the input file picker element.\n",
              " * @param {string} outputId Element ID of the output display.\n",
              " * @return {!Iterable<!Object>} Iterable of next steps.\n",
              " */\n",
              "function* uploadFilesStep(inputId, outputId) {\n",
              "  const inputElement = document.getElementById(inputId);\n",
              "  inputElement.disabled = false;\n",
              "\n",
              "  const outputElement = document.getElementById(outputId);\n",
              "  outputElement.innerHTML = '';\n",
              "\n",
              "  const pickedPromise = new Promise((resolve) => {\n",
              "    inputElement.addEventListener('change', (e) => {\n",
              "      resolve(e.target.files);\n",
              "    });\n",
              "  });\n",
              "\n",
              "  const cancel = document.createElement('button');\n",
              "  inputElement.parentElement.appendChild(cancel);\n",
              "  cancel.textContent = 'Cancel upload';\n",
              "  const cancelPromise = new Promise((resolve) => {\n",
              "    cancel.onclick = () => {\n",
              "      resolve(null);\n",
              "    };\n",
              "  });\n",
              "\n",
              "  // Wait for the user to pick the files.\n",
              "  const files = yield {\n",
              "    promise: Promise.race([pickedPromise, cancelPromise]),\n",
              "    response: {\n",
              "      action: 'starting',\n",
              "    }\n",
              "  };\n",
              "\n",
              "  cancel.remove();\n",
              "\n",
              "  // Disable the input element since further picks are not allowed.\n",
              "  inputElement.disabled = true;\n",
              "\n",
              "  if (!files) {\n",
              "    return {\n",
              "      response: {\n",
              "        action: 'complete',\n",
              "      }\n",
              "    };\n",
              "  }\n",
              "\n",
              "  for (const file of files) {\n",
              "    const li = document.createElement('li');\n",
              "    li.append(span(file.name, {fontWeight: 'bold'}));\n",
              "    li.append(span(\n",
              "        `(${file.type || 'n/a'}) - ${file.size} bytes, ` +\n",
              "        `last modified: ${\n",
              "            file.lastModifiedDate ? file.lastModifiedDate.toLocaleDateString() :\n",
              "                                    'n/a'} - `));\n",
              "    const percent = span('0% done');\n",
              "    li.appendChild(percent);\n",
              "\n",
              "    outputElement.appendChild(li);\n",
              "\n",
              "    const fileDataPromise = new Promise((resolve) => {\n",
              "      const reader = new FileReader();\n",
              "      reader.onload = (e) => {\n",
              "        resolve(e.target.result);\n",
              "      };\n",
              "      reader.readAsArrayBuffer(file);\n",
              "    });\n",
              "    // Wait for the data to be ready.\n",
              "    let fileData = yield {\n",
              "      promise: fileDataPromise,\n",
              "      response: {\n",
              "        action: 'continue',\n",
              "      }\n",
              "    };\n",
              "\n",
              "    // Use a chunked sending to avoid message size limits. See b/62115660.\n",
              "    let position = 0;\n",
              "    do {\n",
              "      const length = Math.min(fileData.byteLength - position, MAX_PAYLOAD_SIZE);\n",
              "      const chunk = new Uint8Array(fileData, position, length);\n",
              "      position += length;\n",
              "\n",
              "      const base64 = btoa(String.fromCharCode.apply(null, chunk));\n",
              "      yield {\n",
              "        response: {\n",
              "          action: 'append',\n",
              "          file: file.name,\n",
              "          data: base64,\n",
              "        },\n",
              "      };\n",
              "\n",
              "      let percentDone = fileData.byteLength === 0 ?\n",
              "          100 :\n",
              "          Math.round((position / fileData.byteLength) * 100);\n",
              "      percent.textContent = `${percentDone}% done`;\n",
              "\n",
              "    } while (position < fileData.byteLength);\n",
              "  }\n",
              "\n",
              "  // All done.\n",
              "  yield {\n",
              "    response: {\n",
              "      action: 'complete',\n",
              "    }\n",
              "  };\n",
              "}\n",
              "\n",
              "scope.google = scope.google || {};\n",
              "scope.google.colab = scope.google.colab || {};\n",
              "scope.google.colab._files = {\n",
              "  _uploadFiles,\n",
              "  _uploadFilesContinue,\n",
              "};\n",
              "})(self);\n",
              "</script> "
            ]
          },
          "metadata": {}
        },
        {
          "output_type": "stream",
          "name": "stdout",
          "text": [
            "Saving Airfares.csv to Airfares.csv\n"
          ]
        }
      ],
      "source": [
        "from google. colab import files\n",
        "uploaded=files.upload()"
      ]
    },
    {
      "cell_type": "markdown",
      "source": [
        "# a. 수치형 예측 변수들과 결과 변수인 운임(FARE)에 대한 표본 만들고 운임과 예측 변수들 사이의 상관도를 조사하시오. 어떤 예측 변수와 운임을 예측하는 데 최적의 예측 변수인가?"
      ],
      "metadata": {
        "id": "wiDkwtn3DOH0"
      }
    },
    {
      "cell_type": "markdown",
      "source": [
        "1. 수치형 변수 선택\n",
        "\n",
        "수치형(연속형) 변수만 대상으로 해야 하므로 범주형 변수는 제외하고 다음과 같은 변수들을 선택함:\n",
        "\n",
        "COUPON, NEW, HI, S_INCOME, E_INCOME, S_POP, E_POP, DISTANCE, PAX\n",
        "\n",
        "2. 운임(FARE)과의 상관계수 계산\n",
        "\n",
        "상관계수(Pearson correlation coefficient)를 FARE에 대해 계산하면, 어떤 변수가 운임과 직선적으로 얼마나 강한 관계를 가지는지 알 수 있음."
      ],
      "metadata": {
        "id": "qObxhty5DWSz"
      }
    },
    {
      "cell_type": "code",
      "source": [
        "import pandas as pd\n",
        "\n",
        "df = pd.read_csv(\"Airfares.csv\")\n",
        "\n",
        "# 수치형 변수만 필터링\n",
        "numeric_vars = ['COUPON', 'NEW', 'HI', 'S_INCOME', 'E_INCOME', 'S_POP', 'E_POP', 'DISTANCE', 'PAX', 'FARE']\n",
        "corr_matrix = df[numeric_vars].corr()\n",
        "\n",
        "# 운임(FARE)과 다른 변수들 간의 상관계수 정렬\n",
        "fare_corr = corr_matrix['FARE'].drop('FARE').sort_values(ascending=False)\n",
        "print(fare_corr)"
      ],
      "metadata": {
        "colab": {
          "base_uri": "https://localhost:8080/"
        },
        "id": "8aN56-VdDKr_",
        "outputId": "91ff1413-761b-4389-d58f-3e03fd414d82"
      },
      "execution_count": 3,
      "outputs": [
        {
          "output_type": "stream",
          "name": "stdout",
          "text": [
            "DISTANCE    0.670016\n",
            "COUPON      0.496537\n",
            "E_INCOME    0.326092\n",
            "E_POP       0.285043\n",
            "S_INCOME    0.209135\n",
            "S_POP       0.145097\n",
            "NEW         0.091730\n",
            "HI          0.025195\n",
            "PAX        -0.090705\n",
            "Name: FARE, dtype: float64\n"
          ]
        }
      ]
    },
    {
      "cell_type": "markdown",
      "source": [
        "운임(FARE)을 예측하는 데 있어 가장 효과적인 수치형 변수들을 파악하기 위해, 각 변수와 FARE 간의 Pearson 상관계수를 계산하였다. 상관계수가 클수록 두 변수 간의 선형적 관계가 강하다고 해석할 수 있다.\n",
        "\n",
        "* DISTANCE(거리) 변수는 운임과 가장 높은 양의 상관계수(0.6700)를 보여주며,\n",
        "운임 예측에 가장 효과적인 변수로 나타났다. 이는 항공 노선의 거리가 멀수록 평균 항공료가 높아지는 일반적인 경제 원칙과도 부합한다.\n",
        "\n",
        "* COUPON, E_INCOME도 다소 의미 있는 양의 상관을 보이며, 운임에 일정 수준의 영향을 주는 변수로 판단된다.\n",
        "\n",
        "* 반면 PAX(탑승객 수)는 음의 상관(-0.0907)을 보이며, 탑승객 수가 많을수록 운임이 낮아지는 경향을 나타낸다.\n",
        "\n",
        "* HI(시장 집중도)와 NEW(신규 항공사 수) 등은 상관도가 낮아 단일 변수로서의 예측력은 크지 않을 것으로 보인다.\n",
        "\n",
        "결론:\n",
        "\n",
        "운임(FARE)을 예측하는 데 **가장 효과적인 수치형 변수는 DISTANCE**이며, 그 다음으로 COUPON과 E_INCOME이 유의미한 예측력을 보였다."
      ],
      "metadata": {
        "id": "F7dt0hXhD4Wl"
      }
    },
    {
      "cell_type": "markdown",
      "source": [
        "# b. 범주형 예측 변수들(예: SW 등)에 대해 범주별로 평균 운임의 차이와 분산의 패턴을 분석하고, 어떤 범주형 예측 변수가 운임 예측에 가장 좋은지를 평가하라."
      ],
      "metadata": {
        "id": "1JuSMqZIESiw"
      }
    },
    {
      "cell_type": "markdown",
      "source": [
        "범주형 변수는 주로 다음과 같음:\n",
        "\n",
        "* SW : Southwest 항공 운항 여부 (Yes/No)\n",
        "\n",
        "* VACATION : 휴양지 여부 (Yes/No)\n",
        "\n",
        "* SLOT, GATE : 공항의 슬롯/게이트 제한 여부 (Free/Controlled)\n",
        "\n",
        "* NEW도 범주형으로 처리 가능\n",
        "\n",
        "이 중에서 **SW, VACATION, SLOT, GATE**를 주요 분석 대상으로 삼음."
      ],
      "metadata": {
        "id": "bsgqNEffEw7V"
      }
    },
    {
      "cell_type": "markdown",
      "source": [
        "그 다음, 각 범주형 변수의 그룹별 평균 운임 확인"
      ],
      "metadata": {
        "id": "cKR4dUZDFErC"
      }
    },
    {
      "cell_type": "code",
      "source": [
        "# SW 변수에 따른 평균 운임 확인\n",
        "print(df.groupby('SW')['FARE'].mean())\n",
        "print(df.groupby('SW')['FARE'].std())\n",
        "\n",
        "print(df.groupby('VACATION')['FARE'].mean())\n",
        "print(df.groupby('VACATION')['FARE'].std())\n",
        "\n",
        "print(df.groupby('SLOT')['FARE'].mean())\n",
        "print(df.groupby('GATE')['FARE'].mean())"
      ],
      "metadata": {
        "colab": {
          "base_uri": "https://localhost:8080/"
        },
        "id": "iZs2qaY9FKOD",
        "outputId": "57176df6-dab0-42ed-83ce-ebbee336eac6"
      },
      "execution_count": 4,
      "outputs": [
        {
          "output_type": "stream",
          "name": "stdout",
          "text": [
            "SW\n",
            "No     188.182793\n",
            "Yes     98.382268\n",
            "Name: FARE, dtype: float64\n",
            "SW\n",
            "No     70.558360\n",
            "Yes    44.795629\n",
            "Name: FARE, dtype: float64\n",
            "VACATION\n",
            "No     173.552500\n",
            "Yes    125.980882\n",
            "Name: FARE, dtype: float64\n",
            "VACATION\n",
            "No     81.086891\n",
            "Yes    44.102634\n",
            "Name: FARE, dtype: float64\n",
            "SLOT\n",
            "Controlled    186.059396\n",
            "Free          150.825680\n",
            "Name: FARE, dtype: float64\n",
            "GATE\n",
            "Constrained    193.129032\n",
            "Free           153.095953\n",
            "Name: FARE, dtype: float64\n"
          ]
        }
      ]
    },
    {
      "cell_type": "markdown",
      "source": [
        "따라서 결론은 이러함.\n",
        "\n",
        "* SW 변수는 Yes일 때 평균 운임이 훨씬 낮아짐 → 항공사 경쟁 효과로 해석 가능. 운임 예측에 매우 유의미.\n",
        "\n",
        "* **SLOT, GATE**는 제약이 있는 경우 운임이 높음 → 공항 인프라의 제약이 가격에 영향을 미친다는 해석.\n",
        "\n",
        "* **VACATION**은 유의미한 차이를 보일 수도 있지만 경우에 따라 차이가 작을 수 있음.\n",
        "\n",
        "결론적으로 운임 예측에 **가장 유효한 범주형 변수는 SW**로 나타났으며, SLOT, GATE도 유의미한 설명력을 가진다."
      ],
      "metadata": {
        "id": "htcqlMjuFSvX"
      }
    }
  ]
}