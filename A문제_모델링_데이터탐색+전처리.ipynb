{
  "nbformat": 4,
  "nbformat_minor": 0,
  "metadata": {
    "colab": {
      "provenance": [],
      "authorship_tag": "ABX9TyMFxCF5wUFxtQ6l+Pg3GPOQ",
      "include_colab_link": true
    },
    "kernelspec": {
      "name": "python3",
      "display_name": "Python 3"
    },
    "language_info": {
      "name": "python"
    }
  },
  "cells": [
    {
      "cell_type": "markdown",
      "metadata": {
        "id": "view-in-github",
        "colab_type": "text"
      },
      "source": [
        "<a href=\"https://colab.research.google.com/github/imsewonyyy/AI-/blob/main/A%EB%AC%B8%EC%A0%9C_%EB%AA%A8%EB%8D%B8%EB%A7%81_%EB%8D%B0%EC%9D%B4%ED%84%B0%ED%83%90%EC%83%89%2B%EC%A0%84%EC%B2%98%EB%A6%AC.ipynb\" target=\"_parent\"><img src=\"https://colab.research.google.com/assets/colab-badge.svg\" alt=\"Open In Colab\"/></a>"
      ]
    },
    {
      "cell_type": "code",
      "source": [
        "import numpy as np"
      ],
      "metadata": {
        "id": "PRNfJ-zmd6QB"
      },
      "execution_count": null,
      "outputs": []
    },
    {
      "cell_type": "code",
      "execution_count": null,
      "metadata": {
        "id": "oaDyYKc4_T9w",
        "colab": {
          "base_uri": "https://localhost:8080/",
          "height": 77
        },
        "outputId": "87f79064-0432-411d-dbfd-fbd7560345ef"
      },
      "outputs": [
        {
          "output_type": "display_data",
          "data": {
            "text/plain": [
              "<IPython.core.display.HTML object>"
            ],
            "text/html": [
              "\n",
              "     <input type=\"file\" id=\"files-02d32837-7ea3-4457-9c74-45befb853c53\" name=\"files[]\" multiple disabled\n",
              "        style=\"border:none\" />\n",
              "     <output id=\"result-02d32837-7ea3-4457-9c74-45befb853c53\">\n",
              "      Upload widget is only available when the cell has been executed in the\n",
              "      current browser session. Please rerun this cell to enable.\n",
              "      </output>\n",
              "      <script>// Copyright 2017 Google LLC\n",
              "//\n",
              "// Licensed under the Apache License, Version 2.0 (the \"License\");\n",
              "// you may not use this file except in compliance with the License.\n",
              "// You may obtain a copy of the License at\n",
              "//\n",
              "//      http://www.apache.org/licenses/LICENSE-2.0\n",
              "//\n",
              "// Unless required by applicable law or agreed to in writing, software\n",
              "// distributed under the License is distributed on an \"AS IS\" BASIS,\n",
              "// WITHOUT WARRANTIES OR CONDITIONS OF ANY KIND, either express or implied.\n",
              "// See the License for the specific language governing permissions and\n",
              "// limitations under the License.\n",
              "\n",
              "/**\n",
              " * @fileoverview Helpers for google.colab Python module.\n",
              " */\n",
              "(function(scope) {\n",
              "function span(text, styleAttributes = {}) {\n",
              "  const element = document.createElement('span');\n",
              "  element.textContent = text;\n",
              "  for (const key of Object.keys(styleAttributes)) {\n",
              "    element.style[key] = styleAttributes[key];\n",
              "  }\n",
              "  return element;\n",
              "}\n",
              "\n",
              "// Max number of bytes which will be uploaded at a time.\n",
              "const MAX_PAYLOAD_SIZE = 100 * 1024;\n",
              "\n",
              "function _uploadFiles(inputId, outputId) {\n",
              "  const steps = uploadFilesStep(inputId, outputId);\n",
              "  const outputElement = document.getElementById(outputId);\n",
              "  // Cache steps on the outputElement to make it available for the next call\n",
              "  // to uploadFilesContinue from Python.\n",
              "  outputElement.steps = steps;\n",
              "\n",
              "  return _uploadFilesContinue(outputId);\n",
              "}\n",
              "\n",
              "// This is roughly an async generator (not supported in the browser yet),\n",
              "// where there are multiple asynchronous steps and the Python side is going\n",
              "// to poll for completion of each step.\n",
              "// This uses a Promise to block the python side on completion of each step,\n",
              "// then passes the result of the previous step as the input to the next step.\n",
              "function _uploadFilesContinue(outputId) {\n",
              "  const outputElement = document.getElementById(outputId);\n",
              "  const steps = outputElement.steps;\n",
              "\n",
              "  const next = steps.next(outputElement.lastPromiseValue);\n",
              "  return Promise.resolve(next.value.promise).then((value) => {\n",
              "    // Cache the last promise value to make it available to the next\n",
              "    // step of the generator.\n",
              "    outputElement.lastPromiseValue = value;\n",
              "    return next.value.response;\n",
              "  });\n",
              "}\n",
              "\n",
              "/**\n",
              " * Generator function which is called between each async step of the upload\n",
              " * process.\n",
              " * @param {string} inputId Element ID of the input file picker element.\n",
              " * @param {string} outputId Element ID of the output display.\n",
              " * @return {!Iterable<!Object>} Iterable of next steps.\n",
              " */\n",
              "function* uploadFilesStep(inputId, outputId) {\n",
              "  const inputElement = document.getElementById(inputId);\n",
              "  inputElement.disabled = false;\n",
              "\n",
              "  const outputElement = document.getElementById(outputId);\n",
              "  outputElement.innerHTML = '';\n",
              "\n",
              "  const pickedPromise = new Promise((resolve) => {\n",
              "    inputElement.addEventListener('change', (e) => {\n",
              "      resolve(e.target.files);\n",
              "    });\n",
              "  });\n",
              "\n",
              "  const cancel = document.createElement('button');\n",
              "  inputElement.parentElement.appendChild(cancel);\n",
              "  cancel.textContent = 'Cancel upload';\n",
              "  const cancelPromise = new Promise((resolve) => {\n",
              "    cancel.onclick = () => {\n",
              "      resolve(null);\n",
              "    };\n",
              "  });\n",
              "\n",
              "  // Wait for the user to pick the files.\n",
              "  const files = yield {\n",
              "    promise: Promise.race([pickedPromise, cancelPromise]),\n",
              "    response: {\n",
              "      action: 'starting',\n",
              "    }\n",
              "  };\n",
              "\n",
              "  cancel.remove();\n",
              "\n",
              "  // Disable the input element since further picks are not allowed.\n",
              "  inputElement.disabled = true;\n",
              "\n",
              "  if (!files) {\n",
              "    return {\n",
              "      response: {\n",
              "        action: 'complete',\n",
              "      }\n",
              "    };\n",
              "  }\n",
              "\n",
              "  for (const file of files) {\n",
              "    const li = document.createElement('li');\n",
              "    li.append(span(file.name, {fontWeight: 'bold'}));\n",
              "    li.append(span(\n",
              "        `(${file.type || 'n/a'}) - ${file.size} bytes, ` +\n",
              "        `last modified: ${\n",
              "            file.lastModifiedDate ? file.lastModifiedDate.toLocaleDateString() :\n",
              "                                    'n/a'} - `));\n",
              "    const percent = span('0% done');\n",
              "    li.appendChild(percent);\n",
              "\n",
              "    outputElement.appendChild(li);\n",
              "\n",
              "    const fileDataPromise = new Promise((resolve) => {\n",
              "      const reader = new FileReader();\n",
              "      reader.onload = (e) => {\n",
              "        resolve(e.target.result);\n",
              "      };\n",
              "      reader.readAsArrayBuffer(file);\n",
              "    });\n",
              "    // Wait for the data to be ready.\n",
              "    let fileData = yield {\n",
              "      promise: fileDataPromise,\n",
              "      response: {\n",
              "        action: 'continue',\n",
              "      }\n",
              "    };\n",
              "\n",
              "    // Use a chunked sending to avoid message size limits. See b/62115660.\n",
              "    let position = 0;\n",
              "    do {\n",
              "      const length = Math.min(fileData.byteLength - position, MAX_PAYLOAD_SIZE);\n",
              "      const chunk = new Uint8Array(fileData, position, length);\n",
              "      position += length;\n",
              "\n",
              "      const base64 = btoa(String.fromCharCode.apply(null, chunk));\n",
              "      yield {\n",
              "        response: {\n",
              "          action: 'append',\n",
              "          file: file.name,\n",
              "          data: base64,\n",
              "        },\n",
              "      };\n",
              "\n",
              "      let percentDone = fileData.byteLength === 0 ?\n",
              "          100 :\n",
              "          Math.round((position / fileData.byteLength) * 100);\n",
              "      percent.textContent = `${percentDone}% done`;\n",
              "\n",
              "    } while (position < fileData.byteLength);\n",
              "  }\n",
              "\n",
              "  // All done.\n",
              "  yield {\n",
              "    response: {\n",
              "      action: 'complete',\n",
              "    }\n",
              "  };\n",
              "}\n",
              "\n",
              "scope.google = scope.google || {};\n",
              "scope.google.colab = scope.google.colab || {};\n",
              "scope.google.colab._files = {\n",
              "  _uploadFiles,\n",
              "  _uploadFilesContinue,\n",
              "};\n",
              "})(self);\n",
              "</script> "
            ]
          },
          "metadata": {}
        },
        {
          "output_type": "stream",
          "name": "stdout",
          "text": [
            "Saving Airfares.csv to Airfares (3).csv\n"
          ]
        }
      ],
      "source": [
        "import pandas as pd\n",
        "\n",
        "from google. colab import files\n",
        "uploaded=files.upload()"
      ]
    },
    {
      "cell_type": "code",
      "source": [
        "from google. colab import files\n",
        "uploaded=files.upload()"
      ],
      "metadata": {
        "colab": {
          "base_uri": "https://localhost:8080/",
          "height": 77
        },
        "id": "RmT2yIKgI5Fn",
        "outputId": "140a6c23-db2e-44ff-e9a9-a38ab04bff06"
      },
      "execution_count": null,
      "outputs": [
        {
          "output_type": "display_data",
          "data": {
            "text/plain": [
              "<IPython.core.display.HTML object>"
            ],
            "text/html": [
              "\n",
              "     <input type=\"file\" id=\"files-c2298bf3-5e57-4d9f-8a84-4a5bc75f2bdf\" name=\"files[]\" multiple disabled\n",
              "        style=\"border:none\" />\n",
              "     <output id=\"result-c2298bf3-5e57-4d9f-8a84-4a5bc75f2bdf\">\n",
              "      Upload widget is only available when the cell has been executed in the\n",
              "      current browser session. Please rerun this cell to enable.\n",
              "      </output>\n",
              "      <script>// Copyright 2017 Google LLC\n",
              "//\n",
              "// Licensed under the Apache License, Version 2.0 (the \"License\");\n",
              "// you may not use this file except in compliance with the License.\n",
              "// You may obtain a copy of the License at\n",
              "//\n",
              "//      http://www.apache.org/licenses/LICENSE-2.0\n",
              "//\n",
              "// Unless required by applicable law or agreed to in writing, software\n",
              "// distributed under the License is distributed on an \"AS IS\" BASIS,\n",
              "// WITHOUT WARRANTIES OR CONDITIONS OF ANY KIND, either express or implied.\n",
              "// See the License for the specific language governing permissions and\n",
              "// limitations under the License.\n",
              "\n",
              "/**\n",
              " * @fileoverview Helpers for google.colab Python module.\n",
              " */\n",
              "(function(scope) {\n",
              "function span(text, styleAttributes = {}) {\n",
              "  const element = document.createElement('span');\n",
              "  element.textContent = text;\n",
              "  for (const key of Object.keys(styleAttributes)) {\n",
              "    element.style[key] = styleAttributes[key];\n",
              "  }\n",
              "  return element;\n",
              "}\n",
              "\n",
              "// Max number of bytes which will be uploaded at a time.\n",
              "const MAX_PAYLOAD_SIZE = 100 * 1024;\n",
              "\n",
              "function _uploadFiles(inputId, outputId) {\n",
              "  const steps = uploadFilesStep(inputId, outputId);\n",
              "  const outputElement = document.getElementById(outputId);\n",
              "  // Cache steps on the outputElement to make it available for the next call\n",
              "  // to uploadFilesContinue from Python.\n",
              "  outputElement.steps = steps;\n",
              "\n",
              "  return _uploadFilesContinue(outputId);\n",
              "}\n",
              "\n",
              "// This is roughly an async generator (not supported in the browser yet),\n",
              "// where there are multiple asynchronous steps and the Python side is going\n",
              "// to poll for completion of each step.\n",
              "// This uses a Promise to block the python side on completion of each step,\n",
              "// then passes the result of the previous step as the input to the next step.\n",
              "function _uploadFilesContinue(outputId) {\n",
              "  const outputElement = document.getElementById(outputId);\n",
              "  const steps = outputElement.steps;\n",
              "\n",
              "  const next = steps.next(outputElement.lastPromiseValue);\n",
              "  return Promise.resolve(next.value.promise).then((value) => {\n",
              "    // Cache the last promise value to make it available to the next\n",
              "    // step of the generator.\n",
              "    outputElement.lastPromiseValue = value;\n",
              "    return next.value.response;\n",
              "  });\n",
              "}\n",
              "\n",
              "/**\n",
              " * Generator function which is called between each async step of the upload\n",
              " * process.\n",
              " * @param {string} inputId Element ID of the input file picker element.\n",
              " * @param {string} outputId Element ID of the output display.\n",
              " * @return {!Iterable<!Object>} Iterable of next steps.\n",
              " */\n",
              "function* uploadFilesStep(inputId, outputId) {\n",
              "  const inputElement = document.getElementById(inputId);\n",
              "  inputElement.disabled = false;\n",
              "\n",
              "  const outputElement = document.getElementById(outputId);\n",
              "  outputElement.innerHTML = '';\n",
              "\n",
              "  const pickedPromise = new Promise((resolve) => {\n",
              "    inputElement.addEventListener('change', (e) => {\n",
              "      resolve(e.target.files);\n",
              "    });\n",
              "  });\n",
              "\n",
              "  const cancel = document.createElement('button');\n",
              "  inputElement.parentElement.appendChild(cancel);\n",
              "  cancel.textContent = 'Cancel upload';\n",
              "  const cancelPromise = new Promise((resolve) => {\n",
              "    cancel.onclick = () => {\n",
              "      resolve(null);\n",
              "    };\n",
              "  });\n",
              "\n",
              "  // Wait for the user to pick the files.\n",
              "  const files = yield {\n",
              "    promise: Promise.race([pickedPromise, cancelPromise]),\n",
              "    response: {\n",
              "      action: 'starting',\n",
              "    }\n",
              "  };\n",
              "\n",
              "  cancel.remove();\n",
              "\n",
              "  // Disable the input element since further picks are not allowed.\n",
              "  inputElement.disabled = true;\n",
              "\n",
              "  if (!files) {\n",
              "    return {\n",
              "      response: {\n",
              "        action: 'complete',\n",
              "      }\n",
              "    };\n",
              "  }\n",
              "\n",
              "  for (const file of files) {\n",
              "    const li = document.createElement('li');\n",
              "    li.append(span(file.name, {fontWeight: 'bold'}));\n",
              "    li.append(span(\n",
              "        `(${file.type || 'n/a'}) - ${file.size} bytes, ` +\n",
              "        `last modified: ${\n",
              "            file.lastModifiedDate ? file.lastModifiedDate.toLocaleDateString() :\n",
              "                                    'n/a'} - `));\n",
              "    const percent = span('0% done');\n",
              "    li.appendChild(percent);\n",
              "\n",
              "    outputElement.appendChild(li);\n",
              "\n",
              "    const fileDataPromise = new Promise((resolve) => {\n",
              "      const reader = new FileReader();\n",
              "      reader.onload = (e) => {\n",
              "        resolve(e.target.result);\n",
              "      };\n",
              "      reader.readAsArrayBuffer(file);\n",
              "    });\n",
              "    // Wait for the data to be ready.\n",
              "    let fileData = yield {\n",
              "      promise: fileDataPromise,\n",
              "      response: {\n",
              "        action: 'continue',\n",
              "      }\n",
              "    };\n",
              "\n",
              "    // Use a chunked sending to avoid message size limits. See b/62115660.\n",
              "    let position = 0;\n",
              "    do {\n",
              "      const length = Math.min(fileData.byteLength - position, MAX_PAYLOAD_SIZE);\n",
              "      const chunk = new Uint8Array(fileData, position, length);\n",
              "      position += length;\n",
              "\n",
              "      const base64 = btoa(String.fromCharCode.apply(null, chunk));\n",
              "      yield {\n",
              "        response: {\n",
              "          action: 'append',\n",
              "          file: file.name,\n",
              "          data: base64,\n",
              "        },\n",
              "      };\n",
              "\n",
              "      let percentDone = fileData.byteLength === 0 ?\n",
              "          100 :\n",
              "          Math.round((position / fileData.byteLength) * 100);\n",
              "      percent.textContent = `${percentDone}% done`;\n",
              "\n",
              "    } while (position < fileData.byteLength);\n",
              "  }\n",
              "\n",
              "  // All done.\n",
              "  yield {\n",
              "    response: {\n",
              "      action: 'complete',\n",
              "    }\n",
              "  };\n",
              "}\n",
              "\n",
              "scope.google = scope.google || {};\n",
              "scope.google.colab = scope.google.colab || {};\n",
              "scope.google.colab._files = {\n",
              "  _uploadFiles,\n",
              "  _uploadFilesContinue,\n",
              "};\n",
              "})(self);\n",
              "</script> "
            ]
          },
          "metadata": {}
        },
        {
          "output_type": "stream",
          "name": "stdout",
          "text": [
            "Saving Airfares_simple_garbled.csv to Airfares_simple_garbled (4).csv\n"
          ]
        }
      ]
    },
    {
      "cell_type": "code",
      "source": [
        "# 수정된 데이터셋 변수\n",
        "df2 = pd.read_csv(\"Airfares_simple_garbled.csv\")"
      ],
      "metadata": {
        "id": "6PXYmp3_AQuz"
      },
      "execution_count": null,
      "outputs": []
    },
    {
      "cell_type": "code",
      "source": [
        "# 원본 데이터셋 변수\n",
        "df = pd.read_csv('Airfares.csv')"
      ],
      "metadata": {
        "id": "Q7CfFPnlI0Y1"
      },
      "execution_count": null,
      "outputs": []
    },
    {
      "cell_type": "code",
      "source": [
        "# 1. 결측치 찾기\n",
        "missing_counts = df2.isnull().sum()\n",
        "missing_cols = missing_counts[missing_counts > 0]\n",
        "print(\"=== 1. 결측치 (Missing Values) ===\")\n",
        "print(missing_cols, \"\\n\")"
      ],
      "metadata": {
        "colab": {
          "base_uri": "https://localhost:8080/"
        },
        "id": "oICtGPj0Bi2B",
        "outputId": "3d06100b-2872-4c1e-8f28-471b84f01fea"
      },
      "execution_count": null,
      "outputs": [
        {
          "output_type": "stream",
          "name": "stdout",
          "text": [
            "=== 1. 결측치 (Missing Values) ===\n",
            "S_INCOME    32\n",
            "E_INCOME    33\n",
            "DISTANCE    31\n",
            "PAX         31\n",
            "dtype: int64 \n",
            "\n"
          ]
        }
      ]
    },
    {
      "cell_type": "code",
      "source": [
        "# 2. 문자열 공백(Whitespace) 찾기\n",
        "print(\"=== 2. 문자열 공백(Whitespace) 문제 ===\")\n",
        "whitespace_issues = {}                                    # 공백 발생한 값 담을 딕셔너리\n",
        "for col in df2.select_dtypes(include='object').columns:                       # 문자열만을 골라내서\n",
        "    mask = df2[col].apply(lambda x: isinstance(x, str) and (x != x.strip()))  # x != x.strip() / 실제값 x가 양쪽 공백을 제거한 x와 다르다면,\n",
        "    if mask.any():                                                           # 공백이 존재한다는 의미. => 문자열 공백 이슈가 발생한 값\n",
        "        whitespace_issues[col] = df2.loc[mask, col]\n",
        "        print(f\"\\nColumn: {col}\")\n",
        "        print(df2.loc[mask, col])"
      ],
      "metadata": {
        "colab": {
          "base_uri": "https://localhost:8080/"
        },
        "id": "CajEsVZtBraP",
        "outputId": "c5d004fe-d403-4249-89e5-e563f2bd53ad"
      },
      "execution_count": null,
      "outputs": [
        {
          "output_type": "stream",
          "name": "stdout",
          "text": [
            "=== 2. 문자열 공백(Whitespace) 문제 ===\n",
            "\n",
            "Column: E_CITY\n",
            "36       Charlotte           NC  \n",
            "51       Cleveland           OH  \n",
            "101      Hartford            CT  \n",
            "103      Honolulu (Intl)     HI  \n",
            "113      Houston             TX  \n",
            "178      Miami               FL  \n",
            "195      Minneapolis/St Paul MN  \n",
            "235      New York/Newark     NY  \n",
            "243      New York/Newark     NY  \n",
            "275      New York/Newark     NY  \n",
            "360      Phoenix             AZ  \n",
            "443      Salt Lake City      UT  \n",
            "487      San Francisco       CA  \n",
            "499      San Jose            CA  \n",
            "568      Tucson              AZ  \n",
            "Name: E_CITY, dtype: object\n"
          ]
        }
      ]
    },
    {
      "cell_type": "code",
      "source": [
        "# 앞 뒤로 공백있는 문자열 공백값 존재 예시 출력\n",
        "\n",
        "df2['E_CITY'][36]"
      ],
      "metadata": {
        "colab": {
          "base_uri": "https://localhost:8080/",
          "height": 35
        },
        "id": "LUlgomwkEkl8",
        "outputId": "4cf06136-5034-4708-9662-d3b8ec1fac09"
      },
      "execution_count": null,
      "outputs": [
        {
          "output_type": "execute_result",
          "data": {
            "text/plain": [
              "'  Charlotte           NC  '"
            ],
            "application/vnd.google.colaboratory.intrinsic+json": {
              "type": "string"
            }
          },
          "metadata": {},
          "execution_count": 8
        }
      ]
    },
    {
      "cell_type": "code",
      "source": [
        "# 3. 대소문자 불일치(Case Inconsistency) 찾기\n",
        "print(\"\\n=== 3. 대소문자 불일치(Case Inconsistency) ===\")\n",
        "case_issues = {}\n",
        "for col in df2.select_dtypes(include='object').columns:   # 문자열 타입인 모든 컬럼의 값 가져와서 (결측치, 중복값제거, 문자열str만)\n",
        "    vals = df2[col].dropna().astype(str)\n",
        "    lower_vals = vals.str.lower()                        # 소문자로 모두 변환한 시리즈(base) 만들고\n",
        "    unique_lower = lower_vals.unique()                   # “소문자 버전(base)”을 기준으로 동일 의미군(yes인지, no인지)을 먼저 묶고,\n",
        "    for base in unique_lower:                               # 그 속에 서로 다른(대소문자만 다른) 원본 값들이 몇 개 있나를 확인해서,\n",
        "        variants = sorted(vals[lower_vals == base].unique())   # 두 개 이상 나오면“대소문자 불일치”라고 판단.\n",
        "        if len(variants) > 1:\n",
        "            if col not in case_issues:\n",
        "                case_issues[col] = {}\n",
        "            case_issues[col][base] = variants\n",
        "    if col in case_issues:\n",
        "        print(f\"\\nColumn: {col}\")\n",
        "        for base, variants in case_issues[col].items():\n",
        "            print(f\"  Base ('{base}') -> Variants: {variants}\")"
      ],
      "metadata": {
        "colab": {
          "base_uri": "https://localhost:8080/"
        },
        "id": "TFljeNEpE4Y5",
        "outputId": "d450aa74-5c59-4f2a-aa08-fa06ee5833f8"
      },
      "execution_count": null,
      "outputs": [
        {
          "output_type": "stream",
          "name": "stdout",
          "text": [
            "\n",
            "=== 3. 대소문자 불일치(Case Inconsistency) ===\n",
            "\n",
            "Column: S_CITY\n",
            "  Base ('atlanta             ga') -> Variants: ['Atlanta             GA', 'atlanta             ga']\n",
            "  Base ('boston              ma') -> Variants: ['Boston              MA', 'boston              ma']\n",
            "  Base ('chicago             il') -> Variants: ['Chicago             IL', 'chicago             il']\n",
            "  Base ('fort lauderdale     fl') -> Variants: ['Fort Lauderdale     FL', 'fort lauderdale     fl']\n",
            "  Base ('los angeles         ca') -> Variants: ['Los Angeles         CA', 'los angeles         ca']\n",
            "  Base ('new orleans         la') -> Variants: ['New Orleans         LA', 'new orleans         la']\n",
            "  Base ('new york/newark     ny') -> Variants: ['New York/Newark     NY', 'new york/newark     ny']\n",
            "  Base ('orlando             fl') -> Variants: ['Orlando             FL', 'orlando             fl']\n",
            "  Base ('phoenix             az') -> Variants: ['Phoenix             AZ', 'phoenix             az']\n",
            "  Base ('san francisco       ca') -> Variants: ['San Francisco       CA', 'san francisco       ca']\n",
            "  Base ('denver              co') -> Variants: ['Denver              CO', 'denver              co']\n",
            "  Base ('detroit             mi') -> Variants: ['Detroit             MI', 'detroit             mi']\n",
            "  Base ('oakland             ca') -> Variants: ['Oakland             CA', 'oakland             ca']\n",
            "\n",
            "Column: VACATION\n",
            "  Base ('no') -> Variants: ['NO', 'No']\n",
            "  Base ('yes') -> Variants: ['YES', 'Yes']\n"
          ]
        }
      ]
    },
    {
      "cell_type": "code",
      "source": [
        "# 4. 수치형 이상치(Outlier) 찾기 (원본 IQR 기준)\n",
        "\n",
        "print(\"\\n=== 4. 수치형 이상치 (Outliers) ===\")\n",
        "outlier_indices = {}\n",
        "for col in df2.select_dtypes(include=['int64','float64']).columns:      # 수정된 데이터셋에서 정수, 실수 타입 데이터만 추\n",
        "    o_col = df[col]                         # '원본 데이터!!'의 1사분위(하위 25% 지점)와 3사분위(상위 25% 지점)을 구함\n",
        "    Q1 = o_col.quantile(0.25)\n",
        "    Q3 = o_col.quantile(0.75)                     #  IQR = Q3 – Q1은 “중간 50% 자료가 퍼져 있는 범위” => 이상치 아닌 구간\n",
        "    IQR = Q3 - Q1                                 #  일반적으로 QR의 1.5배를 경계로 삼아서\n",
        "    lower = Q1 - 1.5 * IQR                          # 하한(lower fence) = Q1 − 1.5×IQR\n",
        "    upper = Q3 + 1.5 * IQR                          # 상한(upper fence) = Q3 + 1.5×IQR 을 벗어난 값을 '이상치'로 간주 !\n",
        "    g_col = pd.to_numeric(df2[col], errors='coerce')\n",
        "    mask = (g_col < lower) | (g_col > upper)\n",
        "    if mask.any():                                    # '수정된 데이터셋 값'이 '원본 데이터의 상한, 하한'을 벗어난다면 이상치로 간주 !\n",
        "        outlier_indices[col] = df2.index[mask].tolist()\n",
        "        print(f\"\\nColumn: {col} - {len(outlier_indices[col])}개 이상치 발견\")\n",
        "        print(df2.loc[outlier_indices[col][:5], [col]].to_string(index=True))"
      ],
      "metadata": {
        "colab": {
          "base_uri": "https://localhost:8080/"
        },
        "id": "kEEQ0y5TIUtn",
        "outputId": "b370fa06-57bf-46cb-cd5a-79d0402d7ae9"
      },
      "execution_count": null,
      "outputs": [
        {
          "output_type": "stream",
          "name": "stdout",
          "text": [
            "\n",
            "=== 4. 수치형 이상치 (Outliers) ===\n",
            "\n",
            "Column: COUPON - 23개 이상치 발견\n",
            "     COUPON\n",
            "18     1.86\n",
            "19     1.93\n",
            "20     1.87\n",
            "129    1.71\n",
            "166    1.92\n",
            "\n",
            "Column: NEW - 67개 이상치 발견\n",
            "    NEW\n",
            "9     2\n",
            "11    1\n",
            "31    0\n",
            "33    1\n",
            "46    1\n",
            "\n",
            "Column: HI - 14개 이상치 발견\n",
            "          HI\n",
            "2    9185.28\n",
            "50   9350.13\n",
            "148  9592.99\n",
            "197  9249.13\n",
            "324  9649.01\n",
            "\n",
            "Column: S_INCOME - 9개 이상치 발견\n",
            "     S_INCOME\n",
            "21    38813.0\n",
            "105   38813.0\n",
            "129   38813.0\n",
            "349   14600.0\n",
            "387   38813.0\n",
            "\n",
            "Column: DISTANCE - 9개 이상치 발견\n",
            "     DISTANCE\n",
            "103    2764.0\n",
            "106    2679.0\n",
            "162    2605.0\n",
            "318   13080.0\n",
            "376    2603.0\n",
            "\n",
            "Column: PAX - 57개 이상치 발견\n",
            "         PAX\n",
            "42   30877.0\n",
            "43   30877.0\n",
            "82   34113.0\n",
            "83   34113.0\n",
            "104  32824.0\n",
            "\n",
            "Column: FARE - 10개 이상치 발견\n",
            "       FARE\n",
            "36  -234.15\n",
            "170 -193.50\n",
            "346 -229.84\n",
            "354 -195.91\n",
            "474  367.72\n"
          ]
        }
      ]
    },
    {
      "cell_type": "code",
      "source": [
        "# 5. 음수 값(Negative Values) 찾기  => 범위오류 (불가능한 값)\n",
        "\n",
        "print(\"\\n=== 5. 음수 값 (Negative Values) ===\")\n",
        "negative_indices = {}\n",
        "for col in df2.select_dtypes(include=['int64','float64']).columns:       # 정수, 실수형 데이터 값 중에\n",
        "    g_col = pd.to_numeric(df2[col], errors='coerce')                # 문자열 등이 섞여 있을 경우에도 가능한 한 숫자로 바꿔주고, 변환이 불가능한 항목은 NaN으로 처리\n",
        "    neg_mask = g_col < 0                                      # 해당 열의 값이 음수인 행만 true인 시리즈\n",
        "    if neg_mask.any():                                             # 음수 값이 하나라도 있으면 사전에 저장, 해당 행의 인덱스와 샘플 출력\n",
        "        negative_indices[col] = df2.index[neg_mask].tolist()\n",
        "        print(f\"\\nColumn: {col} - {len(negative_indices[col])}개 음수 값 발견\")\n",
        "        print(df2.loc[negative_indices[col][:5], [col]].to_string(index=True))"
      ],
      "metadata": {
        "colab": {
          "base_uri": "https://localhost:8080/"
        },
        "id": "tBEAj0j1L2_L",
        "outputId": "18ce2977-df12-4aae-ae8f-5cefb9d1bad2"
      },
      "execution_count": null,
      "outputs": [
        {
          "output_type": "stream",
          "name": "stdout",
          "text": [
            "\n",
            "=== 5. 음수 값 (Negative Values) ===\n",
            "\n",
            "Column: FARE - 5개 음수 값 발견\n",
            "       FARE\n",
            "36  -234.15\n",
            "170 -193.50\n",
            "346 -229.84\n",
            "354 -195.91\n",
            "562 -123.89\n"
          ]
        }
      ]
    },
    {
      "cell_type": "markdown",
      "source": [
        "# 수정된 데이터 값 전처리\n",
        " (결측치, 이상치, 대소문자 불일치, 문자열 공백, 음수값(범위오류))\n",
        "\n",
        "\n",
        "\n"
      ],
      "metadata": {
        "id": "9yMbwV9CVPqy"
      }
    },
    {
      "cell_type": "code",
      "source": [
        "# 1. 결측치 처리 (숫자형): 원본 데이터의 중앙값(median)으로 대체\n",
        "numeric_cols = df2.select_dtypes(include=['int64', 'float64']).columns\n",
        "for col in numeric_cols:\n",
        "    median_orig = df[col].median()\n",
        "    df2[col] = pd.to_numeric(df2[col], errors='coerce')  # 숫자 아닌 경우 NaN 처리\n",
        "    df2[col] = df2[col].fillna(median_orig)"
      ],
      "metadata": {
        "id": "UHKCvbm9VOmF"
      },
      "execution_count": null,
      "outputs": []
    },
    {
      "cell_type": "code",
      "source": [
        "# 결측치 처리 확인\n",
        "missing_counts = df2.isnull().sum()\n",
        "missing_cols = missing_counts[missing_counts > 0]\n",
        "print(\"=== 1. 결측치 (Missing Values) ===\")\n",
        "print(missing_cols, \"\\n\")"
      ],
      "metadata": {
        "colab": {
          "base_uri": "https://localhost:8080/"
        },
        "id": "OFCgEITlVdfn",
        "outputId": "a7461d5a-ee96-4474-d7e8-4eefc476b5bb"
      },
      "execution_count": null,
      "outputs": [
        {
          "output_type": "stream",
          "name": "stdout",
          "text": [
            "=== 1. 결측치 (Missing Values) ===\n",
            "Series([], dtype: int64) \n",
            "\n"
          ]
        }
      ]
    },
    {
      "cell_type": "code",
      "source": [
        "# 2. 문자열 공백(Whitespace) 제거: 모든 문자열 컬럼의 앞뒤 공백 제거\n",
        "string_cols = df2.select_dtypes(include='object').columns\n",
        "for col in string_cols:\n",
        "    df2[col] = df2[col].astype(str).str.strip()"
      ],
      "metadata": {
        "id": "DIzAZh_nWSXW"
      },
      "execution_count": null,
      "outputs": []
    },
    {
      "cell_type": "code",
      "source": [
        "# 문자열 공백(Whitespace) 처리 확인\n",
        "print(\"=== 2. 문자열 공백(Whitespace) 문제 ===\")\n",
        "whitespace_issues = {}                                    # 공백 발생한 값 담을 딕셔너리\n",
        "for col in df2.select_dtypes(include='object').columns:                       # 문자열만을 골라내서\n",
        "    mask = df2[col].apply(lambda x: isinstance(x, str) and (x != x.strip()))  # x != x.strip() / 실제값 x가 양쪽 공백을 제거한 x와 다르다면,\n",
        "    if mask.any():                                                           # 공백이 존재한다는 의미. => 문자열 공백 이슈가 발생한 값\n",
        "        whitespace_issues[col] = df2.loc[mask, col]\n",
        "        print(f\"\\nColumn: {col}\")\n",
        "        print(df2.loc[mask, col])"
      ],
      "metadata": {
        "colab": {
          "base_uri": "https://localhost:8080/"
        },
        "id": "R_dsJjOxWWOo",
        "outputId": "f9222a53-e6dc-4834-d8c1-1f48a06d36ef"
      },
      "execution_count": null,
      "outputs": [
        {
          "output_type": "stream",
          "name": "stdout",
          "text": [
            "=== 2. 문자열 공백(Whitespace) 문제 ===\n"
          ]
        }
      ]
    },
    {
      "cell_type": "code",
      "source": [
        "# 3. 대소문자 통일 (Case Consistency)\n",
        "\n",
        "# 1) 문자열 공백 제거\n",
        "string_cols = df2.select_dtypes(include='object').columns\n",
        "for col in string_cols:\n",
        "    df2[col] = df2[col].astype(str).str.strip()\n",
        "\n",
        "# 2) 도시명(S_CITY, E_CITY)은 Title Case(원본데이터와 같게 앞글자만 대문자)로\n",
        "for col in ['S_CITY', 'E_CITY']:\n",
        "    if col in df2.columns:\n",
        "        df2[col] = df2[col].str.title()\n",
        "\n",
        "# 3) VACATION 컬럼은 원본처럼 “Yes”/“No” 형태로 Title Case 처리\n",
        "if 'VACATION' in df2.columns:\n",
        "    df2['VACATION'] = df2['VACATION'].str.strip().str.title()\n"
      ],
      "metadata": {
        "id": "Gdsw6ivZYP5d"
      },
      "execution_count": null,
      "outputs": []
    },
    {
      "cell_type": "code",
      "source": [
        "# 3. 대소문자 불일치(Case Inconsistency) 찾기\n",
        "print(\"\\n=== 3. 대소문자 불일치(Case Inconsistency) ===\")\n",
        "case_issues = {}\n",
        "for col in df2.select_dtypes(include='object').columns:   # 문자열 타입인 모든 컬럼의 값 가져와서 (결측치, 중복값제거, 문자열str만)\n",
        "    vals = df2[col].dropna().astype(str)\n",
        "    lower_vals = vals.str.lower()                        # 소문자로 모두 변환한 시리즈(base) 만들고\n",
        "    unique_lower = lower_vals.unique()                   # “소문자 버전(base)”을 기준으로 동일 의미군(yes인지, no인지)을 먼저 묶고,\n",
        "    for base in unique_lower:                               # 그 속에 서로 다른(대소문자만 다른) 원본 값들이 몇 개 있나를 확인해서,\n",
        "        variants = sorted(vals[lower_vals == base].unique())   # 두 개 이상 나오면“대소문자 불일치”라고 판단.\n",
        "        if len(variants) > 1:\n",
        "            if col not in case_issues:\n",
        "                case_issues[col] = {}\n",
        "            case_issues[col][base] = variants\n",
        "    if col in case_issues:\n",
        "        print(f\"\\nColumn: {col}\")\n",
        "        for base, variants in case_issues[col].items():\n",
        "            print(f\"  Base ('{base}') -> Variants: {variants}\")"
      ],
      "metadata": {
        "colab": {
          "base_uri": "https://localhost:8080/"
        },
        "id": "Cj1yx_XmcuLG",
        "outputId": "e55a10a1-6bbd-4ec0-edd2-892c727079d9"
      },
      "execution_count": null,
      "outputs": [
        {
          "output_type": "stream",
          "name": "stdout",
          "text": [
            "\n",
            "=== 3. 대소문자 불일치(Case Inconsistency) ===\n"
          ]
        }
      ]
    },
    {
      "cell_type": "code",
      "source": [
        "# 4. 수치형 이상치(Outliers) 처리: 원본 IQR 기준을 벗어난 값을 NaN 처리 후 중앙값 대체\n",
        "for col in numeric_cols:\n",
        "    # 원본 IQR 계산\n",
        "    o_col = df[col]\n",
        "    Q1 = o_col.quantile(0.25)\n",
        "    Q3 = o_col.quantile(0.75)\n",
        "    IQR = Q3 - Q1\n",
        "    lower = Q1 - 1.5 * IQR\n",
        "    upper = Q3 + 1.5 * IQR\n",
        "\n",
        "    # 수정된 데이터에서 이상치 필터링\n",
        "    df2[col] = pd.to_numeric(df2[col], errors='coerce')\n",
        "    outlier_mask = (df2[col] < lower) | (df2[col] > upper)\n",
        "    df2.loc[outlier_mask, col] = np.nan\n",
        "\n",
        "    # NaN(이상치로 표시된) 값을 중앙값으로 대체\n",
        "    median_orig = df[col].median()\n",
        "    df2[col] = df2[col].fillna(median_orig)\n"
      ],
      "metadata": {
        "id": "nJpCsOFodK_5"
      },
      "execution_count": null,
      "outputs": []
    },
    {
      "cell_type": "markdown",
      "source": [
        "왜 굳이 '중앙값'으로 대체했을까?\n",
        "- 이상치(Outlier)에 덜 민감함\n",
        "\n",
        " 평균은 이상치(극단적인 값)에 크게 영향을 받아, 왜곡될 수 있다. 반면 중앙값은 데이터의 중간값이므로, 몇 개의 극단치가 있어도 거의 변하지 않음.\n",
        "\n",
        "- 비대칭 분포\n",
        " 앞서 데이터 탐색에서, 확인한 항공 운임(FARE)의 왜도는 약 0.5 이상으로, 오른쪽으로 긴 꼬리를 가진 비대칭 분포였다. 이처럼 기울어진(skewed) 분포에서는 평균보다 중앙값이 대표값(central tendency)을 더 잘 반영한다.\n",
        "\n",
        "\n",
        " - 단점\n",
        "\n",
        " : 중앙값이 계속 반복해서 들어가면, 모든 음수 이상치 위치가 동일한 값(중앙값)으로 대체되어, 특정 구간에 “모두 똑같은 가격”이 몰려서 왜곡될 여지 있음."
      ],
      "metadata": {
        "id": "N-juslMheLat"
      }
    },
    {
      "cell_type": "code",
      "source": [
        "# 4. 수치형 이상치(Outlier) 처리 확인\n",
        "\n",
        "print(\"\\n=== 4. 수치형 이상치 (Outliers) ===\")\n",
        "outlier_indices = {}\n",
        "for col in df2.select_dtypes(include=['int64','float64']).columns:      # 수정된 데이터셋에서 정수, 실수 타입 데이터만 추\n",
        "    o_col = df[col]                         # '원본 데이터!!'의 1사분위(하위 25% 지점)와 3사분위(상위 25% 지점)을 구함\n",
        "    Q1 = o_col.quantile(0.25)\n",
        "    Q3 = o_col.quantile(0.75)                     #  IQR = Q3 – Q1은 “중간 50% 자료가 퍼져 있는 범위” => 이상치 아닌 구간\n",
        "    IQR = Q3 - Q1                                 #  일반적으로 QR의 1.5배를 경계로 삼아서\n",
        "    lower = Q1 - 1.5 * IQR                          # 하한(lower fence) = Q1 − 1.5×IQR\n",
        "    upper = Q3 + 1.5 * IQR                          # 상한(upper fence) = Q3 + 1.5×IQR 을 벗어난 값을 '이상치'로 간주 !\n",
        "    g_col = pd.to_numeric(df2[col], errors='coerce')\n",
        "    mask = (g_col < lower) | (g_col > upper)\n",
        "    if mask.any():                                    # '수정된 데이터셋 값'이 '원본 데이터의 상한, 하한'을 벗어난다면 이상치로 간주 !\n",
        "        outlier_indices[col] = df2.index[mask].tolist()\n",
        "        print(f\"\\nColumn: {col} - {len(outlier_indices[col])}개 이상치 발견\")\n",
        "        print(df2.loc[outlier_indices[col][:5], [col]].to_string(index=True))"
      ],
      "metadata": {
        "colab": {
          "base_uri": "https://localhost:8080/"
        },
        "id": "iZiXtcLkeFP0",
        "outputId": "a222f189-e93e-462a-8ae6-ed8bc85b8838"
      },
      "execution_count": null,
      "outputs": [
        {
          "output_type": "stream",
          "name": "stdout",
          "text": [
            "\n",
            "=== 4. 수치형 이상치 (Outliers) ===\n"
          ]
        }
      ]
    },
    {
      "cell_type": "code",
      "source": [
        "# 5. 음수값 존재하는 행 '삭제'\n",
        "\n",
        "# 음수값이 있는 행을 모두 제거하려면, 숫자형 컬럼 중 하나라도 음수인 행을 drop\n",
        "\n",
        "# 1) 숫자형 컬럼 리스트\n",
        "numeric_cols = df2.select_dtypes(include=['int64','float64']).columns.tolist()\n",
        "\n",
        "# 2) 음수값이 있는 행의 boolean mask 생성\n",
        "#    (모든 숫자형 컬럼이 0 이상인 행만 True)\n",
        "mask_non_negative = (df2[numeric_cols] >= 0).all(axis=1)\n",
        "\n",
        "# 3) 음수가 하나라도 섞인 행(=mask_non_negative가 False인 행)을 drop\n",
        "df2 = df2.loc[mask_non_negative].reset_index(drop=True)\n"
      ],
      "metadata": {
        "id": "kriYLCBzfLyM"
      },
      "execution_count": null,
      "outputs": []
    },
    {
      "cell_type": "markdown",
      "source": [
        "음수값 존재하는 행 '삭제'하는 이유?\n",
        "\n",
        "- 위에서 이상치를 중앙값으로 통일하면서 데이터의 분포가 지나치게 단순화돼 특정 구간(중앙값)에 너무 많은 데이터가 몰리게 되는 단점이 존재할 수 있음.\n",
        "\n",
        "- 따라서, 음수값도 중앙값으로 대체하면 이 단점이 심화되기에, 행 삭제를 선택함.\n",
        "\n",
        "- 목표변수인 FARE가 음수인 값이었기 때문에, 이 행 자체가 존재할 수 없다고 볼 수 있음. 따라서 삭제해도 무방할 것이라고 생각했음."
      ],
      "metadata": {
        "id": "xMPzYrKChqzB"
      }
    },
    {
      "cell_type": "code",
      "source": [
        "# 5. 음수 값 삭제 확인\n",
        "\n",
        "print(\"\\n=== 5. 음수 값 (Negative Values) ===\")\n",
        "negative_indices = {}\n",
        "for col in df2.select_dtypes(include=['int64','float64']).columns:       # 정수, 실수형 데이터 값 중에\n",
        "    g_col = pd.to_numeric(df2[col], errors='coerce')                # 문자열 등이 섞여 있을 경우에도 가능한 한 숫자로 바꿔주고, 변환이 불가능한 항목은 NaN으로 처리\n",
        "    neg_mask = g_col < 0                                      # 해당 열의 값이 음수인 행만 true인 시리즈\n",
        "    if neg_mask.any():                                             # 음수 값이 하나라도 있으면 사전에 저장, 해당 행의 인덱스와 샘플 출력\n",
        "        negative_indices[col] = df2.index[neg_mask].tolist()\n",
        "        print(f\"\\nColumn: {col} - {len(negative_indices[col])}개 음수 값 발견\")\n",
        "        print(df2.loc[negative_indices[col][:5], [col]].to_string(index=True))"
      ],
      "metadata": {
        "colab": {
          "base_uri": "https://localhost:8080/"
        },
        "id": "d0EZzFNqhiqX",
        "outputId": "966ec6f6-72c9-40d9-a40e-e4deb1bf64e5"
      },
      "execution_count": null,
      "outputs": [
        {
          "output_type": "stream",
          "name": "stdout",
          "text": [
            "\n",
            "=== 5. 음수 값 (Negative Values) ===\n"
          ]
        }
      ]
    }
  ]
}