{
  "nbformat": 4,
  "nbformat_minor": 0,
  "metadata": {
    "colab": {
      "provenance": [],
      "include_colab_link": true
    },
    "kernelspec": {
      "name": "python3",
      "display_name": "Python 3"
    },
    "language_info": {
      "name": "python"
    }
  },
  "cells": [
    {
      "cell_type": "markdown",
      "metadata": {
        "id": "view-in-github",
        "colab_type": "text"
      },
      "source": [
        "<a href=\"https://colab.research.google.com/github/imsewonyyy/AI-/blob/main/%EA%B9%80%EC%A3%BC%EC%9B%90%20%EB%AC%B8%EC%A0%9C%ED%92%80%EC%9D%B4.ipynb\" target=\"_parent\"><img src=\"https://colab.research.google.com/assets/colab-badge.svg\" alt=\"Open In Colab\"/></a>"
      ]
    },
    {
      "cell_type": "markdown",
      "source": [
        "#1. 연습문제/과제풀이\n",
        "\n",
        "# A: 6장 신규노선 항공운임예측 풀기"
      ],
      "metadata": {
        "id": "ftY_88qlC06H"
      }
    },
    {
      "cell_type": "markdown",
      "source": [
        "\n",
        "#### Colab 한글 폰트 설정하기\n",
        "Colab에서 한글 폰트를 사용하려면 폰트를 설치하고 런타임을 재시작한 후, Matplotlib 설정을 변경해야 합니다.\n",
        "\n",
        "**1) 폰트 설치 (코드 셀에서 실행)**"
      ],
      "metadata": {
        "id": "jspykp99aXUS"
      }
    },
    {
      "cell_type": "code",
      "source": [
        "!sudo apt-get install -y fonts-nanum\n",
        "!sudo fc-cache -fv\n",
        "!rm ~/.cache/matplotlib -rf"
      ],
      "metadata": {
        "id": "O6U-uFjgpvEw",
        "outputId": "5e6e3305-abcf-46cc-8b33-801a103183c8",
        "colab": {
          "base_uri": "https://localhost:8080/"
        }
      },
      "execution_count": 1,
      "outputs": [
        {
          "output_type": "stream",
          "name": "stdout",
          "text": [
            "Reading package lists... Done\n",
            "Building dependency tree... Done\n",
            "Reading state information... Done\n",
            "The following NEW packages will be installed:\n",
            "  fonts-nanum\n",
            "0 upgraded, 1 newly installed, 0 to remove and 34 not upgraded.\n",
            "Need to get 10.3 MB of archives.\n",
            "After this operation, 34.1 MB of additional disk space will be used.\n",
            "Get:1 http://archive.ubuntu.com/ubuntu jammy/universe amd64 fonts-nanum all 20200506-1 [10.3 MB]\n",
            "Fetched 10.3 MB in 1s (7,633 kB/s)\n",
            "debconf: unable to initialize frontend: Dialog\n",
            "debconf: (No usable dialog-like program is installed, so the dialog based frontend cannot be used. at /usr/share/perl5/Debconf/FrontEnd/Dialog.pm line 78, <> line 1.)\n",
            "debconf: falling back to frontend: Readline\n",
            "debconf: unable to initialize frontend: Readline\n",
            "debconf: (This frontend requires a controlling tty.)\n",
            "debconf: falling back to frontend: Teletype\n",
            "dpkg-preconfigure: unable to re-open stdin: \n",
            "Selecting previously unselected package fonts-nanum.\n",
            "(Reading database ... 126102 files and directories currently installed.)\n",
            "Preparing to unpack .../fonts-nanum_20200506-1_all.deb ...\n",
            "Unpacking fonts-nanum (20200506-1) ...\n",
            "Setting up fonts-nanum (20200506-1) ...\n",
            "Processing triggers for fontconfig (2.13.1-4.2ubuntu5) ...\n",
            "/usr/share/fonts: caching, new cache contents: 0 fonts, 1 dirs\n",
            "/usr/share/fonts/truetype: caching, new cache contents: 0 fonts, 3 dirs\n",
            "/usr/share/fonts/truetype/humor-sans: caching, new cache contents: 1 fonts, 0 dirs\n",
            "/usr/share/fonts/truetype/liberation: caching, new cache contents: 16 fonts, 0 dirs\n",
            "/usr/share/fonts/truetype/nanum: caching, new cache contents: 12 fonts, 0 dirs\n",
            "/usr/local/share/fonts: caching, new cache contents: 0 fonts, 0 dirs\n",
            "/root/.local/share/fonts: skipping, no such directory\n",
            "/root/.fonts: skipping, no such directory\n",
            "/usr/share/fonts/truetype: skipping, looped directory detected\n",
            "/usr/share/fonts/truetype/humor-sans: skipping, looped directory detected\n",
            "/usr/share/fonts/truetype/liberation: skipping, looped directory detected\n",
            "/usr/share/fonts/truetype/nanum: skipping, looped directory detected\n",
            "/var/cache/fontconfig: cleaning cache directory\n",
            "/root/.cache/fontconfig: not cleaning non-existent cache directory\n",
            "/root/.fontconfig: not cleaning non-existent cache directory\n",
            "fc-cache: succeeded\n"
          ]
        }
      ]
    },
    {
      "cell_type": "markdown",
      "source": [
        "**2) 런타임 재시작**\n",
        "* Colab 메뉴에서 **[런타임] > [세션 다시 시작]**을 클릭합니다. (Ctrl+M .)\n",
        "\n",
        "**3) Matplotlib 폰트 설정 (세션 재시작 후)**\n"
      ],
      "metadata": {
        "id": "xQZIR4EsafVK"
      }
    },
    {
      "cell_type": "code",
      "source": [
        "    import matplotlib.pyplot as plt\n",
        "    import matplotlib.font_manager as fm\n",
        "\n",
        "    # 런타임 재시작 후 Nanum 폰트 확인 및 설정\n",
        "    font_path = '/usr/share/fonts/truetype/nanum/NanumGothic.ttf'\n",
        "    font_prop = fm.FontProperties(fname=font_path)\n",
        "\n",
        "    # 전역 폰트 설정\n",
        "    plt.rc('font', family='NanumGothic')\n",
        "    # 마이너스 기호 깨짐 방지\n",
        "    plt.rcParams['axes.unicode_minus'] = False\n",
        "\n",
        "    print(\"한글 폰트 'NanumGothic' 설정 완료.\")\n",
        "\n",
        "    # 이제 그래프에 한글 사용 가능 (test 용)\n",
        "    fig, ax = plt.subplots(figsize=(8, 5))\n",
        "    x = [1, 2, 3, 4, 5]\n",
        "    y = [10, 8, 6, 4, 2]\n",
        "    ax.plot(x, y, marker='o')\n",
        "    ax.set_title('한글 제목')\n",
        "    ax.set_xlabel('한글 X축')\n",
        "    ax.set_ylabel('한글 Y축')\n",
        "    plt.show()\n"
      ],
      "metadata": {
        "colab": {
          "base_uri": "https://localhost:8080/",
          "height": 502
        },
        "id": "42esYrWEah5J",
        "outputId": "3afd4531-5808-4c4d-bbcb-57cc921d0d90"
      },
      "execution_count": 1,
      "outputs": [
        {
          "output_type": "stream",
          "name": "stdout",
          "text": [
            "한글 폰트 'NanumGothic' 설정 완료.\n"
          ]
        },
        {
          "output_type": "display_data",
          "data": {
            "text/plain": [
              "<Figure size 800x500 with 1 Axes>"
            ],
            "image/png": "[encoded data removed]"
          },
          "metadata": {}
        }
      ]
    },
    {
      "cell_type": "markdown",
      "source": [
        "\n",
        "\n",
        "---\n",
        "\n"
      ],
      "metadata": {
        "id": "eqqAjgbMWjuP"
      }
    },
    {
      "cell_type": "markdown",
      "source": [
        "먼저, 데이터 파일을 불러옴."
      ],
      "metadata": {
        "id": "km4j_WkbWnd_"
      }
    },
    {
      "cell_type": "code",
      "execution_count": 2,
      "metadata": {
        "colab": {
          "base_uri": "https://localhost:8080/",
          "height": 78
        },
        "id": "_lWa1YELCU5e",
        "outputId": "67853560-86a3-4a72-c281-a57b02f3368f"
      },
      "outputs": [
        {
          "output_type": "display_data",
          "data": {
            "text/plain": [
              "<IPython.core.display.HTML object>"
            ],
            "text/html": [
              "\n",
              "     <input type=\"file\" id=\"files-7bb2da0d-bdee-4266-a225-0fa1ea08d38c\" name=\"files[]\" multiple disabled\n",
              "        style=\"border:none\" />\n",
              "     <output id=\"result-7bb2da0d-bdee-4266-a225-0fa1ea08d38c\">\n",
              "      Upload widget is only available when the cell has been executed in the\n",
              "      current browser session. Please rerun this cell to enable.\n",
              "      </output>\n",
              "      <script>// Copyright 2017 Google LLC\n",
              "//\n",
              "// Licensed under the Apache License, Version 2.0 (the \"License\");\n",
              "// you may not use this file except in compliance with the License.\n",
              "// You may obtain a copy of the License at\n",
              "//\n",
              "//      http://www.apache.org/licenses/LICENSE-2.0\n",
              "//\n",
              "// Unless required by applicable law or agreed to in writing, software\n",
              "// distributed under the License is distributed on an \"AS IS\" BASIS,\n",
              "// WITHOUT WARRANTIES OR CONDITIONS OF ANY KIND, either express or implied.\n",
              "// See the License for the specific language governing permissions and\n",
              "// limitations under the License.\n",
              "\n",
              "/**\n",
              " * @fileoverview Helpers for google.colab Python module.\n",
              " */\n",
              "(function(scope) {\n",
              "function span(text, styleAttributes = {}) {\n",
              "  const element = document.createElement('span');\n",
              "  element.textContent = text;\n",
              "  for (const key of Object.keys(styleAttributes)) {\n",
              "    element.style[key] = styleAttributes[key];\n",
              "  }\n",
              "  return element;\n",
              "}\n",
              "\n",
              "// Max number of bytes which will be uploaded at a time.\n",
              "const MAX_PAYLOAD_SIZE = 100 * 1024;\n",
              "\n",
              "function _uploadFiles(inputId, outputId) {\n",
              "  const steps = uploadFilesStep(inputId, outputId);\n",
              "  const outputElement = document.getElementById(outputId);\n",
              "  // Cache steps on the outputElement to make it available for the next call\n",
              "  // to uploadFilesContinue from Python.\n",
              "  outputElement.steps = steps;\n",
              "\n",
              "  return _uploadFilesContinue(outputId);\n",
              "}\n",
              "\n",
              "// This is roughly an async generator (not supported in the browser yet),\n",
              "// where there are multiple asynchronous steps and the Python side is going\n",
              "// to poll for completion of each step.\n",
              "// This uses a Promise to block the python side on completion of each step,\n",
              "// then passes the result of the previous step as the input to the next step.\n",
              "function _uploadFilesContinue(outputId) {\n",
              "  const outputElement = document.getElementById(outputId);\n",
              "  const steps = outputElement.steps;\n",
              "\n",
              "  const next = steps.next(outputElement.lastPromiseValue);\n",
              "  return Promise.resolve(next.value.promise).then((value) => {\n",
              "    // Cache the last promise value to make it available to the next\n",
              "    // step of the generator.\n",
              "    outputElement.lastPromiseValue = value;\n",
              "    return next.value.response;\n",
              "  });\n",
              "}\n",
              "\n",
              "/**\n",
              " * Generator function which is called between each async step of the upload\n",
              " * process.\n",
              " * @param {string} inputId Element ID of the input file picker element.\n",
              " * @param {string} outputId Element ID of the output display.\n",
              " * @return {!Iterable<!Object>} Iterable of next steps.\n",
              " */\n",
              "function* uploadFilesStep(inputId, outputId) {\n",
              "  const inputElement = document.getElementById(inputId);\n",
              "  inputElement.disabled = false;\n",
              "\n",
              "  const outputElement = document.getElementById(outputId);\n",
              "  outputElement.innerHTML = '';\n",
              "\n",
              "  const pickedPromise = new Promise((resolve) => {\n",
              "    inputElement.addEventListener('change', (e) => {\n",
              "      resolve(e.target.files);\n",
              "    });\n",
              "  });\n",
              "\n",
              "  const cancel = document.createElement('button');\n",
              "  inputElement.parentElement.appendChild(cancel);\n",
              "  cancel.textContent = 'Cancel upload';\n",
              "  const cancelPromise = new Promise((resolve) => {\n",
              "    cancel.onclick = () => {\n",
              "      resolve(null);\n",
              "    };\n",
              "  });\n",
              "\n",
              "  // Wait for the user to pick the files.\n",
              "  const files = yield {\n",
              "    promise: Promise.race([pickedPromise, cancelPromise]),\n",
              "    response: {\n",
              "      action: 'starting',\n",
              "    }\n",
              "  };\n",
              "\n",
              "  cancel.remove();\n",
              "\n",
              "  // Disable the input element since further picks are not allowed.\n",
              "  inputElement.disabled = true;\n",
              "\n",
              "  if (!files) {\n",
              "    return {\n",
              "      response: {\n",
              "        action: 'complete',\n",
              "      }\n",
              "    };\n",
              "  }\n",
              "\n",
              "  for (const file of files) {\n",
              "    const li = document.createElement('li');\n",
              "    li.append(span(file.name, {fontWeight: 'bold'}));\n",
              "    li.append(span(\n",
              "        `(${file.type || 'n/a'}) - ${file.size} bytes, ` +\n",
              "        `last modified: ${\n",
              "            file.lastModifiedDate ? file.lastModifiedDate.toLocaleDateString() :\n",
              "                                    'n/a'} - `));\n",
              "    const percent = span('0% done');\n",
              "    li.appendChild(percent);\n",
              "\n",
              "    outputElement.appendChild(li);\n",
              "\n",
              "    const fileDataPromise = new Promise((resolve) => {\n",
              "      const reader = new FileReader();\n",
              "      reader.onload = (e) => {\n",
              "        resolve(e.target.result);\n",
              "      };\n",
              "      reader.readAsArrayBuffer(file);\n",
              "    });\n",
              "    // Wait for the data to be ready.\n",
              "    let fileData = yield {\n",
              "      promise: fileDataPromise,\n",
              "      response: {\n",
              "        action: 'continue',\n",
              "      }\n",
              "    };\n",
              "\n",
              "    // Use a chunked sending to avoid message size limits. See b/62115660.\n",
              "    let position = 0;\n",
              "    do {\n",
              "      const length = Math.min(fileData.byteLength - position, MAX_PAYLOAD_SIZE);\n",
              "      const chunk = new Uint8Array(fileData, position, length);\n",
              "      position += length;\n",
              "\n",
              "      const base64 = btoa(String.fromCharCode.apply(null, chunk));\n",
              "      yield {\n",
              "        response: {\n",
              "          action: 'append',\n",
              "          file: file.name,\n",
              "          data: base64,\n",
              "        },\n",
              "      };\n",
              "\n",
              "      let percentDone = fileData.byteLength === 0 ?\n",
              "          100 :\n",
              "          Math.round((position / fileData.byteLength) * 100);\n",
              "      percent.textContent = `${percentDone}% done`;\n",
              "\n",
              "    } while (position < fileData.byteLength);\n",
              "  }\n",
              "\n",
              "  // All done.\n",
              "  yield {\n",
              "    response: {\n",
              "      action: 'complete',\n",
              "    }\n",
              "  };\n",
              "}\n",
              "\n",
              "scope.google = scope.google || {};\n",
              "scope.google.colab = scope.google.colab || {};\n",
              "scope.google.colab._files = {\n",
              "  _uploadFiles,\n",
              "  _uploadFilesContinue,\n",
              "};\n",
              "})(self);\n",
              "</script> "
            ]
          },
          "metadata": {}
        },
        {
          "output_type": "stream",
          "name": "stdout",
          "text": [
            "Saving Airfares.csv to Airfares.csv\n"
          ]
        }
      ],
      "source": [
        "from google. colab import files\n",
        "uploaded=files.upload()"
      ]
    },
    {
      "cell_type": "code",
      "source": [],
      "metadata": {
        "id": "JmJnhGucXCNz"
      },
      "execution_count": null,
      "outputs": []
    },
    {
      "cell_type": "markdown",
      "source": [
        "# a. 수치형 예측 변수들과 결과 변수인 운임(FARE)에 대한 표본 만들고 운임과 예측 변수들 사이의 상관도를 조사하시오. 어떤 예측 변수와 운임을 예측하는 데 최적의 예측 변수인가?"
      ],
      "metadata": {
        "id": "wiDkwtn3DOH0"
      }
    },
    {
      "cell_type": "markdown",
      "source": [
        "1. 수치형 변수 선택\n",
        "\n",
        "수치형(연속형) 변수만 대상으로 해야 하므로 범주형 변수는 제외하고 다음과 같은 변수들을 선택함:\n",
        "\n",
        "COUPON, NEW, HI, S_INCOME, E_INCOME, S_POP, E_POP, DISTANCE, PAX\n",
        "\n",
        "2. 운임(FARE)과의 상관계수 계산\n",
        "\n",
        "상관계수(Pearson correlation coefficient)를 FARE에 대해 계산하면, 어떤 변수가 운임과 직선적으로 얼마나 강한 관계를 가지는지 알 수 있음."
      ],
      "metadata": {
        "id": "qObxhty5DWSz"
      }
    },
    {
      "cell_type": "code",
      "source": [
        "import pandas as pd\n",
        "\n",
        "df = pd.read_csv(\"Airfares.csv\")\n",
        "\n",
        "# 수치형 변수만 필터링\n",
        "numeric_vars = ['COUPON', 'NEW', 'HI', 'S_INCOME', 'E_INCOME', 'S_POP', 'E_POP', 'DISTANCE', 'PAX', 'FARE']\n",
        "corr_matrix = df[numeric_vars].corr()\n",
        "\n",
        "# 운임(FARE)과 다른 변수들 간의 상관계수 정렬\n",
        "fare_corr = corr_matrix['FARE'].drop('FARE').sort_values(ascending=False)\n",
        "print(fare_corr)"
      ],
      "metadata": {
        "colab": {
          "base_uri": "https://localhost:8080/"
        },
        "id": "8aN56-VdDKr_",
        "outputId": "d4badbf3-0217-47a1-cee0-026680dad1f5"
      },
      "execution_count": 3,
      "outputs": [
        {
          "output_type": "stream",
          "name": "stdout",
          "text": [
            "DISTANCE    0.670016\n",
            "COUPON      0.496537\n",
            "E_INCOME    0.326092\n",
            "E_POP       0.285043\n",
            "S_INCOME    0.209135\n",
            "S_POP       0.145097\n",
            "NEW         0.091730\n",
            "HI          0.025195\n",
            "PAX        -0.090705\n",
            "Name: FARE, dtype: float64\n"
          ]
        }
      ]
    },
    {
      "cell_type": "markdown",
      "source": [
        "운임(FARE)을 예측하는 데 있어 가장 효과적인 수치형 변수들을 파악하기 위해, 각 변수와 FARE 간의 Pearson 상관계수를 계산하였다. 상관계수가 클수록 두 변수 간의 선형적 관계가 강하다고 해석할 수 있다.\n",
        "\n",
        "* DISTANCE(거리) 변수는 운임과 가장 높은 양의 상관계수(0.6700)를 보여주며,\n",
        "운임 예측에 가장 효과적인 변수로 나타났다. 이는 항공 노선의 거리가 멀수록 평균 항공료가 높아지는 일반적인 경제 원칙과도 부합한다.\n",
        "\n",
        "* COUPON, E_INCOME도 다소 의미 있는 양의 상관을 보이며, 운임에 일정 수준의 영향을 주는 변수로 판단된다.\n",
        "\n",
        "* 반면 PAX(탑승객 수)는 음의 상관(-0.0907)을 보이며, 탑승객 수가 많을수록 운임이 낮아지는 경향을 나타낸다.\n",
        "\n",
        "* HI(시장 집중도)와 NEW(신규 항공사 수) 등은 상관도가 낮아 단일 변수로서의 예측력은 크지 않을 것으로 보인다.\n",
        "\n",
        "결론:\n",
        "\n",
        "운임(FARE)을 예측하는 데 **가장 효과적인 수치형 변수는 DISTANCE**이며, 그 다음으로 COUPON과 E_INCOME이 유의미한 예측력을 보였다."
      ],
      "metadata": {
        "id": "F7dt0hXhD4Wl"
      }
    },
    {
      "cell_type": "markdown",
      "source": [
        "# b. 범주형 예측 변수들(예: SW 등)에 대해 범주별로 평균 운임의 차이와 분산의 패턴을 분석하고, 어떤 범주형 예측 변수가 운임 예측에 가장 좋은지를 평가하라."
      ],
      "metadata": {
        "id": "1JuSMqZIESiw"
      }
    },
    {
      "cell_type": "markdown",
      "source": [
        "범주형 변수는 주로 다음과 같음:\n",
        "\n",
        "* SW : Southwest 항공 운항 여부 (Yes/No)\n",
        "\n",
        "* VACATION : 휴양지 여부 (Yes/No)\n",
        "\n",
        "* SLOT : 공항의 슬롯 (Free/Controlled)\n",
        "\n",
        "* GATE: 게이트 제한 여부 (Free/Constrained)\n",
        "\n",
        "* NEW도 범주형으로 처리 가능\n",
        "\n",
        "이 중에서 **SW, VACATION, SLOT, GATE**를 주요 분석 대상으로 삼음."
      ],
      "metadata": {
        "id": "bsgqNEffEw7V"
      }
    },
    {
      "cell_type": "markdown",
      "source": [
        "그 다음, 각 범주형 변수의 그룹별 평균 운임 확인"
      ],
      "metadata": {
        "id": "cKR4dUZDFErC"
      }
    },
    {
      "cell_type": "code",
      "source": [
        "# SW 변수에 따른 평균 운임 확인\n",
        "print(df.groupby('SW')['FARE'].mean())\n",
        "print(df.groupby('SW')['FARE'].std())\n",
        "\n",
        "print(df.groupby('VACATION')['FARE'].mean())\n",
        "print(df.groupby('VACATION')['FARE'].std())\n",
        "\n",
        "print(df.groupby('SLOT')['FARE'].mean())\n",
        "print(df.groupby('GATE')['FARE'].mean())"
      ],
      "metadata": {
        "colab": {
          "base_uri": "https://localhost:8080/"
        },
        "id": "iZs2qaY9FKOD",
        "outputId": "ce458a3f-2950-4068-e2fa-7fbad5673d35"
      },
      "execution_count": 6,
      "outputs": [
        {
          "output_type": "stream",
          "name": "stdout",
          "text": [
            "SW\n",
            "No     188.182793\n",
            "Yes     98.382268\n",
            "Name: FARE, dtype: float64\n",
            "SW\n",
            "No     70.558360\n",
            "Yes    44.795629\n",
            "Name: FARE, dtype: float64\n",
            "VACATION\n",
            "No     173.552500\n",
            "Yes    125.980882\n",
            "Name: FARE, dtype: float64\n",
            "VACATION\n",
            "No     81.086891\n",
            "Yes    44.102634\n",
            "Name: FARE, dtype: float64\n",
            "SLOT\n",
            "Controlled    186.059396\n",
            "Free          150.825680\n",
            "Name: FARE, dtype: float64\n",
            "GATE\n",
            "Constrained    193.129032\n",
            "Free           153.095953\n",
            "Name: FARE, dtype: float64\n"
          ]
        }
      ]
    },
    {
      "cell_type": "markdown",
      "source": [
        "따라서 결론은 이러함.\n",
        "\n",
        "* SW 변수는 Yes일 때 평균 운임이 훨씬 낮아짐 → 항공사 경쟁 효과로 해석 가능. 운임 예측에 매우 유의미.\n",
        "\n",
        "* **SLOT, GATE**는 제약이 있는 경우 운임이 높음 → 공항 인프라의 제약이 가격에 영향을 미친다는 해석.\n",
        "\n",
        "* **VACATION**은 유의미한 차이를 보일 수도 있지만 경우에 따라 차이가 작을 수 있음.\n",
        "\n",
        "결론적으로 운임 예측에 **가장 유효한 범주형 변수는 SW**로 나타났으며, SLOT, GATE도 유의미한 설명력을 가진다."
      ],
      "metadata": {
        "id": "htcqlMjuFSvX"
      }
    },
    {
      "cell_type": "markdown",
      "source": [
        "--------------------------------------------------------------------"
      ],
      "metadata": {
        "id": "MxEWaHHCVMrg"
      }
    },
    {
      "cell_type": "markdown",
      "source": [
        "1. 연습문제 C번 / 새로운 노선의 평균 운임을 예측하는 모델을 찾으시오."
      ],
      "metadata": {
        "id": "QH3QO9Zv4sZ4"
      }
    },
    {
      "cell_type": "markdown",
      "source": [
        "C - i 번 / 범주형 변수(ex. SW)들을 가변수로 변환하시오. 그런 다음, 데이터를 학습 데이터셋과 검증 데이터셋으로 분할하시오. 학습 데이터셋에 모델을 적합하고 이를 검증 데이터셋으로 평가하시오."
      ],
      "metadata": {
        "id": "p43Lv1OS5qEN"
      }
    },
    {
      "cell_type": "markdown",
      "source": [
        "1. 필요 라이브러리 불러오기"
      ],
      "metadata": {
        "id": "kOSS0Ea48aRE"
      }
    },
    {
      "cell_type": "code",
      "execution_count": 7,
      "metadata": {
        "id": "Y_sn6lis3vvM"
      },
      "outputs": [],
      "source": [
        "import pandas as pd # (맨 처음에 이미 언급되어 중복 시 생략 가능)\n",
        "from sklearn.model_selection import train_test_split # 데이터를 학습용 / 검증용으로 나누는 함수, 전체 데이터를 70:30 비율로 분할하여 모델 훈련과 성능 평가에 사용\n",
        "from sklearn.linear_model import LinearRegression # 선형 회귀 모델 객체를 생성\n",
        "from sklearn.metrics import mean_squared_error, r2_score # 모델의 성능 평가 지표를 계산, {mean_squared_error: 예측값과 실제값 사이의 평균 제곱 오차 (RMSE 등으로 활용), r2_score: 결정계수 (모델 설명력, 1에 가까울수록 좋음)}"
      ]
    },
    {
      "cell_type": "markdown",
      "source": [
        "2. 데이터 불러오기 & 범주형 변수 가변수화"
      ],
      "metadata": {
        "id": "Ad3GGt9D8Yf9"
      }
    },
    {
      "cell_type": "code",
      "source": [
        "# 데이터 로딩 (이미 a번 문제에서 df로 불러왔기에 생략 가능)\n",
        "\n",
        "\n",
        "# 범주형 변수 가변수화 (drop_first로 다중공선성 방지)\n",
        "categorical_vars = ['S_CODE', 'S_CITY', 'E_CODE', 'E_CITY', 'VACATION', 'SW', 'SLOT', 'GATE'] # 'S_CODE', 'S_CITY', 'E_CODE', 'E_CITY'도 범주형 변수임. 허나, '숫자적 의미가 없고 명목형 데이터'임으로 회귀 모델에서 사용하기 위해서는 가변수 처리되어야 함.\n",
        "df_encoded = pd.get_dummies(df, columns=categorical_vars, drop_first=True)\n",
        "# pd.get_dummies() : 범주형을 숫자형 가변수로 변환\n",
        "# columns=categorical_vars : 가변수화할 범주형 변수 지정\n",
        "# drop_first=True\t: 첫 범주는 제거하여 중복 방지\n",
        "# df_encoded : 새 데이터프레임으로 저장\n",
        "bool_cols = df_encoded.select_dtypes(include='bool').columns\n",
        "df_encoded[bool_cols] = df_encoded[bool_cols].astype(int)\n",
        "\n",
        "\n",
        "\n",
        "# 결측치 제거\n",
        "df_encoded.dropna(inplace=True)"
      ],
      "metadata": {
        "collapsed": true,
        "id": "c4xXxUCK4NM2"
      },
      "execution_count": 17,
      "outputs": []
    },
    {
      "cell_type": "markdown",
      "source": [
        "3. 변수 분리 및 학습 & 검증데이터셋으로 분할"
      ],
      "metadata": {
        "id": "cMbBT8TZ9APr"
      }
    },
    {
      "cell_type": "code",
      "source": [
        "X = df_encoded.drop(columns=['FARE'])  # 독립변수(전체 데이터프레임 (운임에 영향을 줄 수 있는 변수들))\n",
        "y = df_encoded['FARE']                 # 종속변수(예측 대상인 FARE (운임))\n",
        "\n",
        "# 학습 70% / 검증 30% 분할\n",
        "X_train, X_valid, y_train, y_valid = train_test_split(X, y, test_size=0.3, random_state=42)\n",
        "# X_train, y_train : 학습용 데이터 70개\n",
        "# X_valid, y_valid : 검증용 데이터 30개\n",
        "# train_test_split\t: 이 두 데이터를 자동으로 나누어주는 함수\n",
        "# random_state=42\t: 데이터 분할을 매번 같게 유지하기 위한 시드값 (재현 가능성 확보)"
      ],
      "metadata": {
        "id": "_IScnfJR7vmd"
      },
      "execution_count": 18,
      "outputs": []
    },
    {
      "cell_type": "markdown",
      "source": [
        "4. 회귀 모델 학습 및 평가"
      ],
      "metadata": {
        "id": "Po_rzPqx-JtF"
      }
    },
    {
      "cell_type": "code",
      "source": [
        "# 선형 회귀 모델 학습\n",
        "model = LinearRegression()\n",
        "model.fit(X_train, y_train) # 학습 데이터로 모델 훈련. 즉, 변수들의 계수(회귀계수)를 학습하여 운임(FARE)를 예측할 수 있도록 함\n",
        "\n",
        "\n",
        "# 예측\n",
        "y_pred = model.predict(X_valid) # 훈련된 모델에 검증 데이터(X_valid)를 넣어 운임 예측값 y_pred 생성\n",
        "\n",
        "# 성능 평가\n",
        "#rmse = mean_squared_error(y_valid, y_pred, squared=False) # squared = False : 평균 제곱 오차(mse : mean squared error)의 제곱근을 구하는  → RMSE 계산\n",
        "# 위 코딩에서 오류 발생 시 다음 코딩 사용할 것\n",
        "mse = mean_squared_error(y_valid, y_pred)\n",
        "rmse = mse**0.5\n",
        "r2 = r2_score(y_valid, y_pred) # r2 : 모델이 전체 데이터의 분산(변동)을 얼마나 잘 설명하는지를 수치화\n",
        "\n",
        "print(f\"검증 RMSE: {rmse:.2f}\")\n",
        "print(f\"검증 R²: {r2:.4f}\")\n"
      ],
      "metadata": {
        "colab": {
          "base_uri": "https://localhost:8080/"
        },
        "id": "AM9X3ac6-Gyd",
        "outputId": "ed354c39-e7f5-41f7-e867-b9c34004263b"
      },
      "execution_count": 19,
      "outputs": [
        {
          "output_type": "stream",
          "name": "stdout",
          "text": [
            "검증 RMSE: 31.42\n",
            "검증 R²: 0.8380\n"
          ]
        }
      ]
    },
    {
      "cell_type": "markdown",
      "source": [
        "5. 평가 결과"
      ],
      "metadata": {
        "id": "EFJ8HSUgELOP"
      }
    },
    {
      "cell_type": "markdown",
      "source": [
        "검증 RMSE: 31.42\n",
        "검증 R²: 0.8380\n",
        "\n",
        "검증 결과로 나온 다음 두 성능 지표는 모델이 얼마나 정확하게 항공 운임을 예측했는지를 나타냄.\n",
        "\n",
        "\n",
        "RMSE (Root Mean Squared Error): 31.42 라는 지표를 통해 모델이 예측한 항공 운임이 실제 값과 평균적으로 약 31.42달러 차이가 난다는 것을 알 수 있음.\n",
        "\n",
        "\n",
        "R² (결정계수): 0.8380 라는 지표를 통해 전체 운임 변동성의 약 83.8%를 모델이 설명하고 있다는 것을 알 수 있음. 매우 우수한 성능을 가진 모델임"
      ],
      "metadata": {
        "id": "PJ1xpdvcEOJ_"
      }
    },
    {
      "cell_type": "markdown",
      "source": [
        "\n",
        "\n",
        "---\n",
        "\n",
        "**김정은_문제풀이**"
      ],
      "metadata": {
        "id": "ta_tJ4cLm4PQ"
      }
    },
    {
      "cell_type": "markdown",
      "source": [
        "**추가적인 모델 성능 검증**"
      ],
      "metadata": {
        "id": "5K3N0GexnIKl"
      }
    },
    {
      "cell_type": "code",
      "source": [
        "print(y_pred)"
      ],
      "metadata": {
        "colab": {
          "base_uri": "https://localhost:8080/"
        },
        "id": "kmKhCx6FVaaN",
        "outputId": "4ebb4368-e670-4e2c-8608-ca3c66b10d03",
        "collapsed": true
      },
      "execution_count": 27,
      "outputs": [
        {
          "output_type": "stream",
          "name": "stdout",
          "text": [
            "[130.33134527  95.6415181  131.52513736 121.02301717 291.26933094\n",
            " 108.56401284 154.53163176 183.84857439 285.1971572  307.40612531\n",
            " 309.41649256 262.53139199 215.89106481 238.93596158 164.55093183\n",
            " 280.39434952 128.21364199 197.22714649 281.05386732  54.8334003\n",
            " 152.06134106 164.1713304  274.62406445 168.32345918 113.93650031\n",
            " 214.62376976 177.60822382 155.75056065 123.70942793 216.303847\n",
            " 155.49556996 262.11616539 217.89260801 102.30416275 290.08412317\n",
            " 156.81042732  15.42159244 285.54284548 180.07755805 155.98337872\n",
            " 108.40608666 134.36945136  76.10652094 167.46461099  11.30502549\n",
            " 162.1406246   29.08802804 181.34905095 252.44236317  20.27072313\n",
            " -51.49702736 240.2200265  155.79735097 190.30558306  89.66317989\n",
            "  59.4628058  168.77418137 222.46911242 110.29291907 137.45124387\n",
            " 136.98832329  -4.88412583 157.1561156  187.56579231 169.48000753\n",
            " 236.20880104 146.24084989 118.11135755 191.73301824 264.87087468\n",
            "  40.74851979 119.56472176 -21.3078062   65.47779298 120.49276276\n",
            " 198.49828906  77.87731356 121.80719437 140.35024785 261.44172869\n",
            "  96.67918859  25.62329813 230.77630669 -11.16177471 105.54940796\n",
            " 188.45730707 279.46621227 113.94703768 180.99318418 306.36841628\n",
            "  92.08558116 147.33051319 111.61983705  92.80494159 153.92121852\n",
            " 223.89186207 -22.06414192 256.07250338  70.19209929 106.92026148\n",
            " 119.49660459 119.93335387 278.46318929 111.93667043 212.69856638\n",
            " 287.54596181 283.674294    28.05176236 117.70861341 169.4602843\n",
            " 169.0951398  204.51364588 136.93795294 127.66619523 203.76921818\n",
            " 186.5422984  278.10794109 110.53845567  23.52369231 156.26669267\n",
            " 133.5006485  231.95870109 245.45687967  54.47883158  78.28222921\n",
            " 282.50281615 262.31996493 125.84236712 178.28245324 268.44761579\n",
            " 185.7123972  162.7578949   49.49008143 180.60432858 105.01167689\n",
            " 120.14707833  -9.99682877 139.65315339 302.16153684 107.43711909\n",
            "  45.87771295  86.78320597 149.2332703  131.75268037 185.32880082\n",
            "  99.74149995 267.63537535 115.65256496 145.67652034 237.1496854\n",
            " 102.83847811  81.84047652 255.73650511  68.89247593  78.20505956\n",
            "   4.90103944 136.52083626  63.48003188  93.99696848 308.2531825\n",
            "  75.61685258 328.0088869  198.37576146  98.5950271  200.96070432\n",
            " 120.1023609  154.61897819 167.45138844  61.54076456 100.13049626\n",
            "  78.27712561  17.46903252 111.08347598 312.1656421  106.75157914\n",
            " 101.88308476  35.04094342 158.24031528 232.16321509 168.88763236\n",
            " 228.14006763 234.80890532 203.80170382  58.97595405 171.09019697\n",
            " 304.41976514 110.57438008 227.49836899  75.65510754  83.36936713\n",
            "   2.17926923 154.08144576]\n"
          ]
        }
      ]
    },
    {
      "cell_type": "markdown",
      "source": [
        "**=> 예측 운임료가 음수인 경우 존재 -> 이상값**"
      ],
      "metadata": {
        "id": "S3I7t5VzK5J7"
      }
    },
    {
      "cell_type": "markdown",
      "source": [
        "**1. 실제 운임료(y_valid)과 비교해 모델 성능 평가**\n",
        "- 이상치 분석, 오차가 큰 노선 경향 찾기"
      ],
      "metadata": {
        "id": "wMV27DQ3-Kx3"
      }
    },
    {
      "cell_type": "code",
      "source": [
        "\n",
        "# 산점도를 통한 시각적 분석\n",
        "import matplotlib.pyplot as plt\n",
        "\n",
        "plt.scatter(y_valid, y_pred)\n",
        "plt.xlabel(\"Actual FARE\")\n",
        "plt.ylabel(\"Predicted FARE\")\n",
        "plt.title(\"actual fare vs predicted fare\")\n",
        "plt.plot([y_valid.min(), y_valid.max()], [y_valid.min(), y_valid.max()], 'r--')  # 완벽 예측선\n",
        "plt.show()\n"
      ],
      "metadata": {
        "colab": {
          "base_uri": "https://localhost:8080/",
          "height": 469
        },
        "id": "b1VUqrjQWuiL",
        "outputId": "63d565d4-bf96-4024-decb-c77859062bf8"
      },
      "execution_count": 28,
      "outputs": [
        {
          "output_type": "display_data",
          "data": {
            "text/plain": [
              "<Figure size 640x480 with 1 Axes>"
            ],
            "image/png": "[encoded data removed]"
          },
          "metadata": {}
        }
      ]
    },
    {
      "cell_type": "markdown",
      "source": [
        "* 예측 운임료가 음수인 경우가 있음 => 이상치나, 모델 문제가 있을 수 있음"
      ],
      "metadata": {
        "id": "l1idF9ygdlZd"
      }
    },
    {
      "cell_type": "markdown",
      "source": [
        "**오차계산을 통해 이상치 찾기**"
      ],
      "metadata": {
        "id": "5o8rF8buYPGE"
      }
    },
    {
      "cell_type": "code",
      "source": [
        "# 예측값과 실제값 차이 (잔차) 계산\n",
        "errors = y_valid.values - y_pred  # 잔차 = 실제값 - 예측값\n",
        "\n",
        "# DataFrame으로 정리\n",
        "results_df = pd.DataFrame({\n",
        "    '실제 운임': y_valid.values,\n",
        "    '예측 운임': y_pred,\n",
        "    '오차 (실제 - 예측)': errors})\n"
      ],
      "metadata": {
        "id": "l0DxrNaSXt5N"
      },
      "execution_count": 29,
      "outputs": []
    },
    {
      "cell_type": "code",
      "source": [
        "# 예측이 실제보다 훨씬 높은 (예측 과대) 상위 5개\n",
        "over_predictions = results_df.sort_values(by='오차 (실제 - 예측)').head(5)\n",
        "print(\"📈 운임 과대예측 TOP 5\")\n",
        "print(over_predictions)\n"
      ],
      "metadata": {
        "colab": {
          "base_uri": "https://localhost:8080/"
        },
        "id": "ONGOte7lXzwz",
        "outputId": "23215ab3-a59d-43e8-f2fd-b2b0ec8b7181"
      },
      "execution_count": 30,
      "outputs": [
        {
          "output_type": "stream",
          "name": "stdout",
          "text": [
            "📈 운임 과대예측 TOP 5\n",
            "      실제 운임       예측 운임  오차 (실제 - 예측)\n",
            "114  110.42  203.769218    -93.349218\n",
            "29   125.90  216.303847    -90.403847\n",
            "182  133.50  203.801704    -70.301704\n",
            "47   113.99  181.349051    -67.359051\n",
            "82   174.06  230.776307    -56.716307\n"
          ]
        }
      ]
    },
    {
      "cell_type": "code",
      "source": [
        "# 예측이 실제보다 훨씬 낮은 (예측 과소) 상위 5개\n",
        "under_predictions = results_df.sort_values(by='오차 (실제 - 예측)', ascending=False).head(5)\n",
        "print(\"📉 운임 과소예측 TOP 5\")\n",
        "print(under_predictions)"
      ],
      "metadata": {
        "colab": {
          "base_uri": "https://localhost:8080/"
        },
        "id": "6yp8S0rTX7Hq",
        "outputId": "d54baa33-201a-4db0-bb8e-7955faf78755"
      },
      "execution_count": 31,
      "outputs": [
        {
          "output_type": "stream",
          "name": "stdout",
          "text": [
            "📉 운임 과소예측 TOP 5\n",
            "      실제 운임       예측 운임  오차 (실제 - 예측)\n",
            "190  105.45    2.179269    103.270731\n",
            "50    49.77  -51.497027    101.267027\n",
            "72    57.62  -21.307806     78.927806\n",
            "96    55.57  -22.064142     77.634142\n",
            "102  349.97  278.463189     71.506811\n"
          ]
        }
      ]
    },
    {
      "cell_type": "code",
      "source": [
        "results_df['절댓값 오차'] = results_df['오차 (실제 - 예측)'].abs()\n",
        "largest_errors = results_df.sort_values(by='절댓값 오차', ascending=False).head(5)\n",
        "print(\"❗ 오차가 가장 큰 TOP 5 노선\")\n",
        "print(largest_errors)\n"
      ],
      "metadata": {
        "colab": {
          "base_uri": "https://localhost:8080/"
        },
        "id": "Ov7vzdcdYFkZ",
        "outputId": "f907e052-3135-402a-c255-1157041a4f50"
      },
      "execution_count": 32,
      "outputs": [
        {
          "output_type": "stream",
          "name": "stdout",
          "text": [
            "❗ 오차가 가장 큰 TOP 5 노선\n",
            "      실제 운임       예측 운임  오차 (실제 - 예측)      절댓값 오차\n",
            "190  105.45    2.179269    103.270731  103.270731\n",
            "50    49.77  -51.497027    101.267027  101.267027\n",
            "114  110.42  203.769218    -93.349218   93.349218\n",
            "29   125.90  216.303847    -90.403847   90.403847\n",
            "72    57.62  -21.307806     78.927806   78.927806\n"
          ]
        }
      ]
    },
    {
      "cell_type": "code",
      "source": [
        "# 오차가 큰 노선들의 전체 특성을 X_valid에서 함께 출력\n",
        "import numpy as np\n",
        "\n",
        "# 예측값 vs 실제값 vs 오차\n",
        "errors = y_valid.values - y_pred\n",
        "\n",
        "results_df = pd.DataFrame({\n",
        "    '실제 운임': y_valid.values,\n",
        "    '예측 운임': y_pred,\n",
        "    '오차': errors,\n",
        "    '절댓값 오차': np.abs(errors)\n",
        "}, index=y_valid.index)  # 인덱스를 원래 인덱스로 유지!"
      ],
      "metadata": {
        "id": "GQrtMkuZYlL0"
      },
      "execution_count": 33,
      "outputs": []
    },
    {
      "cell_type": "code",
      "source": [
        "# 오차가 가장 큰 TOP 5 노선 선택\n",
        "top_error_indices = results_df.sort_values(by='절댓값 오차', ascending=False).head(5).index"
      ],
      "metadata": {
        "id": "-rAzOrIbZIm4"
      },
      "execution_count": 34,
      "outputs": []
    },
    {
      "cell_type": "code",
      "source": [
        "# X_valid에서 해당 노선들의 입력 특성 뽑기\n",
        "top_error_features = X_valid.loc[top_error_indices]"
      ],
      "metadata": {
        "id": "hvYulyBGZKW-"
      },
      "execution_count": 35,
      "outputs": []
    },
    {
      "cell_type": "code",
      "source": [
        "# 전체 정보 합치기\n",
        "full_top_error_info = pd.concat([top_error_features, results_df.loc[top_error_indices]], axis=1)\n",
        "print(\"❗ 오차가 가장 큰 노선 5개의 특성과 예측/실제 운임 비교:\")\n",
        "print(full_top_error_info)\n"
      ],
      "metadata": {
        "colab": {
          "base_uri": "https://localhost:8080/"
        },
        "id": "HZ_tGoGSZbf2",
        "outputId": "ac348fb5-8aeb-4080-d6d5-e808f3e6d675"
      },
      "execution_count": 36,
      "outputs": [
        {
          "output_type": "stream",
          "name": "stdout",
          "text": [
            "❗ 오차가 가장 큰 노선 5개의 특성과 예측/실제 운임 비교:\n",
            "     COUPON  NEW       HI  S_INCOME  E_INCOME    S_POP    E_POP  DISTANCE  \\\n",
            "549    1.04    3  3375.37   21207.0   21002.0  2105604   258019       399   \n",
            "568    1.10    3  3552.11   24575.0   20375.0  1197234   766956       357   \n",
            "81     1.06    3  8162.77   30124.0   26506.0  5787293  4459144       616   \n",
            "409    1.41    3  4014.79   29260.0   29284.0  7830332   298680      1680   \n",
            "56     1.16    3  3465.14   24575.0   22263.0  1197234   472254       602   \n",
            "\n",
            "       PAX  S_CODE_DCA  ...  E_CITY_Washington          DC  \\\n",
            "549   2789           0  ...                              0   \n",
            "568   5658           0  ...                              0   \n",
            "81   10358           0  ...                              0   \n",
            "409   3926           0  ...                              0   \n",
            "56    8810           0  ...                              0   \n",
            "\n",
            "     E_CITY_West Palm Beach     FL  VACATION_Yes  SW_Yes  SLOT_Free  \\\n",
            "549                              0             1       0          1   \n",
            "568                              0             1       1          1   \n",
            "81                               0             0       0          1   \n",
            "409                              0             1       0          0   \n",
            "56                               0             1       0          1   \n",
            "\n",
            "     GATE_Free   실제 운임       예측 운임          오차      절댓값 오차  \n",
            "549          1  105.45    2.179269  103.270731  103.270731  \n",
            "568          1   49.77  -51.497027  101.267027  101.267027  \n",
            "81           0  110.42  203.769218  -93.349218   93.349218  \n",
            "409          1  125.90  216.303847  -90.403847   90.403847  \n",
            "56           1   57.62  -21.307806   78.927806   78.927806  \n",
            "\n",
            "[5 rows x 148 columns]\n"
          ]
        }
      ]
    },
    {
      "cell_type": "markdown",
      "source": [
        "* 앞서 구한 '오차가 가장 큰 TOP 5 노선'과 바로 위 코드에서 구한\n",
        "'오차가 가장 큰 노선 5개의 특성과 예측/실제 운임 비교' 에서 구한 노선의 인덱스가 다른 것은 y.predict가 인덱스 없이 순서만 있어 섞였기 때문. 인덱스만 다르게 나왔을 뿐, 동일한 노선임."
      ],
      "metadata": {
        "id": "dOSx4Ds_bf0r"
      }
    },
    {
      "cell_type": "markdown",
      "source": [
        "**오차가 큰 노선 특징 분석 - 수치형 변수(DISTANCE, PAX)**\n",
        ": 오차가 큰 노선의 distance와 pax가 전체 검증데이터셋과 비교하여 어떠한 경향을 띠고 있는지 알기 위한 분석.\n"
      ],
      "metadata": {
        "id": "p2rTS7IRfXKW"
      }
    },
    {
      "cell_type": "code",
      "source": [
        "\n",
        "# 전체 검증셋 기준\n",
        "print(\"📊 전체 검증셋 통계 (DISTANCE & PAX)\")\n",
        "print(X_valid[['DISTANCE', 'PAX']].describe())\n",
        "\n",
        "# 분포 시각화\n",
        "import matplotlib.pyplot as plt\n",
        "import seaborn as sns\n",
        "\n",
        "# 전체 Distance 분포\n",
        "plt.figure(figsize=(12, 4))\n",
        "plt.subplot(1, 2, 1)\n",
        "sns.histplot(X_valid['DISTANCE'], bins=30, kde=True)\n",
        "plt.title('Distance distribution')\n",
        "\n",
        "# 전체 Pax 분포\n",
        "plt.subplot(1, 2, 2)\n",
        "sns.histplot(X_valid['PAX'], bins=30, kde=True)\n",
        "plt.title('Pax distribution')\n",
        "\n",
        "plt.tight_layout()\n",
        "plt.show()\n"
      ],
      "metadata": {
        "colab": {
          "base_uri": "https://localhost:8080/",
          "height": 534
        },
        "id": "LtawL9O5efsI",
        "outputId": "d228f1d6-6deb-4b97-ae24-6c7069b263b3"
      },
      "execution_count": 38,
      "outputs": [
        {
          "output_type": "stream",
          "name": "stdout",
          "text": [
            "📊 전체 검증셋 통계 (DISTANCE & PAX)\n",
            "          DISTANCE           PAX\n",
            "count   192.000000    192.000000\n",
            "mean    888.385417  13715.604167\n",
            "std     648.929886  14121.214177\n",
            "min     167.000000   2789.000000\n",
            "25%     381.250000   5779.750000\n",
            "50%     700.500000   8647.500000\n",
            "75%    1101.250000  15510.750000\n",
            "max    2579.000000  73892.000000\n"
          ]
        },
        {
          "output_type": "display_data",
          "data": {
            "text/plain": [
              "<Figure size 1200x400 with 2 Axes>"
            ],
            "image/png": "[encoded data removed]"
          },
          "metadata": {}
        }
      ]
    },
    {
      "cell_type": "code",
      "source": [
        "# 오차가 큰 TOP 5 노선 인덱스\n",
        "top_error_indices = results_df.sort_values(by='절댓값 오차', ascending=False).head(5).index\n",
        "\n",
        "# 해당 노선들의 특성\n",
        "top_errors_features = X_valid.loc[top_error_indices]\n",
        "\n",
        "print(\"📌 오차 큰 TOP 5 노선 통계 (DISTANCE & PAX)\")\n",
        "print(top_errors_features[['DISTANCE', 'PAX']].describe())\n",
        "\n",
        "# 분포 시각화\n",
        "plt.figure(figsize=(12, 4))\n",
        "plt.subplot(1, 2, 1)\n",
        "sns.histplot(top_errors_features['DISTANCE'], bins=5, kde=False)\n",
        "plt.title('TOP 5 Distance distribution')\n",
        "\n",
        "plt.subplot(1, 2, 2)\n",
        "sns.histplot(top_errors_features['PAX'], bins=5, kde=False)\n",
        "plt.title('TOP 5 Pax distribution')\n",
        "\n",
        "plt.tight_layout()\n",
        "plt.show()\n"
      ],
      "metadata": {
        "colab": {
          "base_uri": "https://localhost:8080/",
          "height": 534
        },
        "id": "BbyNruP9hOwN",
        "outputId": "a52c1791-e4ad-4405-a3fe-451d34a02910"
      },
      "execution_count": 39,
      "outputs": [
        {
          "output_type": "stream",
          "name": "stdout",
          "text": [
            "📌 오차 큰 TOP 5 노선 통계 (DISTANCE & PAX)\n",
            "          DISTANCE           PAX\n",
            "count     5.000000      5.000000\n",
            "mean    730.800000   6308.200000\n",
            "std     543.269454   3207.112751\n",
            "min     357.000000   2789.000000\n",
            "25%     399.000000   3926.000000\n",
            "50%     602.000000   5658.000000\n",
            "75%     616.000000   8810.000000\n",
            "max    1680.000000  10358.000000\n"
          ]
        },
        {
          "output_type": "display_data",
          "data": {
            "text/plain": [
              "<Figure size 1200x400 with 2 Axes>"
            ],
            "image/png": "[encoded data removed]"
          },
          "metadata": {}
        }
      ]
    },
    {
      "cell_type": "code",
      "source": [
        "# 두 그룹의 평균 비교 (수치 요약)\n",
        "mean_distance_all = X_valid['DISTANCE'].mean()\n",
        "mean_pax_all = X_valid['PAX'].mean()\n",
        "\n",
        "mean_distance_top5 = top_errors_features['DISTANCE'].mean()\n",
        "mean_pax_top5 = top_errors_features['PAX'].mean()\n",
        "\n",
        "print(f\"전체 평균 거리(DISTANCE): {mean_distance_all:.2f}\")\n",
        "print(f\"TOP 5 평균 거리(DISTANCE): {mean_distance_top5:.2f}\")\n",
        "print(f\"전체 평균 승객 수(PAX): {mean_pax_all:.2f}\")\n",
        "print(f\"TOP 5 평균 승객 수(PAX): {mean_pax_top5:.2f}\")\n"
      ],
      "metadata": {
        "colab": {
          "base_uri": "https://localhost:8080/"
        },
        "id": "sV2EDyWbiE_v",
        "outputId": "9b4ba673-665d-4873-8fd2-88d771b2023a"
      },
      "execution_count": 44,
      "outputs": [
        {
          "output_type": "stream",
          "name": "stdout",
          "text": [
            "전체 평균 거리(DISTANCE): 888.39\n",
            "TOP 5 평균 거리(DISTANCE): 730.80\n",
            "전체 평균 승객 수(PAX): 13715.60\n",
            "TOP 5 평균 승객 수(PAX): 6308.20\n"
          ]
        }
      ]
    },
    {
      "cell_type": "markdown",
      "source": [
        "**오차가 큰 top 5 노선의 특징**\n",
        "1. 평균 거리가 짧음 (1680값 외에 모두 평균보다 낮음)\n",
        "2. 평균 승객 수 극단적으로 적거나, 큼(최솟값, 최댓값 존재)\n",
        "\n",
        "=> 이 모델은 전반적으로 괜찮은 성능(R² = 0.8380)을 보이지만,\n",
        "짧은 거리 & 승객 수가 적거나 극단적으로 큰 노선에서는 예측 정확도가 떨어지는 경향이 있음."
      ],
      "metadata": {
        "id": "4WAt4E5ljVDm"
      }
    },
    {
      "cell_type": "markdown",
      "source": [
        "**분석 결과**\n",
        "1. 노선(distance)이 짧을 수록 모델의 예측 성능 불안정\n",
        "*   앞서 최적의 예측 변수인 거리가 길수록 운임료도 선형적으로 증가한다 가정을 했으나, 오차가 비교적 많이 발생한 짧은 노선에서는 운임료가 단순히 거리로 측정되는 것이 아닌, 다른 변수(요인)가 더 강하게 작용할 가능성 높음.  \n",
        " => 짧은 거리에서 단순히 거리 기반 예측은 불안정하다.\n",
        "\n",
        "\n",
        "---\n",
        "\n",
        "\n",
        "2. 승객 수(pax)가 적거나, 극단적으로 큰 값에서 예측 성능 불안정\n",
        "*   극단값에는 학습 데이터가 많지 않기에, 일반화 어려운 문제\n",
        "*   선형 회귀는 이상치에 영향을 많기 받음.\n",
        "\n",
        "\n",
        "\n",
        "\n",
        "\n",
        "\n",
        "\n",
        "\n",
        "\n"
      ],
      "metadata": {
        "id": "qGe-POWBiotf"
      }
    },
    {
      "cell_type": "markdown",
      "source": [
        "**2. model.summary을 통한 모델 평가**\n",
        "\n",
        ":  각 변수의 회귀 계수(coefficient),\n",
        "표준 오차(std err), t-값(t), P-값(P>|t|), 결정계수(R-squared) 등 다양한 통계 정보 확인. 각 계수가 통계적으로 유의미한지(P-값이\n",
        "작은지, 보통 0.05 기준) 확인.\n",
        "\n",
        "=> 현재 LinearRegression(scikit-learn)로 만든 모델은 model.summary()작업이 불가능하여 statsmodels의 OLS(최소제곱법) 모델로 다시 만들어 확인.\n"
      ],
      "metadata": {
        "id": "LJuDrhpK9Sa4"
      }
    },
    {
      "cell_type": "code",
      "source": [
        "!pip install statsmodels\n"
      ],
      "metadata": {
        "collapsed": true,
        "colab": {
          "base_uri": "https://localhost:8080/"
        },
        "outputId": "8d2c9d57-2900-4c9f-a1cf-9df8dbbe3113",
        "id": "5R78lvWC9Sa5"
      },
      "execution_count": 45,
      "outputs": [
        {
          "output_type": "stream",
          "name": "stdout",
          "text": [
            "Requirement already satisfied: statsmodels in /usr/local/lib/python3.11/dist-packages (0.14.4)\n",
            "Requirement already satisfied: numpy<3,>=1.22.3 in /usr/local/lib/python3.11/dist-packages (from statsmodels) (2.0.2)\n",
            "Requirement already satisfied: scipy!=1.9.2,>=1.8 in /usr/local/lib/python3.11/dist-packages (from statsmodels) (1.15.3)\n",
            "Requirement already satisfied: pandas!=2.1.0,>=1.4 in /usr/local/lib/python3.11/dist-packages (from statsmodels) (2.2.2)\n",
            "Requirement already satisfied: patsy>=0.5.6 in /usr/local/lib/python3.11/dist-packages (from statsmodels) (1.0.1)\n",
            "Requirement already satisfied: packaging>=21.3 in /usr/local/lib/python3.11/dist-packages (from statsmodels) (24.2)\n",
            "Requirement already satisfied: python-dateutil>=2.8.2 in /usr/local/lib/python3.11/dist-packages (from pandas!=2.1.0,>=1.4->statsmodels) (2.9.0.post0)\n",
            "Requirement already satisfied: pytz>=2020.1 in /usr/local/lib/python3.11/dist-packages (from pandas!=2.1.0,>=1.4->statsmodels) (2025.2)\n",
            "Requirement already satisfied: tzdata>=2022.7 in /usr/local/lib/python3.11/dist-packages (from pandas!=2.1.0,>=1.4->statsmodels) (2025.2)\n",
            "Requirement already satisfied: six>=1.5 in /usr/local/lib/python3.11/dist-packages (from python-dateutil>=2.8.2->pandas!=2.1.0,>=1.4->statsmodels) (1.17.0)\n"
          ]
        }
      ]
    },
    {
      "cell_type": "code",
      "source": [
        "import statsmodels.api as sm\n",
        "\n",
        "# X와 y 모두 float으로 변환\n",
        "X_train_const = sm.add_constant(X_train).astype(float)\n",
        "y_train_float = y_train.astype(float)\n",
        "\n",
        "# OLS 모델 다시 학습\n",
        "model = sm.OLS(y_train_float, X_train_const).fit()\n",
        "\n",
        "# 결과 출력\n",
        "print(model.summary())\n"
      ],
      "metadata": {
        "colab": {
          "base_uri": "https://localhost:8080/"
        },
        "collapsed": true,
        "outputId": "23a06636-bf2a-4a0c-8dd6-506e3bb6b33d",
        "id": "tm5HfKO59Sa5"
      },
      "execution_count": 47,
      "outputs": [
        {
          "output_type": "stream",
          "name": "stdout",
          "text": [
            "                            OLS Regression Results                            \n",
            "==============================================================================\n",
            "Dep. Variable:                   FARE   R-squared:                       0.888\n",
            "Model:                            OLS   Adj. R-squared:                  0.846\n",
            "Method:                 Least Squares   F-statistic:                     21.04\n",
            "Date:                Sat, 24 May 2025   Prob (F-statistic):          1.66e-102\n",
            "Time:                        15:53:33   Log-Likelihood:                -2069.4\n",
            "No. Observations:                 446   AIC:                             4385.\n",
            "Df Residuals:                     323   BIC:                             4889.\n",
            "Df Model:                         122                                         \n",
            "Covariance Type:            nonrobust                                         \n",
            "=================================================================================================\n",
            "                                    coef    std err          t      P>|t|      [0.025      0.975]\n",
            "-------------------------------------------------------------------------------------------------\n",
            "const                          -161.6254     60.846     -2.656      0.008    -281.329     -41.922\n",
            "COUPON                            7.3069     16.683      0.438      0.662     -25.515      40.129\n",
            "NEW                              -4.8714      2.288     -2.129      0.034      -9.372      -0.370\n",
            "HI                                0.0091      0.001      6.905      0.000       0.006       0.012\n",
            "S_INCOME                          0.0006      0.002      0.410      0.682      -0.002       0.004\n",
            "E_INCOME                          0.0039      0.002      1.756      0.080      -0.000       0.008\n",
            "S_POP                           1.01e-05   2.56e-06      3.945      0.000    5.06e-06    1.51e-05\n",
            "E_POP                          1.433e-05   4.72e-06      3.038      0.003    5.05e-06    2.36e-05\n",
            "DISTANCE                          0.0811      0.005     15.253      0.000       0.071       0.092\n",
            "PAX                              -0.0011      0.000     -5.235      0.000      -0.002      -0.001\n",
            "S_CODE_DCA                       -7.2502     19.925     -0.364      0.716     -46.449      31.949\n",
            "S_CODE_EWR                       21.3585     15.244      1.401      0.162      -8.632      51.349\n",
            "S_CODE_IAD                       17.8754     17.502      1.021      0.308     -16.557      52.308\n",
            "S_CODE_JFK                       -4.9210     11.356     -0.433      0.665     -27.263      17.421\n",
            "S_CODE_LGA                       -8.5751     10.918     -0.785      0.433     -30.055      12.905\n",
            "S_CODE_MDW                        3.0261      7.641      0.396      0.692     -12.006      18.058\n",
            "S_CODE_ORD                       -2.5177     10.804     -0.233      0.816     -23.773      18.738\n",
            "S_CITY_Anchorage           AK    -5.3029     33.503     -0.158      0.874     -71.215      60.609\n",
            "S_CITY_Atlanta             GA    16.3751      8.291      1.975      0.049       0.064      32.686\n",
            "S_CITY_Austin              TX    24.5946     13.819      1.780      0.076      -2.591      51.780\n",
            "S_CITY_Baltimore/Wash Intl MD    62.7132     26.579      2.359      0.019      10.423     115.004\n",
            "S_CITY_Boise               ID    28.4663     33.195      0.858      0.392     -36.839      93.772\n",
            "S_CITY_Boston              MA     5.4135      9.368      0.578      0.564     -13.017      23.844\n",
            "S_CITY_Burbank             CA  -101.3548     21.892     -4.630      0.000    -144.423     -58.287\n",
            "S_CITY_Chicago             IL     0.5084      7.197      0.071      0.944     -13.650      14.667\n",
            "S_CITY_Cincinnati          OH    52.2409     23.136      2.258      0.025       6.724      97.757\n",
            "S_CITY_Cleveland           OH     1.5884     13.254      0.120      0.905     -24.487      27.664\n",
            "S_CITY_Columbus            OH    38.9843     14.921      2.613      0.009       9.630      68.338\n",
            "S_CITY_Corpus Christi      TX    -8.4022     26.631     -0.316      0.753     -60.795      43.991\n",
            "S_CITY_Dallas/Fort Worth   TX    59.1248     10.641      5.556      0.000      38.190      80.060\n",
            "S_CITY_Denver              CO    38.9207     12.958      3.004      0.003      13.428      64.413\n",
            "S_CITY_Detroit             MI    31.2890     15.088      2.074      0.039       1.607      60.971\n",
            "S_CITY_El Paso             TX  3.565e-12   3.82e-12      0.933      0.352   -3.95e-12    1.11e-11\n",
            "S_CITY_Fort Lauderdale     FL    22.0300     17.832      1.235      0.218     -13.051      57.112\n",
            "S_CITY_Fort Meyers         FL    17.8059     27.697      0.643      0.521     -36.683      72.295\n",
            "S_CITY_Greenville/Sprtnbg  SC   -18.5600     33.052     -0.562      0.575     -83.584      46.464\n",
            "S_CITY_Hartford            CT    22.7196     18.836      1.206      0.229     -14.336      59.775\n",
            "S_CITY_Honolulu (Intl)     HI     0.0513     35.136      0.001      0.999     -69.073      69.176\n",
            "S_CITY_Houston             TX    52.3403     10.704      4.890      0.000      31.282      73.399\n",
            "S_CITY_Jacksonville        FL    53.3394     27.074      1.970      0.050       0.076     106.602\n",
            "S_CITY_Kansas City         MO    16.6533     12.551      1.327      0.185      -8.038      41.345\n",
            "S_CITY_Las Vegas           NV    13.3676     16.085      0.831      0.407     -18.276      45.011\n",
            "S_CITY_Los Angeles         CA   -32.0345     13.735     -2.332      0.020     -59.055      -5.014\n",
            "S_CITY_Memphis             TN    28.3922     23.481      1.209      0.227     -17.803      74.587\n",
            "S_CITY_Miami               FL    32.2191     18.153      1.775      0.077      -3.494      67.932\n",
            "S_CITY_Minneapolis/St Paul MN    55.6590     18.698      2.977      0.003      18.873      92.445\n",
            "S_CITY_Nashville           TN    17.8466     31.699      0.563      0.574     -44.517      80.210\n",
            "S_CITY_New Orleans         LA    23.5549     17.867      1.318      0.188     -11.595      58.705\n",
            "S_CITY_New York/Newark     NY     7.8623     11.707      0.672      0.502     -15.170      30.895\n",
            "S_CITY_Norfolk/Va B/Pt/Ch  VA    26.1334     32.378      0.807      0.420     -37.565      89.832\n",
            "S_CITY_Oakland             CA    -8.0618     17.557     -0.459      0.646     -42.603      26.479\n",
            "S_CITY_Omaha               NE     3.6703     31.418      0.117      0.907     -58.138      65.479\n",
            "S_CITY_Orlando             FL    54.4532     19.234      2.831      0.005      16.614      92.293\n",
            "S_CITY_Philadelphia/Camden PA    10.4391     12.781      0.817      0.415     -14.705      35.583\n",
            "S_CITY_Phoenix             AZ    20.3945     11.870      1.718      0.087      -2.957      43.746\n",
            "S_CITY_Pittsburgh          PA    20.4546     34.776      0.588      0.557     -47.962      88.871\n",
            "S_CITY_Portland            OR    40.3532     34.008      1.187      0.236     -26.551     107.258\n",
            "S_CITY_Sacramento          CA     7.3663     32.316      0.228      0.820     -56.209      70.942\n",
            "S_CITY_Salt Lake City      UT     8.1569     24.512      0.333      0.740     -40.066      56.380\n",
            "S_CITY_San Diego           CA    -4.9081     13.943     -0.352      0.725     -32.338      22.522\n",
            "S_CITY_San Francisco       CA    11.7915     23.341      0.505      0.614     -34.128      57.710\n",
            "S_CITY_San Jose            CA  1.194e-11   1.34e-11      0.891      0.374   -1.44e-11    3.83e-11\n",
            "S_CITY_Seattle/Tacoma      WA     1.5551     15.240      0.102      0.919     -28.427      31.537\n",
            "S_CITY_Spokane             WA -2.077e-11   2.33e-11     -0.893      0.373   -6.65e-11     2.5e-11\n",
            "S_CITY_St Louis            MO    47.2484     22.252      2.123      0.034       3.471      91.025\n",
            "S_CITY_Tampa               FL    42.5253     26.344      1.614      0.107      -9.302      94.353\n",
            "S_CITY_Washington          DC    10.6252     13.111      0.810      0.418     -15.170      36.420\n",
            "E_CODE_DCA                      -11.0844     12.288     -0.902      0.368     -35.259      13.091\n",
            "E_CODE_EWR                        6.3673     16.307      0.390      0.696     -25.714      38.449\n",
            "E_CODE_IAD                        3.8563      8.785      0.439      0.661     -13.426      21.139\n",
            "E_CODE_JFK                      -17.7793     13.782     -1.290      0.198     -44.894       9.335\n",
            "E_CODE_LGA                      -17.4336     13.739     -1.269      0.205     -44.462       9.595\n",
            "E_CODE_MDW                      -13.9343     16.238     -0.858      0.391     -45.880      18.011\n",
            "E_CODE_ORD                       -9.6736     18.339     -0.527      0.598     -45.753      26.406\n",
            "E_CITY_Baltimore/Wash Intl MD   -74.0749     21.513     -3.443      0.001    -116.398     -31.752\n",
            "E_CITY_Birmingham          AL    24.0532     36.859      0.653      0.514     -48.461      96.568\n",
            "E_CITY_Boise               ID    46.4885     39.559      1.175      0.241     -31.337     124.314\n",
            "E_CITY_Boston              MA    -4.5925     30.971     -0.148      0.882     -65.524      56.339\n",
            "E_CITY_Buffalo             NY  2.756e-11   3.09e-11      0.892      0.373   -3.32e-11    8.83e-11\n",
            "E_CITY_Charleston          SC    13.2898     41.322      0.322      0.748     -68.005      94.585\n",
            "E_CITY_Charlotte           NC    80.9802     26.061      3.107      0.002      29.710     132.250\n",
            "E_CITY_Chicago             IL   -23.6080     16.678     -1.416      0.158     -56.419       9.203\n",
            "E_CITY_Cincinnati          OH    98.2306     37.571      2.615      0.009      24.316     172.145\n",
            "E_CITY_Cleveland           OH    14.2505     19.021      0.749      0.454     -23.171      51.672\n",
            "E_CITY_Colorado Springs    CO   -17.5230     29.905     -0.586      0.558     -76.356      41.310\n",
            "E_CITY_Columbus            OH    18.5015     24.991      0.740      0.460     -30.663      67.666\n",
            "E_CITY_Dallas/Fort Worth   TX    50.0949     20.231      2.476      0.014      10.293      89.897\n",
            "E_CITY_Denver              CO    42.5391     30.347      1.402      0.162     -17.163     102.241\n",
            "E_CITY_Detroit             MI    24.5036     24.783      0.989      0.324     -24.254      73.261\n",
            "E_CITY_El Paso             TX  -2.05e-11    2.3e-11     -0.893      0.373   -6.57e-11    2.47e-11\n",
            "E_CITY_Fort Lauderdale     FL    25.0802     22.298      1.125      0.262     -18.787      68.948\n",
            "E_CITY_Fort Meyers         FL    17.3173     26.623      0.650      0.516     -35.060      69.694\n",
            "E_CITY_Greensboro/High Pt  NC    57.7734     30.028      1.924      0.055      -1.301     116.848\n",
            "E_CITY_Hartford            CT    55.6672     22.239      2.503      0.013      11.916      99.418\n",
            "E_CITY_Honolulu (Intl)     HI    12.4347     26.629      0.467      0.641     -39.953      64.822\n",
            "E_CITY_Houston             TX    26.5615     12.344      2.152      0.032       2.278      50.845\n",
            "E_CITY_Indianapolis        IN    18.9753     17.983      1.055      0.292     -16.404      54.355\n",
            "E_CITY_Jacksonville        FL    87.6558     32.237      2.719      0.007      24.235     151.076\n",
            "E_CITY_Kansas City         MO    -7.7523     19.092     -0.406      0.685     -45.312      29.808\n",
            "E_CITY_Las Vegas           NV    24.2660     24.984      0.971      0.332     -24.885      73.417\n",
            "E_CITY_Little Rock         AR   -12.3248     38.429     -0.321      0.749     -87.928      63.279\n",
            "E_CITY_Los Angeles         CA   -75.7829     20.441     -3.707      0.000    -115.998     -35.568\n",
            "E_CITY_Louisville          KY     3.5641     27.744      0.128      0.898     -51.017      58.145\n",
            "E_CITY_Lubbock             TX -1.196e-11   1.34e-11     -0.891      0.374   -3.84e-11    1.45e-11\n",
            "E_CITY_Memphis             TN  8.442e-11   9.46e-11      0.893      0.373   -1.02e-10     2.7e-10\n",
            "E_CITY_Miami               FL    29.5583     30.036      0.984      0.326     -29.533      88.650\n",
            "E_CITY_Milwaukee           WI     1.7579     17.958      0.098      0.922     -33.571      37.087\n",
            "E_CITY_Minneapolis/St Paul MN    75.3899     17.619      4.279      0.000      40.728     110.052\n",
            "E_CITY_Nashville           TN    10.0174     21.020      0.477      0.634     -31.337      51.371\n",
            "E_CITY_New Orleans         LA    32.8460     28.783      1.141      0.255     -23.781      89.473\n",
            "E_CITY_New York/Newark     NY   -28.8457     25.142     -1.147      0.252     -78.308      20.616\n",
            "E_CITY_Oakland             CA    -0.0257     19.738     -0.001      0.999     -38.856      38.805\n",
            "E_CITY_Oklahoma City       OK    -6.9321     39.706     -0.175      0.862     -85.048      71.184\n",
            "E_CITY_Omaha               NE   -28.2447     35.879     -0.787      0.432     -98.831      42.342\n",
            "E_CITY_Orlando             FL    59.5638     26.355      2.260      0.024       7.716     111.412\n",
            "E_CITY_Philadelphia/Camden PA     3.0037     12.089      0.248      0.804     -20.779      26.787\n",
            "E_CITY_Phoenix             AZ     8.5550     17.321      0.494      0.622     -25.521      42.632\n",
            "E_CITY_Pittsburgh          PA    37.9709     21.776      1.744      0.082      -4.871      80.812\n",
            "E_CITY_Portland            OR    36.3941     21.703      1.677      0.095      -6.303      79.092\n",
            "E_CITY_Providence          RI    26.8196     24.534      1.093      0.275     -21.446      75.085\n",
            "E_CITY_Raleigh/Durham      NC    37.9426     19.673      1.929      0.055      -0.760      76.646\n",
            "E_CITY_Reno                NV    27.3950     20.800      1.317      0.189     -13.525      68.315\n",
            "E_CITY_Richmond (Intl)     VA    83.3103     26.899      3.097      0.002      30.390     136.230\n",
            "E_CITY_Rochester           NY  3.724e-15   2.67e-15      1.397      0.163   -1.52e-15    8.97e-15\n",
            "E_CITY_Sacramento          CA     1.0144     28.663      0.035      0.972     -55.375      57.404\n",
            "E_CITY_Salt Lake City      UT    30.9482     27.325      1.133      0.258     -22.809      84.705\n",
            "E_CITY_San Antonio         TX    34.4474     26.519      1.299      0.195     -17.725      86.620\n",
            "E_CITY_San Diego           CA     6.7616     16.056      0.421      0.674     -24.825      38.348\n",
            "E_CITY_San Francisco       CA   -13.3468     19.090     -0.699      0.485     -50.903      24.209\n",
            "E_CITY_San Jose            CA    19.5976     13.138      1.492      0.137      -6.250      45.445\n",
            "E_CITY_Sarasota/Bradenton  FL   -21.9127     22.630     -0.968      0.334     -66.433      22.607\n",
            "E_CITY_Seattle/Tacoma      WA   -14.5214     10.849     -1.339      0.182     -35.864       6.821\n",
            "E_CITY_Spokane             WA          0          0        nan        nan           0           0\n",
            "E_CITY_St Louis            MO    33.0253     12.894      2.561      0.011       7.658      58.392\n",
            "E_CITY_Syracuse            NY    34.2826     31.795      1.078      0.282     -28.269      96.834\n",
            "E_CITY_Tallahassee         FL          0          0        nan        nan           0           0\n",
            "E_CITY_Tampa               FL    28.2179     21.875      1.290      0.198     -14.818      71.254\n",
            "E_CITY_Tucson              AZ          0          0        nan        nan           0           0\n",
            "E_CITY_Tulsa               OK          0          0        nan        nan           0           0\n",
            "E_CITY_Washington          DC    -7.2281     10.436     -0.693      0.489     -27.759      13.302\n",
            "E_CITY_West Palm Beach     FL   -18.7366     16.627     -1.127      0.261     -51.447      13.974\n",
            "VACATION_Yes                    -40.8220     13.846     -2.948      0.003     -68.062     -13.582\n",
            "SW_Yes                          -24.4031      6.098     -4.002      0.000     -36.400     -12.406\n",
            "SLOT_Free                       -13.8510     17.396     -0.796      0.426     -48.074      20.372\n",
            "GATE_Free                        14.4389     15.795      0.914      0.361     -16.636      45.514\n",
            "==============================================================================\n",
            "Omnibus:                        2.857   Durbin-Watson:                   1.971\n",
            "Prob(Omnibus):                  0.240   Jarque-Bera (JB):                3.121\n",
            "Skew:                          -0.025   Prob(JB):                        0.210\n",
            "Kurtosis:                       3.407   Cond. No.                     5.76e+18\n",
            "==============================================================================\n",
            "\n",
            "Notes:\n",
            "[1] Standard Errors assume that the covariance matrix of the errors is correctly specified.\n",
            "[2] The smallest eigenvalue is 4.94e-22. This might indicate that there are\n",
            "strong multicollinearity problems or that the design matrix is singular.\n"
          ]
        }
      ]
    },
    {
      "cell_type": "markdown",
      "source": [
        "**모델 전체 성능**\n",
        "\n",
        "| 항목                                                    | 의미          | 해석                                |\n",
        "| ----------------------------------------------------- | ----------- | --------------------------------- |\n",
        "| `R-squared: 0.888`                                    | 결정계수        | 이 모델이 전체 운임(FARE)의 **88.8%를 설명**함 |\n",
        "| `Adj. R-squared: 0.846`                               | 조정된 결정계수    | 변수 수 고려 후에도 **84.6% 설명력 유지** (좋음) |\n",
        "| `F-statistic: 21.04`, `Prob (F-statistic): 1.66e-102` | 전체 모델 유의성   | 모델이 통계적으로 매우 유의함 (**p ≪ 0.05**)   |\n",
        "| `No. Observations: 446`, `Df Model: 122`              | 표본 수 및 변수 수 | 샘플: 446개, 독립변수: 122개              |\n"
      ],
      "metadata": {
        "id": "3ofnWwq-9Sa6"
      }
    },
    {
      "cell_type": "markdown",
      "source": [
        "**통계적으로 유의미한 변수 (p-value < 0.05)**\n",
        "\n",
        "| 변수                         | 계수 (coef)    | p-value   | 해석                                         |\n",
        "| -------------------------- | ------------ | --------- | ------------------------------------------ |\n",
        "| `DISTANCE`                 | **+0.0811**  | **0.000** | 거리 1마일 늘면 운임 평균 **8.1센트 증가**               |\n",
        "| `PAX`                      | **-0.0011**  | **0.000** | 승객 수가 1명 늘수록 운임은 평균 **0.11센트 감소** (규모의 경제) |\n",
        "| `SW_Yes`                   | **-24.4031** | **0.000** | SW 항공사가 있으면 평균 운임이 **약 24.40달러 낮아짐**       |\n",
        "| `VACATION_Yes`             | **-40.8220** | **0.003** | 휴가용 노선일수록 평균 운임이 **약 40.82달러 낮음**          |\n",
        "| `S_CITY_Dallas/Fort Worth` | +59.12       | 0.000     | 출발지가 DFW면 운임이 **상대적으로 높음**                 |\n",
        "| `E_CITY_Los Angeles`       | **-75.78**   | **0.000** | 도착지가 LAX면 운임이 **상대적으로 낮음**                 |\n",
        "\n",
        "=> \tSW가 운행하면 평균 운임 ↓ / 휴가 노선은 낮은 운임 / 승객 수 많으면 운임 낮아짐\n"
      ],
      "metadata": {
        "id": "ZZSWTf-d9Sa6"
      }
    },
    {
      "cell_type": "markdown",
      "source": [
        "**유의하지 않은 변수들 (p > 0.05)**\n",
        "\n",
        "S_CODE_DCA, S_CITY_Chicago, E_CITY_Boston, GATE_Free, 등 다수\n",
        "\n",
        "→ 이 변수들은 운임 예측에 기여하지 않음\n",
        "\n",
        "→ **단계적 회귀(stepwise)**를 통해 제거해야 함"
      ],
      "metadata": {
        "id": "vj6Ji2pJ9Sa6"
      }
    },
    {
      "cell_type": "markdown",
      "source": [
        "**조건수(Condition Number)**\n",
        "\n",
        ": 조건수는 선형 회귀 모델에서 독립 변수들 사이에 다중공선성이 있는지를 수치로 나타내는 지표\n",
        "\n",
        "| 조건수 값               | 해석                          |\n",
        "| ------------------- | --------------------------- |\n",
        "| **< 30**            | 안정적 (문제 없음) ✅               |\n",
        "| **30 \\~ 100**       | 다소 문제 있음 (주의) ⚠️            |\n",
        "| **> 100**           | **강한 다중공선성** (심각함) ❗        |\n",
        "| **≫ 1e+5 (10⁵ 이상)** | 설계행렬이 거의 특이함 (계산 불가능 수준) 🚨 |\n",
        "\n",
        "\n",
        "\n",
        "---\n",
        "\n",
        "**현재 모델의 조건수**\n",
        ": Cond. No. = 5.76e+18\n",
        "\n",
        "=> 매우 크고 비정상적인 값\n",
        "\n",
        "* 해결방안\n",
        "1. 중복, 불필요한 변수 제거\n",
        "2. Variance Inflation Factor (VIF) 확인 (변수별 다중공선성 확인)\n",
        "3. 희소한 가변수(거의 전부 0인 변수) 제거\n",
        "4. 정규화 회귀 사용 : Ridge, Lasso 회귀는 다중공선성에 더 강함\n"
      ],
      "metadata": {
        "id": "TpP62W9w9Sa6"
      }
    },
    {
      "cell_type": "markdown",
      "source": [
        "**2. VIF (분산 팽창 계수) 확인**"
      ],
      "metadata": {
        "id": "nHFkvm-w9Sa6"
      }
    },
    {
      "cell_type": "code",
      "source": [
        "from statsmodels.stats.outliers_influence import variance_inflation_factor\n",
        "import pandas as pd\n",
        "import statsmodels.api as sm\n",
        "\n",
        "# 1. X 데이터에 상수항 추가\n",
        "X_const = sm.add_constant(X_train).astype(float)  # ← 여기에 X_train은 학습용 독립변수 DataFrame\n",
        "\n",
        "# 2. VIF 계산\n",
        "vif_data = pd.DataFrame()\n",
        "vif_data[\"변수명\"] = X_const.columns\n",
        "vif_data[\"VIF\"] = [variance_inflation_factor(X_const.values, i) for i in range(X_const.shape[1])]\n",
        "\n",
        "# 3. 결과 출력\n",
        "pd.set_option('display.max_rows', None)  # 생략 없이 전체 출력\n",
        "print(vif_data)\n",
        "\n"
      ],
      "metadata": {
        "colab": {
          "base_uri": "https://localhost:8080/"
        },
        "outputId": "7a0f3002-5739-4f00-f070-180f5220fccb",
        "collapsed": true,
        "id": "lx_21clD9Sa6"
      },
      "execution_count": null,
      "outputs": [
        {
          "output_type": "stream",
          "name": "stderr",
          "text": [
            "/usr/local/lib/python3.11/dist-packages/statsmodels/regression/linear_model.py:1782: RuntimeWarning: divide by zero encountered in scalar divide\n",
            "  return 1 - self.ssr/self.centered_tss\n",
            "/usr/local/lib/python3.11/dist-packages/statsmodels/stats/outliers_influence.py:197: RuntimeWarning: divide by zero encountered in scalar divide\n",
            "  vif = 1. / (1. - r_squared_i)\n",
            "/usr/local/lib/python3.11/dist-packages/statsmodels/regression/linear_model.py:1782: RuntimeWarning: invalid value encountered in scalar divide\n",
            "  return 1 - self.ssr/self.centered_tss\n"
          ]
        },
        {
          "output_type": "stream",
          "name": "stdout",
          "text": [
            "                               변수명           VIF\n",
            "0                            const  0.000000e+00\n",
            "1                           COUPON  6.342761e+00\n",
            "2                              NEW  1.466033e+00\n",
            "3                               HI  2.656228e+00\n",
            "4                         S_INCOME           inf\n",
            "5                         E_INCOME           inf\n",
            "6                            S_POP           inf\n",
            "7                            E_POP           inf\n",
            "8                         DISTANCE  5.989358e+00\n",
            "9                              PAX  3.720207e+00\n",
            "10                      S_CODE_DCA           inf\n",
            "11                      S_CODE_EWR           inf\n",
            "12                      S_CODE_IAD           inf\n",
            "13                      S_CODE_JFK           inf\n",
            "14                      S_CODE_LGA           inf\n",
            "15                      S_CODE_MDW           inf\n",
            "16                      S_CODE_ORD           inf\n",
            "17   S_CITY_Anchorage           AK           inf\n",
            "18   S_CITY_Atlanta             GA           inf\n",
            "19   S_CITY_Austin              TX  2.251800e+15\n",
            "20   S_CITY_Baltimore/Wash Intl MD  9.007199e+15\n",
            "21   S_CITY_Boise               ID  2.729454e+14\n",
            "22   S_CITY_Boston              MA           inf\n",
            "23   S_CITY_Burbank             CA           inf\n",
            "24   S_CITY_Chicago             IL           inf\n",
            "25   S_CITY_Cincinnati          OH           inf\n",
            "26   S_CITY_Cleveland           OH           inf\n",
            "27   S_CITY_Columbus            OH  2.251800e+15\n",
            "28   S_CITY_Corpus Christi      TX  2.814750e+14\n",
            "29   S_CITY_Dallas/Fort Worth   TX           inf\n",
            "30   S_CITY_Denver              CO           inf\n",
            "31   S_CITY_Detroit             MI           inf\n",
            "32   S_CITY_El Paso             TX           NaN\n",
            "33   S_CITY_Fort Lauderdale     FL  9.007199e+15\n",
            "34   S_CITY_Fort Meyers         FL  4.503600e+15\n",
            "35   S_CITY_Greenville/Sprtnbg  SC  9.790434e+13\n",
            "36   S_CITY_Hartford            CT           inf\n",
            "37   S_CITY_Honolulu (Intl)     HI           inf\n",
            "38   S_CITY_Houston             TX  9.007199e+15\n",
            "39   S_CITY_Jacksonville        FL  8.830588e+13\n",
            "40   S_CITY_Kansas City         MO  9.007199e+15\n",
            "41   S_CITY_Las Vegas           NV  3.002400e+15\n",
            "42   S_CITY_Los Angeles         CA           inf\n",
            "43   S_CITY_Memphis             TN           inf\n",
            "44   S_CITY_Miami               FL           inf\n",
            "45   S_CITY_Minneapolis/St Paul MN  4.503600e+15\n",
            "46   S_CITY_Nashville           TN  1.501200e+15\n",
            "47   S_CITY_New Orleans         LA  1.501200e+15\n",
            "48   S_CITY_New York/Newark     NY           inf\n",
            "49   S_CITY_Norfolk/Va B/Pt/Ch  VA  1.286743e+15\n",
            "50   S_CITY_Oakland             CA  9.007199e+15\n",
            "51   S_CITY_Omaha               NE  8.188363e+14\n",
            "52   S_CITY_Orlando             FL  9.007199e+15\n",
            "53   S_CITY_Philadelphia/Camden PA  9.007199e+15\n",
            "54   S_CITY_Phoenix             AZ  4.503600e+15\n",
            "55   S_CITY_Pittsburgh          PA  4.503600e+15\n",
            "56   S_CITY_Portland            OR           inf\n",
            "57   S_CITY_Sacramento          CA  9.007199e+15\n",
            "58   S_CITY_Salt Lake City      UT  3.002400e+15\n",
            "59   S_CITY_San Diego           CA           inf\n",
            "60   S_CITY_San Francisco       CA           inf\n",
            "61   S_CITY_San Jose            CA           NaN\n",
            "62   S_CITY_Seattle/Tacoma      WA           inf\n",
            "63   S_CITY_Spokane             WA           NaN\n",
            "64   S_CITY_St Louis            MO  2.047091e+14\n",
            "65   S_CITY_Tampa               FL           inf\n",
            "66   S_CITY_Washington          DC           inf\n",
            "67                      E_CODE_DCA           inf\n",
            "68                      E_CODE_EWR           inf\n",
            "69                      E_CODE_IAD           inf\n",
            "70                      E_CODE_JFK           inf\n",
            "71                      E_CODE_LGA           inf\n",
            "72                      E_CODE_MDW           inf\n",
            "73                      E_CODE_ORD           inf\n",
            "74   E_CITY_Baltimore/Wash Intl MD           inf\n",
            "75   E_CITY_Birmingham          AL  1.501200e+15\n",
            "76   E_CITY_Boise               ID  5.629500e+14\n",
            "77   E_CITY_Boston              MA           inf\n",
            "78   E_CITY_Buffalo             NY           NaN\n",
            "79   E_CITY_Charleston          SC  9.007199e+15\n",
            "80   E_CITY_Charlotte           NC  1.501200e+15\n",
            "81   E_CITY_Chicago             IL           inf\n",
            "82   E_CITY_Cincinnati          OH  9.007199e+15\n",
            "83   E_CITY_Cleveland           OH  9.007199e+15\n",
            "84   E_CITY_Colorado Springs    CO  1.000800e+15\n",
            "85   E_CITY_Columbus            OH  3.002400e+15\n",
            "86   E_CITY_Dallas/Fort Worth   TX           inf\n",
            "87   E_CITY_Denver              CO  3.002400e+15\n",
            "88   E_CITY_Detroit             MI           inf\n",
            "89   E_CITY_El Paso             TX           NaN\n",
            "90   E_CITY_Fort Lauderdale     FL           inf\n",
            "91   E_CITY_Fort Meyers         FL           inf\n",
            "92   E_CITY_Greensboro/High Pt  NC  3.002400e+15\n",
            "93   E_CITY_Hartford            CT  2.251800e+15\n",
            "94   E_CITY_Honolulu (Intl)     HI  4.503600e+15\n",
            "95   E_CITY_Houston             TX           inf\n",
            "96   E_CITY_Indianapolis        IN  9.007199e+15\n",
            "97   E_CITY_Jacksonville        FL  9.007199e+15\n",
            "98   E_CITY_Kansas City         MO           inf\n",
            "99   E_CITY_Las Vegas           NV  4.503600e+15\n",
            "100  E_CITY_Little Rock         AR  6.928615e+14\n",
            "101  E_CITY_Los Angeles         CA           inf\n",
            "102  E_CITY_Louisville          KY  1.501200e+15\n",
            "103  E_CITY_Lubbock             TX           NaN\n",
            "104  E_CITY_Memphis             TN           NaN\n",
            "105  E_CITY_Miami               FL           inf\n",
            "106  E_CITY_Milwaukee           WI           inf\n",
            "107  E_CITY_Minneapolis/St Paul MN           inf\n",
            "108  E_CITY_Nashville           TN           inf\n",
            "109  E_CITY_New Orleans         LA           inf\n",
            "110  E_CITY_New York/Newark     NY           inf\n",
            "111  E_CITY_Oakland             CA           inf\n",
            "112  E_CITY_Oklahoma City       OK  2.251800e+15\n",
            "113  E_CITY_Omaha               NE  2.251800e+15\n",
            "114  E_CITY_Orlando             FL           inf\n",
            "115  E_CITY_Philadelphia/Camden PA           inf\n",
            "116  E_CITY_Phoenix             AZ           inf\n",
            "117  E_CITY_Pittsburgh          PA           inf\n",
            "118  E_CITY_Portland            OR           inf\n",
            "119  E_CITY_Providence          RI  9.007199e+15\n",
            "120  E_CITY_Raleigh/Durham      NC           inf\n",
            "121  E_CITY_Reno                NV           inf\n",
            "122  E_CITY_Richmond (Intl)     VA  9.007199e+15\n",
            "123  E_CITY_Rochester           NY           NaN\n",
            "124  E_CITY_Sacramento          CA  3.002400e+15\n",
            "125  E_CITY_Salt Lake City      UT  9.007199e+15\n",
            "126  E_CITY_San Antonio         TX  9.007199e+15\n",
            "127  E_CITY_San Diego           CA           inf\n",
            "128  E_CITY_San Francisco       CA           inf\n",
            "129  E_CITY_San Jose            CA           inf\n",
            "130  E_CITY_Sarasota/Bradenton  FL  9.007199e+15\n",
            "131  E_CITY_Seattle/Tacoma      WA  9.007199e+15\n",
            "132  E_CITY_Spokane             WA           NaN\n",
            "133  E_CITY_St Louis            MO           inf\n",
            "134  E_CITY_Syracuse            NY  1.125900e+15\n",
            "135  E_CITY_Tallahassee         FL           NaN\n",
            "136  E_CITY_Tampa               FL           inf\n",
            "137  E_CITY_Tucson              AZ           NaN\n",
            "138  E_CITY_Tulsa               OK           NaN\n",
            "139  E_CITY_Washington          DC           inf\n",
            "140  E_CITY_West Palm Beach     FL           inf\n",
            "141                   VACATION_Yes  1.940828e+01\n",
            "142                         SW_Yes  3.988784e+00\n",
            "143                      SLOT_Free  3.111076e+01\n",
            "144                      GATE_Free  1.998897e+01\n"
          ]
        }
      ]
    },
    {
      "cell_type": "markdown",
      "source": [
        "| VIF 값       | 의미           | 해석            |\n",
        "| ----------- | ------------ | ------------- |\n",
        "| 1.0 \\~ 5.0  | 보통 수준        | 문제 없음 ✅       |\n",
        "| 5.0 \\~ 10.0 | 다중공선성 가능성 있음 | 주의 ⚠️         |\n",
        "| 10 이상       | 강한 다중공선성 존재  | 제거 또는 결합 필요 ❗ |\n"
      ],
      "metadata": {
        "id": "k6_RVoK69Sa7"
      }
    },
    {
      "cell_type": "markdown",
      "source": [
        "**분석 결과**\n",
        " 1. VIF = inf (무한대) or NaN인 변수 다수\n",
        "\n",
        ": S_INCOME, E_POP, S_CODE_DCA, E_CODE_JFK, S_CITY_Chicago, E_CITY_Boston 등\n",
        "\n",
        "| 원인                               | 설명                                                          |\n",
        "| -------------------------------- | ----------------------------------------------------------- |\n",
        "| ✅ **너무 많은 가변수(dummy variables)** | `S_CITY_`, `E_CITY_`, `S_CODE_`, `E_CODE_` 등 수십 개가 들어가 있음   |\n",
        "| ⚠️ **가변수끼리 서로 완전히 중복**           | 예: `S_CODE_JFK`와 `S_CITY_New York/Newark NY`는 거의 항상 함께 True |\n",
        "| ⚠️ **샘플 수 대비 변수 수가 너무 많음**       | 샘플은 446개인데, 변수는 140개 이상 → 수학적으로 해가 불안정                      |\n",
        "| ⚠️ **일부 가변수가 특정 행에서만 1이고 나머지 0** | 희소한 dummy 변수 → OLS 계산에서 문제가 생김                              |\n",
        "\n",
        "**해결 방안**\n",
        "\n",
        "=> 단계적 회귀 (Stepwise Selection)\t자동으로 중요 변수만 남기고 나머지 제거 (p < 0.05 기준)"
      ],
      "metadata": {
        "id": "lBFuscaK9Sa7"
      }
    },
    {
      "cell_type": "markdown",
      "source": [
        "\n",
        "\n",
        "---\n",
        "\n"
      ],
      "metadata": {
        "id": "XewL0xBbCB4L"
      }
    },
    {
      "cell_type": "markdown",
      "source": [
        "**ii. 예측 변수의 수를 줄이기 위해서 단계적 회귀 분석을 사용하시오. 처음 4개의 예측 변수(S_CODE, S_CITY, E_CODE, E_CITY)는 제외해도 무방하다. 선택된 모델을 제시하시오.**\n",
        "\n",
        "**단계적 회귀분석(stepwise regression)**\n",
        "\n",
        " : 많은 잠재 예측 변수 중에서 통계적으로 의미 있는 변수만 골라 모델을 구성하는 자동화된 변수선택 기법\n",
        "\n",
        "- 전진 선택법 (Forward Selection)\n",
        "- 후진 제거법 (Backward Elimination)\n",
        "- 단계적 선택법 (Stepwise Selection)  : 전진 선택 + 후진 제거를 번갈아가며 수행"
      ],
      "metadata": {
        "id": "TvxpteM6hcv_"
      }
    },
    {
      "cell_type": "code",
      "source": [
        "import pandas as pd\n",
        "import statsmodels.api as sm\n",
        "from sklearn.model_selection import train_test_split"
      ],
      "metadata": {
        "id": "ymUcBjG5_GQD"
      },
      "execution_count": 3,
      "outputs": []
    },
    {
      "cell_type": "code",
      "source": [
        "# 불필요한 변수 제거\n",
        "# df_encoded를 사용하지 않는 이유 - \"S_CODE\", \"S_CITY\", \"E_CODE\", \"E_CITY\"의 더미변수 또한 모두 제거 해야함.\n",
        "df = pd.read_csv(\"Airfares.csv\")\n",
        "df = df.drop(columns=[\"S_CODE\", \"S_CITY\", \"E_CODE\", \"E_CITY\"])\n"
      ],
      "metadata": {
        "id": "p-mPBrEDAsjL"
      },
      "execution_count": 4,
      "outputs": []
    },
    {
      "cell_type": "code",
      "source": [
        "# 범주형 변수 -> 가변수 처리\n",
        "categorical_vars = [\"VACATION\", \"SW\", \"SLOT\", \"GATE\"]\n",
        "df = pd.get_dummies(df, columns=categorical_vars, drop_first=True)"
      ],
      "metadata": {
        "id": "P_H9ydA9GiKN"
      },
      "execution_count": 5,
      "outputs": []
    },
    {
      "cell_type": "code",
      "source": [
        "# 모든 bool 컬럼을 1/0 int로 변환\n",
        "bool_cols = df.select_dtypes(include=['bool']).columns\n",
        "df[bool_cols] = df[bool_cols].astype(int)"
      ],
      "metadata": {
        "id": "ifUkg9SNL75E"
      },
      "execution_count": 8,
      "outputs": []
    },
    {
      "cell_type": "code",
      "source": [
        "# 독립변수(X)·종속변수(y) 분리  (예측에 사용할 모든 입력 변수인 독립변수에서 FARE 제외)\n",
        "X = df.drop(columns=\"FARE\")\n",
        "y = df[\"FARE\"]"
      ],
      "metadata": {
        "id": "b2ZqnOZSBMxi"
      },
      "execution_count": 9,
      "outputs": []
    },
    {
      "cell_type": "code",
      "source": [
        "# 학습/검증 세트 분할 (70% / 30%)\n",
        "X_train, X_valid, y_train, y_valid = train_test_split(X, y, test_size=0.3, random_state=42)"
      ],
      "metadata": {
        "id": "tx-2iej2Grzy"
      },
      "execution_count": 10,
      "outputs": []
    },
    {
      "cell_type": "markdown",
      "source": [
        "**1. 전진 선택법**\n",
        "- 빈 모델(절편만 포함)에서 시작\n",
        "- 남아 있는 후보 변수 중에서 가장 유의미한 변수(예: p-value가 가장 작거나, AIC가 가장 감소)를 하나씩 추가\n",
        "- 더 이상 추가할 변수가 없을 때(모두 p-value > 기준이거나 AIC 감소가 미미할 때) 종료\n",
        "\n",
        "- 장점: 단순하고 빠름\n",
        "- 단점: 이미 들어간 변수가 최종 조합에 방해가 될 수 있음(국소 최적화)"
      ],
      "metadata": {
        "id": "4YZzqQ3yJDTK"
      }
    },
    {
      "cell_type": "markdown",
      "source": [
        "**2. 후진 제거법**\n",
        "- 모든 후보 변수를 포함한 모델에서 시작\n",
        "- 포함된 변수 중에서 가장 유의하지 않은 변수(p-value가 가장 크거나, AIC가 가장 증가)를 하나씩 제거\n",
        "- 더 이상 제거할 변수가 없을 때(모두 p-value < 기준이거나, 제거 시 AIC 악화) 종료\n",
        "\n",
        "- 장점: 최종 모델에는 항상 “유의미한” 변수만 남음\n",
        "- 단점: 초기 모델에 너무 많은 변수가 있으면 계산량이 많아짐"
      ],
      "metadata": {
        "id": "Wm2w5kbNKTuk"
      }
    },
    {
      "cell_type": "code",
      "source": [
        "'''X : pandas.DataFrame, 모든 후보 독립변수들\n",
        "   y : pandas.Series, 종속변수\n",
        "  initial_list : 이미 포함할 변수 리스트 (여기선 빈 리스트로 시작)\n",
        "  threshold_in : forward step에 변수를 추가할 p-value 기준\n",
        "  threshold_out: backward step에 변수를 제거할 p-value 기준'''\n",
        "\n",
        "def stepwise_selection(X, y, initial_list=[], threshold_in=0.01, threshold_out=0.05):\n",
        "    included = list(initial_list) # 지금 모델에 포함된 변수들의 리스트 (절편만 있는 모델로 시작)\n",
        "    while True:\n",
        "        changed = False  # changed: 한 사이클(전진+후진)에서 \"추가 or 제거\"가 발생했는지 표시하는 플래그\n",
        "\n",
        "        # (1) 전진 선택법 forward: 후보 변수 중 p-value < threshold_in 이면 추가\n",
        "        excluded = list(set(X.columns) - set(included))   # 아직 모델에 포함되지 않은 변수들\n",
        "        new_pval = pd.Series(index=excluded, dtype=float)  #  전진 단계에서 각 후보 변수를 한 번씩 추가했을 때의 p-value 저장용 Series.\n",
        "        for col in excluded:   # 후보 변수 하나(col)를 포함시켜 보고 /\n",
        "            model = sm.OLS(y, sm.add_constant(X[included + [col]].astype(float))).fit()  # sm.add_constant() : 절편항(constant) 추가\n",
        "            new_pval[col] = model.pvalues[col]  # 새로 학습한 모델의 p-value 중, 이 변수(col)의 p-value 저장\n",
        "        best_pval = new_pval.min()   # 후보들 중 가장 작은 p-value\n",
        "        if best_pval < threshold_in:   # 기준(threshold_in=0.01)보다 작으면\n",
        "            included.append(new_pval.idxmin())  # p-value가 최소인 변수명을 꺼내고 / included 리스트에 추가\n",
        "            changed = True\n",
        "    # 이로써 \"유의미하게 추가할 변수\"가 있는지 검사하고, 있으면 포함시킨다.\n",
        "\n",
        "\n",
        "        # (2) 후진 선택법 backward: 포함된 변수 중 p-value > threshold_out 이면 제거\n",
        "        model = sm.OLS(y, sm.add_constant(X[included].astype(float))).fit()  # 지금까지 포함된 변수들만으로 모델을 다시 학습\n",
        "        pvals = model.pvalues.iloc[1:]      # 맨 앞 const 항(절편) 제외[0]하고 변수들에 대한 모든 p-value\n",
        "        worst_pval = pvals.max()        # 포함된 변수들 중, p-value가 가장 큰 값\n",
        "        if worst_pval > threshold_out:       # 기준(threshold_out=0.05)보다 크면\n",
        "            included.remove(pvals.idxmax())    # p-value가 최대인 변수명을 꺼내고 / included 리스트에서 제거\n",
        "            changed = True\n",
        "   # 이로써 \"유의하지 않은 변수\"를 걸러낸다\n",
        "\n",
        "        if not changed:    # 전진에서도 추가가 없고, 후진에서도 제거가 없었다면, 종\n",
        "            break\n",
        "    return included        # 최종적으로 남은 '통계적으로 유의미'한 변수 목록 리턴\n"
      ],
      "metadata": {
        "id": "e2uHFq11Kdud"
      },
      "execution_count": 11,
      "outputs": []
    },
    {
      "cell_type": "markdown",
      "source": [
        "**p-value 0.01 이하의 변수만 추가했는데, 후진에서 pv 0.05 이상의 변수가 어떻게 삭제되는가?**\n",
        "\n",
        "절편만 있던 모델과 (변수 추가되기 전)\n",
        "\n",
        "절편 + 𝑋𝑘 모델 (전진선택으로 인해 변수 추가된 후)은 아예 다른 회귀식이기에 모델의 잔차 구조가 달라짐.\n",
        "\n",
        "=> 그 변화로 인해:\n",
        "\n",
        "절편만 모델에서 𝑋𝑘를 추가했을 때는 p-value가 아주 낮았더라도,\n",
        "\n",
        "그 모델을 다시 그대로 재평가할 때 (바로 후진 단계 진입 시)\n",
        "→ p-value가 0.05를 넘어설 수 있음."
      ],
      "metadata": {
        "id": "7uwugP80XjN3"
      }
    },
    {
      "cell_type": "code",
      "source": [
        "stepwise_selection(X, y)"
      ],
      "metadata": {
        "colab": {
          "base_uri": "https://localhost:8080/"
        },
        "id": "TAAyymI4UaZV",
        "outputId": "f2699df5-5d63-4b67-dcb1-e50b21263b5a"
      },
      "execution_count": 12,
      "outputs": [
        {
          "output_type": "execute_result",
          "data": {
            "text/plain": [
              "['DISTANCE',\n",
              " 'SW_Yes',\n",
              " 'VACATION_Yes',\n",
              " 'HI',\n",
              " 'SLOT_Free',\n",
              " 'GATE_Free',\n",
              " 'E_POP',\n",
              " 'PAX',\n",
              " 'S_POP',\n",
              " 'E_INCOME']"
            ]
          },
          "metadata": {},
          "execution_count": 12
        }
      ]
    },
    {
      "cell_type": "markdown",
      "source": [
        "**단계적 회귀분석 결과**\n",
        "통계적으로 유의미한 10개 핵심 변수\n",
        "\n",
        "- 'DISTANCE'\n",
        "- SW_Yes',\n",
        "- VACATION_Yes'\n",
        "- 'HI'\n",
        "- 'SLOT_Free'\n",
        "- 'GATE_Free'\n",
        "- 'E_POP'\n",
        "- 'PAX'\n",
        "- 'S_POP'\n",
        "- 'E_INCOME'\n",
        "\n"
      ],
      "metadata": {
        "id": "MzpO5mbyVp-I"
      }
    },
    {
      "cell_type": "markdown",
      "source": [
        "**표준화 계수(standardized coefficients)**\n",
        "\n",
        "변수마다 단위가 다르면 영향력 비교가 어렵기 때문에, 모든 변수와 타깃을 표준화(평균0, 표준편차1)로 맞춘 후 회귀계수를 구하면 각 변수의 상대적 중요도를 직접 비교.\n",
        "\n",
        "=> 표준화 계수의 절댓값이 클수록 “상대적으로 중요한 변수”로 해석\n",
        "\n",
        "\n",
        "\n",
        "\n",
        "\n",
        "\n",
        "\n",
        "**주의**\n",
        "\n",
        "회귀계수로 비교하지 않은 이유 :\n",
        "회귀계수는 단순히 절댓값이 클수록 “예측에 미치는 영향이 크다”고 판단.\n",
        "단위(스케일)가 달라서 해석에 주의가 필요하기에 표준화 계수를 통해 비교함."
      ],
      "metadata": {
        "id": "slU7Oi4-9UYB"
      }
    },
    {
      "cell_type": "code",
      "source": [
        "from sklearn.preprocessing import StandardScaler\n",
        "import statsmodels.api as sm\n",
        "import pandas as pd\n",
        "\n",
        "# 1. 단계적 회귀로 뽑은 10개 변수 리스트 (selected_vars)\n",
        "selected_vars = [\n",
        "    'DISTANCE',\n",
        "    'SW_Yes',\n",
        "    'VACATION_Yes',\n",
        "    'HI',\n",
        "    'SLOT_Free',\n",
        "    'GATE_Free',\n",
        "    'E_POP',\n",
        "    'PAX',\n",
        "    'S_POP',\n",
        "    'E_INCOME'\n",
        "]\n",
        "\n",
        "# 2. X, y 표준화\n",
        "scaler_X = StandardScaler()\n",
        "scaler_y = StandardScaler()\n",
        "\n",
        "X_train_sel = X_train[selected_vars]                # 선택 변수만 추출\n",
        "X_train_std = scaler_X.fit_transform(X_train_sel)   # 표준화\n",
        "y_train_std = scaler_y.fit_transform(y_train.values.reshape(-1,1)).flatten()\n",
        "\n",
        "# 3. 절편 추가\n",
        "X_train_std_const = sm.add_constant(X_train_std)\n",
        "\n",
        "# 4. 회귀 분석\n",
        "model_std = sm.OLS(y_train_std, X_train_std_const).fit()\n",
        "\n",
        "# 5. 표준화 계수 정리\n",
        "std_coef_df = pd.DataFrame({\n",
        "    'std_coef': model_std.params[1:]  # [1:]로 절편(const) 제외\n",
        "}, index=selected_vars).sort_values(by='std_coef', key=abs, ascending=False)\n",
        "\n",
        "print(std_coef_df)\n",
        "\n"
      ],
      "metadata": {
        "colab": {
          "base_uri": "https://localhost:8080/"
        },
        "id": "N6hz6kFz8za8",
        "outputId": "1f8b6784-129e-48c2-ac3b-ceaef06e85fc"
      },
      "execution_count": 32,
      "outputs": [
        {
          "output_type": "stream",
          "name": "stdout",
          "text": [
            "              std_coef\n",
            "DISTANCE      0.652678\n",
            "SW_Yes       -0.250286\n",
            "VACATION_Yes -0.231813\n",
            "HI            0.205627\n",
            "S_POP         0.168581\n",
            "PAX          -0.155037\n",
            "E_POP         0.142410\n",
            "GATE_Free    -0.124639\n",
            "SLOT_Free    -0.115979\n",
            "E_INCOME      0.073394\n"
          ]
        }
      ]
    },
    {
      "cell_type": "markdown",
      "source": [
        "**분석 결과**\n",
        "\n",
        "| 변수            |  표준화 계수 |          영향          |\n",
        "| ------------- | :-----: | :------------------: |\n",
        "| DISTANCE      |  0.6527 | **가장 영향력 큼 (양의 영향)** |\n",
        "| SW\\_Yes       | -0.2503 |       강한 음의 영향       |\n",
        "| VACATION\\_Yes | -0.2318 |       강한 음의 영향       |\n",
        "| HI            |  0.2056 |      중간 정도 양의 영향     |\n",
        "| S\\_POP        |  0.1686 |      중간 정도 양의 영향     |\n",
        "| PAX           | -0.1550 |      중간 정도 음의 영향     |\n",
        "| E\\_POP        |  0.1424 |       약간 양의 영향       |\n",
        "| GATE\\_Free    | -0.1246 |       약간 음의 영향       |\n",
        "| SLOT\\_Free    | -0.1160 |       약간 음의 영향       |\n",
        "| E\\_INCOME     |  0.0734 |     영향 작음 (양의 영향)    |\n",
        "\n"
      ],
      "metadata": {
        "id": "xGBQAxwJ-KOI"
      }
    },
    {
      "cell_type": "markdown",
      "source": [
        "**단계적 회귀분석 모델 설명력 확인 - 수정된 결정계수(Adjusted R²)**"
      ],
      "metadata": {
        "id": "E3nT0b1SFaR4"
      }
    },
    {
      "cell_type": "code",
      "source": [
        "import statsmodels.api as sm\n",
        "\n",
        "# 1. stepwise_selection() 결과로 선택된 변수\n",
        "selected_vars = ['DISTANCE', 'SW_Yes', 'VACATION_Yes', 'HI', 'SLOT_Free', 'GATE_Free', 'E_POP', 'PAX', 'S_POP', 'E_INCOME']\n",
        "\n",
        "# 2. 데이터 준비 (train 기준)\n",
        "X_train_sel = X_train[selected_vars]\n",
        "X_train_sel_const = sm.add_constant(X_train_sel)  # 절편 추가\n",
        "\n",
        "# 3. 회귀 모델 적합\n",
        "model_stepwise = sm.OLS(y_train, X_train_sel_const).fit()\n",
        "\n",
        "# 4. 설명력(결정계수 등) 확인\n",
        "print(\"R²: \", model_stepwise.rsquared)\n",
        "print(\"Adjusted R²: \", model_stepwise.rsquared_adj)\n",
        "print(model_stepwise.summary())\n"
      ],
      "metadata": {
        "colab": {
          "base_uri": "https://localhost:8080/"
        },
        "id": "X5wY9sXgFg4g",
        "outputId": "cfb62dcb-9175-42ce-b182-03d5deeac4a6"
      },
      "execution_count": 33,
      "outputs": [
        {
          "output_type": "stream",
          "name": "stdout",
          "text": [
            "R²:  0.7779942245111641\n",
            "Adjusted R²:  0.7728906434654437\n",
            "                            OLS Regression Results                            \n",
            "==============================================================================\n",
            "Dep. Variable:                   FARE   R-squared:                       0.778\n",
            "Model:                            OLS   Adj. R-squared:                  0.773\n",
            "Method:                 Least Squares   F-statistic:                     152.4\n",
            "Date:                Sun, 25 May 2025   Prob (F-statistic):          2.45e-135\n",
            "Time:                        05:01:58   Log-Likelihood:                -2222.3\n",
            "No. Observations:                 446   AIC:                             4467.\n",
            "Df Residuals:                     435   BIC:                             4512.\n",
            "Df Model:                          10                                         \n",
            "Covariance Type:            nonrobust                                         \n",
            "================================================================================\n",
            "                   coef    std err          t      P>|t|      [0.025      0.975]\n",
            "--------------------------------------------------------------------------------\n",
            "const           49.8503     15.954      3.125      0.002      18.493      81.207\n",
            "DISTANCE         0.0762      0.003     25.106      0.000       0.070       0.082\n",
            "SW_Yes         -41.0792      4.296     -9.563      0.000     -49.522     -32.636\n",
            "VACATION_Yes   -39.1630      4.290     -9.129      0.000     -47.595     -30.731\n",
            "HI               0.0089      0.001      7.693      0.000       0.007       0.011\n",
            "SLOT_Free      -19.4429      4.488     -4.333      0.000     -28.263     -10.623\n",
            "GATE_Free      -23.6695      4.860     -4.870      0.000     -33.222     -14.117\n",
            "E_POP           3.9e-06   8.64e-07      4.515      0.000     2.2e-06     5.6e-06\n",
            "PAX             -0.0009      0.000     -5.547      0.000      -0.001      -0.001\n",
            "S_POP         4.198e-06   7.74e-07      5.423      0.000    2.68e-06    5.72e-06\n",
            "E_INCOME         0.0012      0.000      2.738      0.006       0.000       0.002\n",
            "==============================================================================\n",
            "Omnibus:                        1.657   Durbin-Watson:                   1.824\n",
            "Prob(Omnibus):                  0.437   Jarque-Bera (JB):                1.523\n",
            "Skew:                           0.141   Prob(JB):                        0.467\n",
            "Kurtosis:                       3.050   Cond. No.                     5.81e+07\n",
            "==============================================================================\n",
            "\n",
            "Notes:\n",
            "[1] Standard Errors assume that the covariance matrix of the errors is correctly specified.\n",
            "[2] The condition number is large, 5.81e+07. This might indicate that there are\n",
            "strong multicollinearity or other numerical problems.\n"
          ]
        }
      ]
    },
    {
      "cell_type": "markdown",
      "source": [
        "**단계적 회귀 분석 모델 설명력 결과**\n",
        "\n",
        "변수 10개가 포함된 단계적 회귀 분석 모델의 설명력\n",
        "\n",
        "**R²:  0.778**\n",
        "- 모델이 데이터를 얼마나 잘 설명하는가?”\n",
        "- 쓸데없는 변수 추가해도 R²는 무조건 커짐.\n",
        "\n",
        "**Adjusted R²: 0.773**\n",
        "- 변수의 개수(모델 복잡도)를 감안해서, “실질적으로 설명하는 비율”\n",
        "- 변수 개수가 늘어날수록 벌점(Penalty)이 생김\n",
        "- 진짜로 유의미한 변수만 추가했을 때만 올라감\n",
        "\n",
        "\n",
        "=> 과적합(overfitting) 방지에 더 신뢰할 수 있음!"
      ],
      "metadata": {
        "id": "ajTXmcQgMlQr"
      }
    },
    {
      "cell_type": "markdown",
      "source": [
        " iii. 단계적 회귀 분석 대신 전역 탐색을 사용해 (ii)를 반복하시오. 이를 통해 얻은 최적 모델의 예측 변수들과 (ii)에서 얻은 최적 모델의 예측 변수들을 비교하시오.\n"
      ],
      "metadata": {
        "id": "wbZVmRPlh0ad"
      }
    },
    {
      "cell_type": "markdown",
      "source": [
        "**전역탐색**\n",
        ": 모든 변수 조합을 하나도 빠짐없이 전부 비교\n",
        "- 각 조합으로 회귀모델을 만들고, 그 모델의 성능(설명력, 조정 R², AIC/BIC 등)을 측정\n",
        "- 가장 좋은 성능을 보이는 조합을 “최적 모델”로 선택\n",
        "- 변수 수가 적으면 매우 정확함"
      ],
      "metadata": {
        "id": "8x323FZy5Ya1"
      }
    },
    {
      "cell_type": "code",
      "source": [
        "import itertools\n",
        "import statsmodels.api as sm\n",
        "import numpy as np\n",
        "\n",
        "# 후보 변수 리스트 (불필요한 변수는 위에서 미리 제거)\n",
        "candidates = list(X_train.columns)  # 총 13개 독립 변수\n",
        "\n",
        "best_adj_r2 = -np.inf  # 지금까지 찾은 최고 성능(조정된 결정계수)를 저장할 변수 / -np.inf“가장 작은 값”이라는 뜻(최댓값 찾을 때 초기값으로 자주 씀).\n",
        "best_subset = None     # 최고 성능 모델의 변수 조합을 저장할 변수\n",
        "best_model = None      # 최고 성능 모델 객체 자체를 저장할 변수\n",
        "\n",
        "# 변수 개수별 부분집합 생성(실전에서는 1~10개 정도까지만 권장)\n",
        "for k in range(1, len(candidates)+1):\n",
        "    for combo in itertools.combinations(candidates, k):    # 주어진 리스트에서 k개를 뽑는 모든 조합을 자동으로 만듦.\n",
        "        X_sub = sm.add_constant(X_train[list(combo)].astype(float))   # combo : 현재 변수 조합에 해당하는 열만 뽑은 DataFrame / 절편 추가\n",
        "        model = sm.OLS(y_train, X_sub).fit()   # OLS(최소제곱회귀)로 현재 변수 조합을 사용해서 회귀모델 학습\n",
        "        if model.rsquared_adj > best_adj_r2:   # 방금 학습한 모델의 조정된 결정계수(Adjusted R²) 가\n",
        "            best_adj_r2 = model.rsquared_adj   # 지금까지 중에 최고면, 값을 “최고 기록”으로 업데이트.\n",
        "            best_subset = combo\n",
        "            best_model = model\n",
        "\n",
        "print(\"▶ Best Subset Variables:\", best_subset)\n",
        "print(\"▶ Best Adjusted R²:\", best_adj_r2)\n"
      ],
      "metadata": {
        "colab": {
          "base_uri": "https://localhost:8080/"
        },
        "id": "5N7KrUEA58fY",
        "outputId": "881a524b-7642-49ce-d033-d8c519b7e957"
      },
      "execution_count": 67,
      "outputs": [
        {
          "output_type": "stream",
          "name": "stdout",
          "text": [
            "▶ Best Subset Variables: ('NEW', 'HI', 'S_INCOME', 'E_INCOME', 'S_POP', 'E_POP', 'DISTANCE', 'PAX', 'VACATION_Yes', 'SW_Yes', 'SLOT_Free', 'GATE_Free')\n",
            "▶ Best Adjusted R²: 0.7737804371209807\n"
          ]
        }
      ]
    },
    {
      "cell_type": "markdown",
      "source": [
        "**분석 결과**\n",
        "\n",
        "**최적 변수 조합 (Best Subset Variables)**\n",
        "- ('NEW', 'HI', 'S_INCOME', 'E_INCOME', 'S_POP', 'E_POP', 'DISTANCE', 'PAX', 'VACATION_Yes', 'SW_Yes', 'SLOT_Free', 'GATE_Free')\n",
        "\n",
        "=> 'COUPON' 변수를 제외한 나머지 12개 조합\n",
        "\n",
        "**Adjusted R(조정된 결정계수)**\n",
        "\n",
        "**: 0.7738**\n",
        "\n",
        "=> 전역탐색을 이용한 회귀모델이 전체 운임 변동을 77% 이상 설명할 수 있음"
      ],
      "metadata": {
        "id": "8VfpGpp3DjXA"
      }
    },
    {
      "cell_type": "markdown",
      "source": [
        "**1. Adjusted R²(조정된 결정계수) 비교**\n",
        "- 단계적 회귀 분석 모델 : 0.773   (변수 10개)\n",
        "- 전역탐색 : 0.7738   (변수 12개)\n",
        "\n",
        "**=> 전역탐색을 통한 모델의 설명력이 미세하게 높음.**"
      ],
      "metadata": {
        "id": "esATU0RNQcJr"
      }
    },
    {
      "cell_type": "markdown",
      "source": [
        "\n",
        "\n",
        "---\n",
        "\n"
      ],
      "metadata": {
        "id": "EeQaI5ZPPfti"
      }
    },
    {
      "cell_type": "markdown",
      "source": [
        "**iv. RMSE, 평균 오차, 리프트 차트와 같은 측도들을 사용해 모델 (ii)와 (iii)에 대한 예측 정확도를 비교하시오.**"
      ],
      "metadata": {
        "id": "aJVa7jL8h3bD"
      }
    },
    {
      "cell_type": "markdown",
      "source": [
        "**예측 정확도 지표 계산**\n",
        "\n",
        "**1. RMSE (Root Mean Squared Error)**\n",
        "- 실제값과 예측값 차이(오차)의 제곱평균의 제곱근\n",
        "- **작을수록** 예측이 정확함\n",
        "\n",
        "**2. MAE (Mean Absolute Error) / 평균 오차**\n",
        "- 오차(실제-예측)의 절대값 평균\n",
        "- **작을수록** 좋음\n",
        "\n",
        "**3. 리프트 차트(Lift Chart)**\n",
        "- 예측값을 높은 순서대로 정렬해서,“예측값이 높은 구간에서 실제값도 높은가?” 시각화\n",
        "- 실전에서는 주로 “상위 10%~20%”를 얼마나 잘 찾아내는지 볼 때 활용\n",
        "- 회귀 리프트차트가 더 **우하향**인 모델이 더 좋은 모델"
      ],
      "metadata": {
        "id": "AMreeq3IQfCJ"
      }
    },
    {
      "cell_type": "code",
      "source": [
        "# 예측 정확도 지표 계산을 위한 단계적 회귀분석 변수 생성\n",
        "import statsmodels.api as sm\n",
        "\n",
        "# 1. stepwise_selection 함수로 이미 'selected_vars' 리스트가 정의되어 있다고 가정\n",
        "# (예시: selected_vars = ['DISTANCE', 'SW_Yes', 'VACATION_Yes', ...])\n",
        "\n",
        "# 2. 검증용 데이터에서 선택된 변수만 추출\n",
        "X_valid_stepwise = X_valid[selected_vars]          # 검증 데이터에서 필요한 변수만\n",
        "X_valid_stepwise_const = sm.add_constant(X_valid_stepwise)  # 절편 추가\n",
        "\n",
        "# 3. 예측\n",
        "y_pred_stepwise = model_stepwise.predict(X_valid_stepwise_const)"
      ],
      "metadata": {
        "id": "G7R0I5tlTVNU"
      },
      "execution_count": 68,
      "outputs": []
    },
    {
      "cell_type": "code",
      "source": [
        "# 예측 정확도 지표 계산을 위한 전역탐색 변수 생성\n",
        "# 1. 검증세트에서 전역탐색으로 뽑힌 변수만 추출\n",
        "X_valid_best = X_valid[list(best_subset)]\n",
        "X_valid_best_const = sm.add_constant(X_valid_best)\n",
        "\n",
        "# 2. 예측 (이미 best_model은 최적 모델 객체임)\n",
        "y_pred_best = best_model.predict(X_valid_best_const)\n",
        "\n"
      ],
      "metadata": {
        "id": "QQ1DH28pTl7L"
      },
      "execution_count": 69,
      "outputs": []
    },
    {
      "cell_type": "code",
      "source": [
        "import numpy as np\n",
        "import matplotlib.pyplot as plt\n",
        "\n",
        "# (1) 예측\n",
        "# 각각 단계적 회귀분석/전역탐색 모델에서 검증용 데이터셋으로 예측값 생성\n",
        "y_pred_stepwise = model_stepwise.predict(X_valid_stepwise_const)\n",
        "y_pred_best = best_model.predict(X_valid_best_const)\n",
        "\n",
        "# (2) 평가지표\n",
        "def rmse(y_true, y_pred):                           # 실제값과 예측값의 차이를 제곱해서 평균낸 뒤, 다시 루트(제곱근)\n",
        "    return np.sqrt(np.mean((y_true - y_pred)**2))   # 오차가 클수록 더 불리하게 반영\n",
        "\n",
        "def mae(y_true, y_pred):\n",
        "    return np.mean(np.abs(y_true - y_pred))         # 실제-예측 오차의 절댓값의 평균 (직관적으로 평균 오차 크기)\n",
        "\n",
        "# 함수 실행 : 검증 데이터(y_valid)와 예측값을 비교해 RMSE, MAE 계산\n",
        "rmse_stepwise = rmse(y_valid, y_pred_stepwise)\n",
        "rmse_best = rmse(y_valid, y_pred_best)\n",
        "\n",
        "mae_stepwise = mae(y_valid, y_pred_stepwise)\n",
        "mae_best = mae(y_valid, y_pred_best)\n",
        "\n",
        "print(\"Stepwise - RMSE:\", rmse_stepwise, \"/ MAE:\", mae_stepwise)\n",
        "print(\"BestSubset - RMSE:\", rmse_best, \"/ MAE:\", mae_best)\n"
      ],
      "metadata": {
        "colab": {
          "base_uri": "https://localhost:8080/"
        },
        "id": "brBTBVrPRBc3",
        "outputId": "908c6a05-00e1-4527-c2f9-65e4c4c3a100"
      },
      "execution_count": 70,
      "outputs": [
        {
          "output_type": "stream",
          "name": "stdout",
          "text": [
            "Stepwise - RMSE: 35.48410754454459 / MAE: 27.036426830572207\n",
            "BestSubset - RMSE: 35.30185126344144 / MAE: 27.0298570123547\n"
          ]
        }
      ]
    },
    {
      "cell_type": "code",
      "source": [
        "# (3) 리프트 차트\n",
        "def plot_lift_chart(y_true, y_pred, label):\n",
        "    df = pd.DataFrame({'true': y_true, 'pred': y_pred}).sort_values('pred', ascending=False)  # 실제값과 예측값으로 데이터프레임 생성 / 예측값 높은 순으로 정렬 (상위 그룹 먼저)\n",
        "    df['quantile'] = pd.qcut(df.index, 10, labels=False)    # index 기준으로 10등분(분위)로 구간화 (0~9) ex) 1분위 : 예측 운임이 높은 구간\n",
        "    lift = df.groupby('quantile')['true'].mean()            # 각 분위별로 실제값의 평균을 구함\n",
        "    plt.plot(range(1, 11), lift, marker='o', label=label)   # 10구간별 실제값 평균을 선으로 그림 (모델별)\n",
        "\n",
        "plt.figure(figsize=(8, 5))\n",
        "plot_lift_chart(y_valid, y_pred_stepwise, 'Stepwise')\n",
        "plot_lift_chart(y_valid, y_pred_best, 'Best Subset')\n",
        "plt.xlabel('Quantile (분위)')\n",
        "plt.ylabel('평균 실제 운임')\n",
        "plt.title('Lift Chart: 예측값 기준 상위구간별 실제 운임')\n",
        "plt.legend()\n",
        "plt.show()\n"
      ],
      "metadata": {
        "colab": {
          "base_uri": "https://localhost:8080/",
          "height": 485
        },
        "id": "H0zh7QzCV235",
        "outputId": "f844eb4d-3a23-42b2-db27-f0955f153c81"
      },
      "execution_count": 38,
      "outputs": [
        {
          "output_type": "display_data",
          "data": {
            "text/plain": [
              "<Figure size 800x500 with 1 Axes>"
            ],
            "image/png": "[encoded data removed]"
          },
          "metadata": {}
        }
      ]
    },
    {
      "cell_type": "markdown",
      "source": [
        "**예측 정확도 분석 결과**\n",
        "\n",
        "**- RMSE, MAE**\n",
        "\n",
        "|            | RMSE(평균제곱근오차) | MAE(평균절대오차) |\n",
        "| ---------- | :-----------: | :---------: |\n",
        "| 단계적 회귀분석   |     35.48     |    27.04    |\n",
        "| 전역탐색(부분집합) |     35.30     |    27.03    |\n",
        "\n",
        "- 둘 다 예측 정확도가 유사하므로,\n",
        "변수 개수, 해석의 편의성을 고려해 더 간단한 모델을 선택해도 무방.\n",
        "\n",
        "- 단계적 회귀, 전역탐색 모두 RMSE/MAE 차이가 거의 없다. 즉, 전역탐색으로 변수를 더 추가해도 R²가 거의 안 올랐기에, 이미 소수의 주요변수가 설명력이 집중되어 있다는 것을 알 수 있음. ex) DISTANCE, SW_YES\n"
      ],
      "metadata": {
        "id": "OwtlXAD5XlrU"
      }
    },
    {
      "cell_type": "markdown",
      "source": [
        "**- Lift Chart**\n",
        "\n",
        "**- Stepwise, Best Subset 두 모델의 선이 거의 겹침**\n",
        "\n",
        "=> 두 모델의 예측력이 사실상 거의 같다는 의미\n",
        "\n",
        "=> 즉, 선택된 변수 조합이 다소 달라도 실제 예측 결과는 비슷하게 나옴\n",
        "\n",
        "\n",
        "---\n",
        "\n",
        "\n",
        "\n",
        "**- 선이 요동치는 이유**\n",
        "\n",
        ": 예측값이 높은 구간에서도 실제값이 낮은 구간이 있고,\n",
        "예측값이 낮은 구간에서도 실제값이 높은 때가 있음.\n",
        "\n",
        "=> 모델이“예측값이 높을수록 실제값도 높다”는 패턴을 일관성 있게 잡지 못함.\n",
        "\n",
        "원인 :\n",
        "- 모델 자체의 한계\n",
        "- 주요 변수만으로 설명이 충분하지 않음 등\n",
        "\n"
      ],
      "metadata": {
        "id": "LxFC-becZ05g"
      }
    },
    {
      "cell_type": "markdown",
      "source": [
        "**v. 모델(iii)을 사용해 다음과 같은 특징을 가진 노선의 평균 운임을 예측하시오.\n",
        "COUPON=1.202, NEW=3, Vacation=No, SW= No, Hi=4442.141, S_INCOME= \\$28760, E_INCOME= \\$27644, S_POP=4557004, E_POP=3195503, SLOT=Free, GATE=Free, PAX=12782, DISTANCE=1976 miles**"
      ],
      "metadata": {
        "id": "fVor5KfhLoy-"
      }
    },
    {
      "cell_type": "code",
      "source": [
        "# 새로운 노선 데이터 생성\n",
        "new_route = pd.DataFrame({\n",
        " 'COUPON': [1.202],\n",
        " 'NEW': [3],\n",
        " 'HI': [4442.141],\n",
        " 'S_INCOME': [28760],\n",
        " 'E_INCOME': [27644],\n",
        "  'S_POP': [4557004],\n",
        " 'E_POP': [3195503],\n",
        " 'PAX': [12782],\n",
        " 'DISTANCE': [1976]\n",
        "})\n",
        "\n",
        "# 범주형 변수 추가\n",
        "new_route['VACATION_Yes'] = 0 # VACATION = No\n",
        "new_route['SW_Yes'] = 0 # SW = No\n",
        "new_route['SLOT_Free'] = 1 # SLOT = Free\n",
        "new_route['GATE_Free'] = 1 # GATE = Free\n",
        "new_route"
      ],
      "metadata": {
        "id": "KV7LfO5IPRYV",
        "outputId": "1f02f984-1d94-4e01-a349-7d1a73763e2b",
        "colab": {
          "base_uri": "https://localhost:8080/",
          "height": 89
        }
      },
      "execution_count": 71,
      "outputs": [
        {
          "output_type": "execute_result",
          "data": {
            "text/plain": [
              "   COUPON  NEW        HI  S_INCOME  E_INCOME    S_POP    E_POP    PAX  \\\n",
              "0   1.202    3  4442.141     28760     27644  4557004  3195503  12782   \n",
              "\n",
              "   DISTANCE  VACATION_Yes  SW_Yes  SLOT_Free  GATE_Free  \n",
              "0      1976             0       0          1          1  "
            ],
            "text/html": [
              "\n",
              "  <div id=\"df-0ac20e87-9ebf-4445-9d4a-97b16ca19e9a\" class=\"colab-df-container\">\n",
              "    <div>\n",
              "<style scoped>\n",
              "    .dataframe tbody tr th:only-of-type {\n",
              "        vertical-align: middle;\n",
              "    }\n",
              "\n",
              "    .dataframe tbody tr th {\n",
              "        vertical-align: top;\n",
              "    }\n",
              "\n",
              "    .dataframe thead th {\n",
              "        text-align: right;\n",
              "    }\n",
              "</style>\n",
              "<table border=\"1\" class=\"dataframe\">\n",
              "  <thead>\n",
              "    <tr style=\"text-align: right;\">\n",
              "      <th></th>\n",
              "      <th>COUPON</th>\n",
              "      <th>NEW</th>\n",
              "      <th>HI</th>\n",
              "      <th>S_INCOME</th>\n",
              "      <th>E_INCOME</th>\n",
              "      <th>S_POP</th>\n",
              "      <th>E_POP</th>\n",
              "      <th>PAX</th>\n",
              "      <th>DISTANCE</th>\n",
              "      <th>VACATION_Yes</th>\n",
              "      <th>SW_Yes</th>\n",
              "      <th>SLOT_Free</th>\n",
              "      <th>GATE_Free</th>\n",
              "    </tr>\n",
              "  </thead>\n",
              "  <tbody>\n",
              "    <tr>\n",
              "      <th>0</th>\n",
              "      <td>1.202</td>\n",
              "      <td>3</td>\n",
              "      <td>4442.141</td>\n",
              "      <td>28760</td>\n",
              "      <td>27644</td>\n",
              "      <td>4557004</td>\n",
              "      <td>3195503</td>\n",
              "      <td>12782</td>\n",
              "      <td>1976</td>\n",
              "      <td>0</td>\n",
              "      <td>0</td>\n",
              "      <td>1</td>\n",
              "      <td>1</td>\n",
              "    </tr>\n",
              "  </tbody>\n",
              "</table>\n",
              "</div>\n",
              "    <div class=\"colab-df-buttons\">\n",
              "\n",
              "  <div class=\"colab-df-container\">\n",
              "    <button class=\"colab-df-convert\" onclick=\"convertToInteractive('df-0ac20e87-9ebf-4445-9d4a-97b16ca19e9a')\"\n",
              "            title=\"Convert this dataframe to an interactive table.\"\n",
              "            style=\"display:none;\">\n",
              "\n",
              "  <svg xmlns=\"http://www.w3.org/2000/svg\" height=\"24px\" viewBox=\"0 -960 960 960\">\n",
              "    <path d=\"M120-120v-720h720v720H120Zm60-500h600v-160H180v160Zm220 220h160v-160H400v160Zm0 220h160v-160H400v160ZM180-400h160v-160H180v160Zm440 0h160v-160H620v160ZM180-180h160v-160H180v160Zm440 0h160v-160H620v160Z\"/>\n",
              "  </svg>\n",
              "    </button>\n",
              "\n",
              "  <style>\n",
              "    .colab-df-container {\n",
              "      display:flex;\n",
              "      gap: 12px;\n",
              "    }\n",
              "\n",
              "    .colab-df-convert {\n",
              "      background-color: #E8F0FE;\n",
              "      border: none;\n",
              "      border-radius: 50%;\n",
              "      cursor: pointer;\n",
              "      display: none;\n",
              "      fill: #1967D2;\n",
              "      height: 32px;\n",
              "      padding: 0 0 0 0;\n",
              "      width: 32px;\n",
              "    }\n",
              "\n",
              "    .colab-df-convert:hover {\n",
              "      background-color: #E2EBFA;\n",
              "      box-shadow: 0px 1px 2px rgba(60, 64, 67, 0.3), 0px 1px 3px 1px rgba(60, 64, 67, 0.15);\n",
              "      fill: #174EA6;\n",
              "    }\n",
              "\n",
              "    .colab-df-buttons div {\n",
              "      margin-bottom: 4px;\n",
              "    }\n",
              "\n",
              "    [theme=dark] .colab-df-convert {\n",
              "      background-color: #3B4455;\n",
              "      fill: #D2E3FC;\n",
              "    }\n",
              "\n",
              "    [theme=dark] .colab-df-convert:hover {\n",
              "      background-color: #434B5C;\n",
              "      box-shadow: 0px 1px 3px 1px rgba(0, 0, 0, 0.15);\n",
              "      filter: drop-shadow(0px 1px 2px rgba(0, 0, 0, 0.3));\n",
              "      fill: #FFFFFF;\n",
              "    }\n",
              "  </style>\n",
              "\n",
              "    <script>\n",
              "      const buttonEl =\n",
              "        document.querySelector('#df-0ac20e87-9ebf-4445-9d4a-97b16ca19e9a button.colab-df-convert');\n",
              "      buttonEl.style.display =\n",
              "        google.colab.kernel.accessAllowed ? 'block' : 'none';\n",
              "\n",
              "      async function convertToInteractive(key) {\n",
              "        const element = document.querySelector('#df-0ac20e87-9ebf-4445-9d4a-97b16ca19e9a');\n",
              "        const dataTable =\n",
              "          await google.colab.kernel.invokeFunction('convertToInteractive',\n",
              "                                                    [key], {});\n",
              "        if (!dataTable) return;\n",
              "\n",
              "        const docLinkHtml = 'Like what you see? Visit the ' +\n",
              "          '<a target=\"_blank\" href=https://colab.research.google.com/notebooks/data_table.ipynb>data table notebook</a>'\n",
              "          + ' to learn more about interactive tables.';\n",
              "        element.innerHTML = '';\n",
              "        dataTable['output_type'] = 'display_data';\n",
              "        await google.colab.output.renderOutput(dataTable, element);\n",
              "        const docLink = document.createElement('div');\n",
              "        docLink.innerHTML = docLinkHtml;\n",
              "        element.appendChild(docLink);\n",
              "      }\n",
              "    </script>\n",
              "  </div>\n",
              "\n",
              "\n",
              "  <div id=\"id_fed864a8-0aba-4344-a925-ca675c660b26\">\n",
              "    <style>\n",
              "      .colab-df-generate {\n",
              "        background-color: #E8F0FE;\n",
              "        border: none;\n",
              "        border-radius: 50%;\n",
              "        cursor: pointer;\n",
              "        display: none;\n",
              "        fill: #1967D2;\n",
              "        height: 32px;\n",
              "        padding: 0 0 0 0;\n",
              "        width: 32px;\n",
              "      }\n",
              "\n",
              "      .colab-df-generate:hover {\n",
              "        background-color: #E2EBFA;\n",
              "        box-shadow: 0px 1px 2px rgba(60, 64, 67, 0.3), 0px 1px 3px 1px rgba(60, 64, 67, 0.15);\n",
              "        fill: #174EA6;\n",
              "      }\n",
              "\n",
              "      [theme=dark] .colab-df-generate {\n",
              "        background-color: #3B4455;\n",
              "        fill: #D2E3FC;\n",
              "      }\n",
              "\n",
              "      [theme=dark] .colab-df-generate:hover {\n",
              "        background-color: #434B5C;\n",
              "        box-shadow: 0px 1px 3px 1px rgba(0, 0, 0, 0.15);\n",
              "        filter: drop-shadow(0px 1px 2px rgba(0, 0, 0, 0.3));\n",
              "        fill: #FFFFFF;\n",
              "      }\n",
              "    </style>\n",
              "    <button class=\"colab-df-generate\" onclick=\"generateWithVariable('new_route')\"\n",
              "            title=\"Generate code using this dataframe.\"\n",
              "            style=\"display:none;\">\n",
              "\n",
              "  <svg xmlns=\"http://www.w3.org/2000/svg\" height=\"24px\"viewBox=\"0 0 24 24\"\n",
              "       width=\"24px\">\n",
              "    <path d=\"M7,19H8.4L18.45,9,17,7.55,7,17.6ZM5,21V16.75L18.45,3.32a2,2,0,0,1,2.83,0l1.4,1.43a1.91,1.91,0,0,1,.58,1.4,1.91,1.91,0,0,1-.58,1.4L9.25,21ZM18.45,9,17,7.55Zm-12,3A5.31,5.31,0,0,0,4.9,8.1,5.31,5.31,0,0,0,1,6.5,5.31,5.31,0,0,0,4.9,4.9,5.31,5.31,0,0,0,6.5,1,5.31,5.31,0,0,0,8.1,4.9,5.31,5.31,0,0,0,12,6.5,5.46,5.46,0,0,0,6.5,12Z\"/>\n",
              "  </svg>\n",
              "    </button>\n",
              "    <script>\n",
              "      (() => {\n",
              "      const buttonEl =\n",
              "        document.querySelector('#id_fed864a8-0aba-4344-a925-ca675c660b26 button.colab-df-generate');\n",
              "      buttonEl.style.display =\n",
              "        google.colab.kernel.accessAllowed ? 'block' : 'none';\n",
              "\n",
              "      buttonEl.onclick = () => {\n",
              "        google.colab.notebook.generateWithVariable('new_route');\n",
              "      }\n",
              "      })();\n",
              "    </script>\n",
              "  </div>\n",
              "\n",
              "    </div>\n",
              "  </div>\n"
            ],
            "application/vnd.google.colaboratory.intrinsic+json": {
              "type": "dataframe",
              "variable_name": "new_route",
              "summary": "{\n  \"name\": \"new_route\",\n  \"rows\": 1,\n  \"fields\": [\n    {\n      \"column\": \"COUPON\",\n      \"properties\": {\n        \"dtype\": \"number\",\n        \"std\": null,\n        \"min\": 1.202,\n        \"max\": 1.202,\n        \"num_unique_values\": 1,\n        \"samples\": [\n          1.202\n        ],\n        \"semantic_type\": \"\",\n        \"description\": \"\"\n      }\n    },\n    {\n      \"column\": \"NEW\",\n      \"properties\": {\n        \"dtype\": \"number\",\n        \"std\": null,\n        \"min\": 3,\n        \"max\": 3,\n        \"num_unique_values\": 1,\n        \"samples\": [\n          3\n        ],\n        \"semantic_type\": \"\",\n        \"description\": \"\"\n      }\n    },\n    {\n      \"column\": \"HI\",\n      \"properties\": {\n        \"dtype\": \"number\",\n        \"std\": null,\n        \"min\": 4442.141,\n        \"max\": 4442.141,\n        \"num_unique_values\": 1,\n        \"samples\": [\n          4442.141\n        ],\n        \"semantic_type\": \"\",\n        \"description\": \"\"\n      }\n    },\n    {\n      \"column\": \"S_INCOME\",\n      \"properties\": {\n        \"dtype\": \"number\",\n        \"std\": null,\n        \"min\": 28760,\n        \"max\": 28760,\n        \"num_unique_values\": 1,\n        \"samples\": [\n          28760\n        ],\n        \"semantic_type\": \"\",\n        \"description\": \"\"\n      }\n    },\n    {\n      \"column\": \"E_INCOME\",\n      \"properties\": {\n        \"dtype\": \"number\",\n        \"std\": null,\n        \"min\": 27644,\n        \"max\": 27644,\n        \"num_unique_values\": 1,\n        \"samples\": [\n          27644\n        ],\n        \"semantic_type\": \"\",\n        \"description\": \"\"\n      }\n    },\n    {\n      \"column\": \"S_POP\",\n      \"properties\": {\n        \"dtype\": \"number\",\n        \"std\": null,\n        \"min\": 4557004,\n        \"max\": 4557004,\n        \"num_unique_values\": 1,\n        \"samples\": [\n          4557004\n        ],\n        \"semantic_type\": \"\",\n        \"description\": \"\"\n      }\n    },\n    {\n      \"column\": \"E_POP\",\n      \"properties\": {\n        \"dtype\": \"number\",\n        \"std\": null,\n        \"min\": 3195503,\n        \"max\": 3195503,\n        \"num_unique_values\": 1,\n        \"samples\": [\n          3195503\n        ],\n        \"semantic_type\": \"\",\n        \"description\": \"\"\n      }\n    },\n    {\n      \"column\": \"PAX\",\n      \"properties\": {\n        \"dtype\": \"number\",\n        \"std\": null,\n        \"min\": 12782,\n        \"max\": 12782,\n        \"num_unique_values\": 1,\n        \"samples\": [\n          12782\n        ],\n        \"semantic_type\": \"\",\n        \"description\": \"\"\n      }\n    },\n    {\n      \"column\": \"DISTANCE\",\n      \"properties\": {\n        \"dtype\": \"number\",\n        \"std\": null,\n        \"min\": 1976,\n        \"max\": 1976,\n        \"num_unique_values\": 1,\n        \"samples\": [\n          1976\n        ],\n        \"semantic_type\": \"\",\n        \"description\": \"\"\n      }\n    },\n    {\n      \"column\": \"VACATION_Yes\",\n      \"properties\": {\n        \"dtype\": \"number\",\n        \"std\": null,\n        \"min\": 0,\n        \"max\": 0,\n        \"num_unique_values\": 1,\n        \"samples\": [\n          0\n        ],\n        \"semantic_type\": \"\",\n        \"description\": \"\"\n      }\n    },\n    {\n      \"column\": \"SW_Yes\",\n      \"properties\": {\n        \"dtype\": \"number\",\n        \"std\": null,\n        \"min\": 0,\n        \"max\": 0,\n        \"num_unique_values\": 1,\n        \"samples\": [\n          0\n        ],\n        \"semantic_type\": \"\",\n        \"description\": \"\"\n      }\n    },\n    {\n      \"column\": \"SLOT_Free\",\n      \"properties\": {\n        \"dtype\": \"number\",\n        \"std\": null,\n        \"min\": 1,\n        \"max\": 1,\n        \"num_unique_values\": 1,\n        \"samples\": [\n          1\n        ],\n        \"semantic_type\": \"\",\n        \"description\": \"\"\n      }\n    },\n    {\n      \"column\": \"GATE_Free\",\n      \"properties\": {\n        \"dtype\": \"number\",\n        \"std\": null,\n        \"min\": 1,\n        \"max\": 1,\n        \"num_unique_values\": 1,\n        \"samples\": [\n          1\n        ],\n        \"semantic_type\": \"\",\n        \"description\": \"\"\n      }\n    }\n  ]\n}"
            }
          },
          "metadata": {},
          "execution_count": 71
        }
      ]
    },
    {
      "cell_type": "code",
      "source": [
        "# 전역 탐색으로 최종 모델 학습할 때 사용한 데이터와 같은 형태 맞춤\n",
        "new_route_sub = sm.add_constant(new_route[list(best_subset)].astype(float), has_constant='add')\n",
        "new_route_sub"
      ],
      "metadata": {
        "id": "79b1z2PX2FQE",
        "outputId": "9ce4b2dd-5db6-47f2-a45c-8ae6aab7249e",
        "colab": {
          "base_uri": "https://localhost:8080/",
          "height": 89
        }
      },
      "execution_count": 72,
      "outputs": [
        {
          "output_type": "execute_result",
          "data": {
            "text/plain": [
              "   const  NEW        HI  S_INCOME  E_INCOME      S_POP      E_POP  DISTANCE  \\\n",
              "0    1.0  3.0  4442.141   28760.0   27644.0  4557004.0  3195503.0    1976.0   \n",
              "\n",
              "       PAX  VACATION_Yes  SW_Yes  SLOT_Free  GATE_Free  \n",
              "0  12782.0           0.0     0.0        1.0        1.0  "
            ],
            "text/html": [
              "\n",
              "  <div id=\"df-48641b6c-4174-47fe-a209-bf4a5216b81e\" class=\"colab-df-container\">\n",
              "    <div>\n",
              "<style scoped>\n",
              "    .dataframe tbody tr th:only-of-type {\n",
              "        vertical-align: middle;\n",
              "    }\n",
              "\n",
              "    .dataframe tbody tr th {\n",
              "        vertical-align: top;\n",
              "    }\n",
              "\n",
              "    .dataframe thead th {\n",
              "        text-align: right;\n",
              "    }\n",
              "</style>\n",
              "<table border=\"1\" class=\"dataframe\">\n",
              "  <thead>\n",
              "    <tr style=\"text-align: right;\">\n",
              "      <th></th>\n",
              "      <th>const</th>\n",
              "      <th>NEW</th>\n",
              "      <th>HI</th>\n",
              "      <th>S_INCOME</th>\n",
              "      <th>E_INCOME</th>\n",
              "      <th>S_POP</th>\n",
              "      <th>E_POP</th>\n",
              "      <th>DISTANCE</th>\n",
              "      <th>PAX</th>\n",
              "      <th>VACATION_Yes</th>\n",
              "      <th>SW_Yes</th>\n",
              "      <th>SLOT_Free</th>\n",
              "      <th>GATE_Free</th>\n",
              "    </tr>\n",
              "  </thead>\n",
              "  <tbody>\n",
              "    <tr>\n",
              "      <th>0</th>\n",
              "      <td>1.0</td>\n",
              "      <td>3.0</td>\n",
              "      <td>4442.141</td>\n",
              "      <td>28760.0</td>\n",
              "      <td>27644.0</td>\n",
              "      <td>4557004.0</td>\n",
              "      <td>3195503.0</td>\n",
              "      <td>1976.0</td>\n",
              "      <td>12782.0</td>\n",
              "      <td>0.0</td>\n",
              "      <td>0.0</td>\n",
              "      <td>1.0</td>\n",
              "      <td>1.0</td>\n",
              "    </tr>\n",
              "  </tbody>\n",
              "</table>\n",
              "</div>\n",
              "    <div class=\"colab-df-buttons\">\n",
              "\n",
              "  <div class=\"colab-df-container\">\n",
              "    <button class=\"colab-df-convert\" onclick=\"convertToInteractive('df-48641b6c-4174-47fe-a209-bf4a5216b81e')\"\n",
              "            title=\"Convert this dataframe to an interactive table.\"\n",
              "            style=\"display:none;\">\n",
              "\n",
              "  <svg xmlns=\"http://www.w3.org/2000/svg\" height=\"24px\" viewBox=\"0 -960 960 960\">\n",
              "    <path d=\"M120-120v-720h720v720H120Zm60-500h600v-160H180v160Zm220 220h160v-160H400v160Zm0 220h160v-160H400v160ZM180-400h160v-160H180v160Zm440 0h160v-160H620v160ZM180-180h160v-160H180v160Zm440 0h160v-160H620v160Z\"/>\n",
              "  </svg>\n",
              "    </button>\n",
              "\n",
              "  <style>\n",
              "    .colab-df-container {\n",
              "      display:flex;\n",
              "      gap: 12px;\n",
              "    }\n",
              "\n",
              "    .colab-df-convert {\n",
              "      background-color: #E8F0FE;\n",
              "      border: none;\n",
              "      border-radius: 50%;\n",
              "      cursor: pointer;\n",
              "      display: none;\n",
              "      fill: #1967D2;\n",
              "      height: 32px;\n",
              "      padding: 0 0 0 0;\n",
              "      width: 32px;\n",
              "    }\n",
              "\n",
              "    .colab-df-convert:hover {\n",
              "      background-color: #E2EBFA;\n",
              "      box-shadow: 0px 1px 2px rgba(60, 64, 67, 0.3), 0px 1px 3px 1px rgba(60, 64, 67, 0.15);\n",
              "      fill: #174EA6;\n",
              "    }\n",
              "\n",
              "    .colab-df-buttons div {\n",
              "      margin-bottom: 4px;\n",
              "    }\n",
              "\n",
              "    [theme=dark] .colab-df-convert {\n",
              "      background-color: #3B4455;\n",
              "      fill: #D2E3FC;\n",
              "    }\n",
              "\n",
              "    [theme=dark] .colab-df-convert:hover {\n",
              "      background-color: #434B5C;\n",
              "      box-shadow: 0px 1px 3px 1px rgba(0, 0, 0, 0.15);\n",
              "      filter: drop-shadow(0px 1px 2px rgba(0, 0, 0, 0.3));\n",
              "      fill: #FFFFFF;\n",
              "    }\n",
              "  </style>\n",
              "\n",
              "    <script>\n",
              "      const buttonEl =\n",
              "        document.querySelector('#df-48641b6c-4174-47fe-a209-bf4a5216b81e button.colab-df-convert');\n",
              "      buttonEl.style.display =\n",
              "        google.colab.kernel.accessAllowed ? 'block' : 'none';\n",
              "\n",
              "      async function convertToInteractive(key) {\n",
              "        const element = document.querySelector('#df-48641b6c-4174-47fe-a209-bf4a5216b81e');\n",
              "        const dataTable =\n",
              "          await google.colab.kernel.invokeFunction('convertToInteractive',\n",
              "                                                    [key], {});\n",
              "        if (!dataTable) return;\n",
              "\n",
              "        const docLinkHtml = 'Like what you see? Visit the ' +\n",
              "          '<a target=\"_blank\" href=https://colab.research.google.com/notebooks/data_table.ipynb>data table notebook</a>'\n",
              "          + ' to learn more about interactive tables.';\n",
              "        element.innerHTML = '';\n",
              "        dataTable['output_type'] = 'display_data';\n",
              "        await google.colab.output.renderOutput(dataTable, element);\n",
              "        const docLink = document.createElement('div');\n",
              "        docLink.innerHTML = docLinkHtml;\n",
              "        element.appendChild(docLink);\n",
              "      }\n",
              "    </script>\n",
              "  </div>\n",
              "\n",
              "\n",
              "  <div id=\"id_921adf65-891a-4652-b368-72857a3d0908\">\n",
              "    <style>\n",
              "      .colab-df-generate {\n",
              "        background-color: #E8F0FE;\n",
              "        border: none;\n",
              "        border-radius: 50%;\n",
              "        cursor: pointer;\n",
              "        display: none;\n",
              "        fill: #1967D2;\n",
              "        height: 32px;\n",
              "        padding: 0 0 0 0;\n",
              "        width: 32px;\n",
              "      }\n",
              "\n",
              "      .colab-df-generate:hover {\n",
              "        background-color: #E2EBFA;\n",
              "        box-shadow: 0px 1px 2px rgba(60, 64, 67, 0.3), 0px 1px 3px 1px rgba(60, 64, 67, 0.15);\n",
              "        fill: #174EA6;\n",
              "      }\n",
              "\n",
              "      [theme=dark] .colab-df-generate {\n",
              "        background-color: #3B4455;\n",
              "        fill: #D2E3FC;\n",
              "      }\n",
              "\n",
              "      [theme=dark] .colab-df-generate:hover {\n",
              "        background-color: #434B5C;\n",
              "        box-shadow: 0px 1px 3px 1px rgba(0, 0, 0, 0.15);\n",
              "        filter: drop-shadow(0px 1px 2px rgba(0, 0, 0, 0.3));\n",
              "        fill: #FFFFFF;\n",
              "      }\n",
              "    </style>\n",
              "    <button class=\"colab-df-generate\" onclick=\"generateWithVariable('new_route_sub')\"\n",
              "            title=\"Generate code using this dataframe.\"\n",
              "            style=\"display:none;\">\n",
              "\n",
              "  <svg xmlns=\"http://www.w3.org/2000/svg\" height=\"24px\"viewBox=\"0 0 24 24\"\n",
              "       width=\"24px\">\n",
              "    <path d=\"M7,19H8.4L18.45,9,17,7.55,7,17.6ZM5,21V16.75L18.45,3.32a2,2,0,0,1,2.83,0l1.4,1.43a1.91,1.91,0,0,1,.58,1.4,1.91,1.91,0,0,1-.58,1.4L9.25,21ZM18.45,9,17,7.55Zm-12,3A5.31,5.31,0,0,0,4.9,8.1,5.31,5.31,0,0,0,1,6.5,5.31,5.31,0,0,0,4.9,4.9,5.31,5.31,0,0,0,6.5,1,5.31,5.31,0,0,0,8.1,4.9,5.31,5.31,0,0,0,12,6.5,5.46,5.46,0,0,0,6.5,12Z\"/>\n",
              "  </svg>\n",
              "    </button>\n",
              "    <script>\n",
              "      (() => {\n",
              "      const buttonEl =\n",
              "        document.querySelector('#id_921adf65-891a-4652-b368-72857a3d0908 button.colab-df-generate');\n",
              "      buttonEl.style.display =\n",
              "        google.colab.kernel.accessAllowed ? 'block' : 'none';\n",
              "\n",
              "      buttonEl.onclick = () => {\n",
              "        google.colab.notebook.generateWithVariable('new_route_sub');\n",
              "      }\n",
              "      })();\n",
              "    </script>\n",
              "  </div>\n",
              "\n",
              "    </div>\n",
              "  </div>\n"
            ],
            "application/vnd.google.colaboratory.intrinsic+json": {
              "type": "dataframe",
              "variable_name": "new_route_sub",
              "summary": "{\n  \"name\": \"new_route_sub\",\n  \"rows\": 1,\n  \"fields\": [\n    {\n      \"column\": \"const\",\n      \"properties\": {\n        \"dtype\": \"number\",\n        \"std\": null,\n        \"min\": 1.0,\n        \"max\": 1.0,\n        \"num_unique_values\": 1,\n        \"samples\": [\n          1.0\n        ],\n        \"semantic_type\": \"\",\n        \"description\": \"\"\n      }\n    },\n    {\n      \"column\": \"NEW\",\n      \"properties\": {\n        \"dtype\": \"number\",\n        \"std\": null,\n        \"min\": 3.0,\n        \"max\": 3.0,\n        \"num_unique_values\": 1,\n        \"samples\": [\n          3.0\n        ],\n        \"semantic_type\": \"\",\n        \"description\": \"\"\n      }\n    },\n    {\n      \"column\": \"HI\",\n      \"properties\": {\n        \"dtype\": \"number\",\n        \"std\": null,\n        \"min\": 4442.141,\n        \"max\": 4442.141,\n        \"num_unique_values\": 1,\n        \"samples\": [\n          4442.141\n        ],\n        \"semantic_type\": \"\",\n        \"description\": \"\"\n      }\n    },\n    {\n      \"column\": \"S_INCOME\",\n      \"properties\": {\n        \"dtype\": \"number\",\n        \"std\": null,\n        \"min\": 28760.0,\n        \"max\": 28760.0,\n        \"num_unique_values\": 1,\n        \"samples\": [\n          28760.0\n        ],\n        \"semantic_type\": \"\",\n        \"description\": \"\"\n      }\n    },\n    {\n      \"column\": \"E_INCOME\",\n      \"properties\": {\n        \"dtype\": \"number\",\n        \"std\": null,\n        \"min\": 27644.0,\n        \"max\": 27644.0,\n        \"num_unique_values\": 1,\n        \"samples\": [\n          27644.0\n        ],\n        \"semantic_type\": \"\",\n        \"description\": \"\"\n      }\n    },\n    {\n      \"column\": \"S_POP\",\n      \"properties\": {\n        \"dtype\": \"number\",\n        \"std\": null,\n        \"min\": 4557004.0,\n        \"max\": 4557004.0,\n        \"num_unique_values\": 1,\n        \"samples\": [\n          4557004.0\n        ],\n        \"semantic_type\": \"\",\n        \"description\": \"\"\n      }\n    },\n    {\n      \"column\": \"E_POP\",\n      \"properties\": {\n        \"dtype\": \"number\",\n        \"std\": null,\n        \"min\": 3195503.0,\n        \"max\": 3195503.0,\n        \"num_unique_values\": 1,\n        \"samples\": [\n          3195503.0\n        ],\n        \"semantic_type\": \"\",\n        \"description\": \"\"\n      }\n    },\n    {\n      \"column\": \"DISTANCE\",\n      \"properties\": {\n        \"dtype\": \"number\",\n        \"std\": null,\n        \"min\": 1976.0,\n        \"max\": 1976.0,\n        \"num_unique_values\": 1,\n        \"samples\": [\n          1976.0\n        ],\n        \"semantic_type\": \"\",\n        \"description\": \"\"\n      }\n    },\n    {\n      \"column\": \"PAX\",\n      \"properties\": {\n        \"dtype\": \"number\",\n        \"std\": null,\n        \"min\": 12782.0,\n        \"max\": 12782.0,\n        \"num_unique_values\": 1,\n        \"samples\": [\n          12782.0\n        ],\n        \"semantic_type\": \"\",\n        \"description\": \"\"\n      }\n    },\n    {\n      \"column\": \"VACATION_Yes\",\n      \"properties\": {\n        \"dtype\": \"number\",\n        \"std\": null,\n        \"min\": 0.0,\n        \"max\": 0.0,\n        \"num_unique_values\": 1,\n        \"samples\": [\n          0.0\n        ],\n        \"semantic_type\": \"\",\n        \"description\": \"\"\n      }\n    },\n    {\n      \"column\": \"SW_Yes\",\n      \"properties\": {\n        \"dtype\": \"number\",\n        \"std\": null,\n        \"min\": 0.0,\n        \"max\": 0.0,\n        \"num_unique_values\": 1,\n        \"samples\": [\n          0.0\n        ],\n        \"semantic_type\": \"\",\n        \"description\": \"\"\n      }\n    },\n    {\n      \"column\": \"SLOT_Free\",\n      \"properties\": {\n        \"dtype\": \"number\",\n        \"std\": null,\n        \"min\": 1.0,\n        \"max\": 1.0,\n        \"num_unique_values\": 1,\n        \"samples\": [\n          1.0\n        ],\n        \"semantic_type\": \"\",\n        \"description\": \"\"\n      }\n    },\n    {\n      \"column\": \"GATE_Free\",\n      \"properties\": {\n        \"dtype\": \"number\",\n        \"std\": null,\n        \"min\": 1.0,\n        \"max\": 1.0,\n        \"num_unique_values\": 1,\n        \"samples\": [\n          1.0\n        ],\n        \"semantic_type\": \"\",\n        \"description\": \"\"\n      }\n    }\n  ]\n}"
            }
          },
          "metadata": {},
          "execution_count": 72
        }
      ]
    },
    {
      "cell_type": "code",
      "source": [
        "# (iii)에서 얻은 모델 예측에 사용, SW 값을 No로 설정\n",
        "new_route_sub['SW_Yes'] = 0\n",
        "predicted_y = best_model.predict(new_route_sub).values[0]\n",
        "print(\"예측값:\", predicted_y)"
      ],
      "metadata": {
        "id": "vZhizviQYnaK",
        "outputId": "5b780f29-f923-436d-f473-b9ddaab48f41",
        "colab": {
          "base_uri": "https://localhost:8080/"
        }
      },
      "execution_count": 73,
      "outputs": [
        {
          "output_type": "stream",
          "name": "stdout",
          "text": [
            "예측값: 249.3728556020435\n"
          ]
        }
      ]
    },
    {
      "cell_type": "markdown",
      "source": [
        "**vi. (v)에서 사우스웨스트가 이 노선을 운행한다고 결정할 경우, 이 노선의 평균 운임 감소율을 예측하시오(모델(iii)을 사용하시오).**"
      ],
      "metadata": {
        "id": "XUVr6S5eNlSO"
      }
    },
    {
      "cell_type": "code",
      "source": [
        "# SW 값을 Yes로 바꾼 상태에서 예측 수행\n",
        "new_route_sub['SW_Yes'] = 1\n",
        "predicted_y_sw = best_model.predict(new_route_sub).values[0]\n",
        "print(\"예측값:\", predicted_y_sw)\n",
        "\n",
        "decrease_pct = (predicted_y - predicted_y_sw) / predicted_y * 100\n",
        "print(f\"SW로 인한 운임 감소율: {decrease_pct:.2f}%\")"
      ],
      "metadata": {
        "id": "BQf4ONCS6g0n",
        "outputId": "8b2e092c-e371-4b5b-ef19-8980ee25358d",
        "colab": {
          "base_uri": "https://localhost:8080/"
        }
      },
      "execution_count": 74,
      "outputs": [
        {
          "output_type": "stream",
          "name": "stdout",
          "text": [
            "예측값: 209.56721899558178\n",
            "SW로 인한 운임 감소율: 15.96%\n"
          ]
        }
      ]
    },
    {
      "cell_type": "markdown",
      "source": [
        "- SW 값이 No일 때 운임 예측값: 249.37\n",
        "- SW 값이 Yes일 때 운임 예측값: 209.57\n",
        "\n",
        "운임 감소율: 15.96%"
      ],
      "metadata": {
        "id": "m3bZEhFlK2Tb"
      }
    },
    {
      "cell_type": "markdown",
      "source": [
        "**vii. (노선에 항공편을 운행하기 전에) 신공항의 평균 운임을 예측하는 데 현실적으로 사용할 수 없는 요인에는 어떤 것들이 있는가? 어떤 요인들을 추정할 수 있고 어떻게 하면되는가?**"
      ],
      "metadata": {
        "id": "6QXy_eaoN2E-"
      }
    },
    {
      "cell_type": "markdown",
      "source": [
        "- 현실적으로 사용할 수 없는 요인\n",
        "\n",
        "(노선에 항공편을 운행하기 전에) 신공항의 평균 운임을 예측하는 데 현실적으로 사용할 수 없는 요인에는 승객수, 사우스웨스트항공사가 해당 노선을 실제로 운행하는지 여부, 휴양지 노선 여부가 있다.\n",
        "\n",
        "승객 수는 아직 노선이 운행하기 전이므로, 측정할 수가 없다.\n",
        "\n",
        "특정 항공사(사우스웨스트항공사)가 해당 노선을 실제로 운행할지 여부 역시 사전에 알기 어렵다.\n",
        "\n",
        "휴양지 노선 여부는 그 기준이 주관적이고,  사후판단일 가능성이 있다.\n",
        "\n",
        "- 추정할 수 있는 방법\n",
        "\n",
        "승객 수는 다른 유사한 노선을 통해 예측할 수 있다.\n",
        "\n",
        "특정항공사(사우스웨스트항공사)가 해당 노선을 실제로 운행할지 여부는 특정 항공사가 운행하는 노선의 공통점을 파악하거나 보유한 비행기 종류로 예측할 수 있다.\n",
        "\n",
        "휴양지 노선 여부는 휴양지 노선으로 이미 정해진 노선의 특징을 노선과 비교해보면서 예측할 수 있다."
      ],
      "metadata": {
        "id": "wWTLDzh88CGc"
      }
    },
    {
      "cell_type": "markdown",
      "source": [
        "**viii. 새로운 노선에 운행이 개시되기 전에 사용될 수 있는 요인들만 포함한 모델을 선택하시오. 전역 탐색 방법을 사용하시오.**"
      ],
      "metadata": {
        "id": "JH_c-PRqUTDD"
      }
    },
    {
      "cell_type": "code",
      "source": [
        "# (III)에서 사용한 전역 탐색 코드 사용\n",
        "candidates = list(X_train.columns)  # 총 13개 독립 변수\n",
        "\n",
        "# (vii)에서 결정한 변수들 제거\n",
        "candidates.remove('VACATION_Yes')\n",
        "candidates.remove('SW_Yes')\n",
        "candidates.remove('PAX')\n",
        "\n",
        "best_adj_r2 = -np.inf  # 지금까지 찾은 최고 성능(조정된 결정계수)를 저장할 변수 / -np.inf“가장 작은 값”이라는 뜻(최댓값 찾을 때 초기값으로 자주 씀).\n",
        "best_subset_new = None     # 최고 성능 모델의 변수 조합을 저장할 변수\n",
        "best_model_new = None      # 최고 성능 모델 객체 자체를 저장할 변수\n",
        "\n",
        "# 변수 개수별 부분집합 생성(실전에서는 1~10개 정도까지만 권장)\n",
        "for k in range(1, len(candidates)+1):\n",
        "    for combo in itertools.combinations(candidates, k):    # 주어진 리스트에서 k개를 뽑는 모든 조합을 자동으로 만듦.\n",
        "        X_sub = sm.add_constant(X_train[list(combo)].astype(float))   # combo : 현재 변수 조합에 해당하는 열만 뽑은 DataFrame / 절편 추가\n",
        "        model = sm.OLS(y_train, X_sub).fit()   # OLS(최소제곱회귀)로 현재 변수 조합을 사용해서 회귀모델 학습\n",
        "        if model.rsquared_adj > best_adj_r2:   # 방금 학습한 모델의 조정된 결정계수(Adjusted R²) 가\n",
        "            best_adj_r2 = model.rsquared_adj   # 지금까지 중에 최고면, 값을 “최고 기록”으로 업데이트.\n",
        "            best_subset_new = combo\n",
        "            best_model_new = model\n",
        "\n",
        "print(\"▶ Best Subset Variables:\", best_subset_new)\n",
        "print(\"▶ Best Adjusted R²:\", best_adj_r2)\n"
      ],
      "metadata": {
        "id": "Xod5KzuM8AZe",
        "outputId": "71771700-77cb-49ca-8ec1-1b1a749c36f2",
        "colab": {
          "base_uri": "https://localhost:8080/"
        }
      },
      "execution_count": 59,
      "outputs": [
        {
          "output_type": "stream",
          "name": "stdout",
          "text": [
            "▶ Best Subset Variables: ('COUPON', 'HI', 'S_INCOME', 'E_INCOME', 'S_POP', 'E_POP', 'DISTANCE', 'SLOT_Free', 'GATE_Free')\n",
            "▶ Best Adjusted R²: 0.679427456728809\n"
          ]
        }
      ]
    },
    {
      "cell_type": "markdown",
      "source": [
        "**ix. 모델(viii)를 사용해 다음 특징을 가진 노선의 평균 운임을 예측하시오.\n",
        "COUPON=1.202, NEW=3, Vacation=No, SW= No, Hi=4442.141, S_INCOME= \\$28760, E_INCOME= \\$27644, S_POP=4557004, E_POP=3195503, SLOT=Free, GATE=Free, PAX=12782, DISTANCE=1976 miles**"
      ],
      "metadata": {
        "id": "NY5N9zpsOImL"
      }
    },
    {
      "cell_type": "code",
      "source": [
        "# 모델 (viii)의 학습 데이터의 형식에 맞게 new_route_new 정의\n",
        "new_route_new = sm.add_constant(new_route[list(best_subset_new)].astype(float), has_constant='add')\n",
        "new_route_new"
      ],
      "metadata": {
        "id": "U-0hIJBpIcOp",
        "outputId": "217b7b0b-27f1-4a90-fea8-e02a7dd80ad2",
        "colab": {
          "base_uri": "https://localhost:8080/",
          "height": 89
        }
      },
      "execution_count": 62,
      "outputs": [
        {
          "output_type": "execute_result",
          "data": {
            "text/plain": [
              "   const  COUPON        HI  S_INCOME  E_INCOME      S_POP      E_POP  \\\n",
              "0    1.0   1.202  4442.141   28760.0   27644.0  4557004.0  3195503.0   \n",
              "\n",
              "   DISTANCE  SLOT_Free  GATE_Free  \n",
              "0    1976.0        1.0        1.0  "
            ],
            "text/html": [
              "\n",
              "  <div id=\"df-d8e8c675-dfc6-4b57-9f28-3a4bbe77f1ca\" class=\"colab-df-container\">\n",
              "    <div>\n",
              "<style scoped>\n",
              "    .dataframe tbody tr th:only-of-type {\n",
              "        vertical-align: middle;\n",
              "    }\n",
              "\n",
              "    .dataframe tbody tr th {\n",
              "        vertical-align: top;\n",
              "    }\n",
              "\n",
              "    .dataframe thead th {\n",
              "        text-align: right;\n",
              "    }\n",
              "</style>\n",
              "<table border=\"1\" class=\"dataframe\">\n",
              "  <thead>\n",
              "    <tr style=\"text-align: right;\">\n",
              "      <th></th>\n",
              "      <th>const</th>\n",
              "      <th>COUPON</th>\n",
              "      <th>HI</th>\n",
              "      <th>S_INCOME</th>\n",
              "      <th>E_INCOME</th>\n",
              "      <th>S_POP</th>\n",
              "      <th>E_POP</th>\n",
              "      <th>DISTANCE</th>\n",
              "      <th>SLOT_Free</th>\n",
              "      <th>GATE_Free</th>\n",
              "    </tr>\n",
              "  </thead>\n",
              "  <tbody>\n",
              "    <tr>\n",
              "      <th>0</th>\n",
              "      <td>1.0</td>\n",
              "      <td>1.202</td>\n",
              "      <td>4442.141</td>\n",
              "      <td>28760.0</td>\n",
              "      <td>27644.0</td>\n",
              "      <td>4557004.0</td>\n",
              "      <td>3195503.0</td>\n",
              "      <td>1976.0</td>\n",
              "      <td>1.0</td>\n",
              "      <td>1.0</td>\n",
              "    </tr>\n",
              "  </tbody>\n",
              "</table>\n",
              "</div>\n",
              "    <div class=\"colab-df-buttons\">\n",
              "\n",
              "  <div class=\"colab-df-container\">\n",
              "    <button class=\"colab-df-convert\" onclick=\"convertToInteractive('df-d8e8c675-dfc6-4b57-9f28-3a4bbe77f1ca')\"\n",
              "            title=\"Convert this dataframe to an interactive table.\"\n",
              "            style=\"display:none;\">\n",
              "\n",
              "  <svg xmlns=\"http://www.w3.org/2000/svg\" height=\"24px\" viewBox=\"0 -960 960 960\">\n",
              "    <path d=\"M120-120v-720h720v720H120Zm60-500h600v-160H180v160Zm220 220h160v-160H400v160Zm0 220h160v-160H400v160ZM180-400h160v-160H180v160Zm440 0h160v-160H620v160ZM180-180h160v-160H180v160Zm440 0h160v-160H620v160Z\"/>\n",
              "  </svg>\n",
              "    </button>\n",
              "\n",
              "  <style>\n",
              "    .colab-df-container {\n",
              "      display:flex;\n",
              "      gap: 12px;\n",
              "    }\n",
              "\n",
              "    .colab-df-convert {\n",
              "      background-color: #E8F0FE;\n",
              "      border: none;\n",
              "      border-radius: 50%;\n",
              "      cursor: pointer;\n",
              "      display: none;\n",
              "      fill: #1967D2;\n",
              "      height: 32px;\n",
              "      padding: 0 0 0 0;\n",
              "      width: 32px;\n",
              "    }\n",
              "\n",
              "    .colab-df-convert:hover {\n",
              "      background-color: #E2EBFA;\n",
              "      box-shadow: 0px 1px 2px rgba(60, 64, 67, 0.3), 0px 1px 3px 1px rgba(60, 64, 67, 0.15);\n",
              "      fill: #174EA6;\n",
              "    }\n",
              "\n",
              "    .colab-df-buttons div {\n",
              "      margin-bottom: 4px;\n",
              "    }\n",
              "\n",
              "    [theme=dark] .colab-df-convert {\n",
              "      background-color: #3B4455;\n",
              "      fill: #D2E3FC;\n",
              "    }\n",
              "\n",
              "    [theme=dark] .colab-df-convert:hover {\n",
              "      background-color: #434B5C;\n",
              "      box-shadow: 0px 1px 3px 1px rgba(0, 0, 0, 0.15);\n",
              "      filter: drop-shadow(0px 1px 2px rgba(0, 0, 0, 0.3));\n",
              "      fill: #FFFFFF;\n",
              "    }\n",
              "  </style>\n",
              "\n",
              "    <script>\n",
              "      const buttonEl =\n",
              "        document.querySelector('#df-d8e8c675-dfc6-4b57-9f28-3a4bbe77f1ca button.colab-df-convert');\n",
              "      buttonEl.style.display =\n",
              "        google.colab.kernel.accessAllowed ? 'block' : 'none';\n",
              "\n",
              "      async function convertToInteractive(key) {\n",
              "        const element = document.querySelector('#df-d8e8c675-dfc6-4b57-9f28-3a4bbe77f1ca');\n",
              "        const dataTable =\n",
              "          await google.colab.kernel.invokeFunction('convertToInteractive',\n",
              "                                                    [key], {});\n",
              "        if (!dataTable) return;\n",
              "\n",
              "        const docLinkHtml = 'Like what you see? Visit the ' +\n",
              "          '<a target=\"_blank\" href=https://colab.research.google.com/notebooks/data_table.ipynb>data table notebook</a>'\n",
              "          + ' to learn more about interactive tables.';\n",
              "        element.innerHTML = '';\n",
              "        dataTable['output_type'] = 'display_data';\n",
              "        await google.colab.output.renderOutput(dataTable, element);\n",
              "        const docLink = document.createElement('div');\n",
              "        docLink.innerHTML = docLinkHtml;\n",
              "        element.appendChild(docLink);\n",
              "      }\n",
              "    </script>\n",
              "  </div>\n",
              "\n",
              "\n",
              "  <div id=\"id_c3670ca7-23fa-42d2-a643-43238fa51d11\">\n",
              "    <style>\n",
              "      .colab-df-generate {\n",
              "        background-color: #E8F0FE;\n",
              "        border: none;\n",
              "        border-radius: 50%;\n",
              "        cursor: pointer;\n",
              "        display: none;\n",
              "        fill: #1967D2;\n",
              "        height: 32px;\n",
              "        padding: 0 0 0 0;\n",
              "        width: 32px;\n",
              "      }\n",
              "\n",
              "      .colab-df-generate:hover {\n",
              "        background-color: #E2EBFA;\n",
              "        box-shadow: 0px 1px 2px rgba(60, 64, 67, 0.3), 0px 1px 3px 1px rgba(60, 64, 67, 0.15);\n",
              "        fill: #174EA6;\n",
              "      }\n",
              "\n",
              "      [theme=dark] .colab-df-generate {\n",
              "        background-color: #3B4455;\n",
              "        fill: #D2E3FC;\n",
              "      }\n",
              "\n",
              "      [theme=dark] .colab-df-generate:hover {\n",
              "        background-color: #434B5C;\n",
              "        box-shadow: 0px 1px 3px 1px rgba(0, 0, 0, 0.15);\n",
              "        filter: drop-shadow(0px 1px 2px rgba(0, 0, 0, 0.3));\n",
              "        fill: #FFFFFF;\n",
              "      }\n",
              "    </style>\n",
              "    <button class=\"colab-df-generate\" onclick=\"generateWithVariable('new_route_new')\"\n",
              "            title=\"Generate code using this dataframe.\"\n",
              "            style=\"display:none;\">\n",
              "\n",
              "  <svg xmlns=\"http://www.w3.org/2000/svg\" height=\"24px\"viewBox=\"0 0 24 24\"\n",
              "       width=\"24px\">\n",
              "    <path d=\"M7,19H8.4L18.45,9,17,7.55,7,17.6ZM5,21V16.75L18.45,3.32a2,2,0,0,1,2.83,0l1.4,1.43a1.91,1.91,0,0,1,.58,1.4,1.91,1.91,0,0,1-.58,1.4L9.25,21ZM18.45,9,17,7.55Zm-12,3A5.31,5.31,0,0,0,4.9,8.1,5.31,5.31,0,0,0,1,6.5,5.31,5.31,0,0,0,4.9,4.9,5.31,5.31,0,0,0,6.5,1,5.31,5.31,0,0,0,8.1,4.9,5.31,5.31,0,0,0,12,6.5,5.46,5.46,0,0,0,6.5,12Z\"/>\n",
              "  </svg>\n",
              "    </button>\n",
              "    <script>\n",
              "      (() => {\n",
              "      const buttonEl =\n",
              "        document.querySelector('#id_c3670ca7-23fa-42d2-a643-43238fa51d11 button.colab-df-generate');\n",
              "      buttonEl.style.display =\n",
              "        google.colab.kernel.accessAllowed ? 'block' : 'none';\n",
              "\n",
              "      buttonEl.onclick = () => {\n",
              "        google.colab.notebook.generateWithVariable('new_route_new');\n",
              "      }\n",
              "      })();\n",
              "    </script>\n",
              "  </div>\n",
              "\n",
              "    </div>\n",
              "  </div>\n"
            ],
            "application/vnd.google.colaboratory.intrinsic+json": {
              "type": "dataframe",
              "variable_name": "new_route_new",
              "summary": "{\n  \"name\": \"new_route_new\",\n  \"rows\": 1,\n  \"fields\": [\n    {\n      \"column\": \"const\",\n      \"properties\": {\n        \"dtype\": \"number\",\n        \"std\": null,\n        \"min\": 1.0,\n        \"max\": 1.0,\n        \"num_unique_values\": 1,\n        \"samples\": [\n          1.0\n        ],\n        \"semantic_type\": \"\",\n        \"description\": \"\"\n      }\n    },\n    {\n      \"column\": \"COUPON\",\n      \"properties\": {\n        \"dtype\": \"number\",\n        \"std\": null,\n        \"min\": 1.202,\n        \"max\": 1.202,\n        \"num_unique_values\": 1,\n        \"samples\": [\n          1.202\n        ],\n        \"semantic_type\": \"\",\n        \"description\": \"\"\n      }\n    },\n    {\n      \"column\": \"HI\",\n      \"properties\": {\n        \"dtype\": \"number\",\n        \"std\": null,\n        \"min\": 4442.141,\n        \"max\": 4442.141,\n        \"num_unique_values\": 1,\n        \"samples\": [\n          4442.141\n        ],\n        \"semantic_type\": \"\",\n        \"description\": \"\"\n      }\n    },\n    {\n      \"column\": \"S_INCOME\",\n      \"properties\": {\n        \"dtype\": \"number\",\n        \"std\": null,\n        \"min\": 28760.0,\n        \"max\": 28760.0,\n        \"num_unique_values\": 1,\n        \"samples\": [\n          28760.0\n        ],\n        \"semantic_type\": \"\",\n        \"description\": \"\"\n      }\n    },\n    {\n      \"column\": \"E_INCOME\",\n      \"properties\": {\n        \"dtype\": \"number\",\n        \"std\": null,\n        \"min\": 27644.0,\n        \"max\": 27644.0,\n        \"num_unique_values\": 1,\n        \"samples\": [\n          27644.0\n        ],\n        \"semantic_type\": \"\",\n        \"description\": \"\"\n      }\n    },\n    {\n      \"column\": \"S_POP\",\n      \"properties\": {\n        \"dtype\": \"number\",\n        \"std\": null,\n        \"min\": 4557004.0,\n        \"max\": 4557004.0,\n        \"num_unique_values\": 1,\n        \"samples\": [\n          4557004.0\n        ],\n        \"semantic_type\": \"\",\n        \"description\": \"\"\n      }\n    },\n    {\n      \"column\": \"E_POP\",\n      \"properties\": {\n        \"dtype\": \"number\",\n        \"std\": null,\n        \"min\": 3195503.0,\n        \"max\": 3195503.0,\n        \"num_unique_values\": 1,\n        \"samples\": [\n          3195503.0\n        ],\n        \"semantic_type\": \"\",\n        \"description\": \"\"\n      }\n    },\n    {\n      \"column\": \"DISTANCE\",\n      \"properties\": {\n        \"dtype\": \"number\",\n        \"std\": null,\n        \"min\": 1976.0,\n        \"max\": 1976.0,\n        \"num_unique_values\": 1,\n        \"samples\": [\n          1976.0\n        ],\n        \"semantic_type\": \"\",\n        \"description\": \"\"\n      }\n    },\n    {\n      \"column\": \"SLOT_Free\",\n      \"properties\": {\n        \"dtype\": \"number\",\n        \"std\": null,\n        \"min\": 1.0,\n        \"max\": 1.0,\n        \"num_unique_values\": 1,\n        \"samples\": [\n          1.0\n        ],\n        \"semantic_type\": \"\",\n        \"description\": \"\"\n      }\n    },\n    {\n      \"column\": \"GATE_Free\",\n      \"properties\": {\n        \"dtype\": \"number\",\n        \"std\": null,\n        \"min\": 1.0,\n        \"max\": 1.0,\n        \"num_unique_values\": 1,\n        \"samples\": [\n          1.0\n        ],\n        \"semantic_type\": \"\",\n        \"description\": \"\"\n      }\n    }\n  ]\n}"
            }
          },
          "metadata": {},
          "execution_count": 62
        }
      ]
    },
    {
      "cell_type": "code",
      "source": [
        "# 모델 (viii)를 사용해 예측 수행\n",
        "predicted_y_new = best_model_new.predict(new_route_new).values[0]\n",
        "print(\"예측값:\", predicted_y_new)"
      ],
      "metadata": {
        "id": "N_4ADXgKJaBF",
        "outputId": "bf2c04af-cd94-4f96-a6cb-ab40a99c5698",
        "colab": {
          "base_uri": "https://localhost:8080/"
        }
      },
      "execution_count": 63,
      "outputs": [
        {
          "output_type": "stream",
          "name": "stdout",
          "text": [
            "예측값: 220.663875633614\n"
          ]
        }
      ]
    },
    {
      "cell_type": "markdown",
      "source": [
        "**x. 이 모델과 모델(iii)의 예측 정확도를 비교하시오. 이 모델은 충분히 좋은가? 일단 신규 노선의 운행을 시작하고 난 후, 모델을 재평가할 필요가 있겠는가?**"
      ],
      "metadata": {
        "id": "Rblua8VCO8fG"
      }
    },
    {
      "cell_type": "code",
      "source": [
        "# 예측 정확도 지표 계산을 위한 전역탐색 변수 생성\n",
        "# 1. 검증세트에서 전역탐색으로 뽑힌 변수만 추출\n",
        "X_valid_new = X_valid[list(best_subset_new)]  # 사전에 알 수 있는 정보만 사용한 모델에서 나온 subset 사용\n",
        "X_valid_new_const = sm.add_constant(X_valid_new)\n",
        "\n",
        "# 2. 예측 (사전에 알 수 있는 정보만 사용해서 학습시킨 모델)\n",
        "y_pred_new = best_model_new.predict(X_valid_new_const)\n",
        "\n",
        "# 평가지표 (RMSE)\n",
        "def rmse(y_true, y_pred):                           # 실제값과 예측값의 차이를 제곱해서 평균낸 뒤, 다시 루트(제곱근)\n",
        "    return np.sqrt(np.mean((y_true - y_pred)**2))   # 오차가 클수록 더 불리하게 반영\n",
        "\n",
        "rmse_new = rmse(y_valid, y_pred_new)\n",
        "print(\"New Best Model - RMSE:\", rmse_new)"
      ],
      "metadata": {
        "id": "uCEk2EL7KTdh",
        "outputId": "7c801d1e-e936-4a77-f31d-807cfb453ee6",
        "colab": {
          "base_uri": "https://localhost:8080/"
        }
      },
      "execution_count": 75,
      "outputs": [
        {
          "output_type": "stream",
          "name": "stdout",
          "text": [
            "New Best Model - RMSE: 41.26972234881591\n"
          ]
        }
      ]
    },
    {
      "cell_type": "markdown",
      "source": [
        "\n",
        "|            | RMSE | Adjusted R² |\n",
        "| ---------- | :-----------: | :---------: |\n",
        "| 모델 (iii)   |     35.30     |    0.7738    |\n",
        "| 모델 (viii) |     41.27     |    0.6794    |\n",
        "\n",
        "1. 예측정확도\n",
        "RMSE 값을 비교:\n",
        "RMSE값이 작을수록 모델의 예측력 정확\n",
        "모델(iii)의 예측정확도가 더 높음.\n",
        "2. 설명력\n",
        "Adjusted R²값을 비교:\n",
        "Adjusted R²값이 클수록 모델의 설명력 향상\n",
        "모델(iii)의 설명력이 더 좋음.\n",
        "\n",
        "- 값의 차이가 꽤 유의미하므로, 사전에 알 수 없는 정보라고 여겨지던 휴양지노선 여부, 특정항공사 노선 진입할지 여부, 승객 수 변수가 결과값에 영향력이 높았음을 파악할 수 있다.\n",
        "- 노선이 실제로 설치되고, 승객 수, 특정항공사가 노선에 진입한지 여부 등을 업데이트하여 모델의 정확도를 높일 필요가 있다."
      ],
      "metadata": {
        "id": "t93adaiGOBkz"
      }
    }
  ]
}