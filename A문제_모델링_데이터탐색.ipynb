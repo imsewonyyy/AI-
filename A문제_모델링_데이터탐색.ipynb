{
  "nbformat": 4,
  "nbformat_minor": 0,
  "metadata": {
    "colab": {
      "provenance": [],
      "authorship_tag": "ABX9TyM5cPb1/DZHGnW9t+HI6uez",
      "include_colab_link": true
    },
    "kernelspec": {
      "name": "python3",
      "display_name": "Python 3"
    },
    "language_info": {
      "name": "python"
    }
  },
  "cells": [
    {
      "cell_type": "markdown",
      "metadata": {
        "id": "view-in-github",
        "colab_type": "text"
      },
      "source": [
        "<a href=\"https://colab.research.google.com/github/imsewonyyy/AI-/blob/main/A%EB%AC%B8%EC%A0%9C_%EB%AA%A8%EB%8D%B8%EB%A7%81_%EB%8D%B0%EC%9D%B4%ED%84%B0%ED%83%90%EC%83%89.ipynb\" target=\"_parent\"><img src=\"https://colab.research.google.com/assets/colab-badge.svg\" alt=\"Open In Colab\"/></a>"
      ]
    },
    {
      "cell_type": "code",
      "execution_count": 9,
      "metadata": {
        "id": "oaDyYKc4_T9w",
        "colab": {
          "base_uri": "https://localhost:8080/",
          "height": 77
        },
        "outputId": "ae706c43-4e08-498a-937b-ac6532035ed5"
      },
      "outputs": [
        {
          "output_type": "display_data",
          "data": {
            "text/plain": [
              "<IPython.core.display.HTML object>"
            ],
            "text/html": [
              "\n",
              "     <input type=\"file\" id=\"files-84c54750-f523-4443-8ee5-55c9e2362b77\" name=\"files[]\" multiple disabled\n",
              "        style=\"border:none\" />\n",
              "     <output id=\"result-84c54750-f523-4443-8ee5-55c9e2362b77\">\n",
              "      Upload widget is only available when the cell has been executed in the\n",
              "      current browser session. Please rerun this cell to enable.\n",
              "      </output>\n",
              "      <script>// Copyright 2017 Google LLC\n",
              "//\n",
              "// Licensed under the Apache License, Version 2.0 (the \"License\");\n",
              "// you may not use this file except in compliance with the License.\n",
              "// You may obtain a copy of the License at\n",
              "//\n",
              "//      http://www.apache.org/licenses/LICENSE-2.0\n",
              "//\n",
              "// Unless required by applicable law or agreed to in writing, software\n",
              "// distributed under the License is distributed on an \"AS IS\" BASIS,\n",
              "// WITHOUT WARRANTIES OR CONDITIONS OF ANY KIND, either express or implied.\n",
              "// See the License for the specific language governing permissions and\n",
              "// limitations under the License.\n",
              "\n",
              "/**\n",
              " * @fileoverview Helpers for google.colab Python module.\n",
              " */\n",
              "(function(scope) {\n",
              "function span(text, styleAttributes = {}) {\n",
              "  const element = document.createElement('span');\n",
              "  element.textContent = text;\n",
              "  for (const key of Object.keys(styleAttributes)) {\n",
              "    element.style[key] = styleAttributes[key];\n",
              "  }\n",
              "  return element;\n",
              "}\n",
              "\n",
              "// Max number of bytes which will be uploaded at a time.\n",
              "const MAX_PAYLOAD_SIZE = 100 * 1024;\n",
              "\n",
              "function _uploadFiles(inputId, outputId) {\n",
              "  const steps = uploadFilesStep(inputId, outputId);\n",
              "  const outputElement = document.getElementById(outputId);\n",
              "  // Cache steps on the outputElement to make it available for the next call\n",
              "  // to uploadFilesContinue from Python.\n",
              "  outputElement.steps = steps;\n",
              "\n",
              "  return _uploadFilesContinue(outputId);\n",
              "}\n",
              "\n",
              "// This is roughly an async generator (not supported in the browser yet),\n",
              "// where there are multiple asynchronous steps and the Python side is going\n",
              "// to poll for completion of each step.\n",
              "// This uses a Promise to block the python side on completion of each step,\n",
              "// then passes the result of the previous step as the input to the next step.\n",
              "function _uploadFilesContinue(outputId) {\n",
              "  const outputElement = document.getElementById(outputId);\n",
              "  const steps = outputElement.steps;\n",
              "\n",
              "  const next = steps.next(outputElement.lastPromiseValue);\n",
              "  return Promise.resolve(next.value.promise).then((value) => {\n",
              "    // Cache the last promise value to make it available to the next\n",
              "    // step of the generator.\n",
              "    outputElement.lastPromiseValue = value;\n",
              "    return next.value.response;\n",
              "  });\n",
              "}\n",
              "\n",
              "/**\n",
              " * Generator function which is called between each async step of the upload\n",
              " * process.\n",
              " * @param {string} inputId Element ID of the input file picker element.\n",
              " * @param {string} outputId Element ID of the output display.\n",
              " * @return {!Iterable<!Object>} Iterable of next steps.\n",
              " */\n",
              "function* uploadFilesStep(inputId, outputId) {\n",
              "  const inputElement = document.getElementById(inputId);\n",
              "  inputElement.disabled = false;\n",
              "\n",
              "  const outputElement = document.getElementById(outputId);\n",
              "  outputElement.innerHTML = '';\n",
              "\n",
              "  const pickedPromise = new Promise((resolve) => {\n",
              "    inputElement.addEventListener('change', (e) => {\n",
              "      resolve(e.target.files);\n",
              "    });\n",
              "  });\n",
              "\n",
              "  const cancel = document.createElement('button');\n",
              "  inputElement.parentElement.appendChild(cancel);\n",
              "  cancel.textContent = 'Cancel upload';\n",
              "  const cancelPromise = new Promise((resolve) => {\n",
              "    cancel.onclick = () => {\n",
              "      resolve(null);\n",
              "    };\n",
              "  });\n",
              "\n",
              "  // Wait for the user to pick the files.\n",
              "  const files = yield {\n",
              "    promise: Promise.race([pickedPromise, cancelPromise]),\n",
              "    response: {\n",
              "      action: 'starting',\n",
              "    }\n",
              "  };\n",
              "\n",
              "  cancel.remove();\n",
              "\n",
              "  // Disable the input element since further picks are not allowed.\n",
              "  inputElement.disabled = true;\n",
              "\n",
              "  if (!files) {\n",
              "    return {\n",
              "      response: {\n",
              "        action: 'complete',\n",
              "      }\n",
              "    };\n",
              "  }\n",
              "\n",
              "  for (const file of files) {\n",
              "    const li = document.createElement('li');\n",
              "    li.append(span(file.name, {fontWeight: 'bold'}));\n",
              "    li.append(span(\n",
              "        `(${file.type || 'n/a'}) - ${file.size} bytes, ` +\n",
              "        `last modified: ${\n",
              "            file.lastModifiedDate ? file.lastModifiedDate.toLocaleDateString() :\n",
              "                                    'n/a'} - `));\n",
              "    const percent = span('0% done');\n",
              "    li.appendChild(percent);\n",
              "\n",
              "    outputElement.appendChild(li);\n",
              "\n",
              "    const fileDataPromise = new Promise((resolve) => {\n",
              "      const reader = new FileReader();\n",
              "      reader.onload = (e) => {\n",
              "        resolve(e.target.result);\n",
              "      };\n",
              "      reader.readAsArrayBuffer(file);\n",
              "    });\n",
              "    // Wait for the data to be ready.\n",
              "    let fileData = yield {\n",
              "      promise: fileDataPromise,\n",
              "      response: {\n",
              "        action: 'continue',\n",
              "      }\n",
              "    };\n",
              "\n",
              "    // Use a chunked sending to avoid message size limits. See b/62115660.\n",
              "    let position = 0;\n",
              "    do {\n",
              "      const length = Math.min(fileData.byteLength - position, MAX_PAYLOAD_SIZE);\n",
              "      const chunk = new Uint8Array(fileData, position, length);\n",
              "      position += length;\n",
              "\n",
              "      const base64 = btoa(String.fromCharCode.apply(null, chunk));\n",
              "      yield {\n",
              "        response: {\n",
              "          action: 'append',\n",
              "          file: file.name,\n",
              "          data: base64,\n",
              "        },\n",
              "      };\n",
              "\n",
              "      let percentDone = fileData.byteLength === 0 ?\n",
              "          100 :\n",
              "          Math.round((position / fileData.byteLength) * 100);\n",
              "      percent.textContent = `${percentDone}% done`;\n",
              "\n",
              "    } while (position < fileData.byteLength);\n",
              "  }\n",
              "\n",
              "  // All done.\n",
              "  yield {\n",
              "    response: {\n",
              "      action: 'complete',\n",
              "    }\n",
              "  };\n",
              "}\n",
              "\n",
              "scope.google = scope.google || {};\n",
              "scope.google.colab = scope.google.colab || {};\n",
              "scope.google.colab._files = {\n",
              "  _uploadFiles,\n",
              "  _uploadFilesContinue,\n",
              "};\n",
              "})(self);\n",
              "</script> "
            ]
          },
          "metadata": {}
        },
        {
          "output_type": "stream",
          "name": "stdout",
          "text": [
            "Saving Airfares_simple_garbled.csv to Airfares_simple_garbled.csv\n"
          ]
        }
      ],
      "source": [
        "import pandas as pd\n",
        "\n",
        "from google. colab import files\n",
        "uploaded=files.upload()"
      ]
    },
    {
      "cell_type": "code",
      "source": [
        "from google. colab import files\n",
        "uploaded=files.upload()"
      ],
      "metadata": {
        "colab": {
          "base_uri": "https://localhost:8080/",
          "height": 77
        },
        "id": "RmT2yIKgI5Fn",
        "outputId": "3ca1150f-35e8-492b-f4c1-ca29d02945b1"
      },
      "execution_count": 30,
      "outputs": [
        {
          "output_type": "display_data",
          "data": {
            "text/plain": [
              "<IPython.core.display.HTML object>"
            ],
            "text/html": [
              "\n",
              "     <input type=\"file\" id=\"files-beb6992e-6c19-49fe-9675-fb2f90f2bbcc\" name=\"files[]\" multiple disabled\n",
              "        style=\"border:none\" />\n",
              "     <output id=\"result-beb6992e-6c19-49fe-9675-fb2f90f2bbcc\">\n",
              "      Upload widget is only available when the cell has been executed in the\n",
              "      current browser session. Please rerun this cell to enable.\n",
              "      </output>\n",
              "      <script>// Copyright 2017 Google LLC\n",
              "//\n",
              "// Licensed under the Apache License, Version 2.0 (the \"License\");\n",
              "// you may not use this file except in compliance with the License.\n",
              "// You may obtain a copy of the License at\n",
              "//\n",
              "//      http://www.apache.org/licenses/LICENSE-2.0\n",
              "//\n",
              "// Unless required by applicable law or agreed to in writing, software\n",
              "// distributed under the License is distributed on an \"AS IS\" BASIS,\n",
              "// WITHOUT WARRANTIES OR CONDITIONS OF ANY KIND, either express or implied.\n",
              "// See the License for the specific language governing permissions and\n",
              "// limitations under the License.\n",
              "\n",
              "/**\n",
              " * @fileoverview Helpers for google.colab Python module.\n",
              " */\n",
              "(function(scope) {\n",
              "function span(text, styleAttributes = {}) {\n",
              "  const element = document.createElement('span');\n",
              "  element.textContent = text;\n",
              "  for (const key of Object.keys(styleAttributes)) {\n",
              "    element.style[key] = styleAttributes[key];\n",
              "  }\n",
              "  return element;\n",
              "}\n",
              "\n",
              "// Max number of bytes which will be uploaded at a time.\n",
              "const MAX_PAYLOAD_SIZE = 100 * 1024;\n",
              "\n",
              "function _uploadFiles(inputId, outputId) {\n",
              "  const steps = uploadFilesStep(inputId, outputId);\n",
              "  const outputElement = document.getElementById(outputId);\n",
              "  // Cache steps on the outputElement to make it available for the next call\n",
              "  // to uploadFilesContinue from Python.\n",
              "  outputElement.steps = steps;\n",
              "\n",
              "  return _uploadFilesContinue(outputId);\n",
              "}\n",
              "\n",
              "// This is roughly an async generator (not supported in the browser yet),\n",
              "// where there are multiple asynchronous steps and the Python side is going\n",
              "// to poll for completion of each step.\n",
              "// This uses a Promise to block the python side on completion of each step,\n",
              "// then passes the result of the previous step as the input to the next step.\n",
              "function _uploadFilesContinue(outputId) {\n",
              "  const outputElement = document.getElementById(outputId);\n",
              "  const steps = outputElement.steps;\n",
              "\n",
              "  const next = steps.next(outputElement.lastPromiseValue);\n",
              "  return Promise.resolve(next.value.promise).then((value) => {\n",
              "    // Cache the last promise value to make it available to the next\n",
              "    // step of the generator.\n",
              "    outputElement.lastPromiseValue = value;\n",
              "    return next.value.response;\n",
              "  });\n",
              "}\n",
              "\n",
              "/**\n",
              " * Generator function which is called between each async step of the upload\n",
              " * process.\n",
              " * @param {string} inputId Element ID of the input file picker element.\n",
              " * @param {string} outputId Element ID of the output display.\n",
              " * @return {!Iterable<!Object>} Iterable of next steps.\n",
              " */\n",
              "function* uploadFilesStep(inputId, outputId) {\n",
              "  const inputElement = document.getElementById(inputId);\n",
              "  inputElement.disabled = false;\n",
              "\n",
              "  const outputElement = document.getElementById(outputId);\n",
              "  outputElement.innerHTML = '';\n",
              "\n",
              "  const pickedPromise = new Promise((resolve) => {\n",
              "    inputElement.addEventListener('change', (e) => {\n",
              "      resolve(e.target.files);\n",
              "    });\n",
              "  });\n",
              "\n",
              "  const cancel = document.createElement('button');\n",
              "  inputElement.parentElement.appendChild(cancel);\n",
              "  cancel.textContent = 'Cancel upload';\n",
              "  const cancelPromise = new Promise((resolve) => {\n",
              "    cancel.onclick = () => {\n",
              "      resolve(null);\n",
              "    };\n",
              "  });\n",
              "\n",
              "  // Wait for the user to pick the files.\n",
              "  const files = yield {\n",
              "    promise: Promise.race([pickedPromise, cancelPromise]),\n",
              "    response: {\n",
              "      action: 'starting',\n",
              "    }\n",
              "  };\n",
              "\n",
              "  cancel.remove();\n",
              "\n",
              "  // Disable the input element since further picks are not allowed.\n",
              "  inputElement.disabled = true;\n",
              "\n",
              "  if (!files) {\n",
              "    return {\n",
              "      response: {\n",
              "        action: 'complete',\n",
              "      }\n",
              "    };\n",
              "  }\n",
              "\n",
              "  for (const file of files) {\n",
              "    const li = document.createElement('li');\n",
              "    li.append(span(file.name, {fontWeight: 'bold'}));\n",
              "    li.append(span(\n",
              "        `(${file.type || 'n/a'}) - ${file.size} bytes, ` +\n",
              "        `last modified: ${\n",
              "            file.lastModifiedDate ? file.lastModifiedDate.toLocaleDateString() :\n",
              "                                    'n/a'} - `));\n",
              "    const percent = span('0% done');\n",
              "    li.appendChild(percent);\n",
              "\n",
              "    outputElement.appendChild(li);\n",
              "\n",
              "    const fileDataPromise = new Promise((resolve) => {\n",
              "      const reader = new FileReader();\n",
              "      reader.onload = (e) => {\n",
              "        resolve(e.target.result);\n",
              "      };\n",
              "      reader.readAsArrayBuffer(file);\n",
              "    });\n",
              "    // Wait for the data to be ready.\n",
              "    let fileData = yield {\n",
              "      promise: fileDataPromise,\n",
              "      response: {\n",
              "        action: 'continue',\n",
              "      }\n",
              "    };\n",
              "\n",
              "    // Use a chunked sending to avoid message size limits. See b/62115660.\n",
              "    let position = 0;\n",
              "    do {\n",
              "      const length = Math.min(fileData.byteLength - position, MAX_PAYLOAD_SIZE);\n",
              "      const chunk = new Uint8Array(fileData, position, length);\n",
              "      position += length;\n",
              "\n",
              "      const base64 = btoa(String.fromCharCode.apply(null, chunk));\n",
              "      yield {\n",
              "        response: {\n",
              "          action: 'append',\n",
              "          file: file.name,\n",
              "          data: base64,\n",
              "        },\n",
              "      };\n",
              "\n",
              "      let percentDone = fileData.byteLength === 0 ?\n",
              "          100 :\n",
              "          Math.round((position / fileData.byteLength) * 100);\n",
              "      percent.textContent = `${percentDone}% done`;\n",
              "\n",
              "    } while (position < fileData.byteLength);\n",
              "  }\n",
              "\n",
              "  // All done.\n",
              "  yield {\n",
              "    response: {\n",
              "      action: 'complete',\n",
              "    }\n",
              "  };\n",
              "}\n",
              "\n",
              "scope.google = scope.google || {};\n",
              "scope.google.colab = scope.google.colab || {};\n",
              "scope.google.colab._files = {\n",
              "  _uploadFiles,\n",
              "  _uploadFilesContinue,\n",
              "};\n",
              "})(self);\n",
              "</script> "
            ]
          },
          "metadata": {}
        },
        {
          "output_type": "stream",
          "name": "stdout",
          "text": [
            "Saving Airfares.csv to Airfares.csv\n"
          ]
        }
      ]
    },
    {
      "cell_type": "code",
      "source": [
        "# 수정된 데이터셋 변수\n",
        "df = pd.read_csv(\"Airfares_simple_garbled.csv\")"
      ],
      "metadata": {
        "id": "6PXYmp3_AQuz"
      },
      "execution_count": 10,
      "outputs": []
    },
    {
      "cell_type": "code",
      "source": [
        "# 원본 데이터셋 변수\n",
        "df_orig = pd.read_csv('Airfares.csv')"
      ],
      "metadata": {
        "id": "Q7CfFPnlI0Y1"
      },
      "execution_count": 31,
      "outputs": []
    },
    {
      "cell_type": "code",
      "source": [
        "# 1. 결측치 찾기\n",
        "missing_counts = df.isnull().sum()\n",
        "missing_cols = missing_counts[missing_counts > 0]\n",
        "print(\"=== 1. 결측치 (Missing Values) ===\")\n",
        "print(missing_cols, \"\\n\")"
      ],
      "metadata": {
        "colab": {
          "base_uri": "https://localhost:8080/"
        },
        "id": "oICtGPj0Bi2B",
        "outputId": "5ffcd202-1749-4fb8-8b94-51f0af8d7dad"
      },
      "execution_count": 12,
      "outputs": [
        {
          "output_type": "stream",
          "name": "stdout",
          "text": [
            "=== 1. 결측치 (Missing Values) ===\n",
            "S_INCOME    32\n",
            "E_INCOME    33\n",
            "DISTANCE    31\n",
            "PAX         31\n",
            "dtype: int64 \n",
            "\n"
          ]
        }
      ]
    },
    {
      "cell_type": "code",
      "source": [
        "# 2. 문자열 공백(Whitespace) 찾기\n",
        "print(\"=== 2. 문자열 공백(Whitespace) 문제 ===\")\n",
        "whitespace_issues = {}                                    # 공백 발생한 값 담을 딕셔너리\n",
        "for col in df.select_dtypes(include='object').columns:                       # 문자열만을 골라내서\n",
        "    mask = df[col].apply(lambda x: isinstance(x, str) and (x != x.strip()))  # x != x.strip() / 실제값 x가 양쪽 공백을 제거한 x와 다르다면,\n",
        "    if mask.any():                                                           # 공백이 존재한다는 의미. => 문자열 공백 이슈가 발생한 값\n",
        "        whitespace_issues[col] = df.loc[mask, col]\n",
        "        print(f\"\\nColumn: {col}\")\n",
        "        print(df.loc[mask, col])"
      ],
      "metadata": {
        "colab": {
          "base_uri": "https://localhost:8080/"
        },
        "id": "CajEsVZtBraP",
        "outputId": "4ebdba71-2c01-4ed4-fbd4-34ede22524d4"
      },
      "execution_count": 14,
      "outputs": [
        {
          "output_type": "stream",
          "name": "stdout",
          "text": [
            "=== 2. 문자열 공백(Whitespace) 문제 ===\n",
            "\n",
            "Column: E_CITY\n",
            "36       Charlotte           NC  \n",
            "51       Cleveland           OH  \n",
            "101      Hartford            CT  \n",
            "103      Honolulu (Intl)     HI  \n",
            "113      Houston             TX  \n",
            "178      Miami               FL  \n",
            "195      Minneapolis/St Paul MN  \n",
            "235      New York/Newark     NY  \n",
            "243      New York/Newark     NY  \n",
            "275      New York/Newark     NY  \n",
            "360      Phoenix             AZ  \n",
            "443      Salt Lake City      UT  \n",
            "487      San Francisco       CA  \n",
            "499      San Jose            CA  \n",
            "568      Tucson              AZ  \n",
            "Name: E_CITY, dtype: object\n"
          ]
        }
      ]
    },
    {
      "cell_type": "code",
      "source": [
        "# 앞 뒤로 공백있는 문자열 공백값 존재 예시 출력\n",
        "\n",
        "df['E_CITY'][36]"
      ],
      "metadata": {
        "colab": {
          "base_uri": "https://localhost:8080/",
          "height": 35
        },
        "id": "LUlgomwkEkl8",
        "outputId": "8ff1699d-a39f-4c27-c46b-0ee5d817954d"
      },
      "execution_count": 25,
      "outputs": [
        {
          "output_type": "execute_result",
          "data": {
            "text/plain": [
              "'  Charlotte           NC  '"
            ],
            "application/vnd.google.colaboratory.intrinsic+json": {
              "type": "string"
            }
          },
          "metadata": {},
          "execution_count": 25
        }
      ]
    },
    {
      "cell_type": "code",
      "source": [
        "# 3. 대소문자 불일치(Case Inconsistency) 찾기\n",
        "print(\"\\n=== 3. 대소문자 불일치(Case Inconsistency) ===\")\n",
        "case_issues = {}\n",
        "for col in df.select_dtypes(include='object').columns:   # 문자열 타입인 모든 컬럼의 값 가져와서 (결측치, 중복값제거, 문자열str만)\n",
        "    vals = df[col].dropna().astype(str)\n",
        "    lower_vals = vals.str.lower()                        # 소문자로 모두 변환한 시리즈(base) 만들고\n",
        "    unique_lower = lower_vals.unique()                   # 실제값(variants)이랑 비교해가며 일치하는 값은 '대소문자 불일치' 값 !\n",
        "    for base in unique_lower:                                    # 일치한다는 것은 실제값이 소문자로 되어있다는 의미이기에.\n",
        "        variants = sorted(vals[lower_vals == base].unique())\n",
        "        if len(variants) > 1:\n",
        "            if col not in case_issues:\n",
        "                case_issues[col] = {}\n",
        "            case_issues[col][base] = variants\n",
        "    if col in case_issues:\n",
        "        print(f\"\\nColumn: {col}\")\n",
        "        for base, variants in case_issues[col].items():\n",
        "            print(f\"  Base ('{base}') -> Variants: {variants}\")"
      ],
      "metadata": {
        "colab": {
          "base_uri": "https://localhost:8080/"
        },
        "id": "TFljeNEpE4Y5",
        "outputId": "354abefe-2cd6-42dd-8a38-dd1882a5e42d"
      },
      "execution_count": 26,
      "outputs": [
        {
          "output_type": "stream",
          "name": "stdout",
          "text": [
            "\n",
            "=== 3. 대소문자 불일치(Case Inconsistency) ===\n",
            "\n",
            "Column: S_CITY\n",
            "  Base ('atlanta             ga') -> Variants: ['Atlanta             GA', 'atlanta             ga']\n",
            "  Base ('boston              ma') -> Variants: ['Boston              MA', 'boston              ma']\n",
            "  Base ('chicago             il') -> Variants: ['Chicago             IL', 'chicago             il']\n",
            "  Base ('fort lauderdale     fl') -> Variants: ['Fort Lauderdale     FL', 'fort lauderdale     fl']\n",
            "  Base ('los angeles         ca') -> Variants: ['Los Angeles         CA', 'los angeles         ca']\n",
            "  Base ('new orleans         la') -> Variants: ['New Orleans         LA', 'new orleans         la']\n",
            "  Base ('new york/newark     ny') -> Variants: ['New York/Newark     NY', 'new york/newark     ny']\n",
            "  Base ('orlando             fl') -> Variants: ['Orlando             FL', 'orlando             fl']\n",
            "  Base ('phoenix             az') -> Variants: ['Phoenix             AZ', 'phoenix             az']\n",
            "  Base ('san francisco       ca') -> Variants: ['San Francisco       CA', 'san francisco       ca']\n",
            "  Base ('denver              co') -> Variants: ['Denver              CO', 'denver              co']\n",
            "  Base ('detroit             mi') -> Variants: ['Detroit             MI', 'detroit             mi']\n",
            "  Base ('oakland             ca') -> Variants: ['Oakland             CA', 'oakland             ca']\n",
            "\n",
            "Column: VACATION\n",
            "  Base ('no') -> Variants: ['NO', 'No']\n",
            "  Base ('yes') -> Variants: ['YES', 'Yes']\n"
          ]
        }
      ]
    },
    {
      "cell_type": "code",
      "source": [
        "# 4. 수치형 이상치(Outlier) 찾기 (원본 IQR 기준)\n",
        "\n",
        "print(\"\\n=== 4. 수치형 이상치 (Outliers) ===\")\n",
        "outlier_indices = {}\n",
        "for col in df.select_dtypes(include=['int64','float64']).columns:      # 수정된 데이터셋에서 정수, 실수 타입 데이터만 추\n",
        "    o_col = df_orig[col]                         # '원본 데이터!!'의 1사분위(하위 25% 지점)와 3사분위(상위 25% 지점)을 구함\n",
        "    Q1 = o_col.quantile(0.25)\n",
        "    Q3 = o_col.quantile(0.75)                     #  IQR = Q3 – Q1은 “중간 50% 자료가 퍼져 있는 범위” => 이상치 아닌 구간\n",
        "    IQR = Q3 - Q1                                 #  일반적으로 QR의 1.5배를 경계로 삼아서\n",
        "    lower = Q1 - 1.5 * IQR                          # 하한(lower fence) = Q1 − 1.5×IQR\n",
        "    upper = Q3 + 1.5 * IQR                          # 상한(upper fence) = Q3 + 1.5×IQR 을 벗어난 값을 '이상치'로 간주 !\n",
        "    g_col = pd.to_numeric(df[col], errors='coerce')\n",
        "    mask = (g_col < lower) | (g_col > upper)\n",
        "    if mask.any():                                    # '수정된 데이터셋 값'이 '원본 데이터의 상한, 하한'을 벗어난다면 이상치로 간주 !\n",
        "        outlier_indices[col] = df.index[mask].tolist()\n",
        "        print(f\"\\nColumn: {col} - {len(outlier_indices[col])}개 이상치 발견\")\n",
        "        print(df.loc[outlier_indices[col][:5], [col]].to_string(index=True))"
      ],
      "metadata": {
        "colab": {
          "base_uri": "https://localhost:8080/"
        },
        "id": "kEEQ0y5TIUtn",
        "outputId": "185891b1-89c4-443c-e0f5-776949db150a"
      },
      "execution_count": 34,
      "outputs": [
        {
          "output_type": "stream",
          "name": "stdout",
          "text": [
            "\n",
            "=== 4. 수치형 이상치 (Outliers) ===\n",
            "\n",
            "Column: COUPON - 23개 이상치 발견\n",
            "     COUPON\n",
            "18     1.86\n",
            "19     1.93\n",
            "20     1.87\n",
            "129    1.71\n",
            "166    1.92\n",
            "\n",
            "Column: NEW - 67개 이상치 발견\n",
            "    NEW\n",
            "9     2\n",
            "11    1\n",
            "31    0\n",
            "33    1\n",
            "46    1\n",
            "\n",
            "Column: HI - 14개 이상치 발견\n",
            "          HI\n",
            "2    9185.28\n",
            "50   9350.13\n",
            "148  9592.99\n",
            "197  9249.13\n",
            "324  9649.01\n",
            "\n",
            "Column: S_INCOME - 9개 이상치 발견\n",
            "     S_INCOME\n",
            "21    38813.0\n",
            "105   38813.0\n",
            "129   38813.0\n",
            "349   14600.0\n",
            "387   38813.0\n",
            "\n",
            "Column: DISTANCE - 9개 이상치 발견\n",
            "     DISTANCE\n",
            "103    2764.0\n",
            "106    2679.0\n",
            "162    2605.0\n",
            "318   13080.0\n",
            "376    2603.0\n",
            "\n",
            "Column: PAX - 57개 이상치 발견\n",
            "         PAX\n",
            "42   30877.0\n",
            "43   30877.0\n",
            "82   34113.0\n",
            "83   34113.0\n",
            "104  32824.0\n",
            "\n",
            "Column: FARE - 10개 이상치 발견\n",
            "       FARE\n",
            "36  -234.15\n",
            "170 -193.50\n",
            "346 -229.84\n",
            "354 -195.91\n",
            "474  367.72\n"
          ]
        }
      ]
    },
    {
      "cell_type": "code",
      "source": [
        "# 5. 음수 값(Negative Values) 찾기  => 범위오류 (불가능한 값)\n",
        "\n",
        "print(\"\\n=== 5. 음수 값 (Negative Values) ===\")\n",
        "negative_indices = {}\n",
        "for col in df.select_dtypes(include=['int64','float64']).columns:       # 정수, 실수형 데이터 값 중에\n",
        "    g_col = pd.to_numeric(df[col], errors='coerce')                # 문자열 등이 섞여 있을 경우에도 가능한 한 숫자로 바꿔주고, 변환이 불가능한 항목은 NaN으로 처리\n",
        "    neg_mask = g_col < 0                                      # 해당 열의 값이 음수인 행만 true인 시리즈\n",
        "    if neg_mask.any():                                             # 음수 값이 하나라도 있으면 사전에 저장, 해당 행의 인덱스와 샘플 출력\n",
        "        negative_indices[col] = df.index[neg_mask].tolist()\n",
        "        print(f\"\\nColumn: {col} - {len(negative_indices[col])}개 음수 값 발견\")\n",
        "        print(df.loc[negative_indices[col][:5], [col]].to_string(index=True))"
      ],
      "metadata": {
        "colab": {
          "base_uri": "https://localhost:8080/"
        },
        "id": "tBEAj0j1L2_L",
        "outputId": "2e6c54cf-1fbf-42e3-d44b-6f8f29506bb5"
      },
      "execution_count": 38,
      "outputs": [
        {
          "output_type": "stream",
          "name": "stdout",
          "text": [
            "\n",
            "=== 5. 음수 값 (Negative Values) ===\n",
            "\n",
            "Column: FARE - 5개 음수 값 발견\n",
            "       FARE\n",
            "36  -234.15\n",
            "170 -193.50\n",
            "346 -229.84\n",
            "354 -195.91\n",
            "562 -123.89\n"
          ]
        }
      ]
    }
  ]
}