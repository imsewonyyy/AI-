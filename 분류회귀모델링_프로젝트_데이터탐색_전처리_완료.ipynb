{
  "nbformat": 4,
  "nbformat_minor": 0,
  "metadata": {
    "colab": {
      "provenance": [],
      "include_colab_link": true
    },
    "kernelspec": {
      "name": "python3",
      "display_name": "Python 3"
    },
    "language_info": {
      "name": "python"
    }
  },
  "cells": [
    {
      "cell_type": "markdown",
      "metadata": {
        "id": "view-in-github",
        "colab_type": "text"
      },
      "source": [
        "<a href=\"https://colab.research.google.com/github/imsewonyyy/AI-/blob/main/%EB%B6%84%EB%A5%98%ED%9A%8C%EA%B7%80%EB%AA%A8%EB%8D%B8%EB%A7%81_%ED%94%84%EB%A1%9C%EC%A0%9D%ED%8A%B8_%EB%8D%B0%EC%9D%B4%ED%84%B0%ED%83%90%EC%83%89_%EC%A0%84%EC%B2%98%EB%A6%AC_%EC%99%84%EB%A3%8C.ipynb\" target=\"_parent\"><img src=\"https://colab.research.google.com/assets/colab-badge.svg\" alt=\"Open In Colab\"/></a>"
      ]
    },
    {
      "cell_type": "markdown",
      "source": [
        "# 1. **기존 데이터셋** Phase 1-프로젝트 준비 및 탐색\n",
        "# 신규노선 항공운임예측\n",
        "\n",
        "# **1. 프로젝트 정의 및 목표 설정**"
      ],
      "metadata": {
        "id": "yyu5p_ZC08xe"
      }
    },
    {
      "cell_type": "markdown",
      "source": [
        "본 프로젝트의 목표는 항공 운임(Airfare)을 예측하는 회귀 모델을 개발하는 것이다. 사용자는 항공편의 출발지, 도착지, 경유 여부, 항공사 등의 정보를 기반으로 해당 항공권의 가격을 예측하고자 한다. 이는 가격 책정 전략 수립, 경쟁사 분석, 고객 맞춤형 요금 제안 등에 활용될 수 있다.\n",
        "\n",
        "\n",
        "\n",
        "● 데이터 정의 (Data Definition)\n",
        "\n",
        "본 프로젝트에서는 제공된 Airfares_simple_garbled.csv 데이터를 사용한다. 해당 데이터는 항공 운임에 영향을 줄 수 있는 다양한 변수(출발지, 도착지, 항공사, 여행일, 경유 여부 등)와 실제 운임 정보를 포함하고 있으며, 데이터 출처는 항공권 가격 조사에서 수집된 것으로 추정된다. 다만, 원본 데이터에는 일부 오류 혹은 비정상적인 값이 포함되어 있어 추가적인 정제 작업이 필요하다.\n",
        "\n",
        "\n",
        "\n",
        "● 성공 지표 설정 (Success Metrics)\n",
        "\n",
        "예측 모델의 성능 평가는 Root Mean Squared Error (RMSE) 와 Mean Absolute Error (MAE) 를 기준으로 한다. 다음과 같은 성능 기준을 목표로 설정한다:\n",
        "\n",
        "RMSE: 40 이하\n",
        "\n",
        "MAE: 30 이하\n",
        "\n",
        "이는 항공권 가격 예측의 오차가 실제 비즈니스에 유의미하게 작용할 수 있는 수준을 고려한 수치이다.\n",
        "\n",
        "\n",
        "\n",
        "\n",
        "● 기대 효과 및 제약 조건 (Expected Impact & Constraints)\n",
        "\n",
        "기대 효과:\n",
        "\n",
        "-고객에게 보다 정확한 예상 항공권 가격을 제공하여 구매 결정 지원\n",
        "\n",
        "-항공사 또는 여행 플랫폼에서 가격 예측 기반 맞춤 추천 가능"
      ],
      "metadata": {
        "id": "phZgcVSMWGkR"
      }
    },
    {
      "cell_type": "markdown",
      "source": [
        "# **2. 데이터 수집 및 로드**"
      ],
      "metadata": {
        "id": "8yoK5w--2c9i"
      }
    },
    {
      "cell_type": "code",
      "source": [
        "# 1. 원본 데이터셋 로드\n",
        "from google.colab import files\n",
        "uploaded = files.upload()\n"
      ],
      "metadata": {
        "id": "ieuMNKxJcN0B"
      },
      "execution_count": null,
      "outputs": []
    },
    {
      "cell_type": "code",
      "source": [
        "# 1. 수정된 데이터셋 로드\n",
        "from google.colab import files\n",
        "uploaded = files.upload()\n"
      ],
      "metadata": {
        "id": "peCjSAfmCQRU",
        "colab": {
          "base_uri": "https://localhost:8080/",
          "height": 77
        },
        "outputId": "a34069a8-99d2-40ef-abb5-0bd1287660ea"
      },
      "execution_count": null,
      "outputs": [
        {
          "output_type": "display_data",
          "data": {
            "text/plain": [
              "<IPython.core.display.HTML object>"
            ],
            "text/html": [
              "\n",
              "     <input type=\"file\" id=\"files-3c57673c-1f2b-4ada-a8c3-c78b48c609ce\" name=\"files[]\" multiple disabled\n",
              "        style=\"border:none\" />\n",
              "     <output id=\"result-3c57673c-1f2b-4ada-a8c3-c78b48c609ce\">\n",
              "      Upload widget is only available when the cell has been executed in the\n",
              "      current browser session. Please rerun this cell to enable.\n",
              "      </output>\n",
              "      <script>// Copyright 2017 Google LLC\n",
              "//\n",
              "// Licensed under the Apache License, Version 2.0 (the \"License\");\n",
              "// you may not use this file except in compliance with the License.\n",
              "// You may obtain a copy of the License at\n",
              "//\n",
              "//      http://www.apache.org/licenses/LICENSE-2.0\n",
              "//\n",
              "// Unless required by applicable law or agreed to in writing, software\n",
              "// distributed under the License is distributed on an \"AS IS\" BASIS,\n",
              "// WITHOUT WARRANTIES OR CONDITIONS OF ANY KIND, either express or implied.\n",
              "// See the License for the specific language governing permissions and\n",
              "// limitations under the License.\n",
              "\n",
              "/**\n",
              " * @fileoverview Helpers for google.colab Python module.\n",
              " */\n",
              "(function(scope) {\n",
              "function span(text, styleAttributes = {}) {\n",
              "  const element = document.createElement('span');\n",
              "  element.textContent = text;\n",
              "  for (const key of Object.keys(styleAttributes)) {\n",
              "    element.style[key] = styleAttributes[key];\n",
              "  }\n",
              "  return element;\n",
              "}\n",
              "\n",
              "// Max number of bytes which will be uploaded at a time.\n",
              "const MAX_PAYLOAD_SIZE = 100 * 1024;\n",
              "\n",
              "function _uploadFiles(inputId, outputId) {\n",
              "  const steps = uploadFilesStep(inputId, outputId);\n",
              "  const outputElement = document.getElementById(outputId);\n",
              "  // Cache steps on the outputElement to make it available for the next call\n",
              "  // to uploadFilesContinue from Python.\n",
              "  outputElement.steps = steps;\n",
              "\n",
              "  return _uploadFilesContinue(outputId);\n",
              "}\n",
              "\n",
              "// This is roughly an async generator (not supported in the browser yet),\n",
              "// where there are multiple asynchronous steps and the Python side is going\n",
              "// to poll for completion of each step.\n",
              "// This uses a Promise to block the python side on completion of each step,\n",
              "// then passes the result of the previous step as the input to the next step.\n",
              "function _uploadFilesContinue(outputId) {\n",
              "  const outputElement = document.getElementById(outputId);\n",
              "  const steps = outputElement.steps;\n",
              "\n",
              "  const next = steps.next(outputElement.lastPromiseValue);\n",
              "  return Promise.resolve(next.value.promise).then((value) => {\n",
              "    // Cache the last promise value to make it available to the next\n",
              "    // step of the generator.\n",
              "    outputElement.lastPromiseValue = value;\n",
              "    return next.value.response;\n",
              "  });\n",
              "}\n",
              "\n",
              "/**\n",
              " * Generator function which is called between each async step of the upload\n",
              " * process.\n",
              " * @param {string} inputId Element ID of the input file picker element.\n",
              " * @param {string} outputId Element ID of the output display.\n",
              " * @return {!Iterable<!Object>} Iterable of next steps.\n",
              " */\n",
              "function* uploadFilesStep(inputId, outputId) {\n",
              "  const inputElement = document.getElementById(inputId);\n",
              "  inputElement.disabled = false;\n",
              "\n",
              "  const outputElement = document.getElementById(outputId);\n",
              "  outputElement.innerHTML = '';\n",
              "\n",
              "  const pickedPromise = new Promise((resolve) => {\n",
              "    inputElement.addEventListener('change', (e) => {\n",
              "      resolve(e.target.files);\n",
              "    });\n",
              "  });\n",
              "\n",
              "  const cancel = document.createElement('button');\n",
              "  inputElement.parentElement.appendChild(cancel);\n",
              "  cancel.textContent = 'Cancel upload';\n",
              "  const cancelPromise = new Promise((resolve) => {\n",
              "    cancel.onclick = () => {\n",
              "      resolve(null);\n",
              "    };\n",
              "  });\n",
              "\n",
              "  // Wait for the user to pick the files.\n",
              "  const files = yield {\n",
              "    promise: Promise.race([pickedPromise, cancelPromise]),\n",
              "    response: {\n",
              "      action: 'starting',\n",
              "    }\n",
              "  };\n",
              "\n",
              "  cancel.remove();\n",
              "\n",
              "  // Disable the input element since further picks are not allowed.\n",
              "  inputElement.disabled = true;\n",
              "\n",
              "  if (!files) {\n",
              "    return {\n",
              "      response: {\n",
              "        action: 'complete',\n",
              "      }\n",
              "    };\n",
              "  }\n",
              "\n",
              "  for (const file of files) {\n",
              "    const li = document.createElement('li');\n",
              "    li.append(span(file.name, {fontWeight: 'bold'}));\n",
              "    li.append(span(\n",
              "        `(${file.type || 'n/a'}) - ${file.size} bytes, ` +\n",
              "        `last modified: ${\n",
              "            file.lastModifiedDate ? file.lastModifiedDate.toLocaleDateString() :\n",
              "                                    'n/a'} - `));\n",
              "    const percent = span('0% done');\n",
              "    li.appendChild(percent);\n",
              "\n",
              "    outputElement.appendChild(li);\n",
              "\n",
              "    const fileDataPromise = new Promise((resolve) => {\n",
              "      const reader = new FileReader();\n",
              "      reader.onload = (e) => {\n",
              "        resolve(e.target.result);\n",
              "      };\n",
              "      reader.readAsArrayBuffer(file);\n",
              "    });\n",
              "    // Wait for the data to be ready.\n",
              "    let fileData = yield {\n",
              "      promise: fileDataPromise,\n",
              "      response: {\n",
              "        action: 'continue',\n",
              "      }\n",
              "    };\n",
              "\n",
              "    // Use a chunked sending to avoid message size limits. See b/62115660.\n",
              "    let position = 0;\n",
              "    do {\n",
              "      const length = Math.min(fileData.byteLength - position, MAX_PAYLOAD_SIZE);\n",
              "      const chunk = new Uint8Array(fileData, position, length);\n",
              "      position += length;\n",
              "\n",
              "      const base64 = btoa(String.fromCharCode.apply(null, chunk));\n",
              "      yield {\n",
              "        response: {\n",
              "          action: 'append',\n",
              "          file: file.name,\n",
              "          data: base64,\n",
              "        },\n",
              "      };\n",
              "\n",
              "      let percentDone = fileData.byteLength === 0 ?\n",
              "          100 :\n",
              "          Math.round((position / fileData.byteLength) * 100);\n",
              "      percent.textContent = `${percentDone}% done`;\n",
              "\n",
              "    } while (position < fileData.byteLength);\n",
              "  }\n",
              "\n",
              "  // All done.\n",
              "  yield {\n",
              "    response: {\n",
              "      action: 'complete',\n",
              "    }\n",
              "  };\n",
              "}\n",
              "\n",
              "scope.google = scope.google || {};\n",
              "scope.google.colab = scope.google.colab || {};\n",
              "scope.google.colab._files = {\n",
              "  _uploadFiles,\n",
              "  _uploadFilesContinue,\n",
              "};\n",
              "})(self);\n",
              "</script> "
            ]
          },
          "metadata": {}
        },
        {
          "output_type": "stream",
          "name": "stdout",
          "text": [
            "Saving Airfares_simple_garbled.csv to Airfares_simple_garbled.csv\n"
          ]
        }
      ]
    },
    {
      "cell_type": "code",
      "source": [
        "# 2. pandas 라이브러리 불러오기\n",
        "import pandas as pd\n",
        "\n",
        "# 3. 원본 데이터셋\n",
        "df = pd.read_csv('Airfares.csv')\n",
        "\n"
      ],
      "metadata": {
        "id": "RRVaik_HB1J3"
      },
      "execution_count": null,
      "outputs": []
    },
    {
      "cell_type": "markdown",
      "source": [
        "# **3.\t데이터 탐색 (Exploratory Data Analysis - EDA) - Part 1: 기초 탐색**"
      ],
      "metadata": {
        "id": "Fh4Ku2iG3Ugr"
      }
    },
    {
      "cell_type": "code",
      "source": [
        "# 데이터프레임 기본 정보 출력\n",
        "print(\"✅ 데이터 기본 정보:\")\n",
        "print(df.info())\n",
        "print(\"\\n✅ 데이터 상위 5행:\")\n",
        "print(df.head())\n",
        "print(\"\\n✅ 기술통계 요약:\")\n",
        "print(df.describe(include='all'))\n"
      ],
      "metadata": {
        "id": "ZnyUj7JEEV4W"
      },
      "execution_count": null,
      "outputs": []
    },
    {
      "cell_type": "markdown",
      "source": [
        "로드된 데이터는 총 638개의 행과 18개의 열로 구성되어 있으며, 각 열은 출발지/도착지 정보, 인구 및 소득, 항공편 특성, 거리, 여객 수, 요금 등의 변수로 이루어져 있다. df.info()와 df.describe() 함수를 통해 데이터 타입과 결측치 유무, 변수별 기초 통계값을 확인하였다. 전체적으로 결측치는 존재하지 않으며, 수치형 및 범주형 변수가 혼합된 구조를 가지고 있음을 파악하였다."
      ],
      "metadata": {
        "id": "aZ-NwQNhEX6D"
      }
    },
    {
      "cell_type": "code",
      "source": [
        "# 수치형 데이터만 추출하여 요약 통계 확인\n",
        "df.describe()\n"
      ],
      "metadata": {
        "colab": {
          "base_uri": "https://localhost:8080/",
          "height": 320
        },
        "id": "OpJRqmjYdP5e",
        "outputId": "17b59a50-7ea3-45e6-e157-1f769ac78923"
      },
      "execution_count": null,
      "outputs": [
        {
          "output_type": "execute_result",
          "data": {
            "text/plain": [
              "           COUPON         NEW            HI      S_INCOME      E_INCOME  \\\n",
              "count  638.000000  638.000000    638.000000    638.000000    638.000000   \n",
              "mean     1.202335    2.753918   4442.141129  27759.860502  27663.727273   \n",
              "std      0.203821    0.760448   1724.267051   3596.207837   4611.325018   \n",
              "min      1.000000    0.000000   1230.480000  14600.000000  14600.000000   \n",
              "25%      1.040000    3.000000   3090.137500  24706.000000  23903.000000   \n",
              "50%      1.150000    3.000000   4208.185000  28637.000000  26409.000000   \n",
              "75%      1.297500    3.000000   5480.575000  29693.500000  31981.000000   \n",
              "max      1.940000    3.000000  10000.000000  38813.000000  38813.000000   \n",
              "\n",
              "              S_POP         E_POP     DISTANCE           PAX        FARE  \n",
              "count  6.380000e+02  6.380000e+02   638.000000    638.000000  638.000000  \n",
              "mean   4.557004e+06  3.194503e+06   975.653605  12782.214734  160.876677  \n",
              "std    3.010985e+06  2.735604e+06   646.242403  13202.228860   76.022436  \n",
              "min    2.983800e+04  1.117450e+05   114.000000   1504.000000   42.470000  \n",
              "25%    1.862106e+06  1.228816e+06   455.000000   5328.500000  106.290000  \n",
              "50%    3.532657e+06  2.195215e+06   850.000000   7792.000000  144.600000  \n",
              "75%    7.830332e+06  4.549784e+06  1306.250000  14090.500000  209.350000  \n",
              "max    9.056076e+06  9.056076e+06  2764.000000  73892.000000  402.020000  "
            ],
            "text/html": [
              "\n",
              "  <div id=\"df-24881753-d6f4-4c3f-aa40-c60455456717\" class=\"colab-df-container\">\n",
              "    <div>\n",
              "<style scoped>\n",
              "    .dataframe tbody tr th:only-of-type {\n",
              "        vertical-align: middle;\n",
              "    }\n",
              "\n",
              "    .dataframe tbody tr th {\n",
              "        vertical-align: top;\n",
              "    }\n",
              "\n",
              "    .dataframe thead th {\n",
              "        text-align: right;\n",
              "    }\n",
              "</style>\n",
              "<table border=\"1\" class=\"dataframe\">\n",
              "  <thead>\n",
              "    <tr style=\"text-align: right;\">\n",
              "      <th></th>\n",
              "      <th>COUPON</th>\n",
              "      <th>NEW</th>\n",
              "      <th>HI</th>\n",
              "      <th>S_INCOME</th>\n",
              "      <th>E_INCOME</th>\n",
              "      <th>S_POP</th>\n",
              "      <th>E_POP</th>\n",
              "      <th>DISTANCE</th>\n",
              "      <th>PAX</th>\n",
              "      <th>FARE</th>\n",
              "    </tr>\n",
              "  </thead>\n",
              "  <tbody>\n",
              "    <tr>\n",
              "      <th>count</th>\n",
              "      <td>638.000000</td>\n",
              "      <td>638.000000</td>\n",
              "      <td>638.000000</td>\n",
              "      <td>638.000000</td>\n",
              "      <td>638.000000</td>\n",
              "      <td>6.380000e+02</td>\n",
              "      <td>6.380000e+02</td>\n",
              "      <td>638.000000</td>\n",
              "      <td>638.000000</td>\n",
              "      <td>638.000000</td>\n",
              "    </tr>\n",
              "    <tr>\n",
              "      <th>mean</th>\n",
              "      <td>1.202335</td>\n",
              "      <td>2.753918</td>\n",
              "      <td>4442.141129</td>\n",
              "      <td>27759.860502</td>\n",
              "      <td>27663.727273</td>\n",
              "      <td>4.557004e+06</td>\n",
              "      <td>3.194503e+06</td>\n",
              "      <td>975.653605</td>\n",
              "      <td>12782.214734</td>\n",
              "      <td>160.876677</td>\n",
              "    </tr>\n",
              "    <tr>\n",
              "      <th>std</th>\n",
              "      <td>0.203821</td>\n",
              "      <td>0.760448</td>\n",
              "      <td>1724.267051</td>\n",
              "      <td>3596.207837</td>\n",
              "      <td>4611.325018</td>\n",
              "      <td>3.010985e+06</td>\n",
              "      <td>2.735604e+06</td>\n",
              "      <td>646.242403</td>\n",
              "      <td>13202.228860</td>\n",
              "      <td>76.022436</td>\n",
              "    </tr>\n",
              "    <tr>\n",
              "      <th>min</th>\n",
              "      <td>1.000000</td>\n",
              "      <td>0.000000</td>\n",
              "      <td>1230.480000</td>\n",
              "      <td>14600.000000</td>\n",
              "      <td>14600.000000</td>\n",
              "      <td>2.983800e+04</td>\n",
              "      <td>1.117450e+05</td>\n",
              "      <td>114.000000</td>\n",
              "      <td>1504.000000</td>\n",
              "      <td>42.470000</td>\n",
              "    </tr>\n",
              "    <tr>\n",
              "      <th>25%</th>\n",
              "      <td>1.040000</td>\n",
              "      <td>3.000000</td>\n",
              "      <td>3090.137500</td>\n",
              "      <td>24706.000000</td>\n",
              "      <td>23903.000000</td>\n",
              "      <td>1.862106e+06</td>\n",
              "      <td>1.228816e+06</td>\n",
              "      <td>455.000000</td>\n",
              "      <td>5328.500000</td>\n",
              "      <td>106.290000</td>\n",
              "    </tr>\n",
              "    <tr>\n",
              "      <th>50%</th>\n",
              "      <td>1.150000</td>\n",
              "      <td>3.000000</td>\n",
              "      <td>4208.185000</td>\n",
              "      <td>28637.000000</td>\n",
              "      <td>26409.000000</td>\n",
              "      <td>3.532657e+06</td>\n",
              "      <td>2.195215e+06</td>\n",
              "      <td>850.000000</td>\n",
              "      <td>7792.000000</td>\n",
              "      <td>144.600000</td>\n",
              "    </tr>\n",
              "    <tr>\n",
              "      <th>75%</th>\n",
              "      <td>1.297500</td>\n",
              "      <td>3.000000</td>\n",
              "      <td>5480.575000</td>\n",
              "      <td>29693.500000</td>\n",
              "      <td>31981.000000</td>\n",
              "      <td>7.830332e+06</td>\n",
              "      <td>4.549784e+06</td>\n",
              "      <td>1306.250000</td>\n",
              "      <td>14090.500000</td>\n",
              "      <td>209.350000</td>\n",
              "    </tr>\n",
              "    <tr>\n",
              "      <th>max</th>\n",
              "      <td>1.940000</td>\n",
              "      <td>3.000000</td>\n",
              "      <td>10000.000000</td>\n",
              "      <td>38813.000000</td>\n",
              "      <td>38813.000000</td>\n",
              "      <td>9.056076e+06</td>\n",
              "      <td>9.056076e+06</td>\n",
              "      <td>2764.000000</td>\n",
              "      <td>73892.000000</td>\n",
              "      <td>402.020000</td>\n",
              "    </tr>\n",
              "  </tbody>\n",
              "</table>\n",
              "</div>\n",
              "    <div class=\"colab-df-buttons\">\n",
              "\n",
              "  <div class=\"colab-df-container\">\n",
              "    <button class=\"colab-df-convert\" onclick=\"convertToInteractive('df-24881753-d6f4-4c3f-aa40-c60455456717')\"\n",
              "            title=\"Convert this dataframe to an interactive table.\"\n",
              "            style=\"display:none;\">\n",
              "\n",
              "  <svg xmlns=\"http://www.w3.org/2000/svg\" height=\"24px\" viewBox=\"0 -960 960 960\">\n",
              "    <path d=\"M120-120v-720h720v720H120Zm60-500h600v-160H180v160Zm220 220h160v-160H400v160Zm0 220h160v-160H400v160ZM180-400h160v-160H180v160Zm440 0h160v-160H620v160ZM180-180h160v-160H180v160Zm440 0h160v-160H620v160Z\"/>\n",
              "  </svg>\n",
              "    </button>\n",
              "\n",
              "  <style>\n",
              "    .colab-df-container {\n",
              "      display:flex;\n",
              "      gap: 12px;\n",
              "    }\n",
              "\n",
              "    .colab-df-convert {\n",
              "      background-color: #E8F0FE;\n",
              "      border: none;\n",
              "      border-radius: 50%;\n",
              "      cursor: pointer;\n",
              "      display: none;\n",
              "      fill: #1967D2;\n",
              "      height: 32px;\n",
              "      padding: 0 0 0 0;\n",
              "      width: 32px;\n",
              "    }\n",
              "\n",
              "    .colab-df-convert:hover {\n",
              "      background-color: #E2EBFA;\n",
              "      box-shadow: 0px 1px 2px rgba(60, 64, 67, 0.3), 0px 1px 3px 1px rgba(60, 64, 67, 0.15);\n",
              "      fill: #174EA6;\n",
              "    }\n",
              "\n",
              "    .colab-df-buttons div {\n",
              "      margin-bottom: 4px;\n",
              "    }\n",
              "\n",
              "    [theme=dark] .colab-df-convert {\n",
              "      background-color: #3B4455;\n",
              "      fill: #D2E3FC;\n",
              "    }\n",
              "\n",
              "    [theme=dark] .colab-df-convert:hover {\n",
              "      background-color: #434B5C;\n",
              "      box-shadow: 0px 1px 3px 1px rgba(0, 0, 0, 0.15);\n",
              "      filter: drop-shadow(0px 1px 2px rgba(0, 0, 0, 0.3));\n",
              "      fill: #FFFFFF;\n",
              "    }\n",
              "  </style>\n",
              "\n",
              "    <script>\n",
              "      const buttonEl =\n",
              "        document.querySelector('#df-24881753-d6f4-4c3f-aa40-c60455456717 button.colab-df-convert');\n",
              "      buttonEl.style.display =\n",
              "        google.colab.kernel.accessAllowed ? 'block' : 'none';\n",
              "\n",
              "      async function convertToInteractive(key) {\n",
              "        const element = document.querySelector('#df-24881753-d6f4-4c3f-aa40-c60455456717');\n",
              "        const dataTable =\n",
              "          await google.colab.kernel.invokeFunction('convertToInteractive',\n",
              "                                                    [key], {});\n",
              "        if (!dataTable) return;\n",
              "\n",
              "        const docLinkHtml = 'Like what you see? Visit the ' +\n",
              "          '<a target=\"_blank\" href=https://colab.research.google.com/notebooks/data_table.ipynb>data table notebook</a>'\n",
              "          + ' to learn more about interactive tables.';\n",
              "        element.innerHTML = '';\n",
              "        dataTable['output_type'] = 'display_data';\n",
              "        await google.colab.output.renderOutput(dataTable, element);\n",
              "        const docLink = document.createElement('div');\n",
              "        docLink.innerHTML = docLinkHtml;\n",
              "        element.appendChild(docLink);\n",
              "      }\n",
              "    </script>\n",
              "  </div>\n",
              "\n",
              "\n",
              "    <div id=\"df-b5720228-9791-4423-a43b-99d562be67e6\">\n",
              "      <button class=\"colab-df-quickchart\" onclick=\"quickchart('df-b5720228-9791-4423-a43b-99d562be67e6')\"\n",
              "                title=\"Suggest charts\"\n",
              "                style=\"display:none;\">\n",
              "\n",
              "<svg xmlns=\"http://www.w3.org/2000/svg\" height=\"24px\"viewBox=\"0 0 24 24\"\n",
              "     width=\"24px\">\n",
              "    <g>\n",
              "        <path d=\"M19 3H5c-1.1 0-2 .9-2 2v14c0 1.1.9 2 2 2h14c1.1 0 2-.9 2-2V5c0-1.1-.9-2-2-2zM9 17H7v-7h2v7zm4 0h-2V7h2v10zm4 0h-2v-4h2v4z\"/>\n",
              "    </g>\n",
              "</svg>\n",
              "      </button>\n",
              "\n",
              "<style>\n",
              "  .colab-df-quickchart {\n",
              "      --bg-color: #E8F0FE;\n",
              "      --fill-color: #1967D2;\n",
              "      --hover-bg-color: #E2EBFA;\n",
              "      --hover-fill-color: #174EA6;\n",
              "      --disabled-fill-color: #AAA;\n",
              "      --disabled-bg-color: #DDD;\n",
              "  }\n",
              "\n",
              "  [theme=dark] .colab-df-quickchart {\n",
              "      --bg-color: #3B4455;\n",
              "      --fill-color: #D2E3FC;\n",
              "      --hover-bg-color: #434B5C;\n",
              "      --hover-fill-color: #FFFFFF;\n",
              "      --disabled-bg-color: #3B4455;\n",
              "      --disabled-fill-color: #666;\n",
              "  }\n",
              "\n",
              "  .colab-df-quickchart {\n",
              "    background-color: var(--bg-color);\n",
              "    border: none;\n",
              "    border-radius: 50%;\n",
              "    cursor: pointer;\n",
              "    display: none;\n",
              "    fill: var(--fill-color);\n",
              "    height: 32px;\n",
              "    padding: 0;\n",
              "    width: 32px;\n",
              "  }\n",
              "\n",
              "  .colab-df-quickchart:hover {\n",
              "    background-color: var(--hover-bg-color);\n",
              "    box-shadow: 0 1px 2px rgba(60, 64, 67, 0.3), 0 1px 3px 1px rgba(60, 64, 67, 0.15);\n",
              "    fill: var(--button-hover-fill-color);\n",
              "  }\n",
              "\n",
              "  .colab-df-quickchart-complete:disabled,\n",
              "  .colab-df-quickchart-complete:disabled:hover {\n",
              "    background-color: var(--disabled-bg-color);\n",
              "    fill: var(--disabled-fill-color);\n",
              "    box-shadow: none;\n",
              "  }\n",
              "\n",
              "  .colab-df-spinner {\n",
              "    border: 2px solid var(--fill-color);\n",
              "    border-color: transparent;\n",
              "    border-bottom-color: var(--fill-color);\n",
              "    animation:\n",
              "      spin 1s steps(1) infinite;\n",
              "  }\n",
              "\n",
              "  @keyframes spin {\n",
              "    0% {\n",
              "      border-color: transparent;\n",
              "      border-bottom-color: var(--fill-color);\n",
              "      border-left-color: var(--fill-color);\n",
              "    }\n",
              "    20% {\n",
              "      border-color: transparent;\n",
              "      border-left-color: var(--fill-color);\n",
              "      border-top-color: var(--fill-color);\n",
              "    }\n",
              "    30% {\n",
              "      border-color: transparent;\n",
              "      border-left-color: var(--fill-color);\n",
              "      border-top-color: var(--fill-color);\n",
              "      border-right-color: var(--fill-color);\n",
              "    }\n",
              "    40% {\n",
              "      border-color: transparent;\n",
              "      border-right-color: var(--fill-color);\n",
              "      border-top-color: var(--fill-color);\n",
              "    }\n",
              "    60% {\n",
              "      border-color: transparent;\n",
              "      border-right-color: var(--fill-color);\n",
              "    }\n",
              "    80% {\n",
              "      border-color: transparent;\n",
              "      border-right-color: var(--fill-color);\n",
              "      border-bottom-color: var(--fill-color);\n",
              "    }\n",
              "    90% {\n",
              "      border-color: transparent;\n",
              "      border-bottom-color: var(--fill-color);\n",
              "    }\n",
              "  }\n",
              "</style>\n",
              "\n",
              "      <script>\n",
              "        async function quickchart(key) {\n",
              "          const quickchartButtonEl =\n",
              "            document.querySelector('#' + key + ' button');\n",
              "          quickchartButtonEl.disabled = true;  // To prevent multiple clicks.\n",
              "          quickchartButtonEl.classList.add('colab-df-spinner');\n",
              "          try {\n",
              "            const charts = await google.colab.kernel.invokeFunction(\n",
              "                'suggestCharts', [key], {});\n",
              "          } catch (error) {\n",
              "            console.error('Error during call to suggestCharts:', error);\n",
              "          }\n",
              "          quickchartButtonEl.classList.remove('colab-df-spinner');\n",
              "          quickchartButtonEl.classList.add('colab-df-quickchart-complete');\n",
              "        }\n",
              "        (() => {\n",
              "          let quickchartButtonEl =\n",
              "            document.querySelector('#df-b5720228-9791-4423-a43b-99d562be67e6 button');\n",
              "          quickchartButtonEl.style.display =\n",
              "            google.colab.kernel.accessAllowed ? 'block' : 'none';\n",
              "        })();\n",
              "      </script>\n",
              "    </div>\n",
              "\n",
              "    </div>\n",
              "  </div>\n"
            ],
            "application/vnd.google.colaboratory.intrinsic+json": {
              "type": "dataframe",
              "summary": "{\n  \"name\": \"df\",\n  \"rows\": 8,\n  \"fields\": [\n    {\n      \"column\": \"COUPON\",\n      \"properties\": {\n        \"dtype\": \"number\",\n        \"std\": 225.17190240617626,\n        \"min\": 0.20382072731818643,\n        \"max\": 638.0,\n        \"num_unique_values\": 8,\n        \"samples\": [\n          1.202335423197492,\n          1.15,\n          638.0\n        ],\n        \"semantic_type\": \"\",\n        \"description\": \"\"\n      }\n    },\n    {\n      \"column\": \"NEW\",\n      \"properties\": {\n        \"dtype\": \"number\",\n        \"std\": 224.78657621614258,\n        \"min\": 0.0,\n        \"max\": 638.0,\n        \"num_unique_values\": 5,\n        \"samples\": [\n          2.7539184952978055,\n          3.0,\n          0.760448107754063\n        ],\n        \"semantic_type\": \"\",\n        \"description\": \"\"\n      }\n    },\n    {\n      \"column\": \"HI\",\n      \"properties\": {\n        \"dtype\": \"number\",\n        \"std\": 3005.5933406689046,\n        \"min\": 638.0,\n        \"max\": 10000.0,\n        \"num_unique_values\": 8,\n        \"samples\": [\n          4442.141128526646,\n          4208.1849999999995,\n          638.0\n        ],\n        \"semantic_type\": \"\",\n        \"description\": \"\"\n      }\n    },\n    {\n      \"column\": \"S_INCOME\",\n      \"properties\": {\n        \"dtype\": \"number\",\n        \"std\": 13464.621695339172,\n        \"min\": 638.0,\n        \"max\": 38813.0,\n        \"num_unique_values\": 8,\n        \"samples\": [\n          27759.860501567397,\n          28637.0,\n          638.0\n        ],\n        \"semantic_type\": \"\",\n        \"description\": \"\"\n      }\n    },\n    {\n      \"column\": \"E_INCOME\",\n      \"properties\": {\n        \"dtype\": \"number\",\n        \"std\": 13331.418795000154,\n        \"min\": 638.0,\n        \"max\": 38813.0,\n        \"num_unique_values\": 8,\n        \"samples\": [\n          27663.727272727272,\n          26409.0,\n          638.0\n        ],\n        \"semantic_type\": \"\",\n        \"description\": \"\"\n      }\n    },\n    {\n      \"column\": \"S_POP\",\n      \"properties\": {\n        \"dtype\": \"number\",\n        \"std\": 3327543.974247559,\n        \"min\": 638.0,\n        \"max\": 9056076.0,\n        \"num_unique_values\": 8,\n        \"samples\": [\n          4557004.487460815,\n          3532657.0,\n          638.0\n        ],\n        \"semantic_type\": \"\",\n        \"description\": \"\"\n      }\n    },\n    {\n      \"column\": \"E_POP\",\n      \"properties\": {\n        \"dtype\": \"number\",\n        \"std\": 2932600.627746271,\n        \"min\": 638.0,\n        \"max\": 9056076.0,\n        \"num_unique_values\": 8,\n        \"samples\": [\n          3194503.0971786836,\n          2195215.0,\n          638.0\n        ],\n        \"semantic_type\": \"\",\n        \"description\": \"\"\n      }\n    },\n    {\n      \"column\": \"DISTANCE\",\n      \"properties\": {\n        \"dtype\": \"number\",\n        \"std\": 807.0157797116948,\n        \"min\": 114.0,\n        \"max\": 2764.0,\n        \"num_unique_values\": 8,\n        \"samples\": [\n          975.653605015674,\n          850.0,\n          638.0\n        ],\n        \"semantic_type\": \"\",\n        \"description\": \"\"\n      }\n    },\n    {\n      \"column\": \"PAX\",\n      \"properties\": {\n        \"dtype\": \"number\",\n        \"std\": 23906.06562129713,\n        \"min\": 638.0,\n        \"max\": 73892.0,\n        \"num_unique_values\": 8,\n        \"samples\": [\n          12782.21473354232,\n          7792.0,\n          638.0\n        ],\n        \"semantic_type\": \"\",\n        \"description\": \"\"\n      }\n    },\n    {\n      \"column\": \"FARE\",\n      \"properties\": {\n        \"dtype\": \"number\",\n        \"std\": 200.81180644260763,\n        \"min\": 42.47,\n        \"max\": 638.0,\n        \"num_unique_values\": 8,\n        \"samples\": [\n          160.87667711598746,\n          144.6,\n          638.0\n        ],\n        \"semantic_type\": \"\",\n        \"description\": \"\"\n      }\n    }\n  ]\n}"
            }
          },
          "metadata": {},
          "execution_count": 5
        }
      ]
    },
    {
      "cell_type": "markdown",
      "source": [
        "총 10개의 수치형 변수에 대해 요약 통계를 확인하였다.\n",
        "\n",
        "FARE의 평균은 160.88, 중앙값은 144.60으로 **우측에 긴 꼬리 분포(Positive Skew)**가 있음.\n",
        "\n",
        "표준편차는 76.02로, 분산이 크고 다양한 요금대가 존재함.\n",
        "\n",
        "PAX(여객 수)의 최대값은 73,892명으로, 다른 평균 값에 비해 매우 높아 이상치 존재 가능성을 시사함."
      ],
      "metadata": {
        "id": "zqq1plHUdSP2"
      }
    },
    {
      "cell_type": "code",
      "source": [
        "# 범주형 변수 고유값과 빈도수 확인\n",
        "categorical_cols = df.select_dtypes(include='object').columns\n",
        "for col in categorical_cols:\n",
        "    print(f\"\\n📌 {col} 고유값 및 빈도수:\")\n",
        "    print(df[col].value_counts())\n"
      ],
      "metadata": {
        "colab": {
          "base_uri": "https://localhost:8080/"
        },
        "id": "QgX3zxCrdfmN",
        "outputId": "6660eef9-32fb-45e2-f239-d56bb860b7cc"
      },
      "execution_count": null,
      "outputs": [
        {
          "output_type": "stream",
          "name": "stdout",
          "text": [
            "\n",
            "📌 S_CODE 고유값 및 빈도수:\n",
            "S_CODE\n",
            "*      454\n",
            "ORD     45\n",
            "MDW     45\n",
            "EWR     30\n",
            "JFK     29\n",
            "LGA     29\n",
            "IAD      3\n",
            "DCA      3\n",
            "Name: count, dtype: int64\n",
            "\n",
            "📌 S_CITY 고유값 및 빈도수:\n",
            "S_CITY\n",
            "Chicago             IL    90\n",
            "New York/Newark     NY    88\n",
            "Atlanta             GA    41\n",
            "Dallas/Fort Worth   TX    36\n",
            "Los Angeles         CA    33\n",
            "Boston              MA    31\n",
            "Las Vegas           NV    26\n",
            "Detroit             MI    22\n",
            "Denver              CO    22\n",
            "Houston             TX    20\n",
            "Orlando             FL    15\n",
            "Phoenix             AZ    15\n",
            "Seattle/Tacoma      WA    12\n",
            "Minneapolis/St Paul MN    12\n",
            "Miami               FL    11\n",
            "Fort Lauderdale     FL    11\n",
            "Kansas City         MO    11\n",
            "Austin              TX    10\n",
            "Cleveland           OH    10\n",
            "Columbus            OH    10\n",
            "San Diego           CA     9\n",
            "Albuquerque         NM     9\n",
            "San Francisco       CA     8\n",
            "Burbank             CA     7\n",
            "New Orleans         LA     7\n",
            "Cincinnati          OH     6\n",
            "Philadelphia/Camden PA     6\n",
            "Oakland             CA     6\n",
            "Washington          DC     6\n",
            "Hartford            CT     5\n",
            "St Louis            MO     4\n",
            "Fort Meyers         FL     4\n",
            "Tampa               FL     4\n",
            "Greenville/Sprtnbg  SC     3\n",
            "Norfolk/Va B/Pt/Ch  VA     3\n",
            "Jacksonville        FL     3\n",
            "Memphis             TN     3\n",
            "Baltimore/Wash Intl MD     2\n",
            "Salt Lake City      UT     2\n",
            "Sacramento          CA     2\n",
            "Corpus Christi      TX     2\n",
            "San Jose            CA     2\n",
            "Nashville           TN     1\n",
            "Omaha               NE     1\n",
            "El Paso             TX     1\n",
            "Honolulu (Intl)     HI     1\n",
            "Boise               ID     1\n",
            "Spokane             WA     1\n",
            "Portland            OR     1\n",
            "Anchorage           AK     1\n",
            "Pittsburgh          PA     1\n",
            "Name: count, dtype: int64\n",
            "\n",
            "📌 E_CODE 고유값 및 빈도수:\n",
            "E_CODE\n",
            "*      501\n",
            "DCA     27\n",
            "IAD     27\n",
            "JFK     25\n",
            "EWR     25\n",
            "LGA     25\n",
            "MDW      4\n",
            "ORD      4\n",
            "Name: count, dtype: int64\n",
            "\n",
            "📌 E_CITY 고유값 및 빈도수:\n",
            "E_CITY\n",
            "New York/Newark     NY    75\n",
            "Washington          DC    54\n",
            "Phoenix             AZ    25\n",
            "Baltimore/Wash Intl MD    23\n",
            "Orlando             FL    23\n",
            "                          ..\n",
            "El Paso             TX     1\n",
            "Cincinnati          OH     1\n",
            "Boston              MA     1\n",
            "Spokane             WA     1\n",
            "Tallahassee         FL     1\n",
            "Name: count, Length: 68, dtype: int64\n",
            "\n",
            "📌 VACATION 고유값 및 빈도수:\n",
            "VACATION\n",
            "No     468\n",
            "Yes    170\n",
            "Name: count, dtype: int64\n",
            "\n",
            "📌 SW 고유값 및 빈도수:\n",
            "SW\n",
            "No     444\n",
            "Yes    194\n",
            "Name: count, dtype: int64\n",
            "\n",
            "📌 SLOT 고유값 및 빈도수:\n",
            "SLOT\n",
            "Free          456\n",
            "Controlled    182\n",
            "Name: count, dtype: int64\n",
            "\n",
            "📌 GATE 고유값 및 빈도수:\n",
            "GATE\n",
            "Free           514\n",
            "Constrained    124\n",
            "Name: count, dtype: int64\n"
          ]
        }
      ]
    },
    {
      "cell_type": "markdown",
      "source": [
        "VACATION: No가 468건으로 대부분, Yes는 170건으로 소수\n",
        "\n",
        "SW: No가 444건, Yes가 194건\n",
        "\n",
        "S_CITY, E_CITY: 출발지는 51개 도시, 도착지는 68개 도시로 다양한 항공편 조합을 가짐\n",
        "\n",
        "SLOT, GATE: Free, Controlled로 나뉘며, Free가 각각 456건, 514건으로 많음"
      ],
      "metadata": {
        "id": "9fL2YTfLd53B"
      }
    },
    {
      "cell_type": "code",
      "source": [
        "# 결측치 개수 및 비율 확인\n",
        "missing = df.isnull().sum()\n",
        "missing_ratio = (missing / len(df)) * 100\n",
        "missing_df = pd.DataFrame({'Missing Count': missing, 'Missing Ratio (%)': missing_ratio})\n",
        "print(missing_df)\n"
      ],
      "metadata": {
        "colab": {
          "base_uri": "https://localhost:8080/"
        },
        "id": "qAJCE_YYd8kQ",
        "outputId": "43e62025-f8f4-43b0-d49b-eca309a28be9"
      },
      "execution_count": null,
      "outputs": [
        {
          "output_type": "stream",
          "name": "stdout",
          "text": [
            "          Missing Count  Missing Ratio (%)\n",
            "S_CODE                0                0.0\n",
            "S_CITY                0                0.0\n",
            "E_CODE                0                0.0\n",
            "E_CITY                0                0.0\n",
            "COUPON                0                0.0\n",
            "NEW                   0                0.0\n",
            "VACATION              0                0.0\n",
            "SW                    0                0.0\n",
            "HI                    0                0.0\n",
            "S_INCOME              0                0.0\n",
            "E_INCOME              0                0.0\n",
            "S_POP                 0                0.0\n",
            "E_POP                 0                0.0\n",
            "SLOT                  0                0.0\n",
            "GATE                  0                0.0\n",
            "DISTANCE              0                0.0\n",
            "PAX                   0                0.0\n",
            "FARE                  0                0.0\n"
          ]
        }
      ]
    },
    {
      "cell_type": "markdown",
      "source": [
        "모든 변수에서 결측치는 0건이며, Missing Ratio(%) = 0.0\n",
        "\n",
        "추가적인 결측치 처리나 보간은 불필요하며, 데이터 품질이 우수함"
      ],
      "metadata": {
        "id": "FJ1yDaRbeAZo"
      }
    },
    {
      "cell_type": "code",
      "source": [
        "import matplotlib.pyplot as plt\n",
        "\n",
        "# 히스토그램\n",
        "df.hist(bins=30, figsize=(15, 10))\n",
        "plt.tight_layout()\n",
        "plt.show()\n",
        "\n",
        "# 박스플롯\n",
        "df.plot(kind='box', subplots=True, layout=(4, 3), figsize=(15, 10), sharex=False)\n",
        "plt.tight_layout()\n",
        "plt.show()\n"
      ],
      "metadata": {
        "colab": {
          "base_uri": "https://localhost:8080/",
          "height": 1000
        },
        "id": "nUT_eo5aeBFG",
        "outputId": "8488ae7f-243f-46ff-9d3b-d43c62fb9ee8"
      },
      "execution_count": null,
      "outputs": [
        {
          "output_type": "display_data",
          "data": {
            "text/plain": [
              "<Figure size 1500x1000 with 12 Axes>"
            ],
            "image/png": "[encoded data removed]"
          },
          "metadata": {}
        },
        {
          "output_type": "display_data",
          "data": {
            "text/plain": [
              "<Figure size 1500x1000 with 12 Axes>"
            ],
            "image/png": "[encoded data removed]"
          },
          "metadata": {}
        }
      ]
    },
    {
      "cell_type": "markdown",
      "source": [
        "FARE, HI, PAX 등 일부 변수에서 길게 뻗은 꼬리와 이상치 점들이 확인됨\n",
        "\n",
        "특히 PAX는 7만 명을 초과하는 극단값으로, 스케일 조정이나 이상치 제거 필요성 존재\n",
        "\n",
        "HI는 최대 10,000 이상으로 극단적으로 높은 값이 분포되어 있음"
      ],
      "metadata": {
        "id": "JSWgEyHEeFQD"
      }
    },
    {
      "cell_type": "code",
      "source": [
        "import seaborn as sns\n",
        "\n",
        "# 타겟 변수 시각화\n",
        "plt.figure(figsize=(8, 5))\n",
        "sns.histplot(df['FARE'], bins=30, kde=True)\n",
        "plt.title(\"Distribution of FARE\")\n",
        "plt.xlabel(\"FARE\")\n",
        "plt.ylabel(\"Frequency\")\n",
        "plt.grid(True)\n",
        "plt.tight_layout()\n",
        "plt.show()\n"
      ],
      "metadata": {
        "colab": {
          "base_uri": "https://localhost:8080/",
          "height": 507
        },
        "id": "gYlK1wk9eLyy",
        "outputId": "bc963c7f-bdb7-4a2d-ffe6-707960830c44"
      },
      "execution_count": null,
      "outputs": [
        {
          "output_type": "display_data",
          "data": {
            "text/plain": [
              "<Figure size 800x500 with 1 Axes>"
            ],
            "image/png": "[encoded data removed]"
          },
          "metadata": {}
        }
      ]
    },
    {
      "cell_type": "markdown",
      "source": [
        "\n",
        "FARE 분포는 정규분포가 아닌 비대칭 분포이며, 오른쪽 꼬리가 긴 분포를 보임\n",
        "\n",
        "평균보다 높은 고가 항공 요금이 일부 존재하며, 예측 모델의 정밀도를 위해 로그 변환 등의 정규화가 필요할 수 있음\n",
        "\n",
        "KDE곡선으로 보면 대부분의 요금은 100~200달러에 집중되어 있음"
      ],
      "metadata": {
        "id": "F5DrpgHBeP29"
      }
    },
    {
      "cell_type": "markdown",
      "source": [
        "왜도(Skewness) 결과, AMOUNT, DURATION, AGE 변수는 모두 **양의 왜도(> 0)**를 보였다.\n",
        "\n",
        "특히 AMOUNT는 왜도가 약 1.95로 오른쪽 꼬리가 길게 분포된 비대칭 형태임을 나타낸다.\n",
        "\n",
        "이는 고액 대출 사례가 소수 존재함을 의미하며, 로그 변환 등의 정규화가 필요할 수 있다.\n",
        "\n",
        "\n",
        "첨도(Kurtosis) 결과, AMOUNT는 첨도가 5.7로 **뾰족한 분포(Leptokurtic)**이며,\n",
        "이는 평균 부근에 많은 값이 몰려 있고, 동시에 극단값(이상치)도 존재함을 의미한다.\n",
        "\n",
        "반면 AGE, DURATION 등은 첨도가 3에 가까워 정규분포에 비교적 유사한 형태를 보인다."
      ],
      "metadata": {
        "id": "cTpaaZ6ogrs-"
      }
    },
    {
      "cell_type": "markdown",
      "source": [
        "-----------------------------------------------------------------------------\n",
        "\n",
        "\n",
        "여기까지가 기존 데이터셋 Phase 1 프로젝트 준비 및 탐색이었고 밑으로는 교수님께서 새로 주신 변경된 데이터셋 Phase 1 입니다!!"
      ],
      "metadata": {
        "id": "O4m7HrIB7eqx"
      }
    },
    {
      "cell_type": "markdown",
      "source": [
        "# 2. 변경된 데이터셋 Phase 1 -프로젝트 준비 및 탐색\n",
        "\n",
        "\n",
        "\n",
        "# 신규노선 항공운임예측\n",
        "\n",
        "\n",
        "# **1. 프로젝트 정의 및 목표 설정**"
      ],
      "metadata": {
        "id": "6fVbmX9Q7Cq2"
      }
    },
    {
      "cell_type": "markdown",
      "source": [
        "📌 문제 정의\n",
        "\n",
        "항공 요금 예측 정확도를 개선하기 위해, 기존 모델에 더해 K-NN, 랜덤 포레스트 등의 추가 모델을 구축하고, 성능 비교를 통해 최적 모델을 탐색한다. 이를 통해 소비자 및 항공사의 합리적 의사결정을 지원할 수 있는 예측 시스템을 고도화한다.\n",
        "\n",
        "\n",
        "\n",
        "🧾 데이터 정의\n",
        "\n",
        "사용 데이터: 수정된 Airfares_simple_garbled.csv\n",
        "\n",
        "\n",
        "전처리 사항:\n",
        "\n",
        "결측치 존재 여부 확인 및 제거\n",
        "\n",
        "이상치 탐지 (예: 음수 Amount) 및 처리\n",
        "\n",
        "문자열 비일관성 (예: 대소문자 혼용, 공백 포함)을 통일\n",
        "\n",
        "범위 오류 (불가능한 값) 확인 및 수정\n",
        "\n",
        "\n",
        "\n",
        "🎯 성공 지표\n",
        "\n",
        "모델 예측 정확도: RMSE (Root Mean Squared Error), MAE (Mean Absolute Error)\n",
        "\n",
        "모델 성능 비교를 통해 기존 모델 대비 예측력 향상 여부를 검증\n",
        "\n",
        "과적합 여부를 고려한 일반화 성능 (검증셋 기준)\n",
        "\n",
        "\n",
        "\n",
        "💡 기대 효과 및 제약 조건\n",
        "\n",
        "기대 효과:\n",
        "\n",
        "\n",
        "다양한 모델 비교를 통한 최적 예측모델 도출\n",
        "\n",
        "데이터 정제에 기반한 신뢰도 높은 분석 결과 확보\n",
        "\n",
        "항공 요금 정책 또는 소비자 의사결정에 유용한 인사이트 제공\n",
        "\n",
        "\n",
        "\n",
        "제약 조건:\n",
        "\n",
        "이상치·결측치 수정 과정에서 정보 손실 발생 가능\n",
        "\n",
        "고차원 특성을 고려하지 않는 경우 일부 모델에서 성능 저하 가능성\n",
        "\n",
        "데이터 출처와 구성상, 실제 시장의 복잡성을 완전 반영하기는 어려움"
      ],
      "metadata": {
        "id": "3OwqDHACXIlK"
      }
    },
    {
      "cell_type": "markdown",
      "source": [
        "# **2. 데이터 수집 및 로드**"
      ],
      "metadata": {
        "id": "ftzxqt919Nxe"
      }
    },
    {
      "cell_type": "code",
      "source": [
        "#수정된 데이터 파일 불러오기\n",
        "from google. colab import files\n",
        "uploaded=files.upload()"
      ],
      "metadata": {
        "colab": {
          "base_uri": "https://localhost:8080/",
          "height": 42
        },
        "id": "P9MixSdHXXMB",
        "outputId": "b3c0bed7-01dc-4fff-bfc2-eb1a4ebe474c"
      },
      "execution_count": null,
      "outputs": [
        {
          "output_type": "display_data",
          "data": {
            "text/plain": [
              "<IPython.core.display.HTML object>"
            ],
            "text/html": [
              "\n",
              "     <input type=\"file\" id=\"files-7dd8c981-0b97-4c94-aea6-b5cdb85d7d1e\" name=\"files[]\" multiple disabled\n",
              "        style=\"border:none\" />\n",
              "     <output id=\"result-7dd8c981-0b97-4c94-aea6-b5cdb85d7d1e\">\n",
              "      Upload widget is only available when the cell has been executed in the\n",
              "      current browser session. Please rerun this cell to enable.\n",
              "      </output>\n",
              "      <script>// Copyright 2017 Google LLC\n",
              "//\n",
              "// Licensed under the Apache License, Version 2.0 (the \"License\");\n",
              "// you may not use this file except in compliance with the License.\n",
              "// You may obtain a copy of the License at\n",
              "//\n",
              "//      http://www.apache.org/licenses/LICENSE-2.0\n",
              "//\n",
              "// Unless required by applicable law or agreed to in writing, software\n",
              "// distributed under the License is distributed on an \"AS IS\" BASIS,\n",
              "// WITHOUT WARRANTIES OR CONDITIONS OF ANY KIND, either express or implied.\n",
              "// See the License for the specific language governing permissions and\n",
              "// limitations under the License.\n",
              "\n",
              "/**\n",
              " * @fileoverview Helpers for google.colab Python module.\n",
              " */\n",
              "(function(scope) {\n",
              "function span(text, styleAttributes = {}) {\n",
              "  const element = document.createElement('span');\n",
              "  element.textContent = text;\n",
              "  for (const key of Object.keys(styleAttributes)) {\n",
              "    element.style[key] = styleAttributes[key];\n",
              "  }\n",
              "  return element;\n",
              "}\n",
              "\n",
              "// Max number of bytes which will be uploaded at a time.\n",
              "const MAX_PAYLOAD_SIZE = 100 * 1024;\n",
              "\n",
              "function _uploadFiles(inputId, outputId) {\n",
              "  const steps = uploadFilesStep(inputId, outputId);\n",
              "  const outputElement = document.getElementById(outputId);\n",
              "  // Cache steps on the outputElement to make it available for the next call\n",
              "  // to uploadFilesContinue from Python.\n",
              "  outputElement.steps = steps;\n",
              "\n",
              "  return _uploadFilesContinue(outputId);\n",
              "}\n",
              "\n",
              "// This is roughly an async generator (not supported in the browser yet),\n",
              "// where there are multiple asynchronous steps and the Python side is going\n",
              "// to poll for completion of each step.\n",
              "// This uses a Promise to block the python side on completion of each step,\n",
              "// then passes the result of the previous step as the input to the next step.\n",
              "function _uploadFilesContinue(outputId) {\n",
              "  const outputElement = document.getElementById(outputId);\n",
              "  const steps = outputElement.steps;\n",
              "\n",
              "  const next = steps.next(outputElement.lastPromiseValue);\n",
              "  return Promise.resolve(next.value.promise).then((value) => {\n",
              "    // Cache the last promise value to make it available to the next\n",
              "    // step of the generator.\n",
              "    outputElement.lastPromiseValue = value;\n",
              "    return next.value.response;\n",
              "  });\n",
              "}\n",
              "\n",
              "/**\n",
              " * Generator function which is called between each async step of the upload\n",
              " * process.\n",
              " * @param {string} inputId Element ID of the input file picker element.\n",
              " * @param {string} outputId Element ID of the output display.\n",
              " * @return {!Iterable<!Object>} Iterable of next steps.\n",
              " */\n",
              "function* uploadFilesStep(inputId, outputId) {\n",
              "  const inputElement = document.getElementById(inputId);\n",
              "  inputElement.disabled = false;\n",
              "\n",
              "  const outputElement = document.getElementById(outputId);\n",
              "  outputElement.innerHTML = '';\n",
              "\n",
              "  const pickedPromise = new Promise((resolve) => {\n",
              "    inputElement.addEventListener('change', (e) => {\n",
              "      resolve(e.target.files);\n",
              "    });\n",
              "  });\n",
              "\n",
              "  const cancel = document.createElement('button');\n",
              "  inputElement.parentElement.appendChild(cancel);\n",
              "  cancel.textContent = 'Cancel upload';\n",
              "  const cancelPromise = new Promise((resolve) => {\n",
              "    cancel.onclick = () => {\n",
              "      resolve(null);\n",
              "    };\n",
              "  });\n",
              "\n",
              "  // Wait for the user to pick the files.\n",
              "  const files = yield {\n",
              "    promise: Promise.race([pickedPromise, cancelPromise]),\n",
              "    response: {\n",
              "      action: 'starting',\n",
              "    }\n",
              "  };\n",
              "\n",
              "  cancel.remove();\n",
              "\n",
              "  // Disable the input element since further picks are not allowed.\n",
              "  inputElement.disabled = true;\n",
              "\n",
              "  if (!files) {\n",
              "    return {\n",
              "      response: {\n",
              "        action: 'complete',\n",
              "      }\n",
              "    };\n",
              "  }\n",
              "\n",
              "  for (const file of files) {\n",
              "    const li = document.createElement('li');\n",
              "    li.append(span(file.name, {fontWeight: 'bold'}));\n",
              "    li.append(span(\n",
              "        `(${file.type || 'n/a'}) - ${file.size} bytes, ` +\n",
              "        `last modified: ${\n",
              "            file.lastModifiedDate ? file.lastModifiedDate.toLocaleDateString() :\n",
              "                                    'n/a'} - `));\n",
              "    const percent = span('0% done');\n",
              "    li.appendChild(percent);\n",
              "\n",
              "    outputElement.appendChild(li);\n",
              "\n",
              "    const fileDataPromise = new Promise((resolve) => {\n",
              "      const reader = new FileReader();\n",
              "      reader.onload = (e) => {\n",
              "        resolve(e.target.result);\n",
              "      };\n",
              "      reader.readAsArrayBuffer(file);\n",
              "    });\n",
              "    // Wait for the data to be ready.\n",
              "    let fileData = yield {\n",
              "      promise: fileDataPromise,\n",
              "      response: {\n",
              "        action: 'continue',\n",
              "      }\n",
              "    };\n",
              "\n",
              "    // Use a chunked sending to avoid message size limits. See b/62115660.\n",
              "    let position = 0;\n",
              "    do {\n",
              "      const length = Math.min(fileData.byteLength - position, MAX_PAYLOAD_SIZE);\n",
              "      const chunk = new Uint8Array(fileData, position, length);\n",
              "      position += length;\n",
              "\n",
              "      const base64 = btoa(String.fromCharCode.apply(null, chunk));\n",
              "      yield {\n",
              "        response: {\n",
              "          action: 'append',\n",
              "          file: file.name,\n",
              "          data: base64,\n",
              "        },\n",
              "      };\n",
              "\n",
              "      let percentDone = fileData.byteLength === 0 ?\n",
              "          100 :\n",
              "          Math.round((position / fileData.byteLength) * 100);\n",
              "      percent.textContent = `${percentDone}% done`;\n",
              "\n",
              "    } while (position < fileData.byteLength);\n",
              "  }\n",
              "\n",
              "  // All done.\n",
              "  yield {\n",
              "    response: {\n",
              "      action: 'complete',\n",
              "    }\n",
              "  };\n",
              "}\n",
              "\n",
              "scope.google = scope.google || {};\n",
              "scope.google.colab = scope.google.colab || {};\n",
              "scope.google.colab._files = {\n",
              "  _uploadFiles,\n",
              "  _uploadFilesContinue,\n",
              "};\n",
              "})(self);\n",
              "</script> "
            ]
          },
          "metadata": {}
        }
      ]
    },
    {
      "cell_type": "code",
      "source": [
        "#기존 데이터 파일도 다시 불러옴\n",
        "from google. colab import files\n",
        "uploaded=files.upload()"
      ],
      "metadata": {
        "id": "-_t3jZkeZ2Tv"
      },
      "execution_count": null,
      "outputs": []
    },
    {
      "cell_type": "code",
      "source": [
        "import pandas as pd\n",
        "# 수정된 데이터셋 변수\n",
        "df2 = pd.read_csv(\"Airfares_simple_garbled.csv\")\n",
        "\n",
        "# 원본 데이터셋 변수\n",
        "df = pd.read_csv('Airfares.csv')"
      ],
      "metadata": {
        "id": "7-mCgrabXmqX"
      },
      "execution_count": null,
      "outputs": []
    },
    {
      "cell_type": "markdown",
      "source": [
        "# **3.\t데이터 탐색 (Exploratory Data Analysis - EDA) - Part 1: 기초 탐색**"
      ],
      "metadata": {
        "id": "hzA3HYB09i0l"
      }
    },
    {
      "cell_type": "code",
      "source": [
        "# ✅ 수치형 데이터 기술 통계량 확인\n",
        "df2.describe()\n"
      ],
      "metadata": {
        "id": "2S7fkuOQ9qnn"
      },
      "execution_count": null,
      "outputs": []
    },
    {
      "cell_type": "markdown",
      "source": [
        "FARE 변수는 평균 약 158, 최소값은 -234, 최대값은 402로 나타났으며, 음수 운임이 존재해 데이터 오류 가능성이 있다.\n",
        "\n",
        "DISTANCE와 PAX도 최대값 기준으로 이상치가 포함되어 있을 수 있다."
      ],
      "metadata": {
        "id": "m4XmiPFF9xCT"
      }
    },
    {
      "cell_type": "code",
      "source": [
        "# ✅ 범주형 변수: 고유값 및 빈도수 확인\n",
        "categorical_cols = df2.select_dtypes(include='object').columns\n",
        "for col in categorical_cols:\n",
        "    print(f\"\\n📌 {col} (고유값 {df2[col].nunique()}개)\")\n",
        "    print(df2[col].value_counts())\n"
      ],
      "metadata": {
        "id": "Zfvc6QnR9z4i"
      },
      "execution_count": null,
      "outputs": []
    },
    {
      "cell_type": "markdown",
      "source": [
        "SW, VACATION, SLOT, GATE 등의 변수는 각각 2~3개의 고유값으로 구성되어 있었으며, 일부 변수(VACATION)는 대소문자 불일치로 값이 나뉘어 있는 것으로 보였다."
      ],
      "metadata": {
        "id": "XFoUl1Th93ah"
      }
    },
    {
      "cell_type": "code",
      "source": [
        "# 1. 결측치 찾기\n",
        "missing_counts = df2.isnull().sum()\n",
        "missing_cols = missing_counts[missing_counts > 0]\n",
        "\n",
        "print(\"=== 1. 결측치 (Missing Values) ===\")\n",
        "print(missing_cols, \"\\n\")\n"
      ],
      "metadata": {
        "id": "7aEoRhcwaSos"
      },
      "execution_count": null,
      "outputs": []
    },
    {
      "cell_type": "markdown",
      "source": [
        "S_INCOME, E_INCOME, DISTANCE, PAX에서 결측치가 확인되었으며, 각각 약 4~5% 정도의 비율을 차지한다."
      ],
      "metadata": {
        "id": "0TkOFddM98WJ"
      }
    },
    {
      "cell_type": "code",
      "source": [
        "# 2. 문자열 공백(Whitespace) 찾기\n",
        "print(\"=== 2. 문자열 공백(Whitespace) 문제 ===\")\n",
        "whitespace_issues = {}  # 공백 발생한 값 담을 딕셔너리\n",
        "\n",
        "for col in df2.select_dtypes(include='object').columns:  # 문자열 컬럼만 골라서\n",
        "    mask = df2[col].apply(lambda x: isinstance(x, str) and (x != x.strip()))  # 공백이 있는 값 탐지\n",
        "    if mask.any():  # 공백이 존재한다면\n",
        "        whitespace_issues[col] = df2.loc[mask, col]\n",
        "        print(f\"\\nColumn: {col}\")\n",
        "        print(df2.loc[mask, col])\n"
      ],
      "metadata": {
        "id": "ZPCAkKpYbunx"
      },
      "execution_count": null,
      "outputs": []
    },
    {
      "cell_type": "code",
      "source": [
        "# 앞 뒤로 공백있는 문자열 공백값 존재 예시 출력\n",
        "\n",
        "df['E_CITY'][36]"
      ],
      "metadata": {
        "id": "0QaUiISPbYay"
      },
      "execution_count": null,
      "outputs": []
    },
    {
      "cell_type": "code",
      "source": [
        "# 3. 대소문자 불일치(Case Inconsistency) 찾기\n",
        "print(\"\\n=== 3. 대소문자 불일치(Case Inconsistency) ===\")\n",
        "case_issues = {}\n",
        "\n",
        "for col in df2.select_dtypes(include='object').columns:  # 문자열 타입 컬럼만 탐색\n",
        "    vals = df2[col].dropna().astype(str)                 # 결측치 제거 후 문자열 변환\n",
        "    lower_vals = vals.str.lower()                        # 모두 소문자로 변환\n",
        "    unique_lower = lower_vals.unique()                   # 소문자 기준 유니크 값 추출\n",
        "\n",
        "    for base in unique_lower:\n",
        "        variants = sorted(vals[lower_vals == base].unique())\n",
        "        if len(variants) > 1:  # 대소문자 차이가 존재함\n",
        "            if col not in case_issues:\n",
        "                case_issues[col] = {}\n",
        "            case_issues[col][base] = variants\n",
        "\n",
        "    if col in case_issues:\n",
        "        print(f\"\\nColumn: {col}\")\n",
        "        for base, variants in case_issues[col].items():\n",
        "            print(f\"  Base ('{base}') -> Variants: {variants}\")\n"
      ],
      "metadata": {
        "id": "X5a15f8UcFkn"
      },
      "execution_count": null,
      "outputs": []
    },
    {
      "cell_type": "code",
      "source": [
        "# 4. 수치형 이상치(Outlier) 찾기 (원본 IQR 기준)\n",
        "print(\"\\n=== 4. 수치형 이상치 (Outliers) ===\")\n",
        "outlier_indices = {}\n",
        "\n",
        "for col in df2.select_dtypes(include=['int64', 'float64']).columns:  # 수정된 데이터에서 수치형 컬럼 탐색\n",
        "    o_col = df[col]  # 원본 데이터의 해당 컬럼 사용\n",
        "    Q1 = o_col.quantile(0.25)\n",
        "    Q3 = o_col.quantile(0.75)\n",
        "    IQR = Q3 - Q1\n",
        "    lower = Q1 - 1.5 * IQR\n",
        "    upper = Q3 + 1.5 * IQR\n",
        "\n",
        "    g_col = pd.to_numeric(df2[col], errors='coerce')  # 수정된 데이터에서 숫자로 강제 변환\n",
        "    mask = (g_col < lower) | (g_col > upper)\n",
        "\n",
        "    if mask.any():\n",
        "        outlier_indices[col] = df2.index[mask].tolist()\n",
        "        print(f\"\\nColumn: {col} - {len(outlier_indices[col])}개 이상치 발견\")\n",
        "        print(df2.loc[outlier_indices[col][:5], [col]].to_string(index=True))\n"
      ],
      "metadata": {
        "id": "q06MD26kcRwi"
      },
      "execution_count": null,
      "outputs": []
    },
    {
      "cell_type": "code",
      "source": [
        "# 5. 음수 값(Negative Values) 찾기 => 범위오류 (불가능한 값)\n",
        "print(\"\\n=== 5. 음수 값 (Negative Values) ===\")\n",
        "negative_indices = {}\n",
        "\n",
        "for col in df2.select_dtypes(include=['int64', 'float64']).columns:  # 수정된 데이터에서 수치형 컬럼 탐색\n",
        "    g_col = pd.to_numeric(df2[col], errors='coerce')  # 숫자로 강제 변환\n",
        "    neg_mask = g_col < 0  # 음수인 값만 추출\n",
        "    if neg_mask.any():\n",
        "        negative_indices[col] = df2.index[neg_mask].tolist()\n",
        "        print(f\"\\nColumn: {col} - {len(negative_indices[col])}개 음수 값 발견\")\n",
        "        print(df2.loc[negative_indices[col][:5], [col]].to_string(index=True))\n"
      ],
      "metadata": {
        "id": "8nYP-h1PcY6J"
      },
      "execution_count": null,
      "outputs": []
    },
    {
      "cell_type": "code",
      "source": [
        "# ✅ 이상치 탐색: 히스토그램 + 박스플롯 (대표 수치형 변수)\n",
        "import matplotlib.pyplot as plt\n",
        "import seaborn as sns\n",
        "\n",
        "sns.histplot(df2['FARE'], bins=40, kde=True)\n",
        "plt.title(\"FARE 분포 (히스토그램 + KDE)\")\n",
        "plt.xlabel(\"FARE\")\n",
        "plt.show()\n",
        "\n",
        "sns.boxplot(x=df2['FARE'])\n",
        "plt.title(\"FARE 박스플롯\")\n",
        "plt.show()\n"
      ],
      "metadata": {
        "id": "gXGZhK269-c-"
      },
      "execution_count": null,
      "outputs": []
    },
    {
      "cell_type": "markdown",
      "source": [
        "FARE 값은 주로 50~250 사이에 분포하며, 음수 값과 400 이상 값은 드물게 존재한다. 박스플롯에서도 극단값이 다수 존재함을 확인할 수 있다."
      ],
      "metadata": {
        "id": "zRfoPndv-dh-"
      }
    },
    {
      "cell_type": "code",
      "source": [
        "# ✅ 왜도 / 첨도 확인\n",
        "print(\"Skewness (왜도):\", df2['FARE'].skew())\n",
        "print(\"Kurtosis (첨도):\", df2['FARE'].kurt())\n"
      ],
      "metadata": {
        "id": "q1RB-2bc-fd-"
      },
      "execution_count": null,
      "outputs": []
    },
    {
      "cell_type": "markdown",
      "source": [
        "FARE의 왜도는 약 0.5 이상으로, 오른쪽으로 긴 꼬리를 가진 비대칭 분포이며, 첨도는 1 이상으로 다소 뾰족한 형태를 보였다."
      ],
      "metadata": {
        "id": "ekKla_Xf-h9u"
      }
    },
    {
      "cell_type": "markdown",
      "source": [
        "대부분 변수의 평균값과 중앙값 차이는 크지 않으며, 이상값 없이 범위가 일정한 변수들이 많다.\n",
        "\n",
        "\n",
        "AMOUNT 변수는 평균 약 3,200, 최대값은 18,424로 나타났고, AGE는 최대 75세까지 존재한다."
      ],
      "metadata": {
        "id": "stoUdu-gAQrV"
      }
    },
    {
      "cell_type": "markdown",
      "source": [
        "# 변수 유형 분리 및 분포 확인"
      ],
      "metadata": {
        "id": "eII3ym8M5v21"
      }
    },
    {
      "cell_type": "code",
      "source": [
        "# ✅ 1. 필수 라이브러리 불러오기\n",
        "import pandas as pd\n",
        "import numpy as np\n",
        "import matplotlib.pyplot as plt\n",
        "import seaborn as sns\n",
        "from sklearn.impute import SimpleImputer\n",
        "from sklearn.preprocessing import OneHotEncoder, StandardScaler"
      ],
      "metadata": {
        "id": "p9Ju7wLx8oQ0"
      },
      "execution_count": null,
      "outputs": []
    },
    {
      "cell_type": "code",
      "source": [
        "# 원본 데이터셋 변수\n",
        "df = pd.read_csv('Airfares.csv')"
      ],
      "metadata": {
        "id": "PgrvtX6U9F9N"
      },
      "execution_count": null,
      "outputs": []
    },
    {
      "cell_type": "code",
      "execution_count": null,
      "metadata": {
        "id": "-XFBW4t0wTPo"
      },
      "outputs": [],
      "source": [
        "# 수정된 데이터셋 변수\n",
        "df2 = pd.read_csv(\"Airfares_simple_garbled.csv\")"
      ]
    },
    {
      "cell_type": "code",
      "source": [
        "# ✅ 4. 변수 분리 및 초기 설정\n",
        "TARGET_COLUMN = 'FARE'  # 예측 목표 변수\n",
        "numeric_cols = df2.select_dtypes(include=[np.number]).columns.tolist()  # 수치형 변수 자동 추출\n",
        "categorical_cols = df2.select_dtypes(include='object').columns.tolist()  # 범주형 변수 자동 추출\n",
        "numeric_cols.remove(TARGET_COLUMN)  # 타겟 변수는 제외"
      ],
      "metadata": {
        "id": "reiYf7AKwcw-"
      },
      "execution_count": null,
      "outputs": []
    },
    {
      "cell_type": "code",
      "source": [
        "# ✅ 대표 수치형 변수 분포 시각화 (처음 4개)\n",
        "# 히스토그램 + KDE로 분포 확인 / 박스플롯으로 이상치 확인\n",
        "sample_numeric = numeric_cols[:4]\n",
        "for col in sample_numeric:\n",
        "    fig, axes = plt.subplots(1, 2, figsize=(14, 5))\n",
        "    sns.histplot(df2[col], kde=True, ax=axes[0])\n",
        "    axes[0].set_title(f'{col} Distribution')  # 분포 확인용\n",
        "    sns.boxplot(x=df2[col], ax=axes[1])\n",
        "    axes[1].set_title(f'{col} Boxplot')  # 이상치 확인용\n",
        "    plt.tight_layout()\n",
        "    plt.show()"
      ],
      "metadata": {
        "id": "FeIOYAv-wc7q",
        "collapsed": true
      },
      "execution_count": null,
      "outputs": []
    },
    {
      "cell_type": "code",
      "source": [
        "# ✅ 대표 범주형 변수 빈도수 시각화 (처음 4개, 가로 막대)\n",
        "# 각 범주형 변수의 값 분포를 파악하여 데이터 불균형 여부 확인\n",
        "sample_categorical = categorical_cols[:4]\n",
        "for col in sample_categorical:\n",
        "    plt.figure(figsize=(10, 8))\n",
        "    order = df2[col].value_counts().index  # 값 많은 순서대로 정렬\n",
        "    sns.countplot(data=df2, y=col, order=order)\n",
        "    plt.title(f'{col} Value Counts')  # 범주 빈도 시각화\n",
        "    plt.tight_layout()\n",
        "    plt.show()"
      ],
      "metadata": {
        "id": "yHqko6zBwdD-",
        "collapsed": true
      },
      "execution_count": null,
      "outputs": []
    },
    {
      "cell_type": "markdown",
      "source": [
        "# 변수 간 관계분석(타겟 변수 중심)"
      ],
      "metadata": {
        "id": "NqeJpJuk5-KA"
      }
    },
    {
      "cell_type": "code",
      "source": [
        "# ✅ 수치형 변수 vs 타겟 변수 관계 시각화 (산점도 + 회귀선)\n",
        "# 회귀선을 통해 선형적 관계 여부를 시각적으로 확인\n",
        "for col in sample_numeric:\n",
        "    plt.figure(figsize=(8, 6))\n",
        "    sns.regplot(x=df2[col], y=df2[TARGET_COLUMN], line_kws={\"color\": \"red\"})\n",
        "    plt.title(f'{col} vs {TARGET_COLUMN}')\n",
        "    plt.tight_layout()\n",
        "    plt.show()"
      ],
      "metadata": {
        "id": "tsOEIra0wdd2",
        "collapsed": true
      },
      "execution_count": null,
      "outputs": []
    },
    {
      "cell_type": "code",
      "source": [
        "# ✅ 범주형 변수별 타겟 평균 시각화 (바 차트)\n",
        "# 각 범주에 따라 요금 평균이 어떻게 달라지는지 시각화\n",
        "for col in sample_categorical:\n",
        "    plt.figure(figsize=(10, 10))\n",
        "    category_means = df2.groupby(col)[TARGET_COLUMN].mean().sort_values(ascending=False)\n",
        "    sns.barplot(y=category_means.index, x=category_means.values)\n",
        "    plt.title(f'{col} vs Mean {TARGET_COLUMN}')  # 평균 요금 비교\n",
        "    plt.xlabel(f'Mean {TARGET_COLUMN}')\n",
        "    plt.ylabel(col)\n",
        "    plt.tight_layout()\n",
        "    plt.show()"
      ],
      "metadata": {
        "id": "y-t8-nmUwdof",
        "collapsed": true
      },
      "execution_count": null,
      "outputs": []
    },
    {
      "cell_type": "code",
      "source": [
        "# ✅ 상관관계 히트맵\n",
        "# 수치형 변수들 간의 상관관계를 한 눈에 시각적으로 확인\n",
        "plt.figure(figsize=(12, 10))\n",
        "corr_matrix = df2[numeric_cols + [TARGET_COLUMN]].corr()\n",
        "sns.heatmap(corr_matrix, annot=True, fmt=\".2f\", cmap=\"coolwarm\")\n",
        "plt.title(\"Correlation Matrix\")  # 변수 간 상관관계 분석\n",
        "plt.tight_layout()\n",
        "plt.show()"
      ],
      "metadata": {
        "id": "ETyu8YJTwrMk",
        "collapsed": true
      },
      "execution_count": null,
      "outputs": []
    },
    {
      "cell_type": "markdown",
      "source": [
        "# 수정된 데이터 값 전처리\n",
        " (결측치, 이상치, 대소문자 불일치, 문자열 공백, 음수값(범위오류))\n"
      ],
      "metadata": {
        "id": "yKRLCJSGzSMJ"
      }
    },
    {
      "cell_type": "code",
      "source": [
        "# 1. 결측치 처리 (숫자형): 원본 데이터의 중앙값(median)으로 대체\n",
        "numeric_cols = df2.select_dtypes(include=['int64', 'float64']).columns\n",
        "for col in numeric_cols:\n",
        "    median_orig = df[col].median()\n",
        "    df2[col] = pd.to_numeric(df2[col], errors='coerce')  # 숫자 아닌 경우 NaN 처리\n",
        "    df2[col] = df2[col].fillna(median_orig)"
      ],
      "metadata": {
        "id": "3Nd66ClvwrGA"
      },
      "execution_count": null,
      "outputs": []
    },
    {
      "cell_type": "code",
      "source": [
        "# 결측치 처리 확인\n",
        "missing_counts = df2.isnull().sum()\n",
        "missing_cols = missing_counts[missing_counts > 0]\n",
        "print(\"=== 1. 결측치 (Missing Values) ===\")\n",
        "print(missing_cols, \"\\n\")"
      ],
      "metadata": {
        "id": "cVVjnam4xfXE"
      },
      "execution_count": null,
      "outputs": []
    },
    {
      "cell_type": "code",
      "source": [
        "# 2. 문자열 공백(Whitespace) 제거: 모든 문자열 컬럼의 앞뒤 공백 제거\n",
        "string_cols = df2.select_dtypes(include='object').columns\n",
        "for col in string_cols:\n",
        "    df2[col] = df2[col].astype(str).str.strip()"
      ],
      "metadata": {
        "id": "6GJ4wkuVwq7t"
      },
      "execution_count": null,
      "outputs": []
    },
    {
      "cell_type": "code",
      "source": [
        "# 문자열 공백(Whitespace) 처리 확인\n",
        "print(\"=== 2. 문자열 공백(Whitespace) 문제 ===\")\n",
        "whitespace_issues = {}                                    # 공백 발생한 값 담을 딕셔너리\n",
        "for col in df2.select_dtypes(include='object').columns:                       # 문자열만을 골라내서\n",
        "    mask = df2[col].apply(lambda x: isinstance(x, str) and (x != x.strip()))  # x != x.strip() / 실제값 x가 양쪽 공백을 제거한 x와 다르다면,\n",
        "    if mask.any():                                                           # 공백이 존재한다는 의미. => 문자열 공백 이슈가 발생한 값\n",
        "        whitespace_issues[col] = df2.loc[mask, col]\n",
        "        print(f\"\\nColumn: {col}\")\n",
        "        print(df2.loc[mask, col])"
      ],
      "metadata": {
        "id": "XuFNTIjkxbt8"
      },
      "execution_count": null,
      "outputs": []
    },
    {
      "cell_type": "code",
      "source": [
        "# 3. 대소문자 통일 (Case Consistency)\n",
        "\n",
        "# 1) 문자열 공백 제거\n",
        "string_cols = df2.select_dtypes(include='object').columns\n",
        "for col in string_cols:\n",
        "    df2[col] = df2[col].astype(str).str.strip()\n",
        "\n",
        "# 2) 도시명(S_CITY, E_CITY)은 Title Case(원본데이터와 같게 앞글자만 대문자)로\n",
        "for col in ['S_CITY', 'E_CITY']:\n",
        "    if col in df2.columns:\n",
        "        df2[col] = df2[col].str.title()\n",
        "\n",
        "# 3) VACATION 컬럼은 원본처럼 “Yes”/“No” 형태로 Title Case 처리\n",
        "if 'VACATION' in df2.columns:\n",
        "    df2['VACATION'] = df2['VACATION'].str.strip().str.title()"
      ],
      "metadata": {
        "id": "RwZQTisHwzmF"
      },
      "execution_count": null,
      "outputs": []
    },
    {
      "cell_type": "code",
      "source": [
        "# 3. 대소문자 불일치(Case Inconsistency) 찾기\n",
        "print(\"\\n=== 3. 대소문자 불일치(Case Inconsistency) ===\")\n",
        "case_issues = {}\n",
        "for col in df2.select_dtypes(include='object').columns:   # 문자열 타입인 모든 컬럼의 값 가져와서 (결측치, 중복값제거, 문자열str만)\n",
        "    vals = df2[col].dropna().astype(str)\n",
        "    lower_vals = vals.str.lower()                        # 소문자로 모두 변환한 시리즈(base) 만들고\n",
        "    unique_lower = lower_vals.unique()                   # “소문자 버전(base)”을 기준으로 동일 의미군(yes인지, no인지)을 먼저 묶고,\n",
        "    for base in unique_lower:                               # 그 속에 서로 다른(대소문자만 다른) 원본 값들이 몇 개 있나를 확인해서,\n",
        "        variants = sorted(vals[lower_vals == base].unique())   # 두 개 이상 나오면“대소문자 불일치”라고 판단.\n",
        "        if len(variants) > 1:\n",
        "            if col not in case_issues:\n",
        "                case_issues[col] = {}\n",
        "            case_issues[col][base] = variants\n",
        "    if col in case_issues:\n",
        "        print(f\"\\nColumn: {col}\")\n",
        "        for base, variants in case_issues[col].items():\n",
        "            print(f\"  Base ('{base}') -> Variants: {variants}\")"
      ],
      "metadata": {
        "id": "Pv8JKDYXwzjj"
      },
      "execution_count": null,
      "outputs": []
    },
    {
      "cell_type": "code",
      "source": [
        "# 4. 수치형 이상치(Outliers) 처리: 원본 IQR 기준을 벗어난 값을 NaN 처리 후 중앙값 대체\n",
        "for col in numeric_cols:\n",
        "    # 원본 IQR 계산\n",
        "    o_col = df[col]\n",
        "    Q1 = o_col.quantile(0.25)\n",
        "    Q3 = o_col.quantile(0.75)\n",
        "    IQR = Q3 - Q1\n",
        "    lower = Q1 - 1.5 * IQR\n",
        "    upper = Q3 + 1.5 * IQR\n",
        "\n",
        "    # 수정된 데이터에서 이상치 필터링\n",
        "    df2[col] = pd.to_numeric(df2[col], errors='coerce')\n",
        "    outlier_mask = (df2[col] < lower) | (df2[col] > upper)\n",
        "    df2.loc[outlier_mask, col] = np.nan\n",
        "\n",
        "    # NaN(이상치로 표시된) 값을 중앙값으로 대체\n",
        "    median_orig = df[col].median()\n",
        "    df2[col] = df2[col].fillna(median_orig)\n"
      ],
      "metadata": {
        "id": "FOpPbwjiwzhM"
      },
      "execution_count": null,
      "outputs": []
    },
    {
      "cell_type": "markdown",
      "source": [
        "왜 굳이 '중앙값'으로 대체했을까?\n",
        "\n",
        "이상치(Outlier)에 덜 민감함\n",
        "\n",
        "평균은 이상치(극단적인 값)에 크게 영향을 받아, 왜곡될 수 있다. 반면 중앙값은 데이터의 중간값이므로, 몇 개의 극단치가 있어도 거의 변하지 않음.\n",
        "\n",
        "비대칭 분포 앞서 데이터 탐색에서, 확인한 항공 운임(FARE)의 왜도는 약 0.5 이상으로, 오른쪽으로 긴 꼬리를 가진 비대칭 분포였다. 이처럼 기울어진(skewed) 분포에서는 평균보다 중앙값이 대표값(central tendency)을 더 잘 반영한다.\n",
        "\n",
        "단점\n",
        "\n",
        ": 중앙값이 계속 반복해서 들어가면, 모든 음수 이상치 위치가 동일한 값(중앙값)으로 대체되어, 특정 구간에 “모두 똑같은 가격”이 몰려서 왜곡될 여지 있음."
      ],
      "metadata": {
        "id": "yBLjXpZSxv71"
      }
    },
    {
      "cell_type": "code",
      "source": [
        "# 4. 수치형 이상치(Outlier) 처리 확인\n",
        "\n",
        "print(\"\\n=== 4. 수치형 이상치 (Outliers) ===\")\n",
        "outlier_indices = {}\n",
        "for col in df2.select_dtypes(include=['int64','float64']).columns:      # 수정된 데이터셋에서 정수, 실수 타입 데이터만 추\n",
        "    o_col = df[col]                         # '원본 데이터!!'의 1사분위(하위 25% 지점)와 3사분위(상위 25% 지점)을 구함\n",
        "    Q1 = o_col.quantile(0.25)\n",
        "    Q3 = o_col.quantile(0.75)                     #  IQR = Q3 – Q1은 “중간 50% 자료가 퍼져 있는 범위” => 이상치 아닌 구간\n",
        "    IQR = Q3 - Q1                                 #  일반적으로 QR의 1.5배를 경계로 삼아서\n",
        "    lower = Q1 - 1.5 * IQR                          # 하한(lower fence) = Q1 − 1.5×IQR\n",
        "    upper = Q3 + 1.5 * IQR                          # 상한(upper fence) = Q3 + 1.5×IQR 을 벗어난 값을 '이상치'로 간주 !\n",
        "    g_col = pd.to_numeric(df2[col], errors='coerce')\n",
        "    mask = (g_col < lower) | (g_col > upper)\n",
        "    if mask.any():                                    # '수정된 데이터셋 값'이 '원본 데이터의 상한, 하한'을 벗어난다면 이상치로 간주 !\n",
        "        outlier_indices[col] = df2.index[mask].tolist()\n",
        "        print(f\"\\nColumn: {col} - {len(outlier_indices[col])}개 이상치 발견\")\n",
        "        print(df2.loc[outlier_indices[col][:5], [col]].to_string(index=True))"
      ],
      "metadata": {
        "id": "icO432Z3wzem"
      },
      "execution_count": null,
      "outputs": []
    },
    {
      "cell_type": "code",
      "source": [
        "# 5. 음수값 존재하는 행 '삭제'\n",
        "\n",
        "# 음수값이 있는 행을 모두 제거하려면, 숫자형 컬럼 중 하나라도 음수인 행을 drop\n",
        "\n",
        "# 1) 숫자형 컬럼 리스트\n",
        "numeric_cols = df2.select_dtypes(include=['int64','float64']).columns.tolist()\n",
        "\n",
        "# 2) 음수값이 있는 행의 boolean mask 생성\n",
        "#    (모든 숫자형 컬럼이 0 이상인 행만 True)\n",
        "mask_non_negative = (df2[numeric_cols] >= 0).all(axis=1)\n",
        "\n",
        "# 3) 음수가 하나라도 섞인 행(=mask_non_negative가 False인 행)을 drop\n",
        "df2 = df2.loc[mask_non_negative].reset_index(drop=True)"
      ],
      "metadata": {
        "id": "DgJGzoHrwzXg"
      },
      "execution_count": null,
      "outputs": []
    },
    {
      "cell_type": "markdown",
      "source": [
        "음수값 존재하는 행 '삭제'하는 이유?\n",
        "\n",
        "위에서 이상치를 중앙값으로 통일하면서 데이터의 분포가 지나치게 단순화돼 특정 구간(중앙값)에 너무 많은 데이터가 몰리게 되는 단점이 존재할 수 있음.\n",
        "\n",
        "따라서, 음수값도 중앙값으로 대체하면 이 단점이 심화되기에, 행 삭제를 선택함.\n",
        "\n",
        "목표변수인 FARE가 음수인 값이었기 때문에, 이 행 자체가 존재할 수 없다고 볼 수 있음. 따라서 삭제해도 무방할 것이라고 생각했음."
      ],
      "metadata": {
        "id": "S7gGmYiXx3vm"
      }
    },
    {
      "cell_type": "code",
      "source": [
        "# 5. 음수 값 삭제 확인\n",
        "\n",
        "print(\"\\n=== 5. 음수 값 (Negative Values) ===\")\n",
        "negative_indices = {}\n",
        "for col in df2.select_dtypes(include=['int64','float64']).columns:       # 정수, 실수형 데이터 값 중에\n",
        "    g_col = pd.to_numeric(df2[col], errors='coerce')                # 문자열 등이 섞여 있을 경우에도 가능한 한 숫자로 바꿔주고, 변환이 불가능한 항목은 NaN으로 처리\n",
        "    neg_mask = g_col < 0                                      # 해당 열의 값이 음수인 행만 true인 시리즈\n",
        "    if neg_mask.any():                                             # 음수 값이 하나라도 있으면 사전에 저장, 해당 행의 인덱스와 샘플 출력\n",
        "        negative_indices[col] = df2.index[neg_mask].tolist()\n",
        "        print(f\"\\nColumn: {col} - {len(negative_indices[col])}개 음수 값 발견\")\n",
        "        print(df2.loc[negative_indices[col][:5], [col]].to_string(index=True))"
      ],
      "metadata": {
        "id": "kweWvAfox1ss"
      },
      "execution_count": null,
      "outputs": []
    },
    {
      "cell_type": "code",
      "source": [
        "# 6. 수치형 변수 스케일링\n",
        "\n",
        "scaler = StandardScaler()\n",
        "\n",
        "# 수치형 변수(numeric_cols)에 대해 스케일링 수행\n",
        "scaled = scaler.fit_transform(df2[numeric_cols])  # 결과는 numpy 배열\n",
        "\n",
        "# 스케일된 결과를 DataFrame으로 변환, 기존 수치형 컬럼명 유지\n",
        "df_scaled = pd.DataFrame(scaled, columns=numeric_cols)"
      ],
      "metadata": {
        "id": "U3iQsboK639d"
      },
      "execution_count": null,
      "outputs": []
    }
  ]
}